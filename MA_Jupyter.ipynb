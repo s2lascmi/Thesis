{
 "cells": [
  {
   "cell_type": "markdown",
   "metadata": {},
   "source": [
    "\n",
    "# Code for Master's Thesis: Topic Modeling"
   ]
  },
  {
   "attachments": {},
   "cell_type": "markdown",
   "metadata": {},
   "source": [
    "## Research Questions\n",
    "\n",
    "1. Welche Themen können mithilfe von Topic Modeling aus den DHd-Abstracts\n",
    "der Tagungen zwischen 2014 und 2023 gefunden werden?\n",
    "\n",
    "*Which topics can be found in the abstracts from DHd-conferences between 2014 and 2023 with Topic Modeling?*\n",
    "\n",
    "2. Welche Themen kommen häufig gemeinsam in einem Dokument vor und weisen\n",
    "daher eine hohe Themenähnlichkeit (topic similarity) auf?\n",
    "\n",
    "*Which topics appear frequently in one abstract and therefore have a high topic similarity?* **Hierarchical Clustering**\n",
    "\n",
    "3. Wie haben sich die Themenschwerpunkte im Verlauf der Jahre verändert -\n",
    "welche Trends sind zu erkennen?\n",
    "\n",
    "*How have the topics been changing throughout the years - which trends are perceptible?* **Mann-Kendall-Test**\n",
    "\n",
    "4. Welche Entwicklungen sind in Bezug auf die Verwendung verschiedener Forschungsmethoden festzustellen?\n",
    "\n",
    "*Which developments with regard to the use of different scientific methods are perceptible?*\n",
    "\n",
    "5. Welche Personen sind besonders häufig mit Abstracts vertreten, in welchen\n",
    "Autor:innenteams treten sie auf und wie verändern sich diese im Zeitverlauf?\n",
    "\n",
    "*Which researchers contribute to the conference particularly frequently with abstracts, in which teams do they contribute and how have the teams been changing?*\n",
    "\n",
    "6. Welche Personencluster sind in Bezug auf die Themenschwerpunkte zu erkennen und wie verändern sich diese?\n",
    "\n",
    "*Which clusters of researchers can be found with regard to topics and how have the clusters been changing?* **Network Analysis**"
   ]
  },
  {
   "attachments": {},
   "cell_type": "markdown",
   "metadata": {},
   "source": [
    "### Imports"
   ]
  },
  {
   "cell_type": "code",
   "execution_count": 1,
   "metadata": {},
   "outputs": [],
   "source": [
    "#Reading in necessary pdf- and xml-files\n",
    "import zipfile\n",
    "from bs4 import BeautifulSoup\n",
    "'''Vermerken: PyPDF2 hat die Zeichen nicht gut erkannt und daher sind einige Wörter herausgefallen'''\n",
    "import PyPDF2\n",
    "import fitz\n",
    "from io import BytesIO\n",
    "\n",
    "#(pre)processing the files\n",
    "import re\n",
    "from nltk.corpus import stopwords\n",
    "from nltk.tokenize import sent_tokenize, word_tokenize\n",
    "import spacy\n",
    "from langdetect import detect\n",
    "from gensim.models import TfidfModel\n",
    "import pickle\n",
    "\n",
    "#LDA\n",
    "import gensim\n",
    "import gensim.corpora as corpora\n",
    "import os\n",
    "\n",
    "#Evaluation\n",
    "from gensim.models import CoherenceModel\n",
    "import numpy as np\n",
    "import matplotlib.pyplot as plt\n",
    "\n",
    "#Visualisation\n",
    "import pandas as pd\n",
    "import pyLDAvis\n",
    "import pyLDAvis.gensim_models\n"
   ]
  },
  {
   "attachments": {},
   "cell_type": "markdown",
   "metadata": {},
   "source": [
    "### Preprocessing function: eliminating non-German texts from corpus"
   ]
  },
  {
   "cell_type": "code",
   "execution_count": 2,
   "metadata": {},
   "outputs": [],
   "source": [
    "def detect_language(text):\n",
    "    \n",
    "    #gets text as input\n",
    "    lang = detect(text)\n",
    "\n",
    "    #returns the language tag of detected language\n",
    "    return lang        "
   ]
  },
  {
   "attachments": {},
   "cell_type": "markdown",
   "metadata": {},
   "source": [
    "### Preprocessing function: cleaning the texts"
   ]
  },
  {
   "cell_type": "code",
   "execution_count": 3,
   "metadata": {},
   "outputs": [],
   "source": [
    "def clean_text(text):\n",
    "        \n",
    "    # filtering paragraphs from text\n",
    "    clean = re.sub(r'\\n', \"\", str(text))\n",
    "\n",
    "    # filtering abbreviations, weblinks, digits and markup from XML      \n",
    "    abbreviations = ['bspw.', 'sog.', 'vgl.', 'u.a.', 'z.B.', 'bzw.', r'http(.*?) ', r'\\d', r'<(.*?)>', 'e.g.', 'also']\n",
    "    for word in abbreviations:\n",
    "        clean = re.sub(word, '', clean)\n",
    "\n",
    "    # filtering punctuation\n",
    "    punctuation = '''!“()´`¨[]{}\\\\;:”\",<>/.?@#$%^&*_~''' \n",
    "    for word in clean:\n",
    "        if word in punctuation:\n",
    "            clean = clean.replace(word, \"\")\n",
    "\n",
    "    # returns cleaned-up texts\n",
    "    return clean"
   ]
  },
  {
   "attachments": {},
   "cell_type": "markdown",
   "metadata": {},
   "source": [
    "### Preprocessing function: removing stopwords and very short/long words"
   ]
  },
  {
   "cell_type": "code",
   "execution_count": 4,
   "metadata": {},
   "outputs": [],
   "source": [
    "def remove_stopwords(text, language):\n",
    "    \n",
    "    # import German stopword list \n",
    "    stops_de = set(stopwords.words('german'))\n",
    "    stops_en = set(stopwords.words('english'))\n",
    "    \n",
    "    # convert a document into a list of lowercase tokens, ignoring tokens that are too short (min_len=2) or too long (max_len=15), no deaccentation (by default)\n",
    "    words = gensim.utils.simple_preprocess(text)\n",
    "    \n",
    "    # filter stopwords\n",
    "    words_filtered = []\n",
    "    for w in words:\n",
    "        if language == 'de' and w not in stops_de:\n",
    "            words_filtered.append(w)\n",
    "        elif language == 'en' and w not in stops_en:\n",
    "            words_filtered.append(w)\n",
    "    \n",
    "    # return list of words that are NOT stopwords\n",
    "    return words_filtered\n"
   ]
  },
  {
   "attachments": {},
   "cell_type": "markdown",
   "metadata": {},
   "source": [
    "### Preprocessing function: (morpho-syntactic) lemmatization\n",
    "Hint: 'de_core_news_md' model has to be downloaded via pip beforehand"
   ]
  },
  {
   "cell_type": "code",
   "execution_count": 5,
   "metadata": {},
   "outputs": [],
   "source": [
    "def lemmatization(texts, language):\n",
    "    \n",
    "    # only words tagged as nouns, verbs, adjectives and adverbs should be considered\n",
    "    allowed_tags = ['NOUN', 'VERB', 'ADJ', 'ADV']\n",
    "\n",
    "    # disabling parser and ner-tool to accelerate computing \n",
    "    nlp_de = spacy.load('de_core_news_md', disable=['parser', 'ner'])\n",
    "    nlp_en = spacy.load('en_core_web_sm', disable=['parser', 'ner'])\n",
    "    texts_out = []\n",
    "    for text in texts:\n",
    "        if language == 'de':\n",
    "            doc = nlp_de(text)\n",
    "            new_text = []\n",
    "            for token in doc:\n",
    "                if token.pos_ in allowed_tags:\n",
    "                    new_text.append(token.lemma_.lower())\n",
    "        elif language == 'en':\n",
    "            doc = nlp_en(text)\n",
    "            new_text = []\n",
    "            for token in doc:\n",
    "                if token.pos_ in allowed_tags:\n",
    "                    new_text.append(token.lemma_.lower())\n",
    "            \n",
    "        # delete all empty sets where the pos-tag was not in allowed list\n",
    "        if new_text != []:        \n",
    "            final = \" \".join(new_text)\n",
    "            texts_out.append(final)\n",
    "    \n",
    "    # return list of lemmatized words\n",
    "    return (texts_out)"
   ]
  },
  {
   "cell_type": "markdown",
   "metadata": {},
   "source": [
    "### Function: Extracting Keywords from XML-File\n",
    "- extracts tags \\<keywords n=\"topics\" scheme=\"ConfTool\"> and \\<keywords n=\"keywords\" scheme=\"ConfTool\"> to get keywords of the texts\n",
    "- checks validity of keywords"
   ]
  },
  {
   "cell_type": "code",
   "execution_count": 6,
   "metadata": {},
   "outputs": [],
   "source": [
    "def extract_keywords(xmldata):\n",
    "    \n",
    "    # finds all tags <keywords n=\"keywords\"> and <keywords n=\"topics\">, removes all tags within\n",
    "    keywords = str(soup.find_all(\"keywords\", {\"n\": (\"keywords\", \"topics\")}))\n",
    "    keywords = re.sub(\"<(.*?)>\", \"\", keywords)\n",
    "    keywords = keywords.split(\"\\n\")\n",
    "\n",
    "    # filters keywords shorter than 2 letters\n",
    "    for item in keywords:\n",
    "        if len(item) <= 2 and item in keywords:\n",
    "            keywords.remove(item)\n",
    "            \n",
    "    # returns list\n",
    "    return keywords"
   ]
  },
  {
   "cell_type": "markdown",
   "metadata": {},
   "source": [
    "### Function: Counting number of extracted keywords\n",
    "- function creates dictionary from the list of keywords\n",
    "- counts how often each method is used\n",
    "- returns the dictionary"
   ]
  },
  {
   "cell_type": "code",
   "execution_count": 7,
   "metadata": {},
   "outputs": [],
   "source": [
    "def count_methods(keywords_year):\n",
    "    \n",
    "    methods_dict = {}\n",
    "    # for each item in keyword list, check if it is alredy in dictionary\n",
    "    # if not, add and set count to 1, if yes add +1 to count\n",
    "    for item in keywords_year:\n",
    "        if item not in methods_dict.keys():\n",
    "            methods_dict[item] = 1\n",
    "        else:\n",
    "            methods_dict[item] += 1\n",
    "    # sort dictionary according to highest count in the values\n",
    "    sorted_dict = sorted(methods_dict.items(), key=lambda x: x[1], reverse=True)\n",
    "\n",
    "    # return the sorted dictionary\n",
    "    return sorted_dict"
   ]
  },
  {
   "attachments": {},
   "cell_type": "markdown",
   "metadata": {},
   "source": [
    "### Function: Extracting the author names\n",
    "Extracts the names of the authors and returns a list of lists containing the names of the single texts' authors"
   ]
  },
  {
   "cell_type": "code",
   "execution_count": 8,
   "metadata": {},
   "outputs": [],
   "source": [
    "def extract_authors(title_stmt):\n",
    "    # returns a list of authors for each of the texts\n",
    "    ''' Evtl so anpassen, dass je Jahr/Zip nochmal eine eigene Liste erstellt wird? '''\n",
    "    ''' WIE GENAU SOLL DIE NETZWERKANALYSE LAUFEN? '''\n",
    "    \n",
    "    all_authors = []\n",
    "    # navigating to the title statement and finding all tags <author>\n",
    "    authors = title_stmt.find_all(\"author\")\n",
    "    fore_and_surnames = []\n",
    "    \n",
    "    # extracting the <surname> and <forename> tags and cleaning the outcome from the tags and the brackets\n",
    "    for element in authors:\n",
    "        names = element.find_all(['surname', 'forename'])\n",
    "        names =  re.sub(\"<(.*?)>\", \"\", str(names))\n",
    "        names = re.sub(\"</(.*?)>\", \"\", str(names))\n",
    "        names = re.sub(r'\\]', \"\", names)\n",
    "        names = re.sub(r'\\[', \"\", names)\n",
    "        fore_and_surnames.append(names)\n",
    "    # all_authors.append(fore_and_surnames)\n",
    "    \n",
    "    return fore_and_surnames"
   ]
  },
  {
   "attachments": {},
   "cell_type": "markdown",
   "metadata": {},
   "source": [
    "### Function: Extracting text from XML-files"
   ]
  },
  {
   "cell_type": "code",
   "execution_count": 9,
   "metadata": {},
   "outputs": [],
   "source": [
    "def extract_xml_text(soup):\n",
    "    \n",
    "    # extract <p> tags from body of xml-document to find the actual text \n",
    "    document_body = soup.body\n",
    "    p_tags = document_body.find_all(\"p\")\n",
    "    \n",
    "    # return the text from p-tags\n",
    "    return p_tags"
   ]
  },
  {
   "attachments": {},
   "cell_type": "markdown",
   "metadata": {},
   "source": [
    "### Functions: Making bigrams and trigrams"
   ]
  },
  {
   "cell_type": "code",
   "execution_count": 10,
   "metadata": {},
   "outputs": [],
   "source": [
    "def make_bigrams(texts, bigram):\n",
    "    return([bigram[doc] for doc in texts])\n",
    "\n",
    "def make_trigrams(texts, trigram,bigram):\n",
    "    return ([trigram[bigram[doc]] for doc in texts])"
   ]
  },
  {
   "cell_type": "code",
   "execution_count": 11,
   "metadata": {},
   "outputs": [],
   "source": [
    "def create_bigrams_trigrams(texts):\n",
    "   \n",
    "    bigram_phrases = gensim.models.Phrases(texts, min_count=5, threshold=100)\n",
    "    trigram_phrases = gensim.models.Phrases(bigram_phrases[texts], threshold=100)\n",
    "\n",
    "    bigram = gensim.models.phrases.Phraser(bigram_phrases)\n",
    "    trigram = gensim.models.phrases.Phraser(trigram_phrases)\n",
    "\n",
    "    data_bigrams = make_bigrams(texts, bigram)\n",
    "    data_bigrams_trigrams = make_trigrams(data_bigrams, trigram, bigram)\n",
    "\n",
    "    return data_bigrams_trigrams"
   ]
  },
  {
   "attachments": {},
   "cell_type": "markdown",
   "metadata": {},
   "source": [
    "### Function: Creating bag of words"
   ]
  },
  {
   "cell_type": "code",
   "execution_count": 12,
   "metadata": {},
   "outputs": [],
   "source": [
    "def create_bow(data_words): \n",
    "    \n",
    "    # mapping the documents' words to a dictionary   \n",
    "    id2word = corpora.Dictionary(data_words)\n",
    "\n",
    "    # creating a bag of words by using index of dictionary\n",
    "    bag_of_words_corpus = []\n",
    "    for text in data_words:\n",
    "        new = id2word.doc2bow(text)\n",
    "        bag_of_words_corpus.append(new)\n",
    "\n",
    "    # returning id2word-reference as well as bag of word itself, both needed for LDA    \n",
    "    return id2word, bag_of_words_corpus\n",
    "    "
   ]
  },
  {
   "attachments": {},
   "cell_type": "markdown",
   "metadata": {},
   "source": [
    "### Function: TF-IDF weighting"
   ]
  },
  {
   "cell_type": "code",
   "execution_count": 13,
   "metadata": {},
   "outputs": [],
   "source": [
    "def tf_idf(id2word, texts):\n",
    "    # simple bag of words for each document, containing tuples with (index, number of appearances of the word in the document)\n",
    "    corpus = [id2word.doc2bow(text) for text in texts]\n",
    "\n",
    "    # calculates term frequency (TF) weighted by the inverse document frequency (IDF) for every word/index in the bag of words\n",
    "    tfidf = TfidfModel(corpus, id2word=id2word)\n",
    "\n",
    "    # low_value as threshold\n",
    "    low_value = 0.03\n",
    "    words  = []\n",
    "    words_missing_in_tfidf = []\n",
    "\n",
    "    # for every single bag of words\n",
    "    for i in range(0, len(corpus)):\n",
    "        # consider each bow for each document\n",
    "        bow = corpus[i]\n",
    "        #low_value_words = [] #reinitialize to be safe. You can skip this.\n",
    "        \n",
    "        # for each tuple (index, tfidf-value) in the tf-idf-weighted bag of words, extract index (tfidf_ids)\n",
    "        tfidf_ids = [id for id, value in tfidf[bow]]\n",
    "        \n",
    "        # for each tuple (index, bow-value without tfidf), extract index\n",
    "        bow_ids = [id for id, value in bow]\n",
    "        \n",
    "        # if the value in the (index, tfidf-value) tuple is lower than 0.03, put id into list low_value_words\n",
    "        low_value_words = [id for id, value in tfidf[bow] if value < low_value]\n",
    "        \n",
    "        drops = low_value_words+words_missing_in_tfidf\n",
    "        \n",
    "        # which words will be deleted from the bow?\n",
    "        for item in drops:\n",
    "            words.append(id2word[item])\n",
    "    \n",
    "        words_missing_in_tfidf = [id for id in bow_ids if id not in tfidf_ids] # The words with tf-idf score 0 will be missing\n",
    "        \n",
    "        # add words which indexes are not in low_value_words and not in words_missing_in_tfidf to the new bag of words \n",
    "        new_bow = [b for b in bow if b[0] not in low_value_words and b[0] not in words_missing_in_tfidf]\n",
    "        \n",
    "        # new bow is missing certain indexes\n",
    "        corpus[i] = new_bow\n",
    "    \n",
    "    return corpus"
   ]
  },
  {
   "cell_type": "markdown",
   "metadata": {},
   "source": []
  },
  {
   "cell_type": "markdown",
   "metadata": {},
   "source": []
  },
  {
   "cell_type": "markdown",
   "metadata": {},
   "source": []
  },
  {
   "cell_type": "markdown",
   "metadata": {},
   "source": [
    "## Main Code:"
   ]
  },
  {
   "attachments": {},
   "cell_type": "markdown",
   "metadata": {},
   "source": [
    "Creating repositories in which variables, models and figures can be saved later"
   ]
  },
  {
   "cell_type": "code",
   "execution_count": 14,
   "metadata": {},
   "outputs": [],
   "source": [
    "if not os.path.isdir(\"Variables/\"):\n",
    "    os.mkdir('Variables/')\n",
    "    print('Created new directory: Variables')\n",
    "    \n",
    "if not os.path.isdir('Figures/'):\n",
    "    os.mkdir('Figures/')\n",
    "    print('Created new directory: Figures')\n",
    "    \n",
    "if not os.path.isdir('Models/'):\n",
    "    os.mkdir('Models/')\n",
    "    print('Created new directory: Models')"
   ]
  },
  {
   "attachments": {},
   "cell_type": "markdown",
   "metadata": {},
   "source": [
    "Reading in zip-files of DHd-conferences (where only PDF-files are accessible) "
   ]
  },
  {
   "cell_type": "code",
   "execution_count": 15,
   "metadata": {},
   "outputs": [],
   "source": [
    "filenames = ['Testfile-pdf.zip']\n",
    "# filenames = ['DHd_2014.zip', 'DHd_2015.zip']\n",
    "\n",
    "# extracting text from pdf-files\n",
    "all_pdf_texts = []\n",
    "for conference_file in filenames:\n",
    "    archive = zipfile.ZipFile(conference_file, 'r')\n",
    "    for name in archive.namelist():\n",
    "        if name[-4:] == '.pdf':\n",
    "            pdf_data = BytesIO(archive.read(name))\n",
    "\n",
    "            # reading each pdf-file in the zip-archive\n",
    "            with fitz.open(stream=pdf_data, filetype='pdf') as doc:\n",
    "                text = ''\n",
    "                for page in doc:\n",
    "                    text += page.get_text()\n",
    "                all_pdf_texts.append(text)\n"
   ]
  },
  {
   "attachments": {},
   "cell_type": "markdown",
   "metadata": {},
   "source": [
    "Reading in the zip-files of the DHd-Conferences (where XML-files were published)"
   ]
  },
  {
   "cell_type": "code",
   "execution_count": 16,
   "metadata": {},
   "outputs": [],
   "source": [
    "filenames = ['Testfile-xml.zip']\n",
    "# filenames = ['DHd_2016.zip', 'DHd_2017.zip', 'DHd_2018.zip', 'DHd_2019.zip', 'DHd_2020.zip',\n",
    "            #  'DHd_2022.zip', 'DHd_2023.zip',]\n",
    "\n",
    "\n",
    "\n",
    "all_xml_files = []\n",
    "# read in all zip-folders\n",
    "for conference_file in filenames:\n",
    "    archive = zipfile.ZipFile(conference_file, 'r')\n",
    "    xml_per_year = []\n",
    "    # read in all files in the zip-file and check that they are xml-files\n",
    "    for name in archive.namelist():\n",
    "        if name[-4:] == '.xml' and not name[-9:] == 'final.xml':\n",
    "            xml_per_year.append(archive.read(name))\n",
    "    all_xml_files.append(xml_per_year)"
   ]
  },
  {
   "attachments": {},
   "cell_type": "markdown",
   "metadata": {},
   "source": [
    "XML-Files: Extracting the keywords given in the metadata of the abstracts in order to find the scientific methods used"
   ]
  },
  {
   "cell_type": "code",
   "execution_count": 17,
   "metadata": {},
   "outputs": [],
   "source": [
    "# Creating dictionary to count how often each method is used\n",
    "\n",
    "all_xml_texts = []\n",
    "\n",
    "# contains a list per year, this list contains a list of keywords extracted per text\n",
    "methods = []\n",
    "authors = []\n",
    "\n",
    "\n",
    "for year in all_xml_files:\n",
    "    keywords_year = []\n",
    "    authors_year = []\n",
    "    for doc in year:\n",
    "        \n",
    "        soup = BeautifulSoup(doc, 'xml')\n",
    "        \n",
    "        \"\"\"Code for extracting the actual text from xml-files\"\"\"\n",
    "        xml_text = extract_xml_text(soup)\n",
    "        all_xml_texts.append(xml_text)\n",
    "        \n",
    "        \n",
    "        \"\"\"Code for extracting the author names\"\"\"        \n",
    "        title_stmt = soup.titleStmt\n",
    "        authors_in_doc = extract_authors(title_stmt)\n",
    "        authors_year.append(authors_in_doc) \n",
    "\n",
    "    \n",
    "        \n",
    "        \"\"\"Code for extracting the keywords used in xml-files\"\"\"        \n",
    "        keywords = extract_keywords(soup)\n",
    "        keywords_year = keywords_year + keywords\n",
    "    \n",
    "   \n",
    "    \n",
    "    ''' gibt pro Jahr die verwendeten Methoden zurück. Hier evtl noch nach richtigen Methoden filtern, denn Text oder Daten sind keine Forschungsmethoden'''\n",
    "    ''' gibt pro Jahr die Autoren der Texte in Listen pro Text zurück '''\n",
    "    methods_count = count_methods(keywords_year)\n",
    "    methods.append(methods_count)\n",
    "    authors.append(authors_year)\n",
    "    \n",
    "# print(len(methods))\n",
    "# print(len(authors))\n",
    "\n"
   ]
  },
  {
   "attachments": {},
   "cell_type": "markdown",
   "metadata": {},
   "source": [
    "Merging the PDF texts and the XML texts for further processing of the textual content "
   ]
  },
  {
   "cell_type": "code",
   "execution_count": 18,
   "metadata": {},
   "outputs": [
    {
     "name": "stdout",
     "output_type": "stream",
     "text": [
      "[['history', 'app', 'pipeline', 'hist', 'machine', 'interaction', 'digital', 'hitie', 'cubrik', 'history', 'app', 'integration', 'expertise', 'machine', 'compion', 'enable', 'new', 'class', 'application', 'significant', 'potential', 'digital', 'hitie', 'far', 'potential', 'remain', 'largely', 'untapped', 'due', 'severe', 'requirement', 'project', 'implementation', 'integration', 'advance', 'algorithm', 'require', 'specialize', 'know', 'final', 'user', 'hitie', 'define', 'unprecedented', 'task', 'method', 'yet', 'fp', 'fund', 'research', 'project', 'cubrik', 'implement', 'integrate', 'research', 'computer', 'science', 'design', 'compion', 'task', 'datum', 'visualization', 'social', 'neere', 'hitie', 'propose', 'presentation', 'cubrik', 'case', 'study', 'demo', 'history', 'application', 'application', 'introduce', 'effective', 'interface', 'access', 'collection', 'historical', 'source', 'discover', 'link', 'entity', 'completion', 'cubrik', 'offer', 'innovative', 'approach', 'enhance', 'time', 'aware', 'multimedia', 'search', 'synthesize', 'research', 'computer', 'science', 'crowdsource', 'gamification', 'conclude', 'presentation', 'outlook', 'future', 'development', 'application', 'hist', 'machine', 'interaction', 'history', 'hoe', 'application', 'base', 'ce', 'collection', 'image', 'represent', 'main', 'event', 'actor', 'history', 'integration', 'collection', 'ce', 'host', 'centre', 'virtuel', 'la', 'connaissance', 'sur', 'cvce', 'first', 'step', 'image', 'indexation', 'pipeline', 'identify', 'location', 'individual', 'face', 'photograph', 'location', 'face', 'verify', 'crowd', 'click', 'worker', 'specific', 'training', 'evaluate', 'recognize', 'face', 'depict', 'image', 'show', 'face', 'follow', 'face', 'verification', 'process', 'automatic', 'face', 'recognition', 'process', 'trigger', 'associate', 'verify', 'face', 'list', 'possible', 'identity', 'list', 'candidate', 'disseminate', 'example', 'twitter', 'crowd', 'expert', 'vote', 'comment', 'prefer', 'identity', 'identity', 'different', 'person', 'information', 'associate', 'image', 'time', 'place', 'image', 'take', 'contextual', 'information', 'associate', 'historical', 'event', 'review', 'expert', 'user', 'delegate', 'crowd', 'domain', 'expert', 'review', 'datum', 'aggregation', 'visualisation', 'analysis', 'build', 'compute', 'co', 'occurrence', 'person', 'image', 'social', 'graph', 'construct', 'connect', 'connection', 'gain', 'strh', 'often', 'person', 'appear', 'together', 'image', 'finally', 'result', 'process', 'depict', 'visualization', 'social', 'graph', 'set', 'analytical', 'tool', 'social', 'graph', 'history', 'app', 'aim', 'represent', 'visualize', 'dependency', 'historically', 'relevant', 'person', 'context', 'integration', 'thereby', 'social', 'link', 'person', 'entity', 'rely', 'co', 'occurrence', 'historic', 'photograph', 'identify', 'aforementione', 'image', 'indexation', 'process', 'frequently', 'person', 'appear', 'different', 'photograph', 'strong', 'link', 'correspond', 'entity', 'graph', 'user', 'interact', 'history', 'social', 'graph', 'different', 'way', 'click', 'result', 'graph', 'select', 'person', 'click', 'display', 'document', 'relate', 'select', 'relationship', 'document', 'store', 'collection', 'often', 'come', 'date', 'creation', 'graph', 'filter', 'date', 'timeline', 'display', 'connection', 'document', 'create', 'timeline', 'show', 'amount', 'photo', 'date', 'contain', 'collection', 'filter', 'option', 'number', 'connect', 'document', 'allow', 'visualization', 'relationship', 'include', 'interval', 'minimum', 'maximum', 'number', 'document', 'feature', 'useful', 'highlight', 'high', 'co', 'occurrence', 'finally', 'number', 'appearance', 'person', 'process', 'collection', 'let', 'identify', 'people', 'appear', 'particly', 'often', 'give', 'time', 'frame', 'crowd', 'discussion', 'new', 'approach', 'representation', 'truth', 'digital', 'research', 'tool', 'chall', 'hoe', 'app', 'domain', 'digital', 'hitie', 'general', 'conception', 'truth', 'differ', 'significantly', 'conception', 'truth', 'computer', 'science', 'computer', 'scientist', 'rely', 'stable', 'foundation', 'true', 'experiment', 'replicate', 'measure', 'precisely', 'hitie', 'concept', 'truth', 'far', 'complex', 'base', 'insight', 'neutral', 'objective', 'way', 'study', 'environment', 'way', 'question', 'ask', 'datum', 'select', 'answer', 'mean', 'datum', 'analyze', 'finally', 'way', 'result', 'analysis', 'communicate', 'receive', 'chall', 'idea', 'truth', 'order', 'represent', 'discursive', 'nature', 'truth', 'hitie', 'hoe', 'make', 'use', 'community', 'drive', 'tool', 'question', 'answer', 'similar', 'user', 'opportunity', 'answer', 'question', 'thus', 'benefit', 'expert', 'crowd', 'however', 'system', 'allow', 'answer', 'offer', 'user', 'possibility', 'vote', 'answer', 'thereby', 'allow', 'answer', 'enter', 'competition', 'maintain', 'full', 'discussion', 'summary', 'outlook', 'history', 'application', 'take', 'chall', 'combine', 'cut', 'research', 'domain', 'computer', 'science', 'design', 'compion', 'task', 'datum', 'visualization', 'social', 'neere', 'hitie', 'identify', 'syne', 'discipline', 'compensate', 'weakness', 'build', 'pipeline', 'connect', 'face', 'recognition', 'tool', 'datum', 'visualization', 'input', 'create', 'ongoing', 'cycle', 'iteratively', 'improve', 'user', 'input', 'machine', 'output', 'history', 'application', 'stand', 'line', 'range', 'online', 'tool', 'historical', 'research', 'introduce', 'new', 'social', 'feature', 'crowd', 'source', 'click', 'worker', 'expert', 'user', 'continuously', 'improve', 'system', 'future', 'expand', 'selection', 'source', 'include', 'digitize', 'text', 'document', 'audio', 'video', 'interview', 'different', 'archive'], ['jahrestagung', 'digital', 'raum', 'vortrag', 'vortrag', 'diskussiontitel', 'frauenfrag', 'gegenstand', 'kontrovers', 'kommunikation', 'umkreis', 'erster', 'frauenbewegung', 'digital', 'ressource', 'untersuchung', 'wolffstiftung', 'archiv', 'deutsch', 'kasseltel', 'kasseldekerstin', 'historikerin', 'liegen', 'bereichen', 'schen', 'frauenforschung', 'erforschung', 'erster', 'frauenbewegung', 'leiten', 'stiftung', 'archiv', 'deutsch', 'geykenberlin', 'akademie', 'wissenschaft', 'digital', 'wörterbuch', 'deutsch', 'berlintel', 'geyk', 'leiter', 'arbeitsstellen', 'dwds', 'bbaw', 'liegen', 'bereichen', 'lexikographie', 'gloninginstitut', 'germanistik', 'jlu', 'gießenotto', 'straße', 'gießentel', 'giessendethomas', 'germanistik', 'fachlich', 'bereichen', 'textanalyse', 'semantik', 'ganisation', 'geschichte', 'hinaus', 'digital', 'nutzung', 'digital', 'infrastruktur', 'anwendbar', 'keit', 'reichweiten', 'digital', 'ressource', 'fragestellung', 'gegenstand', 'kontrovers', 'kommunikation', 'umkreis', 'sten', 'frauenbewegung', 'digital', 'ressource', 'untersuchung', 'ergeb', 'verbessern', 'zuordnung', 'thematisch', 'schwerpunkten', 'bestimmen', 'übeifend', 'netz', 'darstellung', 'präsentation', 'ergebnissnutzt', 'ergebnis', 'struktur', 'integrieren', 'problem', 'markup', 'spezifisch', 'fachlich', 'integriert', 'digital', 'mentation', 'anwendung', 'digital', 'aspekte', 'digital', 'verfahren', 'thematisch', 'themasda', 'folgend', 'beschrieben', 'thema', 'stehen', 'einnze', 'klasse', 'thematisch', 'fragestellung', 'jeweils', 'darauf', 'bezogenen', 'istdamit', 'fall', 'anforderung', 'jekte', 'digital', 'stellen', 'gegenstand', 'text', 'diskurse', 'erster', 'erster', 'frauenbewegung', 'beginnend', 'jahrhundert', 'ihremkern', 'kommunikative', 'bewegung', 'zentral', 'streitpunken', 'forderung', 'hoch', 'phase', 'erster', 'frauenbewegung', 'betreffen', 'bereich', 'politisch', 'zipation', 'wahlrecht', 'bildung', 'beruflich', 'tätigkeit', 'gerecht', 'lohn', 'prostituti', 'streitpunken', 'forderung', 'öffentlich', 'raum', 'thematisie', 'bedienen', 'vertreterinn', 'frauenbewegung', 'zeitschrift', 'petition', 'flugschrift', 'monographien', 'legen', 'tiv', 'hoffnung', 'forderung', 'argumente', 'dar', 'versuchen', 'gesellschaft', 'vonder', 'notwendigkeit', 'veränderung', 'überznwährend', 'thema', 'erster', 'frauenbewegung', 'sozial', 'idee', 'geschichtlich', 'grundzüge', 'gut', 'erforschen', 'gelten', 'umfassend', 'tailliert', 'untersuchung', 'öffentlich', 'debattis', 'frauenfragend', 'beginnend', 'jahrhundert', 'bisher', 'desiderat', 'fachlich', 'fragestellung', 'systematisch', 'analyse', 'kommunikativ', 'struktur', 'musssich', 'linie', 'teilfrage', 'beziehen', 'schnittpunkt', 'historisch', 'kursanalyse', 'historisch', 'historisch', 'lexikologie', 'mantik', 'verorten', 'beantwortung', 'frage', 'gleichzeitig', 'beitrag', 'zurbislang', 'geschriebenen', 'erster', 'frauenbewegung', 'undein', 'beitrag', 'geschichte', 'lassen', 'einzeln', 'thematisch', 'diskursive', 'sträng', 'rekonstruieren', 'einzeltexthören', 'jeweils', 'bestimmt', 'diskursive', 'strang', 'tertextuelle', 'bezug', 'einzeltext', 'teilen', 'einzeltext', 'erkenn', 'bar', 'sprachlich', 'verfahren', 'etablieren', 'autorinn', 'bezug', 'text', 'stützung', 'position', 'beispiel', 'fürgegnerisch', 'position', 'anführen', 'zentral', 'etablierung', 'bestimmt', 'sicht', 'weisen', 'brauchen', 'sichtweise', 'undforderung', 'stützen', 'lässen', 'wortgebrauch', 'text', 'spezifisch', 'dokumentieren', 'teilfrage', 'wortgebrauch', 'form', 'sichtweise', 'konstituier', 'neu', 'forderung', 'stützen', 'zen', 'umsetzung', 'verhindern', 'funktion', 'organisation', 'text', 'unterscheiden', 'xikalisch', 'text', 'frauenfrag', 'diskurs', 'umkreis', 'text', 'domäne', 'rolle', 'digital', 'werkz', 'verfahren', 'fachlich', 'werkz', 'verfahren', 'spielen', 'wesentlich', 'rolle', 'analyse', 'bearbeitung', 'gestellung', 'integriert', 'präsentation', 'quellentexen', 'derdarstellung', 'analyse', 'werkz', 'verfahren', 'rolle', 'rahmen', 'vorarbeien', 'sehen', 'erster', 'quellentexen', 'volltexte', 'fassen', 'weismäß', 'richtlini', 'text', 'initiative', 'bereiten', 'genau', 'gemäß', 'basisformat', 'best', 'format', 'präsentation', 'historisch', 'text', 'clarin', 'dtaq', 'bereich', 'deutsch', 'akademie', 'senschaft', 'clarin', 'partner', 'zielen', 'tigkeit', 'frei', 'verpflichten', 'digital', 'ressource', 'bereich', 'untersuchung', 'bislang', 'liniefür', 'zweck', 'lexikalisch', 'analyse', 'geringer', 'umfang', 'zweck', 'deranalyse', 'integriert', 'digital', 'vorarbeien', 'konzeptionelle', 'überlegung', 'typ', 'digital', 'säule', 'beruhta', 'darstellung', 'wortgebrauch', 'monographischer', 'formb', 'strukturiert', 'digital', 'textcorpora', 'spezifisch', 'erweiterbar', 'digital', 'system', 'systematisch', 'textcorpora', 'beziehen', 'system', 'dieeinzeln', 'zentral', 'ausdrücken', 'lexikographisch', 'beschreiben', 'undauf', 'textuell', 'gebrauch', 'beziehen', 'position', 'deskriptoren', 'markieren', 'thematisch', 'funktional', 'penspezifisch', 'usw', 'erschließung', 'ermöglichen', 'wirdein', 'wesentlich', 'zielsetzung', 'lexikalisch', 'dokumentation', 'tate', 'befund', 'anzubinden', 'laufend', 'dwds', 'eigen', 'vorarbeien', 'bisherig', 'vorarbeien', 'geplant', 'vortrag', 'gehören', 'insbesondere', 'land', 'gefördert', 'projekt', 'inzwischen', 'abgeschlossen', 'umfangreich', 'magisterarbeit', 'thematisie', 'rungspraktik', 'wortgebrauch', 'diskurs', 'laufender', 'wortgebrauch', 'imdiskurs', 'frauenwahlrechen', 'gegenstand', 'arbeit', 'diezmenstellung', 'thematisch', 'digital', 'nutzbar', 'tieren', 'erschlossenen', 'glossar', 'integration', 'digital', 'volltexn', 'themenbereich', 'frauenfrag', 'dasdeutschen', 'rahmen', 'clarin', 'kionsprojekts', 'abeitung', 'historisch', 'sprachgeschicht', 'lich', 'fallstudie', 'prototyp', 'lexikalisch', 'dokumentation', 'menbereich', 'resultat', 'gebotener', 'berichten', 'historisch', 'sprechen', 'verortung', 'themas', 'bisherig', 'fachlich', 'resultat', 'bereichen', 'untersuchung', 'bisherig', 'resultat', 'erfahrung', 'bereich', 'anwendung', 'digital', 'source', 'bereichen', 'lexikalisch', 'erschließung', 'vonkorpustexen', 'organisation', 'thematisch', 'orientiert', 'lexikalisch', 'integration', 'korpustext', 'sch', 'dokumentation', 'problemzon', 'nutzung', 'digital', 'ressource', 'diskurs', 'untersuchung', 'artplanungen', 'struktur', 'vortragsd', 'vortrag', 'wesentlich', 'teil', 'einführung', 'erster', 'frauenbewegung', 'rolle', 'digital', 'ressource', 'analyse', 'gedrängter', 'überblick', 'bisherig', 'resultat', 'mittelpunkt', 'nächster', 'schritt', 'offen', 'stehen', 'bereichen', 'fachlich', 'anwendung', 'methode', 'zuordnen', 'lassen', 'avorstellung', 'konzept', 'integriert', 'vernetzt', 'digital', 'säule', 'beruhen', 'monographisch', 'darstellung', 'digital', 'korpustexte', 'lexikalisch', 'dokumentation', 'verfahren', 'auszeichnung', 'auswertung', 'digital', 'korpustexte', 'hinblickauf', 'bereich', 'gehören', 'relevant', 'textteilen', 'ganz', 'größesein', 'parameter', 'lappend', 'führen', 'unterstützung', 'lexikalisch', 'lexikologischer', 'analyse', 'beitrag', 'exemplarisch', 'zn', 'verfahren', 'fachlich', 'fragestellung', 'bereichen', 'undsprach', 'aufweisen', 'aufweisen', 'bisher', 'erfahren', 'problemzon', 'thematisieren'], ['religion', 'einsatz', 'analyse', 'institut', 'europäisch', 'kunstgeschicht', 'universität', 'heidelbhat', 'untersuchung', 'aktuell', 'laufend', 'projekt', 'ästhetisch', 'setzung', 'kontext', 'forschungsfeld', 'herausgebilden', 'kunstgeschicht', 'keazor', 'international', 'führungsroll', 'einnehmen', 'thema', 'inzwischen', 'verstärkt', 'aufmerksamkeit', 'disziplin', 'film', 'musik', 'kunstgeschicht', 'erfahren', 'bibliografie', 'vertreterinn', 'disziplin', 'versammelnden', 'publikation', 'keazorwübbena', 'tatsache', 'musikvideo', 'kunsthistoriker', 'tag', 'sektion', 'widmen', 'fehlen', 'bearbeitung', 'themas', 'derzeit', 'adäquat', 'analyse', 'präsentation', 'ergebnis', 'zahlreich', 'weisen', 'genuin', 'zweck', 'werbeträger', 'hinaus', 'ästhetisch', 'mehrwert', 'eingehender', 'betrachtung', 'heraus', 'fordern', 'bereich', 'kunstform', 'entwickeln', 'künstlerisch', 'verknüpfung', 'text', 'bild', 'musik', 'vorhanden', 'eröffnen', 'szenarien', 'text', 'musik', 'kurz', 'schwall', 'heterogen', 'bildern', 'vielmehr', 'komplex', 'diskurs', 'eben', 'gestalten', 'musikvideo', 'visuell', 'produkt', 'referenzieren', 'dabei', 'immer', 'verwandte', 'medium', 'kino', 'fernsehfilm', 'werk', 'bildend', 'kunst', 'zeitpolitik', 'stellen', 'bisher', 'verbindung', 'bild', 'text', 'musikaudio', 'eben', 'sehen', 'hierzch', 'keazorwübbena', 'vorgestellt', 'analysestruktur', 'musikvideo', 'hinblick', 'visualisierung', 'komplex', 'bezugsystem', 'problemfall', 'dar', 'institut', 'europäisch', 'kunstgeschicht', 'umfangreich', 'sammlung', 'digital', 'bereich', 'zurückgreifen', 'jedoch', 'fehlen', 'werkz', 'zept', 'viiedrig', 'intermedial', 'bezug', 'erfassen', 'anschaulich', 'darstellen', 'erschließung', 'feld', 'bar', 'vorgeschlagen', 'beitrag', 'beispiel', 'titel', 'religion', 'amerikanisch', 'regisseur', 'tarsem', 'umsetzen', 'möglichkeit', 'video', 'annotation', 'frei', 'barer', 'quelloffen', 'plattform', 'kollaborativ', 'webbasiert', 'medienanalyse', 'basis', 'archiv', 'vorstellen', 'system', 'form', 'bereits', 'lang', 'global', 'context', 'universität', 'heidelbcluster', 'bewähren', 'rahmen', 'nutzen', 'aktiv', 'applikation', 'kurz', 'sagen', 'nutzern', 'gleichzeitig', 'erlauben', 'frei', 'gewählt', 'abschnitt', 'videos', 'art', 'annotation', 'spur', 'versehen', 'annotation', 'möglich', 'einzeln', 'sequenz', 'szene', 'thematik', 'direkt', 'referenzieren', 'spur', 'enthalten', 'annotation', 'bestimmt', 'text', 'bild', 'hinzugefügt', 'integriert', 'erlauben', 'system', 'film', 'bestimmt', 'nutzupp', 'zugänglich', 'jüngst', 'beispiel', 'gruppe', 'studierender', 'rahmen', 'geschichtssemi', 'applikation', 'verwenden', 'japanisch', 'propagandafilm', 'früh', 'zalysieren', 'dabei', 'gezielt', 'wiederkehrend', 'thema', 'argumente', 'film', 'schlagworten', 'versehen', 'texttafel', 'transkribieren', 'übersetzen', 'querverweise', 'zder', 'quellen', 'hstellt', 'hilfe', 'studierenden', 'film', 'verorten', 'integriert', 'timeline', 'sichtbar', 'daneben', 'veich', 'spät', 'entstandenen', 'version', 'filmes', 'unterschied', 'narration', 'verwendet', 'breit', 'generisch', 'anlegen', 'still', 'beispielsweise', 'islamisch', 'predigen', 'videos', 'analysieren', 'erster', 'ergebnis', 'davon', 'deutsch', 'vorstellen', 'zeit', 'integration', 'arbeiten', 'womit', 'filmmetadaten', 'gemeinsam', 'ergebnis', 'projekt', 'einsehen', 'bildmetadan', 'ausgezeichnet', 'text', 'durchsuchbar', 'machen', 'ziel', 'integration', 'stark', 'betreiben', 'öffnen', 'grenze', 'hinaus', 'verankern', 'kommen', 'verschieden', 'schicht', 'audiovisuell', 'erschließenden', 'struktur', 'verfolgen', 'lehrstuhl', 'neu', 'neu', 'kunstgeschicht', 'besonders', 'plattform', 'bieten', 'möglichkeit', 'gelegentlich', 'äußerst', 'dicht', 'musikvideo', 'artefakt', 'eingehen', 'erfassen', 'nachzeichnen', 'einspeisen', 'musikvideo', 'folge', 'konsultieren', 'analysieren', 'entsprechend', 'notat', 'beispielsweise', 'transkription', 'beschreibung', 'schlagwörter', 'medium', 'querverweisen', 'versehen', 'weg', 'medienbruch', 'vermeiden', 'bezugsyst', 'direkt', 'objekt', 'verdeutlichen', 'fallen', 'betrachten', 'clip', 'religion', 'referenz', 'werken', 'andrei', 'tarkowski', 'pierres', 'otto', 'lilienthal', 'option', 'information', 'quellen', 'referenzieren', 'erlauben', 'webbasiern', 'system', 'gemeinsam', 'zugriff', 'material', 'somit', 'ideal', 'basis', 'evolutionär', 'erarbeiten', 'ergebnis', 'forschuppe', 'natürlich', 'studieren', 'bieten', 'rahmen', 'vorgeschlagen', 'beitrag', 'oben', 'genannt', 'musikvideo', 'möglichkeit', 'genutzt', 'abgrenzung', 'veichbaren', 'system', 'vorstellen', 'funktion', 'frontend', 'kurz', 'technisch', 'anbindung', 'bestehend', 'datenaustausch', 'system', 'schnittstell', 'eingehen', 'stehen', 'insbesondere', 'integration', 'vordund', 'kollaborativ', 'arbeitsumgebung', 'ressource', 'medium', 'annotation', 'versehen', 'perspektivisch', 'option', 'aufgez', 'dabei', 'frage', 'nachhaltigkeit', 'pflegen', 'daten', 'einbeziehen', 'beitrag', 'verdeutlichung', 'umstands', 'verzahnung', 'mehrwert', 'erreichen', 'zuvor', 'begrenzt', 'analog', 'möglichkeit', 'resp', 'weg', 'erzielen', 'geradezu', 'idealtypisch', 'modell', 'ausauf', 'gebiet', 'digital', 'publikation', 'thema', 'video', 'thrills', 'radio', 'geschichte', 'thema', 'analyse', 'autor', 'zm', 'keazor', 'auflage', 'rewind', 'fast', 'video', 'herausgeber', 'zm', 'keazor', 'imagebuilder', 'vngenheit', 'gegenwart', 'zukunft', 'videoclip', 'autor', 'zm', 'keazor', 'herausgeber', 'ästhetisch', 'umsetzung', 'kontext', 'autor', 'herausgeber', 'zm', 'giessen', 'keazor', 'verfügbar', 'kapitel', 'video', 'sound', 'audovisual', 'hrsg', 'thoben', 'zm', 'keazor', 'verfügbar', 'liying', 'tools', 'periodicals', 'tijdschrift', 'voor', 'november', 'berner', 'gietz', 'wenzlhuemer', 'geospatial', 'analysis', 'visualization', 'ieee', 'international', 'doiesciw', 'film', 'seiben', 'visual', 'digital', 'video', 'filmportrait', 'global', 'politics', 'film', 'projektwebsit', 'kurzprofil', 'kunstgeschicht', 'sinologie', 'studieren', 'betreuen', 'visuell', 'ressource', 'betreuung', 'angeschlossen', 'gehören', 'konzeption', 'umsetzung', 'visuell', 'datenbanken', 'einsatz', 'forschung', 'lehren', 'groß', 'gehören', 'aktuell', 'arbeiten', 'konzeption', 'entwicklung', 'basierenden', 'bild', 'teil', 'decker', 'studieren', 'koordinator', 'tätigkeit', 'koordinator', 'betreuen', 'nutzer', 'bereits', 'seminar', 'musikethnologie', 'geschichte', 'betreuen', 'system', 'einsetzen', 'kunstgeschicht', 'geschichte', 'studieren', 'wiss', 'mitarbeiter', 'institut', 'universität', 'wiss', 'leitung', 'gemeinsam', 'projekt', 'sandrartnen', 'netzbasieren', 'kunst', 'jahrhundert', 'universität', 'april', 'wiss', 'mitarbeiter', 'projekt', 'ästhetisch', 'umsetzung', 'kontext', 'universität', 'saarland', 'universität', 'liegen', 'bereich', 'forschung', 'digital', 'kunstgeschicht'], ['bedeutung', 'wörterbüchern', 'einsprachig', 'zweisprache', 'mehrsprachig', 'wörterbücher', 'heutig', 'unterschätzen', 'siebn', 'auskunft', 'wortbedeutung', 'dazugehörig', 'übersetzungen', 'bestandteil', 'kulturgüt', 'land', 'stellen', 'bedeutend', 'ressource', 'linked', 'data', 'technologie', 'dar', 'fast', 'land', 'wörterbücher', 'erstellen', 'traditionell', 'wörterbücher', 'gedruckt', 'form', 'ressource', 'digital', 'form', 'bestrebungen', 'kooperation', 'europäisch', 'ebene', 'eher', 'limitieren', 'führen', 'synen', 'lexikographie', 'maschineller', 'optimal', 'nutzen', 'elexis', 'ändern', 'rahmen', 'elexis', 'projekt', 'infrastruktur', 'daten', 'entwickeln', 'eben', 'ansetzen', 'bereich', 'traditionell', 'lexikogrpahie', 'bereich', 'maschinell', 'verknüpfen', 'kooperation', 'austausch', 'verlagshäusern', 'fördern', 'gemeinsam', 'standard', 'arbeiten', 'austausch', 'daten', 'szenarien', 'fördern', 'infrastruktur', 'methode', 'tools', 'daten', 'ermöglichen', 'weit', 'verbreitet', 'gedanke', 'fördern', 'ziel', 'umsetzen', 'konsortium', 'partner', 'bilden', 'partner', 'befinden', 'institution', 'expertise', 'lexikographie', 'maschineller', 'technologie', 'digital', 'national', 'verlagshäuser', 'partner', 'expertise', 'bereich', 'normung', 'nachfolgend', 'liste', 'partner', 'bezeichnung', 'jeweilig', 'landessprache', 'angeben', 'institut', 'sefan', 'instituut', 'voor', 'lexicologie', 'università', 'studi', 'national', 'österreichisch', 'akademie', 'wissenschaft', 'institut', 'language', 'universidade', 'lisboa', 'nazional', 'ricerchen', 'italy', 'dänmark', 'kobenhavns', 'universitet', 'eesti', 'keel', 'instituut', 'real', 'elexis', 'infrastruktur', 'tools', 'erstellung', 'verarbeitung', 'daten', 'bereits', 'existierend', 'daten', 'anbieten', 'zukünftig', 'nutzer', 'potential', 'infrastruktur', 'vollends', 'ausnutzen', 'entwicklung', 'abhaltung', 'planen', 'weiter', 'programm', 'austausch', 'aktiv', 'fördern', 'daten', 'ermöglichen', 'gründen', 'verfügung', 'stellen', 'elexis', 'bereits', 'existierend', 'clarin', 'dariah', 'zmenarbeit', 'bereits', 'vorhanden', 'infrastruktur', 'aufbauen', 'zugleich', 'infrastruktur', 'nah', 'zmenbringen', 'poster', 'grundzüge', 'neu', 'europäisch', 'beschreiben', 'methode', 'maßnahme', 'oben', 'genannt', 'ziel', 'erreichen', 'präsentieren', 'weiter', 'speziell', 'nutzen', 'vorteil', 'elexis', 'infrastruktur', 'eingehen'], ['posterbeitrag', 'beschreiben', 'erstellung', 'thesaurus', 'österreichisch', 'strafrecht', 'jahrhundert', 'gehen', 'verbunden', 'thembietes', 'quellen', 'quellen', 'dienen', 'kaum', 'erforschte', 'flugblätter', 'bekanntmachung', 'hinrichtung', 'jahrhundert', 'ammereradomeit', 'derzeit', 'modern', 'dokument', 'richtlini', 'annotieren', 'digital', 'verfügbarkeit', 'netz', 'vorbereiten', 'darstellung', 'sachverhalen', 'hinrichtung', 'führen', 'medial', 'überformen', 'peil', 'hart', 'beruhen', 'allerdings', 'entscheidung', 'damalig', 'stadtgericht', 'erschließung', 'berücksichtigen', 'laufen', 'jahrhundert', 'kraft', 'geben', 'land', 'einheitlich', 'streffen', 'jedoch', 'gelten', 'peinlich', 'gerichts', 'peinlich', 'kaiser', 'karls', 'daneben', 'etwa', 'land', 'gerichts', 'ordnung', 'oesterreich', 'ennß', 'erst', 'jahr', 'nennen', 'einheitlich', 'streffen', 'einführen', 'bereits', 'allgemein', 'verbrechen', 'bestrafungn', 'nennen', 'strafgesetzbuch', 'ablösen', 'gemein', 'tatbeständ', 'definieren', 'todesstrafe', 'belegen', 'laufen', 'zeit', 'teil', 'neu', 'tatbeständ', 'neu', 'definition', 'versehen', 'stattdessen', 'delikt', 'abschaffen', 'delikt', 'erschließenden', 'quellen', 'beschreiben', 'erwähnen', 'handeln', 'dabei', 'ntlich', 'rechtstexte', 'flugblätter', 'öffentlich', 'hinrichtung', 'jahrhundert', 'berichten', 'quellen', 'todesurteil', 'bezeichnen', 'flugblätter', 'breit', 'publikum', 'wenden', 'delikt', 'beschreiben', 'kaum', 'verwendung', 'damals', 'delinquentinn', 'diebinnen', 'bezeichnen', 'ntlich', 'tatestand', 'nennen', 'referenz', 'jeweilig', 'gesetzesstellen', 'fehlen', 'oft', 'gänzlich', 'gesamt', 'quellenmaterial', 'einzig', 'beleg', 'finden', 'direkt', 'gesetzestext', 'referenzieren', 'weit', 'herausforderung', 'erschließung', 'quellen', 'stellen', 'dar', 'etwa', 'diebstahl', 'diebstall', 'urfehde', 'urphed', 'gründen', 'toolgestützt', 'analyse', 'zuordnung', 'flugblätter', 'erschweren', 'ähnlich', 'gelagerten', 'projekt', 'zeitspanne', 'jahr', 'abdecken', 'delikt', 'erschließung', 'bewusst', 'gesetzlich', 'bestimmung', 'definieren', 'allgemein', 'definition', 'erarbeiten', 'vorliegend', 'projekt', 'quellennahe', 'definition', 'entscheiden', 'grund', 'thesaurus', 'essentiell', 'definition', 'bereitstellen', 'angabe', 'definition', 'stammen', 'erfassung', 'variant', 'framework', 'erstellung', 'möglich', 'darstellung', 'thesaurus', 'formal', 'sprache', 'sko', 'simple', 'organisation', 'system', 'erweiterung', 'sko', 'sko', 'simple', 'system', 'extension', 'label', 'zurückgegriffen', 'typologisierung', 'quellen', 'vorkommenden', 'delikt', 'vermeiden', 'quellennahe', 'differenziert', 'zuordnung', 'ermöglichen', 'erstellt', 'thesaurus', 'präsentieren', 'applikation', 'möglichkeit', 'darstellen', 'biographisch', 'angabe', 'delinquentinn', 'alt', 'geschlecht', 'familienstand', 'herkunft', 'volltextsuch', 'text', 'erörtern', 'tatbeständ', 'rechtsnormen', 'miteinander', 'relation', 'setzen', 'weiter', 'verbindung', 'heutig', 'tatbeständen', 'hstellt', 'letztlich', 'mehrwert', 'zukünftig', 'userinn', 'bestehen', 'schließlich', 'möglich', 'thesaurus', 'thematisieren'], ['vortrag', 'beruhen', 'überlegung', 'theorie', 'praxis', 'erklärenden', 'annotation', 'literarischer', 'text', 'vordund', 'stehen', 'digital', 'aufbereitung', 'sinn', 'markup', 'anreicherung', 'text', 'annotation', 'teasys', 'explanatory', 'system', 'zirker', 'entwickeln', 'teasys', 'bieten', 'erklärend', 'annotation', 'verschieden', 'strukturieren', 'kategorie', 'darunter', 'sprachlich', 'erklärung', 'intratextuelle', 'verweisen', 'formal', 'aspekte', 'anmerkung', 'aufkommen', 'digital', 'annotation', 'eröffnen', 'neu', 'möglichkeit', 'gestaltung', 'erklärenden', 'annotation', 'text', 'entdecken', 'aufzubereiten', 'gelten', 'wesentlich', 'faktor', 'liegen', 'dabei', 'insbesondere', 'unterschied', 'annotation', 'gedruckt', 'buch', 'digital', 'medium', 'erlauben', 'schier', 'unbegrenzen', 'information', 'dargeboten', 'inhalt', 'teasys', 'annotation', 'literarischer', 'text', 'entwickeln', 'langfristig', 'erläuterung', 'literarischer', 'text', 'disziplin', 'heranziehen', 'zirker', 'bereits', 'vorstellen', 'seither', 'teasys', 'technisch', 'annotation', 'speichern', 'neuanlage', 'annotation', 'text', 'vorschlag', 'automatisieren', 'anbieten', 'vortrag', 'technisch', 'projekt', 'theoretisch', 'problems', 'nämlich', 'frage', 'erklärenden', 'annotation', 'ambiguität', 'sprachlich', 'textuell', 'mehrdeutigkeit', 'umgehen', 'widmen', 'automatisierung', 'annotation', 'zmenhang', 'ambiguität', 'ambiguität', 'verstehen', 'doppel', 'mehrdeutigkeit', 'distinkt', 'bedeutung', 'sprachlich', 'einheit', 'praxis', 'erklärenden', 'annotation', 'alt', 'kulturtechnike', 'aufbereitung', 'literarisch', 'text', 'handeln', 'theoretisch', 'problem', 'erklärenden', 'annotation', 'bisher', 'systematisch', 'behandeln', 'assmann', 'eggeren', 'drucker', 'zirker', 'gehören', 'insbesondere', 'frage', 'verhältnis', 'textteile', 'textganz', 'text', 'kontext', 'erklärung', 'interpretation', 'ambiguität', 'aspekte', 'hoch', 'relevant', 'annotation', 'etwa', 'roman', 'beitragen', 'verbindung', 'lokal', 'global', 'textbedeutung', 'zn', 'fallbeispiel', 'dafür', 'etwa', 'geistschichte', 'taken', 'salt', 'erzählung', 'sammlung', 'doctor', 'prescriptions', 'einbetten', 'woraus', 'ambiguität', 'resultieren', 'wörtlich', 'metaphorisch', 'lesen', 'zirker', 'annotation', 'entsprechend', 'erläutern', 'beispielsweise', 'weit', 'kontexte', 'verwendung', 'spektrum', 'möglich', 'bedeutung', 'hinweisen', 'wiederum', 'text', 'zurückbezoge', 'ambiguität', 'mehrdeutigkeit', 'wörtern', 'ausdrücken', 'sätze', 'ganz', 'text', 'stellen', 'somit', 'herausforderung', 'digital', 'erläuternd', 'annotation', 'dar', 'annotation', 'automatisieren', 'dazch', 'jacke', 'negativbeispiel', 'automatisiert', 'annotation', 'literarischer', 'text', 'vortrag', 'vorstellen', 'finden', 'zirker', 'häufig', 'falsch', 'annotation', 'anbieten', 'weiterleitung', 'wissen', 'voraussetzen', 'textverstehe', 'bereits', 'zugrunde', 'liegen', 'teasys', 'treten', 'problem', 'hervor', 'anlage', 'neu', 'annotation', 'annotator', 'vorschlag', 'item', 'zugrunde', 'liegend', 'unterbreiten', 'fallen', 'ambiguität', 'treten', 'schwierigkeit', 'textverstehe', 'voraussetzen', 'richtig', 'annotation', 'jeweilig', 'kontext', 'wählen', 'nehmen', 'etwa', 'phrase', 'not', 'shakespeares', 'sonett', 'einleiten', 'sprecher', 'richten', 'analog', 'soliloquium', 'adressat', 'sinn', 'vorliegend', 'ambiguität', 'jedoch', 'automatisch', 'kontexte', 'übertragbar', 'not', 'soliloquium', 'verwenden', 'brutus', 'caesar', 'dialog', 'automatisierung', 'annotation', 'not', 'deshalb', 'schwierig', 'gerade', 'potentials', 'mehrdeutig', 'bedeuten', 'fall', 'eindeutigkeit', 'jeweilig', 'annotation', 'bedingung', 'disambiguierung', 'verweisen', 'hinweis', 'erstellen', 'weit', 'annotation', 'erhältlich', 'nützlich', 'bleiben', 'passieren', 'annotation', 'ambiguität', 'berücksichtigen', 'hierzu', 'geben', 'szenarien', 'erklärend', 'annotation', 'disambiguieren', 'textstelle', 'text', 'erklärend', 'annotation', 'weisen', 'nutzer', 'ambiguität', 'insbesondere', 'literarisch', 'text', 'bieten', 'distinkt', 'denotatione', 'erklärend', 'annotation', 'führen', 'strategisch', 'weise', 'zirker', 'vorb', 'wahrnehmung', 'ambiguität', 'tatsächlich', 'vorliegen', 'eben', 'fall', 'vereindeutigung', 'textes', 'resultieren', 'qualitäten', 'literarischer', 'werk', 'lässen', 'möglicherweise', 'ermöglichen', 'klar', 'interpretation', 'disambiguierung', 'erforderlich', 'etwa', 'zug', 'sprachwandel', 'englisch', 'denken', 'heute', 'geläufig', 'bedeutung', 'nice', 'jahrhundert', 'völlig', 'denotatione', 'besaßen', 'fall', 'annotation', 'ambiguität', 'ästhetisch', 'merkmal', 'textes', 'besonderer', 'weise', 'hervortret', 'lassen', 'rücken', 'ambiguität', 'intern', 'extern', 'denken', 'dramatisch', 'ironie', 'fall', 'annotator', 'erklärung', 'potentiell', 'ambig', 'anbieten', 'global', 'textverstehe', 'beeinflussen', 'treffen', 'etwa', 'biographisch', 'lesarten', 'sonett', 'shakespeares', 'lokal', 'ambiguitäten', 'strategisch', 'text', 'hineingelesen', 'sonett', 'reden', 'annotation', 'verweis', 'shakespeares', 'frau', 'interpretieren', 'theoretisch', 'problem', 'überlegung', 'kurz', 'fallbeispiel', 'anknüpfen', 'bisher', 'systematisch', 'reflektieren', 'gelten', 'frage', 'inwieweit', 'erklärend', 'annotation', 'komplexität', 'ambiguität', 'literarischer', 'textrecht', 'digital', 'medium', 'scheinbar', 'unbegrenzen', 'raum', 'annotation', 'neu', 'möglichkeit', 'lösung', 'frage', 'problem', 'bieten', 'resultieren', 'daraus', 'wiederum', 'neu', 'nämlich', 'reflexion', 'mehrwert', 'verlust', 'geschilderten', 'hermeneutisch', 'schwierigkeit', 'jacke', 'wenden', 'digital', 'erklärenden', 'annotation', 'verhältnis', 'ambiguität', 'resultieren', 'daraus', 'fällen', 'darlegen', 'klärung', 'verdunkelung', 'notwendigkeit', 'überforderung', 'überfrachtung', 'nutzer', 'gefahr', 'information', 'anbieten', 'vortrag', 'widmen', 'frage', 'ausgewählt', 'beispiel', 'versuchen', 'folgend', 'aspekte', 'präsentieren', 'anzureißen', 'theoretisch', 'grundlag', 'erklärenden', 'annotation', 'hermeneutisch', 'grundlag', 'hinblick', 'ambiguität', 'nah', 'beleuchten', 'verhältnis', 'digital', 'medium', 'literarischer', 'annotation', 'erschweren', 'bedingung', 'ambiguität', 'automatisierung', 'annotation', 'ambiger', 'digital', 'medium', 'theoretisch', 'hinsicht', 'vorantreiben'], ['poster', 'präsentieren', 'teasys', 'explanatory', 'system', 'bauerzirker', 'möglichkeit', 'heuristisch', 'tool', 'lehr', 'lernprozessen', 'bieten', 'projekt', 'annotier', 'studierender', 'kollaborativ', 'text', 'ischsprachig', 'literatur', 'teasys', 'struktur', 'funktion', 'bereits', 'vorstellen', 'liegen', 'schwerpunkt', 'prozess', 'kollaborativ', 'annotation', 'digital', 'medium', 'praxis', 'erklärenden', 'anreicherung', 'textes', 'zzinformationen', 'verständlich', 'digitalisierung', 'grundlegend', 'beeinflussen', 'erstellung', 'annotieren', 'buch', 'editioner', 'einzelforschern', 'vorbehalen', 'eröffnen', 'digitalität', 'neu', 'möglichkeit', 'generierung', 'social', 'digital', 'editioner', 'plattform', 'thoreau', 'infinit', 'ulysses', 'pyncheonwiki', 'tools', 'annotation', 'studio', 'annotat', 'hypothesis', 'ermöglichen', 'lesern', 'erläuterung', 'wörtern', 'passagen', 'beitragen', 'dadurch', 'lösen', 'grenze', 'leser', 'sahlen', 'gleichzeitig', 'geben', 'digital', 'edition', 'zeitlich', 'räumlich', 'einschränkung', 'annotatoren', 'kontinuierlich', 'neu', 'information', 'annotation', 'hinzufügen', 'digitalität', 'sinn', 'kritik', 'unterziehen', 'führen', 'endlos', 'abhandlung', 'wort', 'textes', 'entstehen', 'irrelevant', 'information', 'infolgedessen', 'digital', 'annotation', 'führen', 'laufen', 'digital', 'erklärend', 'annotation', 'gefahr', 'nutzer', 'anliegen', 'text', 'verstehen', 'verwirren', 'irre', 'führen', 'bauerzirker', 'teasys', 'steuern', 'prozess', 'nutzen', 'entstandenen', 'annotation', 'kritisch', 'reflektieren', 'geschehen', 'studentisch', 'gruppe', 'häufig', 'anstoß', 'selbständig', 'weiterarbeit', 'gruppe', 'geben', 'dienen', 'annotier', 'methode', 'erarbeitung', 'historisch', 'kulturell', 'distanter', 'text', 'ebenso', 'erwerb', 'fähigkeit', 'dabei', 'lernen', 'studierender', 'vorgehensweise', 'reflektieren', 'überprüfbar', 'teasys', 'lehrmethode', 'einsetzen', 'studierender', 'dazregt', 'nes', 'unverständnis', 'textes', 'reflektieren', 'elemente', 'textes', 'tragen', 'schwierig', 'empfinden', 'information', 'benötigen', 'schwierigkeit', 'überwinden', 'kommen', 'heuristik', 'teasys', 'spiel', 'annotation', 'strukturieren', 'kategorie', 'information', 'sprache', 'form', 'bauerzirker', 'eben', 'komplexität', 'insgesamt', 'zielen', 'konkret', 'bauerzirker', 'strukturierung', 'annotation', 'helfen', 'studierenden', 'somit', 'frage', 'formulieren', 'andernfalls', 'vielleicht', 'stoßen', 'wort', 'wort', 'jahrhundert', 'bedeuten', 'häufig', 'dabei', 'deutlich', 'textes', 'textteile', 'oft', 'gewiß', 'expertenwissen', 'erkennen', 'oftmals', 'lehrend', 'bsteuern', 'strukturierung', 'studierender', 'leicht', 'experte', 'kombination', 'expertise', 'kritik', 'führen', 'generierung', 'social', 'austausch', 'gruppe', 'effizient', 'weise', 'qualitativ', 'verifizieren', 'arbeitsbnisse', 'jannidis', 'kohle', 'rehbein', 'publikation', 'annotation', 'stellen', 'zusätzlich', 'motivation', 'student', 'dar', 'hoch', 'fachlich', 'niveau', 'produzieren', 'stroud', 'annotation', 'verbessern', 'kontinuierlich', 'weiterarbeit', 'rallen', 'bergen', 'risiko', 'hinsicht', 'verwend', 'zitierbarkeit', 'kollaborativ', 'entstandenen', 'wissens', 'poster', 'stellen', 'lehr', 'lernprozesse', 'kollaborativ', 'dar', 'nachhaltigkeit', 'projekt', 'mehrwert', 'heuristik', 'teasys', 'hinblick', 'digital', 'methode']]\n"
     ]
    }
   ],
   "source": [
    "# might take some time due to lemmatization!\n",
    "whole_texts = all_pdf_texts + all_xml_texts\n",
    "\n",
    "list_all_texts = []\n",
    "for text in whole_texts:\n",
    "    # detecting language in order to remove the stopwords and lemmatize according to language\n",
    "    lang = detect_language(str(text))     \n",
    "    text_item = clean_text(text)\n",
    "    text_item = remove_stopwords(text_item, lang)\n",
    "    text_item = lemmatization(text_item, lang)\n",
    "    \n",
    "    list_all_texts.append(text_item)\n",
    "print(list_all_texts)"
   ]
  },
  {
   "attachments": {},
   "cell_type": "markdown",
   "metadata": {},
   "source": [
    "Finding bigrams and trigrams"
   ]
  },
  {
   "cell_type": "code",
   "execution_count": 19,
   "metadata": {},
   "outputs": [],
   "source": [
    "# creating bigrams and trigrams from lemmatized words\n",
    "data_bigrams_trigrams = create_bigrams_trigrams(list_all_texts)"
   ]
  },
  {
   "attachments": {},
   "cell_type": "markdown",
   "metadata": {},
   "source": [
    "Creating id2word and bag of words"
   ]
  },
  {
   "cell_type": "code",
   "execution_count": 20,
   "metadata": {},
   "outputs": [],
   "source": [
    "# id2word as dictionary where every word is referenced with id\n",
    "id2word = corpora.Dictionary(data_bigrams_trigrams)\n",
    "# rename variable\n",
    "texts = data_bigrams_trigrams\n",
    "\n",
    "# corpus as dictionary that contains a list of tuples for each document, tuples contain (id, no. of appearances of the word\n",
    "# some index numbers are missing due to the tf-idf weighting \n",
    "corpus = tf_idf(id2word, texts)\n"
   ]
  },
  {
   "attachments": {},
   "cell_type": "markdown",
   "metadata": {},
   "source": [
    "Save the variables, so that one does not need to exert the whole script again (too time-consuming)"
   ]
  },
  {
   "cell_type": "code",
   "execution_count": 23,
   "metadata": {},
   "outputs": [],
   "source": [
    "\n",
    "def save_variable(filename, varname):\n",
    "    filename = 'Variables/'+filename\n",
    "    g = open(filename, 'wb')\n",
    "    pickle.dump(varname, g)\n",
    "    g.close()\n",
    "\n",
    "# def open_variable(filename, varname):\n",
    "#     filename = 'Variables/'+filename\n",
    "#     varname = open(filename, 'rb')\n",
    "#     pickle.load(varname)\n",
    "    \n",
    "#     return varname\n",
    "    \n",
    "   "
   ]
  },
  {
   "cell_type": "code",
   "execution_count": null,
   "metadata": {},
   "outputs": [],
   "source": [
    "# writing the files to save the variables\n",
    "\n",
    "\n",
    "# save_variable('corpus.pckl', corpus)\n",
    "# save_variable('id2word.pckl', id2word)\n",
    "# save_variable('list_all_texts.pckl', list_all_texts)"
   ]
  },
  {
   "attachments": {},
   "cell_type": "markdown",
   "metadata": {},
   "source": [
    "Opening the variables again for further use"
   ]
  },
  {
   "cell_type": "code",
   "execution_count": 25,
   "metadata": {},
   "outputs": [],
   "source": [
    "# opening the files for reuse of the variables\n",
    "\n",
    "f = open('Variables/corpus.pckl', 'rb')\n",
    "corpus = pickle.load(f)\n",
    "f.close()\n",
    "\n",
    "g = open('Variables/id2word.pckl', 'rb')\n",
    "id2word = pickle.load(g)\n",
    "g.close()\n",
    "\n",
    "'''Insgesamt ca 1204 Dokumente, List_all_texts nur 1133 lang, Englische Texte evtl doch mit retrieven? '''\n",
    "h = open('Variables/list_all_texts.pckl', 'rb')\n",
    "list_all_texts = pickle.load(h)\n",
    "h.close()\n",
    "\n",
    "data_bigrams_trigrams = create_bigrams_trigrams(list_all_texts)\n"
   ]
  },
  {
   "attachments": {},
   "cell_type": "markdown",
   "metadata": {},
   "source": [
    "### Tuning (hyper-)parameters: Find optimal settings for topic number, alpha and beta"
   ]
  },
  {
   "attachments": {},
   "cell_type": "markdown",
   "metadata": {},
   "source": [
    "**Parameter topic number**\n",
    "\n",
    "According to https://medium.com/@soorajsubrahmannian/extracting-hidden-topics-in-a-corpus-55b2214fc17d, the best topic number with UMass measure can be found where the coherence draws a plateau in the graph \"The number of topics for which the average score plateaus (...) is the (...) spot we are looking for\".\n",
    "\n",
    "**Parameter update_every**\n",
    "\n",
    "\"Number of documents to be iterated through for each update. Set to 0 for batch learning, > 1 for online iterative learning.\"\n",
    "\n",
    "**Parameter Alpha**\n",
    "\n",
    "\"Alpha is the parameter, which has the smoothing effect on the topic-document distribution and ensures that the probability of each topic in each document is not 0 throughout the entire inference procedure\" (Du, 2022, p. 1). Du's study results indicate that coherence results of models deteriorate with increasing Alpha-parameter, and Du concludes that Alpha of each topic should not be higher than 1 (Du, 2022, p. 2)"
   ]
  },
  {
   "cell_type": "code",
   "execution_count": 23,
   "metadata": {},
   "outputs": [],
   "source": [
    "def compute_coherence_values(dictionary, corpus, texts, coherence):\n",
    "    \n",
    "    # necessary lists (to be returned)\n",
    "    coherence_values = []\n",
    "    model_list = []\n",
    "    topic_coherence_values=[]\n",
    "    model_names = []\n",
    "    \n",
    "    # optimizations for parameters\n",
    "    # topic_optim = [10, 15, 20, 25, 30, 35, 40, 45, 50]\n",
    "    # update_optim = [50, 100, 300, 500, 1000, 2000, 3000]\n",
    "    # alpha_optim = ['symmetric', 'asymmetric', 'auto']\n",
    "    \n",
    "    topic_optim = [10]\n",
    "    update_optim = [300]\n",
    "    alpha_optim = ['symmetric']\n",
    "\n",
    "    \n",
    "    for topics_num in topic_optim:\n",
    "        for update_interval in update_optim:\n",
    "            for alpha_value in alpha_optim:\n",
    "                model=gensim.models.ldamodel.LdaModel(corpus=corpus, id2word=dictionary, iterations=6000, num_topics=topics_num,  \n",
    "                                                      update_every=update_interval, alpha=alpha_value, minimum_probability=1e-8)\n",
    "                model_list.append(model)\n",
    "                coherencemodel = CoherenceModel(model=model, texts=texts, dictionary=dictionary, coherence=coherence)\n",
    "                coherence_values.append(coherencemodel.get_coherence())\n",
    "                topic_coherence_values.append(coherencemodel.get_coherence_per_topic())\n",
    "                name = (str(topics_num), str(update_interval), str(alpha_value))\n",
    "                model_names.append(name)\n",
    "                name = ''\n",
    "        \n",
    "\n",
    "    return model_list, coherence_values, topic_coherence_values, model_names"
   ]
  },
  {
   "cell_type": "code",
   "execution_count": 24,
   "metadata": {},
   "outputs": [],
   "source": [
    "# initializing random seed to be able to reproduce the results\n",
    "np.random.seed(1)\n",
    "\n",
    "# running the function to find the optimal combination of parameters\n",
    "model_list_cv, coherence_values_cv, topic_coherence_values_cv, model_names = compute_coherence_values(dictionary=id2word, corpus=corpus, texts=data_bigrams_trigrams, \n",
    "                                                                                         coherence=\"c_v\")"
   ]
  },
  {
   "cell_type": "code",
   "execution_count": 26,
   "metadata": {},
   "outputs": [
    {
     "name": "stdout",
     "output_type": "stream",
     "text": [
      "[<gensim.models.ldamodel.LdaModel object at 0x000001F2858ABB20>]\n",
      "[0.6093141327755671]\n",
      "[('10', '300', 'symmetric')]\n"
     ]
    }
   ],
   "source": [
    "print(model_list_cv)\n",
    "print(coherence_values_cv)\n",
    "print(model_names)"
   ]
  },
  {
   "cell_type": "code",
   "execution_count": 32,
   "metadata": {},
   "outputs": [],
   "source": [
    "# saving the variables\n",
    "\n",
    "# save_variable('model_list_cv.pckl', model_list_cv)\n",
    "# save_variable('coherence_values_cv.pckl', coherence_values_cv)\n",
    "# save_variable('topic_coherence_values.pckl', topic_coherence_values_cv)\n",
    "# save_variable('model_names.pckl', model_names)"
   ]
  },
  {
   "cell_type": "code",
   "execution_count": 13,
   "metadata": {},
   "outputs": [],
   "source": [
    "# opening the variables\n",
    "\n",
    "i = open('Variables/model_list_cv.pckl', 'rb')\n",
    "model_list_cv = pickle.load(i)\n",
    "i.close()\n",
    "\n",
    "j = open('Variables/coherence_values_cv.pckl', 'rb')\n",
    "coherence_values_cv = pickle.load(j)\n",
    "j.close()\n",
    "\n",
    "k = open('Variables/topic_coherence_values.pckl', 'rb')\n",
    "topic_coherence_values = pickle.load(k)\n",
    "k.close()\n",
    "\n",
    "l = open('Variables/model_names.pckl', 'rb')\n",
    "model_names = pickle.load(l)\n",
    "l.close()\n",
    "\n",
    "# model_list_cv = open_variable('Variables/model_list_cv.pckl')\n",
    "# coherence_values_cv = open_variable('Variables/coherence_values_cv.pckl', coherence_values_cv)\n",
    "# topic_coherence_values_cv = open_variable('Variables/topic_coherence_values_cv.pckl', topic_coherence_values_cv)\n",
    "# model_names = open_variable('Variables/model_names.pckl', model_names)"
   ]
  },
  {
   "attachments": {},
   "cell_type": "markdown",
   "metadata": {},
   "source": [
    "Creating a plot in order to make better interpretations"
   ]
  },
  {
   "cell_type": "code",
   "execution_count": 27,
   "metadata": {},
   "outputs": [
    {
     "data": {
      "image/png": "[encoded data removed]",
      "text/plain": [
       "<Figure size 2000x800 with 1 Axes>"
      ]
     },
     "metadata": {},
     "output_type": "display_data"
    }
   ],
   "source": [
    "# Customizing and saving the plot\n",
    "list = []\n",
    "i = 0\n",
    "for i in range(len(model_names)):\n",
    "    list.append(i)\n",
    "    i += 1\n",
    "\n",
    "plt.figure(figsize=(20,8))\n",
    "plt.scatter(list, coherence_values_cv, label ='c_v')\n",
    "# plt.plot(list, coherence_values_cv, label=\"c_v\")\n",
    "plt.title(\"Coherence score comparing (c_v)\")\n",
    "plt.xlabel(\"Trained Topic Models\")\n",
    "plt.ylabel(\"Coherence score\")\n",
    "plt.legend()\n",
    "plt.xticks(rotation=45)\n",
    "\n",
    "plt.savefig('Figures/Coherence_NumTopics_HyperpOptim.png')\n",
    "plt.show()\n"
   ]
  },
  {
   "attachments": {},
   "cell_type": "markdown",
   "metadata": {},
   "source": [
    "Finding the index with the highest coherence and saving that model for further use"
   ]
  },
  {
   "cell_type": "code",
   "execution_count": 28,
   "metadata": {},
   "outputs": [
    {
     "name": "stdout",
     "output_type": "stream",
     "text": [
      "[0.6093141327755671]\n",
      "('10', '300', 'symmetric')\n"
     ]
    }
   ],
   "source": [
    "highest_coherence = []\n",
    "print(coherence_values_cv)\n",
    "for value in coherence_values_cv:\n",
    "    if value > 0.3:\n",
    "        highest_coherence.append(coherence_values_cv.index(value))\n",
    "\n",
    "for element in highest_coherence:\n",
    "    print(model_names[element])\n",
    "\n",
    "        "
   ]
  },
  {
   "cell_type": "code",
   "execution_count": 31,
   "metadata": {},
   "outputs": [
    {
     "name": "stdout",
     "output_type": "stream",
     "text": [
      "0.6093141327755671\n",
      "Number of topics in the best model:  10\n"
     ]
    }
   ],
   "source": [
    "index_best_model = coherence_values_cv.index(max(coherence_values_cv))\n",
    "\n",
    "# Select the model and print the topics\n",
    "optimal_model = model_list_cv[0]\n",
    "# optimal_model = model_list_cv[index_best_model]\n",
    "print(coherence_values_cv[index_best_model])\n",
    "\n",
    "print('Number of topics in the best model: ', model_list_cv[index_best_model].num_topics)\n",
    "# optimal_model.save(\"Models/optimal_model_n17.model\", \"w\")"
   ]
  },
  {
   "attachments": {},
   "cell_type": "markdown",
   "metadata": {},
   "source": [
    "## Research Question 1: Topic Modeling"
   ]
  },
  {
   "attachments": {},
   "cell_type": "markdown",
   "metadata": {},
   "source": [
    "### Visualisation of final topic modeling with optimal parameters"
   ]
  },
  {
   "cell_type": "code",
   "execution_count": 81,
   "metadata": {},
   "outputs": [],
   "source": [
    "# model = gensim.models.ldamodel.LdaModel.load(\"models/optimal_model_n17.model\")"
   ]
  },
  {
   "cell_type": "code",
   "execution_count": 32,
   "metadata": {},
   "outputs": [
    {
     "name": "stdout",
     "output_type": "stream",
     "text": [
      "Serving to http://127.0.0.1:8888/    [Ctrl-C to exit]\n"
     ]
    },
    {
     "name": "stderr",
     "output_type": "stream",
     "text": [
      "127.0.0.1 - - [28/Apr/2023 09:23:32] \"GET / HTTP/1.1\" 200 -\n",
      "----------------------------------------\n",
      "Exception occurred during processing of request from ('127.0.0.1', 52080)\n",
      "Traceback (most recent call last):\n",
      "  File \"c:\\Users\\luisa\\AppData\\Local\\Programs\\Python\\Python310\\lib\\socketserver.py\", line 316, in _handle_request_noblock\n",
      "    self.process_request(request, client_address)\n",
      "  File \"c:\\Users\\luisa\\AppData\\Local\\Programs\\Python\\Python310\\lib\\socketserver.py\", line 347, in process_request\n",
      "    self.finish_request(request, client_address)\n",
      "  File \"c:\\Users\\luisa\\AppData\\Local\\Programs\\Python\\Python310\\lib\\socketserver.py\", line 360, in finish_request\n",
      "    self.RequestHandlerClass(request, client_address, self)\n",
      "  File \"c:\\Users\\luisa\\AppData\\Local\\Programs\\Python\\Python310\\lib\\socketserver.py\", line 747, in __init__\n",
      "    self.handle()\n",
      "  File \"c:\\Users\\luisa\\AppData\\Local\\Programs\\Python\\Python310\\lib\\http\\server.py\", line 425, in handle\n",
      "    self.handle_one_request()\n",
      "  File \"c:\\Users\\luisa\\AppData\\Local\\Programs\\Python\\Python310\\lib\\http\\server.py\", line 413, in handle_one_request\n",
      "    method()\n",
      "  File \"c:\\Users\\luisa\\AppData\\Local\\Programs\\Python\\Python310\\lib\\site-packages\\pyLDAvis\\_server.py\", line 34, in do_GET\n",
      "    self.wfile.write(\"<html><head>\"\n",
      "  File \"c:\\Users\\luisa\\AppData\\Local\\Programs\\Python\\Python310\\lib\\socketserver.py\", line 826, in write\n",
      "    self._sock.sendall(b)\n",
      "ConnectionAbortedError: [WinError 10053] Eine bestehende Verbindung wurde softwaregesteuert\n",
      "durch den Hostcomputer abgebrochen\n",
      "----------------------------------------\n",
      "127.0.0.1 - - [28/Apr/2023 09:23:32] \"GET / HTTP/1.1\" 200 -\n",
      "127.0.0.1 - - [28/Apr/2023 09:23:33] code 404, message Not Found\n",
      "127.0.0.1 - - [28/Apr/2023 09:23:33] \"GET /favicon.ico HTTP/1.1\" 404 -\n"
     ]
    },
    {
     "name": "stdout",
     "output_type": "stream",
     "text": [
      "\n",
      "stopping Server...\n"
     ]
    }
   ],
   "source": [
    "pyLDAvis.enable_notebook()\n",
    "vis = pyLDAvis.gensim_models.prepare(optimal_model, corpus, id2word)\n",
    "pyLDAvis.show(vis, local=False)"
   ]
  },
  {
   "attachments": {},
   "cell_type": "markdown",
   "metadata": {},
   "source": [
    "### Further analyses with the optimal topic model from above"
   ]
  },
  {
   "attachments": {},
   "cell_type": "markdown",
   "metadata": {},
   "source": [
    "For all: https://github.com/RaRe-Technologies/gensim/blob/develop/docs/notebooks/topic_methods.ipynb\n",
    "\n",
    "Getting the most frequent words per topic"
   ]
  },
  {
   "cell_type": "code",
   "execution_count": 33,
   "metadata": {},
   "outputs": [
    {
     "data": {
      "text/plain": [
       "[(0,\n",
       "  '0.016*\"quellen\" + 0.014*\"delikt\" + 0.014*\"definition\" + 0.014*\"thesaurus\" + 0.011*\"jahrhundert\" + 0.011*\"flugblätter\" + 0.008*\"sko\" + 0.008*\"tatbeständ\" + 0.008*\"beschreiben\" + 0.008*\"hinrichtung\"'),\n",
       " (1,\n",
       "  '0.001*\"annotation\" + 0.001*\"ambiguität\" + 0.001*\"text\" + 0.001*\"teasys\" + 0.001*\"daten\" + 0.001*\"zirker\" + 0.001*\"bereich\" + 0.001*\"infrastruktur\" + 0.001*\"vortrag\" + 0.001*\"quellen\"'),\n",
       " (2,\n",
       "  '0.015*\"infrastruktur\" + 0.013*\"daten\" + 0.011*\"elexis\" + 0.009*\"fördern\" + 0.009*\"partner\" + 0.009*\"bereich\" + 0.007*\"wörterbücher\" + 0.007*\"austausch\" + 0.007*\"bereits\" + 0.006*\"europäisch\"'),\n",
       " (3,\n",
       "  '0.001*\"annotation\" + 0.001*\"ambiguität\" + 0.001*\"text\" + 0.001*\"teasys\" + 0.001*\"quellen\" + 0.001*\"daten\" + 0.001*\"bereich\" + 0.001*\"erklärenden\" + 0.001*\"etwa\" + 0.001*\"textes\"'),\n",
       " (4,\n",
       "  '0.011*\"hitie\" + 0.011*\"face\" + 0.011*\"history\" + 0.011*\"image\" + 0.011*\"person\" + 0.010*\"social\" + 0.010*\"user\" + 0.009*\"application\" + 0.009*\"graph\" + 0.008*\"research\"'),\n",
       " (5,\n",
       "  '0.011*\"annotation\" + 0.011*\"kunstgeschicht\" + 0.009*\"universität\" + 0.008*\"film\" + 0.007*\"video\" + 0.007*\"zm\" + 0.007*\"musikvideo\" + 0.007*\"keazor\" + 0.006*\"möglichkeit\" + 0.006*\"bild\"'),\n",
       " (6,\n",
       "  '0.060*\"annotation\" + 0.019*\"ambiguität\" + 0.016*\"text\" + 0.013*\"teasys\" + 0.010*\"erklärenden\" + 0.009*\"literarischer\" + 0.008*\"textes\" + 0.008*\"erklärend\" + 0.008*\"zirker\" + 0.007*\"etwa\"'),\n",
       " (7,\n",
       "  '0.001*\"annotation\" + 0.001*\"ambiguität\" + 0.001*\"text\" + 0.001*\"infrastruktur\" + 0.001*\"teasys\" + 0.001*\"daten\" + 0.001*\"bereich\" + 0.001*\"quellen\" + 0.001*\"definition\" + 0.001*\"ressource\"'),\n",
       " (8,\n",
       "  '0.034*\"annotation\" + 0.027*\"ambiguität\" + 0.020*\"text\" + 0.009*\"erklärenden\" + 0.008*\"literarischer\" + 0.008*\"theoretisch\" + 0.008*\"zirker\" + 0.006*\"frage\" + 0.006*\"teasys\" + 0.006*\"erklärend\"'),\n",
       " (9,\n",
       "  '0.009*\"erster\" + 0.009*\"frauenbewegung\" + 0.008*\"bereichen\" + 0.008*\"lexikalisch\" + 0.007*\"thematisch\" + 0.006*\"fachlich\" + 0.006*\"history\" + 0.006*\"analyse\" + 0.006*\"verfahren\" + 0.006*\"ressource\"')]"
      ]
     },
     "execution_count": 33,
     "metadata": {},
     "output_type": "execute_result"
    }
   ],
   "source": [
    "optimal_model.show_topics()"
   ]
  },
  {
   "attachments": {},
   "cell_type": "markdown",
   "metadata": {},
   "source": [
    "Showing the probabilities of a certain word to belong to the topics"
   ]
  },
  {
   "cell_type": "code",
   "execution_count": 34,
   "metadata": {},
   "outputs": [
    {
     "data": {
      "text/plain": [
       "[(0, 7.899254e-08),\n",
       " (1, 1.9513848e-07),\n",
       " (2, 6.473504e-08),\n",
       " (3, 1.9513848e-07),\n",
       " (4, 0.0033760637),\n",
       " (5, 5.619549e-08),\n",
       " (6, 0.002042657),\n",
       " (7, 1.9513756e-07),\n",
       " (8, 1.383214e-07),\n",
       " (9, 0.006626252)]"
      ]
     },
     "execution_count": 34,
     "metadata": {},
     "output_type": "execute_result"
    }
   ],
   "source": [
    "optimal_model.get_term_topics('lexikalisch')"
   ]
  },
  {
   "attachments": {},
   "cell_type": "markdown",
   "metadata": {},
   "source": [
    "## Research Question 2: Hierarchical Clustering and Topic Similarity\n",
    "\n",
    "Hellinger Distance for Topic Similarity https://radimrehurek.com/gensim/matutils.html#gensim.matutils.hellinger"
   ]
  },
  {
   "attachments": {},
   "cell_type": "markdown",
   "metadata": {},
   "source": [
    "Get the topic distribution of one specific document\n",
    "\n",
    "doc_topics returns a list of tuples with (topic id, probability of that topic in the document)"
   ]
  },
  {
   "cell_type": "code",
   "execution_count": 38,
   "metadata": {},
   "outputs": [
    {
     "data": {
      "text/plain": [
       "[(0, 0.048040792),\n",
       " (1, 0.0002723093),\n",
       " (2, 0.03013342),\n",
       " (3, 0.0002723093),\n",
       " (4, 0.00027227294),\n",
       " (5, 0.020736594),\n",
       " (6, 0.89945537),\n",
       " (7, 0.0002723093),\n",
       " (8, 0.00027233563),\n",
       " (9, 0.00027228156)]"
      ]
     },
     "execution_count": 38,
     "metadata": {},
     "output_type": "execute_result"
    }
   ],
   "source": [
    "bow_doc = data_bigrams_trigrams[5]\n",
    "\n",
    "bow = optimal_model.id2word.doc2bow(bow_doc) # convert to bag of words format first\n",
    "doc_topics, word_topics, phi_values = optimal_model.get_document_topics(bow, per_word_topics=True)\n",
    "\n",
    "doc_topics"
   ]
  },
  {
   "attachments": {},
   "cell_type": "markdown",
   "metadata": {},
   "source": [
    "Danach von jedem Dokument einzeln eine BOW erstellen lassen, und diese dann mit der Cosine-Similarity zueinander vergleichen und clustern!"
   ]
  },
  {
   "attachments": {},
   "cell_type": "markdown",
   "metadata": {},
   "source": [
    "## Research Question 3: Mann-Kendall-Test\n",
    "\n",
    "https://www.geeksforgeeks.org/how-to-perform-a-mann-kendall-trend-test-in-python/"
   ]
  },
  {
   "attachments": {},
   "cell_type": "markdown",
   "metadata": {},
   "source": [
    "## Research Question 4: Development and Use of Research Methods\n",
    "\n",
    "More or less implemented already"
   ]
  },
  {
   "attachments": {},
   "cell_type": "markdown",
   "metadata": {},
   "source": [
    "## Research Question 5: Analysis of Authors and Teams of Authors\n",
    "\n",
    "Authors extracted already, how to compare? "
   ]
  },
  {
   "attachments": {},
   "cell_type": "markdown",
   "metadata": {},
   "source": [
    "## Research Question 6: Clustering of (Teams of) Authors and certain Research Topics"
   ]
  }
 ],
 "metadata": {
  "kernelspec": {
   "display_name": "Python 3.10.5 64-bit",
   "language": "python",
   "name": "python3"
  },
  "language_info": {
   "codemirror_mode": {
    "name": "ipython",
    "version": 3
   },
   "file_extension": ".py",
   "mimetype": "text/x-python",
   "name": "python",
   "nbconvert_exporter": "python",
   "pygments_lexer": "ipython3",
   "version": "3.10.5"
  },
  "orig_nbformat": 4,
  "vscode": {
   "interpreter": {
    "hash": "265bbd40db63aa34df1bd83f77ecf498882faae903508c6e893ae6addaebaa43"
   }
  }
 },
 "nbformat": 4,
 "nbformat_minor": 2
}
