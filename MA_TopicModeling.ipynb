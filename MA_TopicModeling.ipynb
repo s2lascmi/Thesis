{
 "cells": [
  {
   "attachments": {},
   "cell_type": "markdown",
   "metadata": {},
   "source": [
    "\n",
    "# Code for Master's Thesis: Topic Modeling"
   ]
  },
  {
   "attachments": {},
   "cell_type": "markdown",
   "metadata": {},
   "source": [
    "## Research Questions\n",
    "\n",
    "1. Which topics can be found in the abstracts from DHd-conferences between 2014 and 2023 with Topic Modeling?\n",
    "\n",
    "2. Which topics appear frequently in one abstract and therefore have a high topic similarity?\n",
    "\n",
    "3. How have the topics been changing throughout the years - which trends are perceptible?\n",
    "\n",
    "4. With regard to the use of different scientific methods, which developments are perceptible?\n",
    "\n",
    "5. Which researchers contribute to the conference particularly frequently with abstracts, in which teams do they contribute and how have the teams been changing?\n",
    "\n",
    "6. Which clusters of researchers can be found with regard to topics and how have the clusters been changing?"
   ]
  },
  {
   "attachments": {},
   "cell_type": "markdown",
   "metadata": {},
   "source": [
    "### Imports"
   ]
  },
  {
   "cell_type": "code",
   "execution_count": 6,
   "metadata": {
    "tags": [
     "cell #1"
    ]
   },
   "outputs": [
    {
     "ename": "ModuleNotFoundError",
     "evalue": "No module named 'MA_Preprocessing'",
     "output_type": "error",
     "traceback": [
      "\u001b[1;31m---------------------------------------------------------------------------\u001b[0m",
      "\u001b[1;31mModuleNotFoundError\u001b[0m                       Traceback (most recent call last)",
      "\u001b[1;32mc:\\Users\\luisa\\Desktop\\Thesis\\MA_TopicModeling.ipynb Cell 4\u001b[0m in \u001b[0;36m1\n\u001b[0;32m     <a href='vscode-notebook-cell:/c%3A/Users/luisa/Desktop/Thesis/MA_TopicModeling.ipynb#W3sZmlsZQ%3D%3D?line=10'>11</a>\u001b[0m \u001b[39mimport\u001b[39;00m \u001b[39mpyLDAvis\u001b[39;00m\u001b[39m.\u001b[39;00m\u001b[39mgensim_models\u001b[39;00m\n\u001b[0;32m     <a href='vscode-notebook-cell:/c%3A/Users/luisa/Desktop/Thesis/MA_TopicModeling.ipynb#W3sZmlsZQ%3D%3D?line=12'>13</a>\u001b[0m \u001b[39m#importing functions from MA_Preprocessing\u001b[39;00m\n\u001b[1;32m---> <a href='vscode-notebook-cell:/c%3A/Users/luisa/Desktop/Thesis/MA_TopicModeling.ipynb#W3sZmlsZQ%3D%3D?line=13'>14</a>\u001b[0m \u001b[39mimport\u001b[39;00m \u001b[39mMA_Preprocessing\u001b[39;00m\n\u001b[0;32m     <a href='vscode-notebook-cell:/c%3A/Users/luisa/Desktop/Thesis/MA_TopicModeling.ipynb#W3sZmlsZQ%3D%3D?line=15'>16</a>\u001b[0m \u001b[39m#LDA\u001b[39;00m\n\u001b[0;32m     <a href='vscode-notebook-cell:/c%3A/Users/luisa/Desktop/Thesis/MA_TopicModeling.ipynb#W3sZmlsZQ%3D%3D?line=16'>17</a>\u001b[0m \u001b[39mimport\u001b[39;00m \u001b[39mgensim\u001b[39;00m\n",
      "\u001b[1;31mModuleNotFoundError\u001b[0m: No module named 'MA_Preprocessing'"
     ]
    }
   ],
   "source": [
    "#general imports\n",
    "import re\n",
    "import pickle\n",
    "import numpy as np\n",
    "import matplotlib.pyplot as plt\n",
    "import logging\n",
    "\n",
    "#Visualisations\n",
    "import pandas as pd\n",
    "import pyLDAvis\n",
    "import pyLDAvis.gensim_models\n",
    "\n",
    "#importing functions from MA_Preprocessing\n",
    "import MA_Preprocessing\n",
    "\n",
    "#LDA\n",
    "import gensim\n",
    "import gensim.corpora as corpora\n",
    "from gensim.models import CoherenceModel\n",
    "from gensim.models.ldamodel import LdaModel\n",
    "\n",
    "#RQ2: Topic Similarity\n",
    "import math\n",
    "import scipy.cluster.hierarchy as shc\n",
    "\n",
    "#RQ3: Mann-Kendall-Test\n",
    "import pymannkendall as mk\n",
    "\n",
    "#RQ5: Network Analysis\n",
    "from pyvis.network import Network\n",
    "import networkx as nx\n",
    "\n",
    "#RQ6: Authors-Topic-Analysis\n",
    "import itertools\n",
    "from operator import itemgetter\n",
    "import pygal \n",
    "from pygal.style import Style\n",
    "from scipy.spatial import distance_matrix\n",
    "from scipy.cluster import hierarchy\n"
   ]
  },
  {
   "cell_type": "markdown",
   "metadata": {},
   "source": [
    "Importing all variables needed from the preprocessing notebook to this one"
   ]
  },
  {
   "cell_type": "code",
   "execution_count": 4,
   "metadata": {
    "tags": [
     "cell #2"
    ]
   },
   "outputs": [],
   "source": [
    "%store -r number_pdf_docs\n",
    "%store -r number_xml_docs\n",
    "%store -r number_docs\n",
    "%store -r docnames\n",
    "%store -r filenames\n",
    "%store -r filenames_xml\n",
    "%store -r filenames_pdf\n",
    "%store -r all_freely_selectable_keywords\n",
    "%store -r used_keywords_freely_selectable\n",
    "%store -r used_keywords_predetermined\n",
    "%store -r authors\n",
    "%store -r authors_full_list\n",
    "\n",
    "#Variables that are stored in the Thesis folders\n",
    "corpus = open_variable('Variables/', 'corpus.pckl')\n",
    "id2word = open_variable('Variables/', 'id2word.pckl')\n",
    "corrected_list_of_texts = open_variable('Variables/', 'corrected_list_of_texts.pckl')\n",
    "data_bigrams_trigrams = open_variable('Variables/', 'data_bigrams_trigrams.pckl')"
   ]
  },
  {
   "cell_type": "markdown",
   "metadata": {},
   "source": [
    "Implemeting a list of indexes as well as a list containing all document names."
   ]
  },
  {
   "cell_type": "code",
   "execution_count": null,
   "metadata": {
    "tags": [
     "cell #7"
    ]
   },
   "outputs": [],
   "source": [
    "indexes = [0]\n",
    "textnames = []\n",
    "for sublist in docnames:\n",
    "    indexes.append(len(sublist) + indexes[-1])\n",
    "    textnames = textnames + sublist"
   ]
  },
  {
   "cell_type": "markdown",
   "metadata": {},
   "source": [
    "Implementing a list containing all authors containing double names, and a list containing all author teams through all years. "
   ]
  },
  {
   "cell_type": "code",
   "execution_count": 5,
   "metadata": {},
   "outputs": [
    {
     "name": "stdout",
     "output_type": "stream",
     "text": [
      "['Kepper, Johannes', 'Hoppe, Stephan', 'Pfarr-Harfst, Mieke', 'Münster, Sander', 'Kuroczyński, Piotr', 'Blümel, Ina', 'Hauck, Oliver', 'Lutteroth, Jan', 'Pfeil, Patrick', 'Aehnlich, Barbara', 'Sahle, Patrick', 'Trippel, Thorsten', 'Neumann, Gerald', 'Engelhardt, Claudia', 'Kurzawe, Daniel', 'Schäfer, Felix', 'Wörner, Kai', 'Wiedemann, Gregor', 'Gloning, Thomas', 'Blätte, Andreas', 'Keller, Maret', 'Haaf, Susanne', 'Würzner, Kay-Michael', 'Andorfer, Peter', 'Durco, Matej', 'Stäcker, Thomas', 'Thomas, Christian', 'Hildenbrandt, Vera', 'Stigler, Hubert', 'Söring, Sibylle', 'Rosenthaler, Lukas', 'Keim, Daniel A.', 'Zweig, Katharina Anna', 'Aehnlich, Barbara', 'Kösser, Sylwia', 'Bürgermeister, Martina', 'Makowski, Stephan', 'Strecker, Bernhard', 'Jeller, Daniel', 'Schneider, Gerlinde', 'Bigalke, Jan', 'Büttner, Stephan', 'Heger, Martin', 'Heinrich, Marcus', 'Keller, Carolin', 'Lehmann, Anna', 'Meyer, Michaela', 'Barzen, Johanna', 'Falkenthal, Michael', 'Hentschel, Frank', 'Leymann, Frank', 'Strehl, Tino', 'Stäcker, Thomas', 'Baum, Constanze', 'Steyer, Timo', 'Kleineberg, Michael', 'Baillot, Anne', 'Kaden, Ben', 'Chen, Esther', 'Walkowski, Nils-Oliver', 'Schwaderer, Christian', 'Ernst, Thomas', 'Beißwenger, Michael', 'Axel, Herold', 'Harald, Lüngen', 'Angelika, Storrer', 'Borek, Luise', 'Schöch, Christof', 'Thoden, Klaus', 'Casties, Robert', 'Wieneke, Lars', 'Düring, Marten', 'Guido, Daniele', 'Decker, Eric', 'Volkmann, Armin', 'Guth, Matthias', 'Do Dinh, Erik-Lân', 'Gerloff, Malte', 'Núñez, Alexandra', 'Engelhardt, Claudia', 'Kurzawe, Daniel', 'Wuttke, Ulrike', 'Buddenbohm, Stefan', 'Fechner, Martin', 'Körner, Fabian', 'Fischer, Frank', 'Vogel, Andreas', 'Göbel, Mathias', 'Trilcke, Peer', 'Kampkaspar, Dario', 'Kittel, Christopher', 'Frank, Ingo', 'Gehrke, Stefanie', 'Charbonnier, Pauline', 'Eduard, Frunzeanu', 'Mueller, Mathias', 'Dittrich, Andreas', 'Waltl, Gilbert', 'Csillag, Marlene', 'Godler, Katharina', 'Ivanovic, Christine', 'Hörmann, Richard', 'Weiss, Romedius', 'Habicht, Stephanie', 'Hadersbeck, Maximilian', 'Eder, Elisabeth', 'Capsamun, Roman', 'Eichfeldt, Nora', 'Herteis, Simeon', 'Lindinger, Matthias', 'Höps, Raphael', 'Schweter, Stefan', 'Hartmann, Jutta', 'Sauter, Corinna', 'Schole, Gesa', 'Wagner, Wiltrud', 'Gietz, Peter', 'Winkler, Susanne', 'Hastik, Canan', 'Kamocki, Pawel', 'Ketzan, Erik', 'Witt, Andreas', 'Kaßner, Fabian', 'Kischel, André', 'Kleineberg, Michael', 'Kaden, Ben', 'Steyer, Timo', 'Koglin, Lydia', 'Fritz, Steffen', 'Lambertz, Michael', 'Loebel, Jens-Martin', 'Holly, Eva Maria', 'Münnich, Stefan', 'Mederake, Nathalie', 'Blanck, Wiebke', 'Meise, Bianca', 'Schloots, Franziska', 'Meister, Dorothee', 'Müller-Lietzkow, Jörg', 'Wintergrün, Dirk', 'Valleriani, Matteo', 'Lalli, Roberto', 'Neuber, Frederike', 'Pfeil, Patrick', 'Mehner, Caroline', 'Pourtskhvanidze, Zakharia', 'Reimer, Nils', 'Jannidis, Fotis', 'Pielström, Steffen', 'Pernes, Stefan', 'Reger, Isabella', 'Schaßan, Torsten', 'Schöch, Christof', 'von Ehrlich, Isabel', 'Ehrlicher, Hanno', 'Gerstenberg, Annette', 'Kraft, Tobias', 'Rißler-Pipka, Nanette', 'Völker, Harald', 'Mühlschlegel, Ulrike', 'Merz, Dorian', 'Fichtner, Mark', 'Seifert, Sabine', 'Siemund, Melanie', 'Stanicka-Brzezicka, Ksenia', 'Steiner, Elisabeth', 'Koch, Carina', 'Gnadt, Timo', 'Stiller, Juliane', 'Thoden, Klaus', 'Wandl-Vogt, Eveline', 'Barbera, Roberto', 'La Rocca, Guiseppe', 'Calanducci, Antonio', 'Kalman, Tibor', 'Windhager, Florian', 'Schreder, Günther', 'Smuc, Michael', 'Mayr, Eva', 'Wissik, Tanja', 'Durco, Matej', 'Zinsmeister, Heike', 'Barbaresi, Adrien', 'Blank, Daniel', 'Henrich, Andreas', 'Busch, Hannah', 'Chandna, Swati', 'Tonne, Danah', 'Celia, Krause', 'Philipp, Vanscheidt', 'Schmid, Oliver', 'Czeitschner, Ulrike', 'Declerck, Thierry', 'Draxler, Christoph', 'Schiel, Florian', 'Reichel, Uwe', 'Kisler, Thomas', 'Fankhauser, Peter', 'Grabsch, Sascha', 'Jürgens, Marco', 'Hellrich, Johannes', 'Hahn, Udo', 'Hinrichs, Marie', 'Coltekin, Cagri', 'Hoenen, Armin', 'Jänicke, Stefan', 'Efer, Thomas', 'Blumenstein, Judith', 'Wöckener-Gade, Eva', 'Schubert, Charlotte', 'Scheuermann, Gerik', 'Kuczera, Andreas', 'Kuhn, Jonas', 'Alexiadou, Artemis', 'Braun, Manuel', 'Ertl, Thomas', 'Holtz, Sabine', 'Kantner, Cathleen', 'Misselhorn, Catrin', 'Pado, Sebastian', 'Richter, Sandra', 'Stein, Achim', 'Zittel, Claus', 'Müller, Lars', 'Müller-Birn, Claudia', 'Breitenfeld, Andre', 'Rafiyenko, Dariya', 'Trevisan, Bianka', 'Reimer, Eva', 'Digmayer, Claas', 'Ullrich, Anna Valentine', 'Jakobs, Eva-Maria', 'Schmidt, Thomas', 'Schopper, Daniel', 'Pirgruber, Reinhard', 'Jursa, Michael', 'Stange, Jan-Erik', 'Wettlaufer, Jörg', 'Tech, Maike', 'Naegle, Sibylle', 'Zhekova, Desislava', 'Krefeld, Thomas', 'Herteis, Simeon', 'Zimmermann, Heiko', 'Fischer, Peter M.', 'Diewald, Nils', 'Kupietz, Marc', 'Witt, Andreas', 'Weichselbaumer, Nikolaus', 'Christlein, Vincent', 'Wagner, Andreas', 'Caesar, Ingo', 'Blessing, Andre', 'Bockwinkel, Peggy', 'Reiter, Nils', 'Willand, Marcus', 'Stotz, Sophia', 'Geierhos, Michaela', 'Zhekova, Desislava', 'Mikhaylova, Alena', 'Butt, Miriam', 'Heyer, Gerhard', 'Holzinger, Katharina', 'Kantner, Cathleen', 'Keim, Daniel A.', 'Kuhn, Jonas', 'Schaal, Gary', 'Blessing, André', 'Dumm, Sebastian', 'El-Assady, Mennatallah', 'Gold, Valentin', 'Hautli-Janisz, Annette', 'Lemke, Matthias', 'Müller, Maike', 'Niekler, Andreas', 'Overbeck, Maximilian', 'Wiedemann, Gregor', 'Evert, Stefan', 'Jannidis, Fotis', 'Dimpel, Friedrich Michael', 'Schöch, Christof', 'Pielström, Steffen', 'Vitt, Thorsten', 'Reger, Isabella', 'Büttner, Andreas', 'Proisl, Thomas', 'Schelbert, Georg', 'Hohmann, Georg', 'Kuroczyński, Piotr', 'Raspe, Martin', 'Greulich, Markus', 'Oberthür, Simon', 'Karthaus, Nicola', 'Schmidt, Ariane', 'Wilk, Nicole M.', 'Stog, Kristina', 'Senft, Björn', 'Wagner, Benno', 'Mehler, Alexander', 'Biber, Hanno', 'Bamberg, Claudia', 'Jochen, Strobel', 'Bogacz, Bartosz', 'Mara, Hubert', 'Bubenhofer, Noah', 'Dieckmann, Lisa', 'Bell, Peter', 'Dunst, Alexander', 'Hartel, Rita', 'Fiedler, Maik', 'Weiß, Andreas', 'Heuwing, Ben', 'Schnober, Carsten', 'Göbel, Mathias', 'Meiners, Hanna-Lena', 'Gauer, Isabelle', 'Hamann, Hanjo', 'Vogel, Friedemann', 'Hannesschläger, Vanessa', 'Gradmann, Stefan', 'Hennicke, Steffen', 'Tschumpel, Gerold', 'Dill, Kristin', 'Thoden, Klaus', 'Pichler, Alois', 'Morbindoni, Christian', 'Stiller, Juliane', 'Herrmann, J. Berenike', 'Lauer, Gerhard', 'Heßbrüggen-Walter, Stefan', 'Ivanovic, Christine', 'Frank, Andrew U.', 'Laubrock, Jochen', 'Hohenstein, Sven', 'Thoß, Alexander', 'Müller-Birn, Claudia', 'Schlegel, Alexa', 'Baillot, Anne', 'Klawitter, Jana', 'Münster, Sander', 'Niebling, Florian', 'McIsaac, Peter', 'Jamin, Sugih', 'Ibanez, Ines', 'Singer, Oskar', 'Bray, Benjamin', 'Meißner, Cordula', 'Wallner, Franziska', 'Mihm, Melanie', 'Neubauer, Susanne', 'Normann, Immanuel', 'Rau, Felix', 'Blumtritt, Jonathan', 'Roeder, Torsten', 'Scheuermann, Leif', 'Scholz, Martin', 'Goerz, Guenther', 'Wagner, Sarah', 'Fichtner, Mark', 'Specht, Sebastian', 'Hanewinkel, Christian', 'Koslitz, Sebastian', 'Steller, Heike', 'Vogel, Friedemann', 'Kittelmann, Jana', 'Wernhard, Christoph', 'Zirker, Angelika', 'Bauer, Matthias', 'Alscher, Stefan', 'Bender, Michael', 'John, Markus', 'Müller, Andreas', 'Richter, Sandra', 'Rapp, Andrea', 'Ertl, Thomas', 'Koch, Steffen', 'Kuhn, Jonas', 'Boenig, Matthias', 'Würzner, Kay-Michael', 'Binder, Arne', 'Springmann, Uwe', 'Bohl, Benjamin W.', 'Berndt, Axel, Dr.', 'Senft, Björn', 'Burghardt, Manuel', 'Wolff, Christian', 'Goldhahn, Dirk', 'Eckart, Thomas', 'Heyer, Gerhard', 'Gradl, Tobias', 'Lordick, Harald', 'Henrich, Andreas', 'Gradl, Tobias', 'Henrich, Andreas', 'Hellwig, Oliver', 'Petersen, Wiebke', 'Jacke, Janina', 'Gius, Evelyn', 'Krug, Markus', 'Jannidis, Fotis', 'Reger, Isabella', 'Macharowsky, Luisa', 'Weimer, Lukas', 'Puppe, Frank', 'Jurish, Bryan', 'Geyken, Alexander', 'Werneke, Thomas', 'Kaufmann, Sascha', 'Andrews, Tara Lee', 'Lauer, Gerhard', 'Mattner, Cosima', 'Herrmann, Berenike', 'Hedeland, Hanna', 'Lehmberg, Timm', 'Wagner-Nagy, Beata', 'Lengyel, Dominik', 'Toulouse, Catherine', 'Meindl, Claudia', 'Rausch, Alexandre', 'Ourednik, André', 'Nellen, Stefan', 'Fleer, Peter', 'Schütz, Susanne', 'Pöckelmann, Marcus', 'Hettinger, Lena', 'Reger, Isabella', 'Jannidis, Fotis', 'Hotho, Andreas', 'Rißler-Pipka, Nanette', 'Rüdiger, Jan Oliver', 'Fandrych, Christian', 'Frick, Elena', 'Hedeland, Hanna', 'Iliash, Anna', 'Jettka, Daniel', 'Meißner, Cordula', 'Schmidt, Thomas', 'Wallner, Franziska', 'Weigert, Kathrin', 'Schrade, Torsten', 'Schöch, Christof', 'Henny, Ulrike', 'Calvo, José', 'Schlör, Daniel', 'Popp, Stefanie', 'Bodomo, Adams', 'Wandl-Vogt, Eveline', 'Mörth, Karlheinz', 'Streiter, Oliver', 'Stiller, Juliane', 'Thoden, Klaus', 'Zielke, Dennis', 'Thomas, Christian', 'Trilcke, Peer', 'Fischer, Frank', 'Göbel, Mathias', 'Kampkaspar, Dario', 'Vertan, Cristina', 'Ellwardt, Andreas', 'Hummerl, Susanne', 'von Lupin, Martin', 'Geuder, Philipp', 'Leidinger, Marie-Claire', 'Schröder, Tobias', 'Dörk, Marian', 'Blanken, Christine', 'Rettinghaus, Klaus', 'Siegert, Christine', 'Dubowy, Norbert', 'Schwinger, Tobias', 'Muehlberger, Guenter', 'Christlein, Vincent', 'Stadler, Peter', 'Schildt, Maria', 'Wiermann, Barbara', 'Schmidt, Frieder', 'Schneider, Dietmar', 'Hausmann, Christiane', 'Morgenstern, Anja', 'Wollny, Peter', 'Kupferschmidt, Jens', 'Bärwald, Manuel', 'König, Mareike', 'Baillot, Anne', 'Kessels, Geert', 'van Bree, Pim', 'Odebrecht, Carolin', 'Lüdeling, Anke', 'Dreyer, Malte', 'Zielke, Dennis', 'Bögel, Thomas', 'Gius, Evelyn', 'Petris, Marco', 'Strötgen, Jannik', 'Recker-Hamm, Ute', 'Schneider, Matthias', 'Schrade, Torsten', 'Kuczera, Andreas', 'Kollatz, Thomas', 'Sievers, Martin', 'Vanscheidt, Philipp', 'Rapp, Andrea', 'Schmid, Oliver', 'Schmunk, Stefan', 'Kollatz, Thomas', 'Feige, Tillmann', 'González, Alicia', 'Prager, Christian', 'Vertan, Cristina', 'Werwick, Heiko', 'Piotrowski, Michael', 'Schomaker, Lambert', 'Horstmann, Wolfram', 'Burch, Thomas', 'Hodel, Tobias', 'Hohmann, Georg', 'Schmidt, Antje', 'Doppelbauer, Regina', 'Rehbein, Malte', 'Kurmann, Eliane', 'Baumann, Jan', 'Natale, Enrico', 'Kuroczyński, Piotr', 'Stanicka-Brzezicka, Ksenia', 'Fichtl, Barbara', 'Köhler, Werner', 'Brahaj, Armand', 'Fichtner, Mark', 'Niebling, Florian', 'Münster, Sander', 'Friedrichs, Kristina', 'Henze, Frank', 'Kröber, Cindy', 'Bruschke, Jonas', 'Noyer, Frédéric', 'Willand, Marcus', 'Trilcke, Peer', 'Schöch, Christof', 'Rißler-Pipka, Nanette', 'Reiter, Nils', 'Fischer, Frank', 'Seltmann, Melanie', 'Wandl-Vogt, Eveline', 'Dorn, Amelie', 'Fless, Friederike', 'Seele, Peter', 'Süsstrunk, Sabine', 'Baillot, Anne', 'Busch, Anna', 'Puren, Marie', 'Mertens, Mike', 'Romary, Laurent', 'Baumann, Jan', 'Kurmann, Eliane', 'Natale, Enrico', 'Breitenbücher, Uwe', 'Barzen, Johanna', 'Falkenthal, Michael', 'Leymann, Frank', 'Bürgermeister, Martina', 'Vogeler, Georg', 'Burghardt, Manuel', 'Spanner, Sebastian', 'Schmidt, Thomas', 'Fuchs, Florian', 'Buchhop, Katia', 'Nickl, Miriam', 'Wolff, Christian', 'Döhling, Lars', 'Burghardt, Manuel', 'Wolff, Christian', 'Druskat, Stephan', 'Eder, Elisabeth', 'Hadersbeck, Maximilian', 'Dufner, Matthias', 'Kunz, Axel', 'Klammt, Anne', 'Grumt Suárez, Holger', 'Karlova-Bourbonus, Natali', 'Lobin, Henning', 'Hegel, Philipp', 'Tonne, Danah', 'Geukes, Albert', 'Krewet, Michael', 'Rapp, Andrea', 'Stotzka, Rainer', 'Uhlmann, Gyburg', 'Hellrich, Johannes', 'Matthies, Franz', 'Hahn, Udo', 'Hermes, Jürgen', 'Hoffmann, Moritz', 'Eide, Øyvind', 'Geduldig, Alena', 'Schildkamp, Philip', 'Hohenstein, Sven', 'Laubrock, Jochen', 'Vogeler, Georg', 'Klugseder, Robert', 'Klug, Helmut W.', 'Steiner, Christian', 'Raunig, Elisabeth', 'Kuczera, Andreas', 'Laubrock, Jochen', 'Richter, Eike', 'Hohenstein, Sven', 'Schlögl, Matthias', 'Lejtovicz, Katalin', 'Mathiak, Brigitte', 'Kronenwett, Simone', 'Odebrecht, Carolin', 'Dreyer, Malte', 'Lüdeling, Anke', 'Krause, Thomas', 'Peukert, Hagen', 'Jannidis, Fotis', 'Pielström, Steffen', 'Schöch, Christof', 'Vitt, Thorsten', 'Kath, Roxana', 'Keilholz, Franz', 'Klinker, Fabian', 'Pöckelmann, Marcus', 'Rücker, Michaela', 'Švitek, Mihael', 'Wöckener-Gade, Eva', 'Yu, Xiaozhou', 'Lauscher, Anne', 'Nanni, Federico', 'Ponzetto, Simone Paolo', 'Krug, Markus', 'Wick, Christoph', 'Jannidis, Fotis', 'Reger, Isabella', 'Weimer, Lukas', 'Madarasz, Nathalie', 'Puppe, Frank', 'Riechert, Thomas', 'Beretta, Francesco', 'Schäuble, Joshua', 'Crowley, Ronan', 'Schelbert, Georg', 'Schulz, Julian', 'Schulz, Daniela', 'Fischer, Franz', 'Geißler, Nils', 'Gödel, Martina', 'Therón, Roberto', 'Dorn, Amelie', 'Seltmann, Melanie', 'Benito, Alejandro', 'Wandl-Vogt, Eveline', 'Gabriel Losada Gómez, Antonio', 'Elwert, Frederik', 'Tabti, Samira', 'Krech, Volkhard', 'Morik, Katharina', 'Pfahler, Lukas', 'van Dyck-Hemming, Annette', 'Wettlaufer, Jörg', 'Johnson, Christopher', 'Wuttke, Ulrike', 'Adrian, Dominik', 'Ott, Carolin', 'Zirker, Angelika', 'Bauer, Matthias', 'Barth, Florian', 'Viehhauser, Gabriel', 'Czmiel, Alexander', 'Daengeli, Peter', 'Zumsteg, Simon', 'Daxenberger, Johannes', 'Görke, Susanne', 'Siahdohoni, Darjush', 'Gurevych, Iryna', 'Prechel, Doris', 'Dimpel, Friedrich Michael', 'Glinka, Katrin', 'Pietsch, Christopher', 'Dörk, Marian', 'Echelmeyer, Nora', 'Reiter, Nils', 'Schulz, Sarah', 'Faßhauer, Vera', 'Jäschke, Robert', 'Strötgen, Jannik', 'Krotova, Elena', 'Fischer, Frank', 'Gius, Evelyn', 'Kleymann, Rabea', 'Meister, Jan Christoph', 'Petris, Marco', 'Goedel, Martina', 'Zimmer, Sebastian', 'Große, Peggy', 'Wagner, Sarah', 'Kasper, Dominik', 'Grüntgens, Max', 'Herrmann, J. Berenike', 'Lauer, Gerhard', 'Lange, Felix', 'Wintergrün, Dirk', 'Wannenwetsch, Oliver', 'Schoepflin, Urs', 'Matschinegg, Ingrid', 'Nicka, Isabella', 'Meise, Bianca', 'Meister, Dorothee', 'Messerschmidt, Reinhard', 'Mathiak, Brigitte', 'Münster, Sander', 'Kuroczyński, Piotr', 'Pfarr-Harfst, Mieke', 'Dieckmann, Lisa', 'Hermes, Jürgen', 'Neuefeind, Claes', 'Pause, Johannes', 'Walkowski, Niels-Oliver', 'Pernes, Stefan', 'Keller, Lennart', 'Peterek, Christoph', 'Jannidis, Fotis', 'Reger, Isabella', 'Zehe, Albin', 'Becker, Martin', 'Hettinger, Lena', 'Hotho, Andreas', 'Rißler-Pipka, Nanette', 'Chandna, Swati', 'Tonne, Danah', 'Schilz, Andrea', 'Schöch, Christof', 'Schrade, Torsten', 'Schumacher, Mareike', 'Snickars, Pelle', 'Thoden, Klaus', 'Wintergrün, Dirk', 'Stiller, Juliane', 'Gnadt, Timo', 'Meiners, Hanna', 'Trilcke, Peer', 'Fischer, Frank', 'Göbel, Mathias', 'Kampkaspar, Dario', 'Kittel, Christopher', 'von Wartburg, Karin', 'Nepfer, Matthias', 'Wagner, Wiltrud', 'Walkowski, Niels-Oliver', 'Windhager, Florian', 'Mayr, Eva', 'Schreder, Günther', 'Wandl-Vogt, Eveline', 'Gruber, Christine', 'Zihlmann, Patricia', 'von Zimmermann, Christian', 'Gradl, Tobias', 'Aschauer, Anna', 'Dogunke, Swantje', 'Klaffki, Lisa', 'Schmunk, Stefan', 'Steyer, Timo', 'Hannesschläger, Vanessa', 'Losehand, Joachim', 'Kamocki, Paweł', 'Scholger, Walter', 'Witt, Andreas', 'Amini, Seyavash', 'Hodel, Tobias', 'Lang, Eva-Maria', 'Fiel, Stefan', 'Johnson, Christopher', 'Wettlaufer, Jörg', 'Kampkaspar, Dario', 'Andorfer, Peter', 'Baumgarten, Marcus', 'Steyer, Timo', 'Kollatz, Thomas', 'Hegel, Philipp', 'Veentjer, Ubbo', 'Söring, Sibylle', 'Funk, Stefan E.', 'Pohl, Oliver', 'Schrade, Torsten', 'Reiter, Nils', 'Blessing, Andre', 'Echelmeyer, Nora', 'Koch, Steffen', 'Kremer, Gerhard', 'Murr, Sandra', 'Overbeck, Maximilian', 'Pichler, Axel', 'Althof, Daniel', 'Andorfer, Peter', 'Karner, Stefan', 'Andresen, Melanie', 'Arnold, Eckhart', 'Aschauer, Anna', 'Büchler, Marco', 'Gradl, Tobias', 'Henrich, Andreas', 'Barabucci, Gioele', 'Barzen, Johanna', 'Blumtritt, Jonathan', 'Breitenbücher, Uwe', 'Kronenwett, Simone', 'Leymann, Frank', 'Mathiak, Brigitte', 'Neuefeind, Claes', 'Beck, Jens', 'Willand, Marcus', 'Reiter, Nils', 'Bigalke, Ben', 'Drach, Sviatoslav', 'Henny-Krahmer, Ulrike', 'Sepúlveda, Pedro', 'Theisen, Christian', 'Blanken, Christine', 'Rettinghaus, Klaus', 'Blessing, Andre', 'Kuczera, Andreas', 'Blumtritt, Jonathan', 'Rau, Felix', 'Boenig, Matthias', 'Federbusch, Maria', 'Herrmann, Elisa', 'Neudecker, Clemens', 'Würzner, Kay-Michael', 'Bruder, Daniel', 'Teufel, Simone', 'Brunner, Annelen', 'Engelberg, Stefan', 'Jannidis, Fotis', 'Tu, Ngoc Duyen Tanja', 'Weimer, Lukas', 'Bubenhofer, Noah', 'Burckhardt, Daniel', 'Menny, Anna', 'Burghardt, Manuel', 'Heftberger, Adelheid', 'Müller-Birn, Claudia', 'Pause, Johannes', 'Walkowski, Niels-Oliver', 'Zeppelzauer, Matthias', 'Sippl, Colin', 'Fuchs, Florian', 'Burghardt, Manuel', 'Burr, Elisabeth', 'Fußbahn, Ulrike', 'Busch, Hannah', 'Bös, Eva', 'Börner, Ingo', 'Fischer, Frank', 'Hechtl, Angelika', 'Jäschke, Robert', 'Trilcke, Peer', 'Böttger, Lucie', 'Zeckey, Alexander', 'Langner, Martin', 'Bürgermeister, Martina', 'Schneider, Gerlinde', 'Makowski, Stephan', 'Jeller, Daniel', 'Bigalke, Jan', 'Theisen, Christian', 'Vogeler, Georg', 'Chiarcos, Christian', 'Donandt, Kathrin', 'Ionov, Maxim', 'Rind-Pawlowski, Monika', 'Sargsian, Hasmik', 'Wichers Schreur, Jesse', 'Czmiel, Alexander', 'Grabsch, Sascha', 'Jürgens, Marco', 'Maiwald, Anke', 'Willenborg, Josef', 'Dahnke, Michael', 'Declerck, Thierry', 'Aman, Anastasija', 'Grünewald, Stefan', 'Lindemann, Matthias', 'Schäfer, Lisa', 'Skachkova, Natalia', 'Dimpel, Friedrich Michael', 'Donig, Simon', 'Christoforaki, Maria', 'Bermeitinger, Bernhard', 'Handschuh, Siegfried', 'Donig, Simon', 'Handschuh, Siegfried', 'Radisch, Erik', 'Rehbein, Malte', 'Hastik, Canan', 'Kohle, Hubertus', 'Ommer, Björn', 'Druskat, Stephan', 'Vertan, Cristina', 'Dumont, Stefan', 'Dunst, Alexander', 'Hartel, Rita', 'Mellmann, Katja', 'Du, Keli', 'Forney, Christian', 'Rojas Castro, Antonio', 'Dängeli, Peter', 'Dörk, Marian', 'Glinka, Katrin', 'Wieners, Jan', 'Schubert, Zoe', 'Eide, Øyvind', 'Ernst, Thomas', 'Fechner, Martin', 'Fichtner, Mark', 'Faynberg, Veronika', 'Fischer, Frank', 'Lashchuk, Svetlana', 'Orlova, Tatyana', 'Palchikov, German', 'Shlosman, Evgenia', 'Fischer, Frank', 'Jäschke, Robert', 'Frank, Ingo', 'Franzini, Greta', 'Fischer, Franz', 'Kestemont, Mike', 'Friedrichs, Kristina', 'Münster, Sander', 'Niebling, Florian', 'Maiwald, Ferdinand', 'Bruschke, Jonas', 'Barthel, Kristina', 'Garcés, Juan', 'Bräuer, Johannes', 'Gerhards, Simone', 'Gülden, Svenja A.', 'Konrad, Tobias', 'Leuk, Michael', 'Verhoeven-van Elsbergen, Ursula', 'Rapp, Andrea', 'Adelmann, Benedikt', 'Andresen, Melanie', 'Begerow, Anke', 'Gaidys, Uta', 'Gius, Evelyn', 'Koch, Gertraud', 'Menzel, Wolfgang', 'Orth, Dominik', 'Topp, Sebastian', 'Vauth, Michael', 'Zinsmeister, Heike', 'Wagner, Andreas', 'Glück, David', 'Bosse, Anke', 'Fanta, Walter', 'Godler, Katharina', 'Brüning, Gerrit', 'Boelderl, Artur', 'Goedel, Martina', 'Zimmer, Sebastian', 'Schmidt, Johannes', 'Romanello, Matteo', 'Gradl, Tobias', 'Gronemeyer, Sven', 'Diehr, Franziska', 'Prager, Christian', 'Diederichs, Katja', 'Wagner, Elisabeth', 'Brodhun, Maximilian', 'Grube, Nikolai', 'Hamisch, Juliane', 'Große, Peggy', 'Haaf, Susanne', 'Hannesschläger, Vanessa', 'Andorfer, Peter', 'Heckelen, Malte', 'Helling, Patrick', 'Mathiak, Brigitte', 'Hellrich, Johannes', 'Stöger, Alexander', 'Hahn, Udo', 'Henny-Krahmer, Ulrike', 'Betz, Katrin', 'Schlör, Daniel', 'Hotho, Andreas', 'Herrmann, J. Berenike', 'Heßbrüggen-Walter, Stefan', 'Hiebert, Matthew', 'Lässig, Simone', 'Witt, Andreas', 'Hodel, Tobias', 'Strauß, Tobias', 'Diem, Markus', 'Hodel, Tobias', 'Hoenen, Armin', 'Samushia, Lela', 'Hoffmann, Christoph', 'Homburg, Timo', 'Hug, Marius', 'Jacke, Janina', 'Horstmann, Jan', 'Meister, Jan Christoph', 'Kamocki, Pawel', 'Ketzan, Erik', 'Wildgans, Julia', 'Witt, Andreas', 'Kamocki, Pawel', 'Ketzan, Erik', 'Wildgans, Julia', 'Witt, Andreas', 'Kessler, Linda', 'Braun, Tamara', 'Preuß, Tanja', 'Klaffki, Lisa', 'Steyer, Timo', 'Klemstein, Franziska', 'Kleymann, Rabea', 'Meister, Jan Christoph', 'Stange, Jan-Erik', 'Barth, Florian', 'Kim, Evgeny', 'Murr, Sandra', 'Klinger, Roman', 'Braun, Manuel', 'Klinger, Roman', 'Padó, Sebastian', 'Viehhauser, Gabriel', 'Knoth, Alexander', 'Stede, Manfred', 'Hägert, Erik', 'Koch, Carina', 'Jannidis, Fotis', 'Konle, Leonard', 'Zehe, Albin', 'Hotho, Andreas', 'Krug, Markus', 'Haas, Gabriele', 'Koumpis, Adamantios', 'Handschuh, Siegfried', 'Krämer, Sybille', 'Krautter, Benjamin', 'Gálffy, Andreas', 'Kamphausen, Julian', 'Kronenwett, Simone', 'Wieners, Jan G.', 'Krug, Markus', 'Tu, Ngoc Duyen Tanja', 'Weimer, Lukas', 'Reger, Isabella', 'Konle, Leonard', 'Jannidis, Fotis', 'Puppe, Frank', 'Kröger, Bärbel', 'Popp, Christian', 'Laubrock, Jochen', 'Dubray, David', 'Krügel, André', 'Lauer, Gerhard', 'Hess, Jan', 'Lebherz, Daniel', 'Zeyen, Christian', 'Lindemann, David', 'Kliche, Fritz', 'Kutzner, Kristin', 'Loebel, Jens-Martin', 'Hahn, Carolin', 'Lordick, Harald', 'Mache, Beata', 'Löcker-Herschkowitz, Johannes A.', 'Wagner, Christian', 'Wodausch, David', 'Fiedler, Maik', 'Heuwing, Ben', 'Mandl, Thomas', 'Caria, Federico', 'Mathiak, Brigitte', 'Mayr, Eva', 'Schreder, Günther', 'Windhager, Florian', 'Moeller, Katrin', 'Ďurčo, Matej', 'Ebert, Barbara', 'Lemaire, Marina', 'Rosenthaler, Lukas', 'Sahle, Patrick', 'Wuttke, Ulrike', 'Wettlaufer, Jörg', 'Moeller, Katrin', 'Mondaca, Francisco', 'Rolshoven, Jürgen', 'Schildkamp, Philip', 'Vogt, Andreas', 'Müller, Andreas', 'Müller-Birn, Claudia', 'Schelbert, Georg', 'Raspe, Martin', 'Wübbena, Thorsten', 'Münster, Sander', 'Christen, Jonas', 'Pfarr-Harfst, Mieke', 'Münster, Sander', 'Barthel, Kristina', 'Bruschke, Jonas', 'Friedrichs, Kristina', 'Kröber, Cindy', 'Maywald, Ferdinand', 'Niebling, Florian', 'Nasarek, Robert', 'Moeller, Katrin', 'Neovesky, Anna', 'von Vlahovits, Frederic', 'Neuber, Frederike', 'Henny-Krahmer, Ulrike', 'Sahle, Patrick', 'Fischer, Franz', 'Reinöhl, Uta', 'Kölligan, Daniel', 'Kiss, Börge', 'Mondaca, Francisco', 'Neuefeind, Claes', 'Sahle, Patrick', 'Odebrecht, Carolin', 'Krause, Thomas', 'Guescini, Rolf', 'Kühnlenz, Frank', 'Lüdeling, Anke', 'Dreyer, Malte', 'Pfeiffer, Jasmin', 'Simmler, Severin', 'Vitt, Thorsten', 'Pielström, Steffen', 'Jannidis, Fotis', 'Kestemont, Mike', 'Pollin, Christopher', 'Vogeler, Georg', 'Proisl, Thomas', 'Evert, Stefan', 'Kath, Roxana', 'Keilholz, Franz', 'Pöckelmann, Marcus', 'Rücker, Michaela', 'Wöckener-Gade, Eva', 'Yu, Xiaozhou', 'Bermeitinger, Bernhard', 'Howanitz, Gernot', 'Radisch, Erik', 'Raunig, Michael', 'Höfler, Elke', 'Köhler, Joachim', 'Leh, Almut', 'Himmelmann, Nikolaus', 'Rau, Felix', 'Salgaro, Massimo', 'Rebora, Simone', 'Lauer, Gerhard', 'Herrmann, J. Berenike', 'Reiter, Nils', 'Ketschik, Nora', 'Kremer, Gerhard', 'Schulz, Sarah', 'Gius, Evelyn', 'Reiter, Nils', 'Strötgen, Jannik', 'Willand, Marcus', 'Resch, Claudia', 'Kampkaspar, Dario', 'Schopper, Daniel', 'Roeder, Torsten', 'Rolshoven, Jürgen', 'Etimi, Valmir', 'Seipel, Peter', 'Wiehe, Thomas', 'Ruiz Fabo, Pablo', 'Martínez Cantón, Clara', 'Calvo Tello, José', 'Rüdiger, Jan Oliver', 'Schaßan, Torsten', 'Schilz, Andrea', 'Schlesinger, Claus-Michael', 'Nantke, Julia', 'Schlupkothen, Frederik', 'Schlögl, Matthias', 'Bernád, Ágoston', 'Kaiser, Maximilian', 'Lejtovicz, Katalin', 'Rumpolt, Peter', 'Schmidt, Thomas', 'Burghardt, Manuel', 'Dennerlein, Katrin', 'Hannesschläger, Vanessa', 'Kamocki, Pawel', 'Scholger, Walter', 'Scholz, Martin', 'Wagner, Sarah', 'Wagner, Sarah', 'Scholz, Martin', 'Andraschke, Udo', 'Schrade, Torsten', 'Czmiel, Alexander', 'Druskat, Stephan', 'Schubert, Charlotte', 'Kahl, Hannes', 'Meins, Friedrich', 'Bräckel, Oliver', 'Schulz, Daniela', 'Vogeler, Georg', 'Schwengelbeck, Isabel', 'Wahl, Dominik', 'Foester, Karl', 'Friedl, Dennis', 'Fluss, Fabian', 'Mersch, Isabelle', 'Voss, Fabian', 'Dröge, Martin', 'Stadler, Peter', 'Voges, Ramon', 'Schöch, Christof', 'Zehe, Albin', 'Calvo Tello, José', 'Hotho, Andreas', 'Aehnlich, Barbara', 'Seidel, Henry', 'Seltmann, Melanie', 'Breuer, Ludwig Maximilian', 'Heinisch, Barbara', 'Sperberg-McQueen, C. Michael', 'Guhr, Svenja', 'Pannach, Franziska', 'Ziehe, Stefan', 'Knauth, Jürgen', 'Kauf, Carina', 'Sporleder, Caroline', 'Stadler, Peter', 'Kepper, Johannes', 'Capelle, Irmlind', 'Oberhoff, Andreas', 'Steiner, Elisabeth', 'Steyer, Timo', 'Dogunke, Swantje', 'Mayer, Corinna', 'Neumann, Katrin', 'Cremer, Fabian', 'Wübbena, Thorsten', 'Strobel, Jochen', 'Bürger, Thomas', 'Pfahler, Lukas', 'Elwert, Frederik', 'Tabti, Samira', 'Morik, Katharina', 'Krech, Volker', 'Sojer, Claudia', 'Tratter, Aaron Rudolf', 'Fischer, Frank', 'Kittel, Christopher', 'Milling, Carsten', 'Trilcke, Peer', 'Wolf, Jana', 'Mache, Beata', 'Trippel, Thorsten', 'Effinger, Maria', 'Gradl, Tobias', 'Haaf, Susanne', 'Hinrichs, Erhard', 'Horstmann, Wolfram', 'Müller, Lydia', 'Schrade, Torsten', 'Teich, Elke', 'Ullrich, Sabine', 'Bruder, Daniel', 'Hadersbeck, Maximilian', 'Vertan, Cristina', 'von Hahn, Walther', 'Windhager, Florian', 'Glinka, Katrin', 'Mayr, Eva', 'Schreder, Günther', 'Dörk, Marian', 'Wissik, Tanja', 'Krek, Simon', 'Jakubicek, Milos', 'Tiberius, Carole', 'Navigli, Roberto', 'McCrae, John', 'Tasovac, Toma', 'Varadi, Tamas', 'Koeva, Svetla', 'Costa, Rute', 'Kernerman, Ilan', 'Monachini, Monica', 'Trap-Jensen, Lars', 'Pedersen, Bolette S.', 'Hildenbrandt, Vera', 'Kallas, Jelena', 'Porta-Zamorano, Jordi', 'Wissik, Tanja', 'Resch, Claudia', 'Zirker, Angelika', 'Zirker, Angelika', 'Bauer, Matthias', 'Kirchhoff, Leonie', 'Lahrsow, Miriam', 'Kuczera, Andreas', 'Martin, Fechner', 'Kleymann, Rabea', 'Seemann, Nina', 'Merten, Marie-Luis', 'Hodel, Tobias', 'Diem, Markus', 'Oliveira Ares, Sofia', 'Weidemann, Max', 'Wehrheim, Lino', 'Steyer, Timo', 'Neumann, Katrin', 'Seltmann, Melanie', 'Walter, Scholger', 'Bäumer, Frederik Simon', 'Buff, Bianca', 'Geierhos, Michaela', 'Helm, Wiebke', 'Im, Chanjong', 'Mandl, Thomas', 'Schmideler, Sebastian', 'Calvo Tello, José', 'Wuttke, Ulrike', 'Neuroth, Heike', 'Schaßan, Torsten', 'Baumgarten, Marcus', 'Steyer, Timo', 'Fricke-Steyer, Henrike', 'Iglesia, Martin de la', 'Kampkaspar, Dario', 'Klaffki, Lisa', 'Parlitz, Dietrich', 'Reul, Christian', 'Springmann, Uwe', 'Wick, Christoph', 'Puppe, Frank', 'Schneider, Stefanie', 'Kohle, Hubertus', 'Burg, Severin', 'Küchenhoff, Helmut', 'Meyer, Nils', 'Rössel, Julia', 'Maus, David', 'Bald, Markus', 'Damiani, Vincenzo', 'Essler, Holger', 'Eyeselein, Björn', 'Reul, Christian', 'Puppe, Frank', 'Hall, Mark', 'Howanitz, Gernot', 'Radisch, Erik', 'Decker, Jan-Oliver', 'Rehbein, Malte', 'Schmidt, Thomas', 'Blumtritt, Jonathan', 'Hedeland, Hanna', 'Gorisch, Jan', 'Rau, Felix', 'Wörner, Kai', 'Batinic, Josip', 'Frick, Elena', 'Gasch, Joachim', 'Schmidt, Thomas', 'Brunner, Annelen', 'Weimer, Lukas', 'Tu, Ngoc Duyen Tanja', 'Engelberg, Stefan', 'Jannidis, Fotis', 'Geelhaar, Tim', 'Zimmer, Sebastian', 'Gödel, Martina', 'Persch, Dana', 'Donig, Simon', 'Christoforaki, Maria', 'Bermeitinger, Bernhard', 'Handschuh, Siegfried', 'Tu, Ngoc Duyen Tanja', 'Krug, Markus', 'Brunner, Annelen', 'Horstmann, Jan', 'Meister, Jan Christoph', 'Petris, Marco', 'Schumacher, Mareike', 'Hoenen, Armin', 'Schneider, Stefanie', 'Rittershaus, David', 'Kuroczyński, Piotr', 'Brandt, Julia', 'Jara, Karolina', 'Grosse, Peggy', 'Klaus, Carsten', 'Fankhauser, Peter', 'Klakow, Dietrich', 'Krug, Markus', 'Kempf, Sebastian', 'David, Schmidt', 'Lukas, Weimer', 'Frank, Puppe', 'Fischer, Frank', 'Börner, Ingo', 'Göbel, Mathias', 'Hechtl, Angelika', 'Kittel, Christopher', 'Milling, Carsten', 'Trilcke, Peer', 'Willand, Marcus', 'Gius, Evelyn', 'Reiter, Nils', 'Meißner, Cordula', 'Wallner, Franziska', 'Toschka, Patrick', 'Laubrock, Jochen', 'Dubray, David', 'Pattee, Aaron', 'Kuczera, Andreas', 'Volkmann, Armin', 'Prager, Christian', 'Mara, Hubert', 'Bogacz, Bartosz', 'Feldmann, Felix', 'Messemer, Heike', 'Baillot, Anne', 'Wottawa, Jane', 'Barrault, Loïc', 'Bougares, Fethi', 'Dewitz, Leyla', 'Münster, Sander', 'Niebling, Florian', 'Prell, Martin', 'Althof, Daniel', 'Dogunke, Swantje', 'Steyer, Timo', 'Jannidis, Fotis', 'Konle, Leonard', 'Leinen, Peter', 'Scherl, Magdalena', 'Unold, Martin', 'Homburg, Timo', 'Kremer, Gerhard', 'Jung, Kerstin', 'Neuefeind, Claes', 'Schildkamp, Philip', 'Mathiak, Brigitte', 'Harzenetter, Lukas', 'Barzen, Johanna', 'Breitenbücher, Uwe', 'Leymann, Frank', 'Andorfer, Peter', 'Cremer, Fabian', 'Steyer, Timo', 'Müller, Andreas', 'Schlupkothen, Frederik', 'Nantke, Julia', 'Kesselheim, Wolfgang', 'Hottiger, Christoph', 'Kurz, Stephan', 'Zaytseva, Ksenia', 'Gius, Evelyn', 'Katharina, Krüger', 'Carla, Sökefeld', 'Mehler, Alexander', 'Uslu, Tolga', 'Gleim, Rüdiger', 'Baumartz, Daniel', 'Diehr, Franziska', 'Brodhun, Maximilian', 'Kuczera, Andreas', 'Kollatz, Thomas', 'Wübbena, Thorsten', 'Efer, Thomas', 'Dimpel, Friedrich', 'Proisl, Thomas', 'Meyer, Peter', 'Adelmann, Benedikt', 'Franken, Lina', 'Gius, Evelyn', 'Krüger, Katharina', 'Vauth, Michael', 'Hohmann, Georg', 'Geipel, Andrea', 'Henkensiefken, Claus', 'Tonne, Danah', 'Götzelmann, Germaine', 'Hegel, Philipp', 'Krewet, Michael', 'Hübner, Julia', 'Söring, Sibylle', 'Löffler, Andreas', 'Hitzker, Michael', 'Höfler, Markus', 'Schmidt, Timo', 'Schulz, Julian', 'Mühleder, Peter', 'Hoffmann, Tracy', 'Rämisch, Florian', 'Lorenz, Anne Katrin', 'Müller-Dannhausen, Lea', 'Trautmann, Marjam', 'Druskat, Stephan', 'Rockenberger, Annika', 'Pohl, Oliver', 'Marx, Michael', 'Franke, Stefanie', 'Artika, Farah', 'Schnöpf, Markus', 'Mahmutovic, Edin', 'Röhrer, Ines', 'Ullrich, Sabine', 'Hadersbeck, Maximilian', 'König, Mareike', 'Menke, Ulla', 'Pohl, Oliver', 'Dogaru, Teodora', 'Müller-Laackman, Jonas', 'Dunst, Alexander', 'Hartel, Rita', 'Sikora, Uwe', 'Gronemeyer, Sven', 'Diehr, Franziska', 'Wagner, Elisabeth', 'Prager, Christian', 'Brodhun, Maximilian', 'Diederichs, Katja', 'Grube, Nikolai', 'Moeller, Katrin', 'Müller, Andreas', 'Purschwitz, Anne', 'Metzmacher, Katja', 'Helling, Patrick', 'Blumtritt, Jonathan', 'Mathiak, Brigitte', 'Hemati, Wahed', 'Mehler, Alexander', 'Uslu, Tolga', 'Abrami, Giuseppe', 'Wachter, Christian', 'Schlör, Daniel', 'Veseli, Blerta', 'Hotho, Andreas', 'Burghardt, Manuel', 'Meyer, Selina', 'Schmidtbauer, Stephanie', 'Molz, Johannes', 'Pagenstecher, Cord', 'Müller-Laackman, Jonas', 'Dumont, Stefan', 'Grabsch, Sascha', 'Abrami, Giuseppe', 'Spiekermann, Christian', 'Mehler, Alexander', 'Guhr, Svenja', 'Varachkina, Hanna', 'Lee, Geumbi', 'Sporleder, Caroline', 'Bürgermeister, Martina', 'Bartz, Gabriele', 'Gneiß, Markus', 'Ziehe, Stefan', 'Sporleder, Caroline', 'Stuber, Martin', 'Dängeli, Peter', 'Forney, Christian', 'Koch, Gertraud', 'Franken, Lina', 'Wettlaufer, Jörg', 'Kilincoglu, Deniz', 'Wettlaufer, Jörg', 'Ziehe, Stefan', 'Mandalka, Markus', 'Seltmann, Melanie E.-H.', 'Krautter, Benjamin', 'Pagel, Janis', 'Dumont, Stefan', 'Haaf, Susanne', 'Henny-Krahmer, Ulrike', 'Krautter, Benjamin', 'Neuber, Frederike', 'Diehr, Franziska', 'Glinka, Katrin', 'Görz, Günther', 'Seidl, Chiara', 'Thiering, Martin', 'König, Mareike', 'Schaeben, Marcel', 'El Khatib, Randa', 'Toscano, Roberta', 'Schwappach, Florin', 'Burghardt, Manuel', 'Vauth, Michael', 'Burghardt, Manuel', 'Pause, Johannes', 'Walkowski, Niels-Oliver', 'Rettinghaus, Klaus', 'Severin, Simmler', 'Thorsten, Vitt', 'Pielström, Steffen', 'Busch, Anna', 'Bludau, Mark-Jan', 'Brüggemann, Viktoria', 'Dörk, Marian', 'Genzel, Kristina', 'Möller, Klaus-Peter', 'Seifert, Sabine', 'Trilcke, Peer', 'Götzelmann, Germaine', 'Wagner, Andreas', 'Bragagnolo, Manuela', 'Türkoglu, Enes', 'Vitt, Thorsten', 'Brüning, Gerrit', 'Pravida, Dietmar', 'Wissenbach, Moritz', 'Fritze, Christiane', 'Fischer, Franz', 'Vogeler, Georg', 'Schnöpf, Markus', 'Scholger, Martina', 'Sahle, Patrick', 'Nasarek, Robert', 'Müller, Andreas', 'Boenig, Matthias', 'Herrmann, Elisa', 'Hartmann, Volker', 'Jarosch, Julian', 'Kuczera, Andreas', 'Schrade, Torsten', 'Yousef, Tariq', 'Blumtritt, Jonathan', 'Rau, Felix', 'Vogeler, Georg', 'Vasold, Gunter', 'Schlögl, Matthias', 'Staecker, Thomas', 'Wigg-Wolf, David', 'Tolle, Karsten', 'Kissinger, Timo', 'Schumacher, Mareike', 'Horstmann, Jan', 'Proisl, Thomas', 'Konle, Leonard', 'Evert, Stefan', 'Jannidis, Fotis', 'Hannesschlaeger, Vanessa', 'Weichselbaumer, Nikolaus', 'Seuret, Mathias', 'Limbach, Saskia', 'Christlein, Vincent', 'Maier, Andreas', 'Hedeland, Hanna', 'Remus, Steffen', 'Ferger, Anne', 'Bührig, Kristin', 'Biemann, Chris', 'Mukhametov, Sergey', 'Kesselheim, Wolfgang', 'Brandenbeger, Christina', 'Gerhards, Donata', 'Hüther, Frank', 'Fricke-Steyer, Henrike', 'Klaffki, Lisa', 'Schlögl, Matthias', 'Andorfer, Peter', 'Scholger, Martina', 'Schüller, Daniel', 'Mittelberg, Irene', 'Uhrig, Peter', 'Kolodzie, Lisa', 'Moisich, Oliver', 'Hartel, Rita', 'Mayr, Eva', 'Windhager, Florian', 'Schreder, Günther', 'Diesner, Jana', 'Flückiger, Barbara', 'Lüschow, Andreas', 'Steyer, Timo', 'Andorfer, Peter', 'Cremer, Fabian', 'Hadersbeck, Maximilian', 'Babl, Florian', 'Eisterhues, Marcel', 'Röhrer, Ines', 'Still, Sebastian', 'Ullrich, Sabine', 'Landes, Florian', 'Lindinger, Matthias', 'Hadersbeck, Maximilian', 'Ullrich, Sabine', 'Still, Sebastian', 'Pichler, Alois', 'Wübbena, Thorsten', 'Neumann, Katrin', 'Cremer, Fabian', 'Nicka, Isabella', 'Hinkelmanns, Peter', 'Landkammer, Miriam', 'Schwembacher, Manuel', 'Zeppezauer-Wachauer, Katharina', 'Dogunke, Swantje', 'Weimer, Lukas', 'Meyer-Sickendiek, Burkhard', 'Baumann, Timo', 'Hussein, Hussein', 'Scholz, Martin', 'Klusik-Eckert, Jacqueline', 'Kremer, Gerhard', 'Jung, Kerstin', 'Hodel, Tobias', 'Howanitz, Gernot', 'Radisch, Erik', 'Roeder, Torsten', 'Rettinghaus, Klaus', 'Landes, Lisa', 'Dinger, Patrick', 'Franken, Lina', 'Wehner, Maximilian', 'Dahnke, Michael', 'Landes, Florian', 'Nasarek, Robert', 'Reul, Christian', 'Albrecht, Jens', 'Lehmann, Robert', 'Freyberg, Linda', 'Heinig, Julia', 'Elwert, Frederik', 'Kröber, Cindy', 'Münster, Sander', 'Messemer, Heike', 'Schmidt, David', 'Krug, Markus', 'Puppe, Frank', 'Eckl, Markus', 'Gassner, Sebastian', 'Ketschik, Nora', 'Krautter, Benjamin', 'Murr, Sandra', 'Pagel, Janis', 'Reiter, Nils', 'Kraft, Anneli', 'Weichselbaumer, Nikolaus', 'Seuret, Mathias', 'Limbach, Saskia', 'Hinrichsen, Lena', 'Maier, Andreas', 'Christlein, Vincent', 'Bernhart, Toni', 'Fischer, Frank', 'Busch, Anna', 'Hechtl, Angelika', 'Trilcke, Peer', 'Vogel, Andreas', 'Ihden, Sarah', 'Horstmann, Jan', 'Jacke, Janina', 'Roller, Ramona', 'Schweitzer, Frank', 'Du, Keli', 'Görz, Günther', 'Seidl, Chiara', 'Thiering, Martin', 'Wuttke, Ulrike', 'Wiedmer, Nathalie', 'Pagel, Janis', 'Reiter, Nils', 'Blumtritt, Jonathan', 'Helling, Patrick', 'Mathiak, Brigitte', 'Neuefeind, Claes', 'Rau, Felix', 'Schildkamp, Philip', 'Wieners, Jan Gerrit', 'Horstmann, Jan', 'Flüh, Marie', 'Petris, Marco', 'Dziudzia, Corinna', 'Hall, Mark', 'Bürgermeister, Martina', 'Holzer, Matthias', 'Nussmüller, Antonia', 'Scheuermann, Leif', 'Sonnberger, Jakob', 'Wick, Christoph', 'Hartelt, Alexander', 'Puppe, Frank', 'Jegan, Robin', 'Gradl, Tobias', 'Henrich, Andreas', 'Horstmann, Jan', 'Meister, Jan Christoph', 'Petris, Marco', 'Schumacher, Mareike', 'Flüh, Marie', 'Sahle, Patrick', 'Ortloff, Anna-Marie', 'Windl, Maximiliane', 'Güntner, Lydia', 'Schmidt, Thomas', 'Homburg, Timo', 'Thiery, Florian', 'Adelmann, Benedikt', 'Gius, Evelyn', 'Gius, Evelyn', 'Heßbrüggen-Walter, Stefan', 'Capelle, Irmlind', 'Richts, Kristina', 'Schilke, Elena', 'Veit, Joachim', 'Willand, Marcus', 'Krautter, Benjamin', 'Pagel, Janis', 'Reiter, Nils', 'Brunner, Annelen', 'Jannidis, Fotis', 'Tu, Ngoc Duyen Tanja', 'Weimer, Lukas', 'Kunze, Kristina', 'Boenig, Matthias', 'Engl, Elisabeth', 'Baierer, Konstantin', 'Hartmann, Volker', 'Neudecker, Clemens', 'Luhmann, Jan', 'Burghardt, Manuel', 'Tiepmar, Jochen', 'Seltmann, Melanie E.-H.', 'Thielert, Frauke', 'Haaf, Susanne', 'Schuster, Britt-Marie', 'Georgi, Christopher', 'Rosenkötter, Martha', 'Fischer, Barbara', 'Schulz, Julian', 'Schneider, Stefanie', 'Cakir, Osman', 'Kohl, Linus', 'Reißer, Alexandra', 'Burghardt, Manuel', 'Liebl, Bernhard', 'Ulrich, Mona', 'Hess, Jan', 'Kamzelak, Roland', 'Kramski, Heinz Werner', 'Jung, Kerstin', 'Kuhn, Jonas', 'Schlesinger, Claus-Michael', 'Viehhauser, Gabriel', 'Schembera, Björn', 'Bönisch, Thomas', 'Kaminski, Andreas', 'Jannidis, Fotis', 'Konle, Leonard', 'Leinen, Peter', 'Hermes, Jürgen', 'Klinke, Harald', 'Demmer, Dennis', 'Schildkamp, Philip', 'Neuefeind, Claes', 'Mathiak, Brigitte', 'Harzenetter, Lukas', 'Breitenbücher, Uwe', 'Leymann, Frank', 'Balbach, Nico', 'Reul, Christian', 'Puppe, Frank', 'Roeder, Torsten', 'Cremer, Fabian', 'Dogunke, Swantje', 'Elwert, Frederik', 'Lordick, Harald', 'Ott, Katrin', 'Söring, Sibylle', 'Wübbena, Thorsten', 'Drach, Sviatoslav', 'Wuttke, Ulrike', 'Lemaire, Marina', 'Stefan, Schulte', 'Helling, Patrick', 'Blumtritt, Jonathan', 'Schmunk, Stefan', 'Ruppenhofer, Josef', 'Flinz, Carolina', 'Schmidt, Thomas', 'Messemer, Heike', 'Clados, Christiane', 'Reinthal, Angela', 'Tscheu, Amelie', 'Trautmann, Marjam', 'Plaksin, Anna', 'Bludau, Mark-Jan', 'Dörk, Marian', 'Fangerau, Heiner', 'Halling, Thorsten', 'Leitner, Elena', 'Menzel, Sina', 'Müller, Gerhard', 'Petras, Vivien', 'Rehm, Georg', 'Neudecker, Clemens', 'Zellhoefer, David', 'Moreno Schneider, Julian', 'Wieners, Jan Gerrit', 'Schubert, Zoe', 'Türkoğlu, Enes', 'Niebes, Kai Michael', 'Eide, Øyvind', 'Mertgens, Andreas', 'Türkoğlu, Enes', 'Probst, Nora', 'Schrott, Maximilian', 'Reinert, Matthias', 'Iffland, Joachim', 'Steiner, Christian', 'Klug, Helmut W.', 'Schlicht, Helene', 'Jentsch, Patrick', 'Porada, Stephan', 'Fricke-Steyer, Henrike', 'Klaffki, Lisa', 'Rastinger, Nina Claudia', 'Resch, Claudia', 'Molitor, Paul', 'Necker, Gerold', 'Pöckelmann, Marcus', 'Rebiger, Bill', 'Ritter, Jörg', 'Schmeer, Hendrik', 'Wissik, Tanja', 'Brüggemann, Viktoria', 'Bludau, Mark-Jan', 'Dörk, Marian', 'Hiltmann, Torsten', 'Thiele, Sebastian', 'Risse, Benjamin', 'Schumacher, Mareike', 'Flüh, Marie', 'Krautter, Benjamin', 'Eggert, Lisa', 'Müller, Melissa', 'Lassner, David', 'Brandl, Stephanie', 'Guy, Louisa', 'Baillot, Anne', 'Schwandt, Silke', 'Baillot, Anne', 'Gervais, Ludovic', 'Braud, Camille', 'Thomas, Clement', 'Bonsergent, Lou-Ann', 'Strothotte, Adrian', 'Niewöhner, Laura Maria', 'Liedtke, Clemens', 'Bell, Peter', 'Offert, Fabian', 'Horstmann, Jan', 'Flüh, Marie', 'Schumacher, Mareike', 'Fischer, Frank', 'Trilcke, Peer', 'Meister, Jan Christoph', 'Steiner, Christian', 'Klug, Helmut W.', 'Böhm, Astrid', 'Raunig, Elisabeth', 'Laurioux, Bruno', 'Ardesi, Denise', 'Poirier, Corentin', 'Schulte, Judith', 'Kuhn, Jonas', 'Pichler, Axel', 'Reiter, Nils', 'Viehhauser, Gabriel', 'Tumanov, Rostislav', 'Viehhauser, Gabriel', 'Feldmann, Alina', 'Koller, Barbara', 'Busch, Hannah', 'Gengnagel, Tessa', 'Schulz, Daniela', 'Guhr, Svenja', 'Brokering, Annalena', 'Guhr, Svenja', 'Scholger, Walter', 'Hannesschläger, Vanessa', 'Fuchs, Alexandra', 'Geiger, Bernhard', 'Hobisch, Elisabeth', 'Koncar, Philipp', 'More, Jacqueline', 'Saric, Sanja', 'Scholger, Martina', 'Schmidt, Thomas', 'Bauer, Marlene', 'Habler, Florian', 'Heuberger, Hannes', 'Pilsl, Florian', 'Wolff, Christian', 'Pielström, Steffen', 'Maciej, Eder', 'Andresen, Melanie', 'Begerow, Anke', 'Franken, Lina', 'Gaidys, Uta', 'Koch, Gertraud', 'Zinsmeister, Heike', 'Donig, Simon', 'Maria, Christoforaki', 'Bernhard, Bermeitinger', 'Handschuh, Siegfried', 'Schneider, Gerlinde', 'Vasold, Gunter', 'Annisius, Marie', 'Burr, Elisabeth', 'Fußbahn, Ulrike', 'Stadler, Peter', 'Bohl, Benjamin W.', 'Viglianti, Raffaele', 'Faßhauer, Vera', 'Vogeler, Georg', 'Schlögl, Matthias', 'Vasold, Gunter', 'Reiners, Stefan', 'Geißler, Nils', 'Saric, Sanja', 'Scholger, Martina', 'Wagner, Sarah', 'Vera, Grund', 'Henner, Drewes', 'Albers, Laura', 'Große, Peggy', 'Resch, Claudia', 'Rastinger, Nina', 'Heinisch, Barbara', 'De Luca, Ernesto William', 'Fallucchi, Francesca', 'Hertling, Anke', 'Klaes, Jan Sebastian', 'Schmitz, Claudia', 'Towara, Nadine', 'Noichl, Maximilian', 'Pannach, Franziska', 'Krishnan, Aravind', 'Eschweiler, Mark', 'Evers, Anna-Maria', 'Kruhl, Dominik', 'Reuhl, Elisabeth', 'Türkoğlu, Enes', 'Schneider, Philipp', 'Herrmann, J. Berenike', 'Messerli, Thomas', 'Duan, Tinghui', 'Buechel, Sven', 'Hahn, Udo', 'Geiger, Jonathan', 'Pfeiffer, Jasmin', 'Effinger, Maria', 'Sobriel, Nicole', 'Kepper, Johannes', 'Flanders, Julia', 'Liu, Alan', 'Achmann, Michael', 'Hampel, Lisa', 'Asabidi, Ruslan', 'Wolff, Christian', 'Adamczak, Katarzyna', 'Štanzel, Arnošt', 'Ahmed, Sajawel', 'Rehman, Misbahur', 'Tischlik, Joshua', 'Kruse, Carl', 'Mahmutovic, Edin', 'Özsoy, Ömer', 'Akkermann, Miriam', 'Althage, Melanie', 'Andorfer, Peter', 'Schlögl, Matthias', 'Bleier, Roman', 'Andresen, Melanie', 'Krautter, Benjamin', 'Pagel, Janis', 'Reiter, Nils', 'Arnold, Eckhart', 'Arnold, Frederik', 'Fiechter, Benjamin', 'Arnold, Matthias', 'Henke, Konstantin', 'Baglatzi, Alkyoni', 'Velissaropoulos, Georgios', 'Bauer, Bernhard', 'Berg, Mia', 'Lorenz, Andrea', 'Bernhart, Toni', 'Bischoff, Eva', 'Schwarz, Anja', 'Bludau, Mark-Jan', 'Halling, Thorsten', 'Holly, Eva Maria', 'Wieloch, Jasmin', 'Schnaitter, Hannes', 'Balck, Sandra', 'Plakidis, Melina', 'Rehm, Georg', 'Fangerau, Heiner', 'Dörk, Marian', 'Bläß, Sandra', 'Flüh, Marie', 'Gerstorfer, Dominik', 'Gius, Evelyn', 'Meister, Malte', 'Nantke, Julia', 'Schumacher, Mareike', 'Brandl, Stephanie', 'Lassner, David', 'Krömer, Cora', 'Baillot, Anne', 'Brottrager, Judith', 'Brüggemann, Viktoria', 'Bludau, Mark-Jan', 'Pietsch, Christopher', 'Dörk, Marian', 'Langer, Lars', 'Burghardt, Manuel', 'Borgards, Roland', 'Köhring, Esther', 'Wirth, Christian', 'Busch, Anna', 'Fetz, Bernhard', 'Lepper, Marcel', 'Wirtz Eybl, Irmgard', 'Richter, Sandra', 'Trilcke, Peer', 'Bönisch, Dominik', 'Börner, Ingo', 'Fischer, Frank', 'Milling, Carsten', 'Sluyter-Gäthje, Henny', 'Bühler, Fabian', 'Barzen, Johanna', 'Leymann, Frank', 'Standl, Bernhard', 'Schlomske-Bodenstein, Nadine', 'Börner, Ingo', 'Charvat, Vera Maria', 'Ďurčo, Matej', 'Mrugalski, Michał', 'Odebrecht, Carolin', 'Dennerlein, Katrin', 'Schmidt, Thomas', 'Wolff, Christian', 'de Günther, Sabine', 'Freyberg, Linda', 'Cremer, Fabian', 'Dogunke, Swantje', 'Neubert, Anna', 'Wübbena, Thorsten', 'Bigalke, Jan', 'Drach, Sviatoslav', 'Neuefeind, Claes', 'Du, Keli', 'Du, Keli', 'Dudar, Julia', 'Rok, Cora', 'Schöch, Christof', 'Ehrmann, Maud', 'Bunout, Estelle', 'Clematide, Simon', 'Düring, Marten', 'Fickers, Andreas', 'Guido, Daniele', 'Kalyakin, Roman', 'Kaplan, Frederic', 'Romanello, Matteo', 'Schroeder, Paul', 'Ströbel, Philip', 'van Beek, Thijs', 'Volk, Martin', 'Wieneke, Lars', 'Elwert, Frederik', 'Pons, Jessie', 'Feldmüller, Tim', 'Zarei, Alireza', 'Seung-Bin, Yim', 'Ďurčo, Matej', 'Illmayer, Klaus', 'Barbot, Laure', 'Fischer, Frank', 'Gray, Edward', 'Çakir, Dîlan Canan', 'Fischer, Frank', 'Fischer-Nebmaier, Wladimir', 'Kurz, Stephan', 'Lein, Richard', 'Fleischmann, Florian', 'Flüh, Marie', 'Schumacher, Mareike', 'Franken, Lina', 'Frank, Markus', 'Fritze, Christiane', 'Gebhard, Henning', 'Gerstenberg, Annette', 'Leh, Almut', 'Möbus, Dennis', 'Pagenstecher, Cord', 'Gerstorfer, Dominik', 'Glawion, Anastasia', 'Dumont, Stefan', 'Grabsch, Sascha', 'Müller-Laackman, Jonas', 'Werthmann, Antonina', 'Gradl, Tobias', 'Guhr, Svenja', 'Steyer, Timo', 'Scholger, Walter', 'Burghardt, Manuel', 'Dieckmann, Lisa', 'Reiter, Nils', 'Wuttke, Ulrike', 'Gutiérrez De la Torre, Silvia Eunice', 'Göggelmann, Michael', 'Heiniger, Anna Katharina', 'Reiter, Nils', 'Zirker, Angelika', 'Hagen, Thora', 'Dziudzia, Corinna', 'Hall, Mark', 'Heckelen, Malte', 'Schlesinger, Claus-Michael', 'Burkhard, Fabienne', 'Krewet, Michael', 'Ernst, Felix', 'Götzelmann, Germaine', 'Hegel, Philipp', 'Schenk, Torsten', 'Söring, Sibylle', 'Tonne, Danah', 'Borges, Rebekka', 'Debbeler, Anke', 'Helling, Patrick', 'Rau, Felix', 'Helling, Patrick', 'Helling, Patrick', 'Jung, Kerstin', 'Pielström, Steffen', 'Henny-Krahmer, Ulrike', 'Stadler, Peter', 'Herrmann, J. Berenike', 'Grisot, Giulia', 'Heßbrüggen-Walter, Stefan', 'Blessing, André', 'Hess, Jan', 'Jung, Kerstin', 'High-Steskal, Nicole', 'Baierer, Konstantin', 'Boenig, Matthias', 'Engl, Elisabeth', 'Geestmann, Mareen', 'Hinrichsen, Lena', 'Neudecker, Clemens', 'Pestov, Paul', 'Weidling, Michelle', 'Hinzmann, Maria', 'Schöch, Christof', 'Dietz, Katharina', 'Klee, Anne', 'Erler-Fridgen, Katharina', 'Röttgermann, Julia', 'Steffes, Moritz', 'Alschner, Stefan', 'Baumgarten, Marcus', 'Horstmann, Jan', 'Müller, Christiane', 'Nantke, Julia', 'Weis, Joëlle', 'Wübbena, Thorsten', 'Bateman, John', 'Diecke, Josephine', 'Ewerth, Ralph', 'Heftberger, Adelheid', 'Howanitz, Gernot', 'Spiegel, Simon', 'Loertscher, Miriam', 'Illmayer, Klaus', 'Tiefenbacher, Sara', 'Voß, Franziska', 'Beck, Julia', 'Henninger, Christine', 'Wittenbecher, Maxim', 'Jander, Melina', 'Weimer, Lukas', 'Henny-Krahmer, Ulrike', 'Jettka, Daniel', 'Keck, Jana', 'Blessing, Andre', 'Kienbaum, Janna', 'Kreiseler, Sarah', 'Heidmann, Frank', 'Kindler, Sebastian', 'Wolf, Katrin', 'Klaes, Jan Sebastian', 'Korwisi, Kristof', 'Krüger, Katharina', 'Reul, Christian', 'Towara, Nadine', 'Wierzoch, Jan', 'Klappenbach, Lou', 'Kelm, Holden', 'Klappenbach, Lou', 'Klemstein, Franziska', 'Knecht, David', 'Beretta, Francesco', 'Hotz, Gerhard', 'Knierim, Aenne', 'Achmann, Michael', 'Wolff, Christian', 'Kröncke, Merten', 'Konle, Leonard', 'Jannidis, Fotis', 'Winko, Simone', 'Lange, Felix', 'Kuper, Heinz-Günter', 'Müller, Anja', 'Amrhein, Kilian', 'Klindt, Marco', 'Nowicki, Anna-Lena', 'Arndt, Nadine', 'Baddack, Cornelia', 'Fischer-Nebmaier, Wladimir', 'Gleixner, Sebastian', 'von Hindenburg, Barbara', 'Jüngerkes, Sven', 'Kurz, Stephan', 'Schrott, Maximilian', 'Köster, Jan', 'Franke, Claus', 'Peter, Ulrike', 'Lampert, Marcus', 'Langhanki, Florian', 'Wehner, Maximilian', 'Baierer, Konstantin', 'Hinrichsen, Lena', 'Reul, Christian', 'Lang, Sarah', 'Laubrock, Jochen', 'Tseng, Chiao-I', 'Lecroq, Axelle', 'Leyrer, Katharina', 'Busch, Anna', 'Cremer, Fabian', 'Lordick, Harald', 'Mischke, Dennis', 'Steyer, Timo', 'Mayr, Eva', 'Liem, Johannes', 'High-Steskal, Nicole', 'Grebe, Anja', 'Windhager, Florian', 'Meding, Holle Ameriga', 'Contreras Saiz, Mónika', 'Muessemann, Hannah', 'Meier-Vieracker, Simon', 'Kreuzmair, Elias', 'Meister, Malte', 'Vauth, Michael', 'Gerstorfer, Dominik', 'Mischke, Dennis', 'Trilcke, Peer', 'Sluyter-Gäthje, Henny', 'Moeller, Katrin', 'Goldberg, Jan Michael', 'Moeller, Katrin', 'Söring, Sibylle', 'Imeri, Sabine', 'Lemaire, Marina', 'Reichert, Nils', 'Mollenhauer, Elisabeth', 'Rau, Felix', 'Muenster, Sander', 'Bruschke, Jonas', 'Kroeber, Cindy', 'Hoppe, Stephan', 'Maiwald, Ferdinand', 'Niebling, Florian', 'Pattee, Aaron', 'Utescher, Ronja', 'Zarriess, Sina', 'Müller, Melissa', 'Nantke, Julia', 'Bläß, Sandra', 'Flueh, Marie', 'Maus, David', 'Czmiel, Alexander', 'Neuber, Frederike', 'Neuefeind, Claes', 'Mondaca, Francisco', 'Eide, Øyvind', 'Colditz, Iris', 'Jügel, Thomas', 'Rezania, Kianoosh', 'Zeini, Arash', 'Cantera, Alberto', 'Emanuel, Chagai', 'Shaked, Shaul', 'Nieländer, Maret', 'Jurish, Bryan', 'Scheel, Christian', 'Althage, Melanie', 'Dreyer, Malte', 'Guescini, Rolf', 'Hiltmann, Torsten', 'Lüdeling, Anke', 'Odebrecht, Carolin', 'Balck, Sandra', 'Menzel, Sina', 'Petras, Vivien', 'Schnaitter, Hannes', 'Zinck, Josefine', 'Pfeffer, Magnus', 'Kacsuk, Zoltan', 'Roth, Martin', 'Andresen, Melanie', 'Krautter, Benjamin', 'Pagel, Janis', 'Pichler, Axel', 'Pielström, Steffen', 'Jung, Kerstin', 'Purschwitz, Anne', 'Zedlitz, Jesper', 'Pöckelmann, Marcus', 'Rebiger, Bill', 'Rainer, Simon', 'Radisch, Erik', 'Poetis, Panoria', 'Radmacher, Emilia', 'Smiatek, Katharina', 'Schneider, Stefanie', 'Rath, Brigitte', 'Rebora, Simone', 'Messerli, Thomas', 'Herrmann, J. Berenike', 'Böhm, Alexander', 'Reiners-Selbach, Stefan', 'Baedke, Jan', 'Fábregas Tejeda, Alejandro', 'Nicholson, Daniel J.', 'Burghardt, Manuel', 'Czmiel, Alexander', 'Dieckmann, Lisa', 'Guhr, Svenja', 'Jacke, Janina', 'Reiter, Nils', 'Scholger, Walter', 'Wuttke, Ulrike', 'Rettinghaus, Klaus', 'Altenhöner, Reinhard', 'Dieckmann, Lisa', 'Münzmay, Andreas', 'Pratschke, Margarete', 'Primavesi, Patrick', 'Richts-Matthaei, Kristina', 'Röwenstrunk, Daniel', 'Schulz, Christoph', 'Stellmacher, Martha', 'Rißler-Pipka, Nanette', 'Roeder, Torsten', 'Busch, Anna', 'Roeder, Torsten', 'Rossenova, Lozana', 'Schubert, Zoe', 'Vock, Richard', 'Blümel, Ina', 'Röttgermann, Julia', 'Klee, Anne', 'Hinzmann, Maria', 'Schöch, Christof', 'Saric, Sanja', 'Steiner, Elisabeth', 'Vogeltanz, Maximilian', 'Scheltjens, Werner', 'Schlieder, Christoph', 'Agt-Rickauer, Henning', 'Scherer, Thomas', 'Stratil, Jasper', 'Schmidt, David', 'Krug, Markus', 'Puppe, Frank', 'Schmidt, Thomas', 'Kurek, Sarah', 'Schmidt, Thomas', 'Dennerlein, Katrin', 'Wolff, Christian', 'Schneider, Philipp', 'Schneider, Sophie', 'Schneider, Stefanie', 'Springstein, Matthias', 'Rahnama, Javad', 'Kohle, Hubertus', 'Ewerth, Ralph', 'Hüllermeier, Eyke', 'Henny-Krahmer, Ulrike', 'Neuber, Frederike', 'Scholger, Martina', 'Scholger, Walter', 'Hannesschläger, Vanessa', 'Kamocki, Pawel', 'Kuzman-Šlogar, Koraljka', 'Schumacher, Mareike', 'Vauth, Michael', 'Gerstorfer, Dominik', 'Meister, Malte', 'Schumacher, Mareike', 'Seifert, Sabine', 'Busch, Anna', 'Trilcke, Peer', 'Genzel, Kristina', 'Heilmann, Juliane', 'Möller, Klaus-Peter', 'Kalmer, Silke', 'Kampkaspar, Dario', 'Müller, Sophie', 'Seltmann, Melanie E.-H.', 'Stegmeier, Jörn', 'Wunsch, Kevin', 'Rapp, Andrea', 'Büdenbender, Stefan', 'Dietz, Nadine', 'Dunkelmann, Lena', 'Gnau-Franké, Birte', 'Liesenfeld, Nina', 'Schmunk, Stefan', 'Seltmann, Melanie E.-H.', 'Stäcker, Thomas', 'Werner, Stephanie', 'Wyss, Eva L.', 'Serif, Ina', 'Reimann, Anna', 'Engel, Alexander', 'Siebold, Anna', 'Stallmann, Marco', 'Sikora, Uwe', 'Kreß, Hannah', 'Lemitz, Bastian', 'Pietsch, Andreas', 'Wünsch, Lukas', 'Steiner, Elisabeth', 'Vasold, Gunter', 'Scholger, Martina', 'Tomasek, Stefan', 'Reul, Christian', 'Wehner, Maximilian', 'Sluyter-Gäthje, Henny', 'Trilcke, Peer', 'Tu, Ngoc Duyen Tanja', 'Meyer, Peter', 'Varachkina, Hanna', 'Barth, Florian', 'Gödeke, Luisa', 'Hofmann, Anna Mareike', 'Dönicke, Tillmann', 'Gius, Evelyn', 'Vauth, Michael', 'Vogeler, Georg', 'Hadden, Richard', 'Schlögl, Matthias', 'Vasold, Gunter', 'Walkowski, Niels-Oliver', 'Burghardt, Manuel', 'Bentz, Isabelle', 'Gfrereis, Heike', 'Hildenbrandt, Vera', 'Mayr, Eva', 'Offenberg, Eva', 'Tropper, Eva', 'Windhager, Florian', 'Wuttke, Ulrike', 'Tóth-Czifra, Erzsébet', 'Testori, Marinella', 'Horvath, Aliz', 'Spence, Paul', 'Katsiadakis, Helen', 'Zaagsma, Gerben', 'Mayer, Desiree', 'Kailus, Angela', 'Egger, Nils', 'Franken, Lina', 'Möbus, Dennis', 'Schmid, Florian', 'Bamberg, Claudia', 'Dörk, Uwe', 'Wierzock, Alexander', 'Trautmann, Tatjana', 'Burch, Thomas', 'Petkov, Radoslav', 'Rastinger, Nina C.', 'Liem, Johannes', 'Kusnick, Jakob', 'Jänicke, Steffan', 'Doppler, Carina', 'Passecker, Markus', 'Mayr, Eva', 'Windhager, Florian', 'Bigalke, Jan', 'Blumtritt, Jonathan', 'Gengnagel, Tessa', 'Stahn, Lena-Luise', 'Lemaire, Marina', 'Moeller, Katrin', 'Schulz, Julian', 'Söring, Sibylle', 'Wettlaufer, Jörg', 'Suárez Cronauer, Elena', 'Fath, Laura', 'Deicke, Aline', 'Strobel, Jochen', 'Weyand, Sandra', 'Burch, Thomas', 'König, Mareike', 'Aehnlich, Barbara', 'Kunze, Petra', 'Calvo Tello, José', 'Rißler-Pipka, Nanette', 'Barth, Florian', 'Gerstorfer, Dominik', 'Gius, Evelyn', 'Holz, Alex', 'Çakir, Dîlan Canan', 'Schrade, Torsten', 'Stein, Regine', 'Tolksdorf, Julia', 'Vater, Christian', 'Weimer, Lukas', 'Grundig de Vazquez, Katja', 'Krefft, Annett', 'Thoden, Klaus', 'Henning, Pia', 'Vogeler, Georg', 'Luger, Daniel', 'Nicolaou, Anguelos', 'Kovacs, Tamas', 'Atzenhofer-Baumgartner, Florian', 'Lamminger, Florian', 'Aoun, Sandy', 'Decker, Franziska', 'Jannidis, Fotis', 'Cugliana, Elisa', 'Schwab, Michel', 'Fischer, Frank', 'Große, Peggy', 'Schumacher, Mareike', 'Marie, Flüh', 'Peter, Leinen', 'Schneider, Philipp', 'Hiltmann, Torsten', 'Dumont, Stefan', 'Kraft, Tobias', 'Seifert, Sabine', 'Thomas, Christian', 'Wierzoch, Jan', 'Grießer, Martina', 'Hanzer, Helene', 'Kirchweger, Franz', 'Kloser, Peter', 'Lamers, Teresa', 'Pollin, Christopher', 'Scholger, Martina', 'Steiner, Elisabeth', 'Vasold, Gunter', 'Rüdiger, Jan Oliver', 'Wolfer, Sascha', 'Cotgrove, Louis', 'Rosenthal, Maximilian', 'Richter, Matthias', 'Bell, Peter', 'Neuber, Frederike', 'Lecroq, Axelle', 'Geißel, Pia', 'Ketschik, Nora', 'Bernhart, Toni', 'Gärtner, Markus', 'Koch, Julia', 'Schauffler, Nadja', 'Kuhn, Jonas', 'Homburg, Timo', 'Klammt, Anne', 'Offert, Fabian', 'Thiery, Florian', 'Mayer, Manuela', 'Kurz, Stephan', 'Yilmaz, Yasir', 'Sonnberger, Jakob', 'Glas, Julia', 'Wolff, Christian', 'Ludwig, Bernd', 'Achmann, Michael', 'Blumtritt, Jonathan', 'Cugliana, Elisa', 'Hegel, Philipp', 'Hensen, Kilian', 'Hörnschemeyer, Jörg', 'Kudella, Christoph', 'Lordick, Harald', 'Neuber, Frederike', 'Neuefeind, Claes', 'Schulz, Daniela', 'Seltmann, Melanie Elisabeth-H.', 'Sievers, Martin', 'Gengnagel, Tessa', 'Dietrich, Elisabeth', 'Kolbe, Ines', 'Jacke, Janina', 'Tseng, Chiao-I', 'Liebl, Bernhard', 'Burghardt, Manuel', 'Bateman, John', 'Howanitz, Gernot', 'Dang, Sarah-Mai', 'Diecke, Josephine', 'Ewerth, Ralph', 'Lameris, Bregt', 'Scherer, Thomas', 'Vukovic, Teodora', 'Baresch, Ariadne', 'Gius, Evelyn', 'Schöch, Christof', 'Trilcke, Peer', 'Gerstorfer, Dominik', 'Guhr, Svenja', 'Ripoll, Elodie', 'Sluyter-Gäthje, Henny', 'Sutor, Nadine', 'Czmiel, Alexander', 'Henny-Krahmer, Ulrike', 'Jettka, Daniel', 'Hilger, Agnes', 'Niemann, Klara', 'Klammt, Anne', 'Gengnagel, Tessa', 'Lang, Sarah', 'Probst, Nora', 'Gerber, Anja', 'Dang, Sarah-Mai', 'Duan, Tinghui', 'Grallert , Till', 'Keck, Jana', 'Nyhan, Julianne', 'Varachkina, Hanna', 'Barth, Florian', 'Dönicke, Tillmann', 'Biermann, Johannes', 'Altmann, Friederike', 'Neitzke, Thorben', 'Sporleder, Caroline', 'Herbst, Yannik', 'Roeder, Torsten', 'Reul, Christian', 'Kröger, Bärbel', 'Störiko, Johanna', 'Wettlaufer, Jörg', 'Börner, Ingo', 'Fischer, Frank', 'Giovannini, Luca', 'Lu, Christopher', 'Milling, Carsten', 'Skorinkin, Daniil', 'Sluyter-Gäthje, Henny', 'Trilcke, Peer', 'Kou-Herrema, Tianyi', 'Hatzel, Hans Ole', 'Gius, Evelyn', 'Stiemer, Haimo', 'Biemann, Chris', 'Elwert, Frederik', 'Berger, Claudia', 'High-Steskal, Nicole', 'Neudecker, Clemens', 'Pons, Jessie', 'Akhlaq, Sara', 'Hall, Mark', 'Walsh, David', 'Petersen-Frey, Fynn', 'Leinen, Peter', 'Trippel, Thorsten', 'Weimer, Lukas', 'Witt, Andreas', 'Schelbert, Georg', 'Müller, Michael', 'Althage, Melanie', 'Du, Keli', 'Seltmann, Melanie Elisabeth-H.', 'Brunner, Annelen', 'Katrin, Hein', 'Nantke, Julia', 'Reul, Christian', 'Bläß, Sandra', 'Flüh, Marie', 'Lang, Christian', 'Tu, Ngoc Duyen Tanja', 'Schneider, Roman', 'Volodina, Anna', 'Balck, Sandra', 'Frank, Ingo', 'Fischeidl, Kathrin', 'Galka, Selina', 'Klug, Helmut W.', 'Kröncke, Merten', 'Konle, Leonard', 'Winko, Simone', 'Jannidis, Fotis', 'Brandes, Vanessa', 'Busch, Anna', 'Trilcke, Peer', 'Zimmermann, Ronny', 'Soethaert, Bart', 'Pechlivanos, Miltos', 'Gebhard, Henning', 'Jha, Vandana', 'Tögel, Philipp', 'Dipper, Stefanie', 'Elwert, Frederik', 'Tonne, Danah', 'Klaes, Jan Sebastian', 'Krüger, Katharina', 'Leonhardt, Susann', 'Nieländer, Maret', 'Sommer, Kai', 'Towara, Nadine', 'Galka, Selina', 'Klug, Helmut W.', 'Lang, Sarah', 'Borek, Luise', 'Probst, Nora', 'Ströbel, Phillip', 'Hodel, Tobias', 'Fischer, Andreas', 'Scius, Anna', 'Wolf, Beat', 'Janka, Anna', 'Widmer, Jonas', 'Scheurer, Patricia', 'Volk, Martin', 'Busch, Anna', 'Trilcke, Peer', 'Christ, Andreas', 'Diebel, Richard', 'Henzel, Katrin', 'Petersen, Britta', 'Vetter, Angila', 'Meier-Vieracker, Simon', 'Weigelt, Lucie', 'Dutschke, René', 'Lasch, Alexander', 'Scherbaum, Stefan', 'Seemann, Sophia', 'Pfeifer, Ulrike', 'Junginger, Pauline', 'Schneider, Stefanie', 'Kristen, Maximilian', 'Vollmer, Ricarda', 'Radisch, Erik', 'Andresen, Melanie', 'Gaertner, Markus', 'Jacke, Janina', 'Ketschik, Nora', 'Pichler, Axel', 'Dieckmann, Lisa', 'Steyer, Timo', 'Walkowski, Niels-Oliver', 'Weis, Joëlle', 'Wuttke, Ulrike', 'Wagner, Sarah', 'Dubova, Alona', 'Marquart, Aron', 'Hinzmann, Maria', 'Klee, Anne', 'Konstanciak, Johanna', 'Röttgermann, Julia', 'Schöch, Christof', 'Steffes, Moritz', 'Glawion, Anastasia', 'Weitin, Thomas', 'Eiser, Isabel', 'Fischer, Tim', 'Schneider, Florian', 'Koch, Gertraud', 'Biemann, Chris', 'Petersen Frey, Fynn', 'Jung, Kerstin', 'Helling, Patrick', 'Pielström, Steffen', 'Kababgi, Daniel', 'Dürfeld, Michael', 'Stein, Christian', 'List, Ferdinand', 'Rahman, Zead', 'Dias, Renata', 'Thran, Niklas', 'Marschner, Michèle', 'Burghardt, Manuel', 'Geiger, Jonathan D.', 'Horstmann, Jan', 'Kleymann, Rabea', 'Schmitz, Jascha', 'Schwandt, Silke', 'Wehrheim, Lino', 'Borst, Janos', 'Burghardt, Manuel', 'Niekler, Andreas', 'Nowakowski, Matthias', 'Berndt, Axel', 'Hadjakos, Aristotelis', 'Hagen, Thora', 'Bläß, Sandra', 'Flüh, Marie', 'Nantke, Julia', 'Reul, Christian', 'Kipke, Marta', 'Schenk, Nicolas', 'Blessing, André', 'Hein, Pascal', 'Hess, Jan', 'Jung, Kerstin', 'Schlesinger, Claus-Michael', 'Fischer, Frank', 'Illmer, Viktor Jonathan', 'Regeler, Lukas Nils', 'Müller-Tamm, Jutta', 'von Berenberg-Gossler, Luise', 'Diehr, Franziska', 'Ehlers, Lena', 'Andresen, Melanie', 'Kurzmeier, Michael', 'O’Sullivan, James', 'Murphy, Órla', 'Pidd, Michael', 'Wessels, Bridgette', 'Bamberg, Claudia', 'Lambertz, Michael', 'Petkov, Radoslav', 'Horstmann, Jan', 'Lück, Christian', 'Normann, Immanuel', 'Lück, Christian', 'Hagener, Malte', 'Stanicka-Brzezicka, Ksenia', 'Krause, Celia', 'Eggersglüß, Christoph', 'Häußler, Julian', 'Schirmer, Miriam', 'Windhager, Florian', 'Liem, Johannes', 'Mayr, Eva', 'Schlögl, Matthias', 'Ebel, Carla', 'Probst, Stefan', 'Beck, Samuel', 'Koch, Steffen', 'Burckhardt, Daniel', 'Hörnschemeyer, Jörg', 'König, Mareike', 'Schulz, Julian', 'Grallert, Till', 'Keck, Jana', 'Borek, Luise', 'Busch, Hannah', 'Ketschik, Nora', 'Deicke, Aline', 'Wachter, Christian', 'Feichtinger, Moritz', 'Lemaire, Marina', 'Schmunk, Stefan', 'Hall, Mark', 'Harvey, Francis', 'Durdaği, A. Nursen', 'Tietz, Tabea', 'Bruns, Oleksandra', 'Fliegl, Heike', 'Posthumus, Etienne', 'Schrade, Torsten', 'Sack, Harald', 'Dinger, Patrick', 'Horstmann, Jan', 'Schellhammer, Stefan', 'Troglauer, Patrick', 'Baum, Constanze', 'Dahnke, Michael', 'Dinger, Patrick', 'Fadeeva, Yuliya', 'Horstmann, Jan', 'Seltmann, Melanie Elisabeth-H.', 'Steyer, Timo', 'Hopp, Meike', 'von dem Bussche, Ruth', 'Noichl, Maximilian', 'Panzer, Lukas', 'Schumacher, Mareike', 'Meister, Malte', 'Gerstorfer, Dominik', 'Piel, Pattrick', 'Töpfer, Marlene', 'Günther, Johanna', 'Hunziker, Manuel', 'von Pippich, Waltraud', 'Rensinghoff, Berenike', 'Bürgermeister, Martina', 'Pektor, Katharina', 'Steindl, Christoph', 'Eigner, Johanna', 'Albani, Benedetta', 'Anokhina, Alexandra', 'Park, Yohan', 'Pollin, Christopher', 'Strutz, Sabrina', 'Steiner, Christian', 'Klug, Helmut', 'Lang, Sabine', 'Heßbrüggen-Walter, Stefan', 'Ghosh, Sharanya', 'Baillot, Anne', 'Feidicker, Charlotte', 'Gerber, Anja', 'Roeder, Torsten', 'Lyding, Verena', 'Franzini, Greta', 'Kepper, Johannes', 'Münzmay, Andreas', 'Wuttke, Ulrike', 'Kampkaspar, Dario', 'Müller-Laackman, Jonas', 'Gengnagel, Tessa', 'Lang, Sarah', 'Karcher, Stefan', 'Schrade, Torsten', 'Jung, Kerstin', 'Hein, Pascal', 'Blessing, André', 'Hess, Jan', 'Kushnarenko, Volodymyr', 'Krautter, Benjamin', 'Haider, Thomas Nikolaus', 'Schennach, Stephanie', 'Thelen, Julius', 'Wesche, Jörg', 'Howanitz, Gernot', 'Kaltseis, Magdalena', 'Fischer, Tim', 'Eiser, Isabel', 'Schneider, Florian', 'Petersen-Frey, Fynn', 'Biemann, Chris', 'Koch, Gertraud']\n",
      "3050\n"
     ]
    }
   ],
   "source": [
    "all_authors = []\n",
    "all_author_teams = []\n",
    "for year in authors:\n",
    "    all_author_teams = all_author_teams + year\n",
    "    for author_team in year:\n",
    "        all_authors = all_authors + author_team"
   ]
  },
  {
   "cell_type": "markdown",
   "metadata": {},
   "source": [
    "Creating a visualization style in order to be consistent with the visualizations later in the notebook."
   ]
  },
  {
   "cell_type": "code",
   "execution_count": 37,
   "metadata": {
    "tags": [
     "cell #8"
    ]
   },
   "outputs": [],
   "source": [
    "# Visualization Style\n",
    "custom_style = Style(\n",
    "legend_font_size = 12,\n",
    "legend_box_size = 12,\n",
    "background='white',\n",
    "plot_background='white',\n",
    "foreground='black',\n",
    "foreground_strong='#53A0E8',\n",
    "foreground_subtle='#630C0D',\n",
    "opacity='.6',\n",
    "opacity_hover='0.3',\n",
    "transition='400ms ease-in',\n",
    "colors=('#C70039', '#FFC300', '#70C700', '#001EC7', '#7F3ACD', '#3ACDB4', '#EEFC11'))"
   ]
  },
  {
   "attachments": {},
   "cell_type": "markdown",
   "metadata": {},
   "source": [
    "==========================================================================================================================\n",
    "\n",
    "==========================================================================================================================\n",
    "\n",
    "=========================================================================================================================="
   ]
  },
  {
   "attachments": {},
   "cell_type": "markdown",
   "metadata": {},
   "source": [
    "### Topic Modeling (LDA): Tuning (hyper-)parameters\n",
    "\n",
    "By measuring the quality measures of *perplexity* and *topic coherence*, the ideal parameters for the topic model should be found. \n",
    "\n",
    "\n",
    "**Quality Measure: Perplexity**\n",
    "\n",
    "- Perplexity can be used to measure how good the LDA model generalizes on the text corpus (Blei et al., 2003, p. 1008)\n",
    "- the lower the perplexity, the better the model\n",
    "\n",
    "**Quality Measure: Topic Coherence** \n",
    "\n",
    "- Topic Coherence can be determined by various measurements - e.g. UMass, C_V, UCI, NPMI - which all use different measurements to calculate the coherence of topics (Röder et al., 2015, p. 2)\n",
    "- In this workflow, C_V is used: measurement gives values between 0 and 1, with 1 being the best coherence to be reached\n",
    "\n",
    "**Parameter topic number**\n",
    "\n",
    "- According to [Kumar (2018)](https://datascienceplus.com/evaluation-of-topic-modeling-topic-coherence/), \"[c]hoosing a ‘k’ that marks the end of a rapid growth of topic coherence usually offers meaningful and interpretable topics. Picking an even higher value can sometimes provide more granular sub-topics\". However, \"[i]f you see the same keywords being repeated in multiple topics, it’s probably a sign that the ‘k’ is too large\". (ibid.)\n",
    "\n",
    "**Parameter update_every**\n",
    "\n",
    "- \"Number of documents to be iterated through for each update. Set to 0 for batch learning, > 1 for online iterative learning.\" ([Gensim Documentation, Rehurek, 2022](https://radimrehurek.com/gensim/models/ldamodel.html))\n",
    "- Here set to update_every=1 as this is the default\n",
    "\n",
    "**Parameter Alpha**\n",
    "\n",
    "- \"A-priori belief on document-topic distribution\" ([Gensim Documentation](https://radimrehurek.com/gensim/models/ldamodel.html))\n",
    "- \"Alpha is the parameter, which has the smoothing effect on the topic-document distribution and ensures that the probability of each topic in each document is not 0 throughout the entire inference procedure\" (Du, 2022, p. 1). Du's study results indicate that coherence results of models deteriorate with increasing Alpha-parameter, and Du concludes that Alpha of each topic should not be higher than 1 (Du, 2022, p. 2)\n",
    "\n",
    "**Parameter Eta**\n",
    "\n",
    "- \"[D]istributional profile of topics in each document” (Abs. 20) (Schöch, 2017),\n",
    "- \"A-priori belief on topic-word distribution\" ([Gensim Documentation](https://radimrehurek.com/gensim/models/ldamodel.html))\n",
    "\n",
    "**Parameter Iterations**\n",
    "- \"Maximum number of iterations through the corpus when inferring the topic distribution of a corpus\" ([Gensim Documentation](https://radimrehurek.com/gensim/models/ldamodel.html))\n",
    "- \"Iterations (...) essentially it controls how often we repeat a particular loop over each document. It is important to set the number of 'passes' and 'iterations' high enough\" ([Tutorial: LDA Model](https://radimrehurek.com/gensim/auto_examples/tutorials/run_lda.html)) to train the best LDA Topic Model\n",
    "\n",
    "\n",
    "**Parameter Passes**\n",
    "- \"Number of passes through the corpus during training\" ([Gensim Documentation](https://radimrehurek.com/gensim/models/ldamodel.html))\n",
    "- \"Passes controls how often we train the model on the entire corpus. Another word for passes might be 'epochs'.\" ([Tutorial: LDA Model](https://radimrehurek.com/gensim/auto_examples/tutorials/run_lda.html))"
   ]
  },
  {
   "attachments": {},
   "cell_type": "markdown",
   "metadata": {},
   "source": [
    "- Function *compute_quality_measures*:\n",
    "\n",
    "This function takes as input the created dictionary, corpus and texts on which the later Topic Models will be based. Further, it is given several other parameters which can be tuned for creating the optimal Topic Model. Those are the coherence measure to be used (*coherence*) and other parameters to be tuned such as the number of iterations(*iterations*), number of topics (*topic_optim*), values for alpha (*alpha_optim*) and beta (*eta_topim*), the number of passes (*passes*) and the frequency of evaluations (*eval_every*)."
   ]
  },
  {
   "cell_type": "code",
   "execution_count": 10,
   "metadata": {
    "tags": [
     "cell #9"
    ]
   },
   "outputs": [],
   "source": [
    "def modeling_and_quality(dictionary, corpus, texts, coherence, iterations, topic_optim, alpha_optim, eta_optim, passes, eval_every):\n",
    "\n",
    "    coherence_values = []\n",
    "    model_list = []\n",
    "    perplexity_values = []\n",
    "    topic_coherence_values=[]\n",
    "    model_names = []\n",
    "    \n",
    "    for topics_num in topic_optim:\n",
    "        for alpha_value in alpha_optim:\n",
    "            for eta_value in eta_optim:\n",
    "                model = LdaModel(corpus=corpus, id2word=dictionary, iterations=iterations, num_topics=topics_num, \n",
    "                                                      alpha=alpha_value, eta=eta_value, passes=passes, eval_every=eval_every, minimum_probability=1e-8)\n",
    "                model_list.append(model)\n",
    "                perplexity_values.append(model.log_perplexity(corpus))\n",
    "                coherencemodel = CoherenceModel(model=model, texts=texts, dictionary=dictionary, corpus=corpus, coherence=coherence, topn=60, window_size=150)\n",
    "                coherence_values.append(coherencemodel.get_coherence())\n",
    "                topic_coherence_values.append(coherencemodel.get_coherence_per_topic())\n",
    "                name = (str(topics_num), str(alpha_value), str(eta_value))\n",
    "                model_names.append(name)\n",
    "                name = ''\n",
    "                \n",
    "                ''' For controlling the progress of this very time-consuming step in the workflow, print every parameter that has been checked '''\n",
    "                \n",
    "                print('   topics_num: ', topics_num, '   alpha_value: ', alpha_value, '   eta_value: ', eta_value, \n",
    "                        '   coherence', coherencemodel.get_coherence())\n",
    "        \n",
    "\n",
    "    return model_list, perplexity_values, coherence_values, topic_coherence_values, model_names"
   ]
  },
  {
   "attachments": {},
   "cell_type": "markdown",
   "metadata": {},
   "source": [
    "### Finding the best settings for *passes* and *iterations*:\n",
    "First, a training of the topic model is needed. In order to do so, the LDA Tutorial proposes to select a random number of topics *k* and try several options for the parameters *passes* and *iterations*, while keeping all other parameters equal. The tutorial proposes to use the logging function on the DEBUG level to see how many documents were converged during the training. One should opt for settings of the two parameters where most - or ideally all - documents are converged ([Tutorial: LDA Model](https://radimrehurek.com/gensim/auto_examples/tutorials/run_lda.html)).\n",
    "\n",
    "Here, convergence of 1202/1203 documents occurred with *k=20*, *iterations=190* and *passes=4*."
   ]
  },
  {
   "cell_type": "code",
   "execution_count": 10,
   "metadata": {
    "tags": [
     "cell #10"
    ]
   },
   "outputs": [],
   "source": [
    "logging.basicConfig(format='%(asctime)s : %(levelname)s : %(message)s', level=logging.DEBUG)"
   ]
  },
  {
   "cell_type": "code",
   "execution_count": 1,
   "metadata": {
    "tags": [
     "cell #11"
    ]
   },
   "outputs": [],
   "source": [
    "# initializing random seed to be able to reproduce the results\n",
    "np.random.seed(3)\n",
    "\n",
    "# running the function with default values except for the topic number\n",
    "k_model_list_cv, k_perplexity_values_cv, k_coherence_values_cv, k_topic_coherence_values_cv, k_model_names_cv = modeling_and_quality(dictionary = id2word, \n",
    "                                                                                        corpus = corpus, \n",
    "                                                                                        texts = data_bigrams_trigrams, \n",
    "                                                                                        coherence = \"c_v\", \n",
    "                                                                                        # default: iterations = 50\n",
    "                                                                                        iterations = 190, \n",
    "                                                                                        topic_optim = [20],\n",
    "                                                                                        alpha_optim = ['auto'],\n",
    "                                                                                        eta_optim = ['auto'],\n",
    "                                                                                        # default: passes = 1\n",
    "                                                                                        passes = 4,\n",
    "                                                                                        eval_every = 1)"
   ]
  },
  {
   "attachments": {},
   "cell_type": "markdown",
   "metadata": {},
   "source": [
    "### Finding the best topic number *k*:\n",
    "After finding good settings for *passes* and *iterations*, the next step is finding the ideal topic number *k*. While trying out different values for *k* between 10 and 35 and keeping the other parameters constant, one should look for the highest coherence value and lowest perplexity value.\n",
    "\n",
    "In previous experiments, topic numbers up to 70 were tried as well. However, that many topics proved to be too small and too uninterpretable for a meaningful Topic Model and therefore it was decided on 35 topics at the maximum."
   ]
  },
  {
   "cell_type": "code",
   "execution_count": 40,
   "metadata": {
    "tags": [
     "cell #12"
    ]
   },
   "outputs": [],
   "source": [
    "topic_optim = list(np.arange(10, 36, 1))\n",
    "\n",
    "# initializing random seed to be able to reproduce the results\n",
    "np.random.seed(1)\n",
    "\n",
    "# running the function with default values except for the topic number\n",
    "k_model_list_cv, k_perplexity_values_cv, k_coherence_values_cv, k_topic_coherence_values_cv, k_model_names_cv = modeling_and_quality(dictionary = id2word, \n",
    "                                                                                        corpus = corpus, \n",
    "                                                                                        texts = data_bigrams_trigrams, \n",
    "                                                                                        coherence = \"c_v\", \n",
    "                                                                                        iterations = 190, \n",
    "                                                                                        topic_optim = topic_optim,\n",
    "                                                                                        alpha_optim = ['auto'],\n",
    "                                                                                        eta_optim = ['auto'],\n",
    "                                                                                        passes = 4,\n",
    "                                                                                        eval_every = None)"
   ]
  },
  {
   "cell_type": "markdown",
   "metadata": {},
   "source": [
    "<span style=\"color: red;\">rausnehmen? </span>"
   ]
  },
  {
   "cell_type": "code",
   "execution_count": 13,
   "metadata": {
    "tags": [
     "cell #12"
    ]
   },
   "outputs": [],
   "source": [
    "save_object('D:/Models/HanTa/', 'seed1_k_model_list_cv.pckl', k_model_list_cv)\n",
    "save_object('D:/Models/HanTa/', 'seed1_k_perplexity_values_cv.pckl', k_perplexity_values_cv)\n",
    "save_object('D:/Models/HanTa/', 'seed1_k_coherence_values_cv.pckl', k_coherence_values_cv)\n",
    "save_object('D:/Models/HanTa/', 'seed1_k_topic_coherence_values_cv.pckl', k_topic_coherence_values_cv)\n",
    "save_object('D:/Models/HanTa/', 'seed1_k_model_names_cv.pckl', k_model_names_cv)"
   ]
  },
  {
   "attachments": {},
   "cell_type": "markdown",
   "metadata": {},
   "source": [
    "### Plotting the Results for Optimizing *k*:"
   ]
  },
  {
   "cell_type": "code",
   "execution_count": 14,
   "metadata": {
    "tags": [
     "cell #13"
    ]
   },
   "outputs": [],
   "source": [
    "# Plotting Coherence Scores\n",
    "line_chart = pygal.Line(style=custom_style, width=1400, x_title='Number of Topics k', y_title='Coherence Score')\n",
    "line_chart.title = 'Coherence Scores for Different Number of Topics k'\n",
    "line_chart.x_labels = map(str, range(10, 36))\n",
    "line_chart.add('Coherence c_v', k_coherence_values_cv)\n",
    "line_chart.render_to_file('Models/find_k/Coherence.svg')\n",
    "\n",
    "# Plotting Perplexity Scores\n",
    "line_chart = pygal.Line(style=custom_style, width=1400, x_title='Number of Topics k', y_title='Perplexity Score')\n",
    "line_chart.title = 'Perplexity Scores for Different Number of Topics k'\n",
    "line_chart.x_labels = map(str, range(10, 36))\n",
    "line_chart.add('Perplexity', k_perplexity_values_cv)\n",
    "line_chart.render_to_file('D:/Models/find_k/Perplexity.svg')"
   ]
  },
  {
   "attachments": {},
   "cell_type": "markdown",
   "metadata": {},
   "source": [
    "++++++++++++++++++++++++++++++++++++++++++++++++++++++++++++++++++++++++++++++++++++++++++\n",
    "++++++++++++++++++++++++++++++++++++++++++++++++++++++++++++++++++++++++++++++++++++++++++\n",
    "\n",
    "### Alpha and Beta Parameter Optimization with Optimal *k*:\n",
    "\n",
    "Conducting another Topic Modeling Process with the optimal number for *k* from the training above. Now, the focus lies on the parameters *alpha* and *eta*, which can take on float values as well as string values. In the following, a mixture over several floats as well as strings is created, which is then given to the function *modeling_and_quality* in order to iterate over those varying values. "
   ]
  },
  {
   "cell_type": "code",
   "execution_count": 39,
   "metadata": {
    "tags": [
     "cell #14"
    ]
   },
   "outputs": [],
   "source": [
    "a_ints = list(np.arange(0.01, 1, 0.3))\n",
    "a_strings = ['symmetric', 'asymmetric', 'auto']\n",
    "alpha = a_ints + a_strings\n",
    "\n",
    "e_ints = list(np.arange(0.01, 1, 0.3))\n",
    "e_strings = ['symmetric', 'auto']\n",
    "eta = e_ints + e_strings\n",
    "\n",
    "# initializing random seed to be able to reproduce the results\n",
    "np.random.seed(3)\n",
    "\n",
    "# running the function to find the optimal combination of parameters\n",
    "model_list_cv, perplexity_values_cv, coherence_values_cv, topic_coherence_values_cv, model_names_cv = modeling_and_quality(dictionary=id2word, \n",
    "                                                                                                                         corpus=corpus, \n",
    "                                                                                        texts=data_bigrams_trigrams, \n",
    "                                                                                        coherence=\"c_v\", \n",
    "                                                                                        iterations = 190,\n",
    "                                                                                        topic_optim = [32],                                                                                         \n",
    "                                                                                        alpha_optim = alpha,\n",
    "                                                                                        eta_optim = eta,\n",
    "                                                                                        passes = 4,\n",
    "                                                                                        eval_every=None)"
   ]
  },
  {
   "cell_type": "markdown",
   "metadata": {},
   "source": [
    "<span style=\"color: red;\">Modelle noch in richtigem Ordner ablegen! </span> "
   ]
  },
  {
   "cell_type": "code",
   "execution_count": 316,
   "metadata": {
    "tags": [
     "cell #15"
    ]
   },
   "outputs": [],
   "source": [
    "save_object('Models/k32_seed3/', '32_model_list_cv.pckl', model_list_cv)\n",
    "save_object('Models/k32_seed3/', '32_perplexity_values.pckl', perplexity_values_cv)\n",
    "save_object('Models/k32_seed3/', '32_coherence_values_cv.pckl', coherence_values_cv)\n",
    "save_object('Models/k32_seed3/', '32_topic_coherence_values.pckl', topic_coherence_values_cv)\n",
    "save_object('Models/k32_seed3/', '32_model_names.pckl', model_names_cv)"
   ]
  },
  {
   "attachments": {},
   "cell_type": "markdown",
   "metadata": {},
   "source": [
    "### Plotting the Results of the Runs with Optimized *k* Values:"
   ]
  },
  {
   "cell_type": "code",
   "execution_count": 317,
   "metadata": {
    "tags": [
     "cell #16"
    ]
   },
   "outputs": [],
   "source": [
    "# Plotting Coherence Scores\n",
    "line_chart = pygal.Line(style=custom_style, width=1600, x_title='Index of Trained Models', y_title='Coherence Score')\n",
    "line_chart.title = 'Coherence Scores for Different Number of Topics k'\n",
    "line_chart.x_labels = map(str, range(0, 42))\n",
    "line_chart.add('Coherence c_v', coherence_values_cv)\n",
    "line_chart.render_to_file('Models/k32_seed3/32_Coherence.svg')\n",
    "\n",
    "# Plotting Perplexity Scores\n",
    "line_chart = pygal.Line(style=custom_style, width=1600, x_title='Index of Trained Models', y_title='Perplexity Score')\n",
    "line_chart.title = 'Perplexity Scores for Different Number of Topics k'\n",
    "line_chart.x_labels = map(str, range(0, 42))\n",
    "line_chart.add('Perplexity', perplexity_values_cv)\n",
    "line_chart.render_to_file('Models/k32_seed3/32_Perplexity.svg')"
   ]
  },
  {
   "attachments": {},
   "cell_type": "markdown",
   "metadata": {},
   "source": [
    "==========================================================================================================================\n",
    "\n",
    "==========================================================================================================================\n",
    "\n",
    "=========================================================================================================================="
   ]
  },
  {
   "attachments": {},
   "cell_type": "markdown",
   "metadata": {},
   "source": [
    "## Research Question 1: Topic Modeling\n",
    "\n",
    "### *Which topics can be found in the abstracts from DHd-conferences between 2014 and 2023 with Topic Modeling?*"
   ]
  },
  {
   "cell_type": "markdown",
   "metadata": {},
   "source": [
    "### RQ1: Functions\n",
    "\n",
    "- Function *get_topic_coherences*:\n",
    "\n",
    "This function takes as input the list of topic coherence values and an index, so that the coherences of the single topics in one certain model can be printed out, e.g. for analysis.\n",
    "\n",
    "- Function *get_model_info*:\n",
    "\n",
    "The function takes an index as input as well as the lists of model names, models, coherence values, perplexity values and topic coherence values. Those in combination with the used index, those lists are used to display the most important information about the models.\n",
    "\n",
    "- Function *find_topics*:\n",
    "\n",
    "Considering each text from corpus this function initially determines which topic has the highest probability in the specific text. In addition, it also extracts the whole topic probability distribution for each of the documents. The function returns a dictionary which contains the text ids as keys and the number of the most prominent topic as values and a list containing all topic probabilities. "
   ]
  },
  {
   "cell_type": "code",
   "execution_count": 43,
   "metadata": {},
   "outputs": [],
   "source": [
    "def get_topic_coherences(topic_coherence_values_cv, index_best_model):\n",
    "    \n",
    "    coherences = []\n",
    "    i = 1\n",
    "    for value in topic_coherence_values_cv[index_best_model]:\n",
    "        coherences.append((i, round(value, 3)))\n",
    "        i +=1 \n",
    "        \n",
    "    return coherences"
   ]
  },
  {
   "cell_type": "code",
   "execution_count": 42,
   "metadata": {},
   "outputs": [],
   "source": [
    "def get_model_info(selected_index, model_names, model_list, coherence_values, perplexity_values, topic_coherence_values):\n",
    "    \n",
    "    logging.basicConfig(format='%(asctime)s : %(levelname)s : %(message)s', level=logging.INFO)\n",
    "    \n",
    "    logging.info('Index of the selected model: %s', selected_index)\n",
    "    logging.info('Model name (k, alpha, beta parameters): %s', model_names[selected_index])\n",
    "    logging.info('Number of topics in the selected model: %s', model_list[selected_index].num_topics)\n",
    "    logging.info('Coherence of the selected Topic Model: %s', coherence_values[selected_index])\n",
    "    logging.info('Perplexity value: %s', perplexity_values[selected_index])\n",
    "    logging.info('Topic coherences: %s \\n', get_topic_coherences(topic_coherence_values, selected_index)) "
   ]
  },
  {
   "cell_type": "code",
   "execution_count": 41,
   "metadata": {},
   "outputs": [],
   "source": [
    "def get_main_topics(all_topics):\n",
    "    \n",
    "    main_topics = {}\n",
    "    i = 0\n",
    "    for doc_topics in all_topics:\n",
    "        # retrieve the item in doc_topics with highest second value in tuple\n",
    "        most_salient_topics = max(doc_topics, key=itemgetter(1))\n",
    "        topic_no, probability = most_salient_topics\n",
    "        # filling the dictionary with the text IDs as keys and the most salient topics as values\n",
    "        main_topics[i] = topic_no +1\n",
    "        i += 1\n",
    "        \n",
    "    # returns a dictionary with text indexes as keys and the number of the salient topic as values\n",
    "    return main_topics"
   ]
  },
  {
   "cell_type": "code",
   "execution_count": 40,
   "metadata": {},
   "outputs": [],
   "source": [
    "def find_document_topics(corpus, model):\n",
    "    \n",
    "    topics_per_document = []\n",
    "    salient_topics = {}\n",
    "    i = 0\n",
    "\n",
    "    for document in corpus:\n",
    "        doc_topics = model.get_document_topics(document)\n",
    "        \n",
    "        #finding the most salient topic in each text\n",
    "        most_salient_topics = max(doc_topics, key=itemgetter(1))\n",
    "        salient_topic_number, salient_topic_probability = most_salient_topics\n",
    "        salient_topics[i] = salient_topic_number +1\n",
    "        \n",
    "        #saving the complete topic distribution of each text in a list\n",
    "        probabilities = []\n",
    "        for topic in doc_topics:\n",
    "            topic_num, probability = topic\n",
    "            probabilities.append(probability)\n",
    "        topics_per_document.append(probabilities)\n",
    "        i += 1    \n",
    "    \n",
    "    return salient_topics, topics_per_document"
   ]
  },
  {
   "cell_type": "markdown",
   "metadata": {},
   "source": [
    "### RQ1: Main"
   ]
  },
  {
   "cell_type": "markdown",
   "metadata": {},
   "source": [
    "<font color=red> Modelle noch in richtigen Ordner legen </font>"
   ]
  },
  {
   "cell_type": "code",
   "execution_count": 38,
   "metadata": {
    "tags": [
     "cell #17"
    ]
   },
   "outputs": [],
   "source": [
    "# reopening the models with k=32 again\n",
    "model_list_cv = open_variable('Models/k32_seed3/', '32_model_list_cv.pckl')\n",
    "coherence_values_cv = open_variable('Models/k32_seed3/', '32_coherence_values_cv.pckl')\n",
    "topic_coherence_values_cv = open_variable('Models/k32_seed3/', '32_topic_coherence_values.pckl')\n",
    "model_names_cv = open_variable('Models/k32_seed3/', '32_model_names.pckl')\n",
    "perplexity_values_cv = open_variable('Models/k32_seed3/', '32_perplexity_values.pckl')"
   ]
  },
  {
   "attachments": {},
   "cell_type": "markdown",
   "metadata": {},
   "source": [
    "Choosing the optimal Topic Model:\n",
    "Inspecting the models with the highest coherences and selecting one of the models for further use. The highest coherence in this modeling pass is ca. 0.5 (see the visualization created before). Thus, to somehow structure the process of finding a meaningful model, a threshold of coherence = 0.475 or higher was chosen to filter the models according to their coherence."
   ]
  },
  {
   "cell_type": "code",
   "execution_count": 44,
   "metadata": {
    "tags": [
     "cell #18"
    ]
   },
   "outputs": [
    {
     "name": "stderr",
     "output_type": "stream",
     "text": [
      "2023-08-18 16:26:17,722 : INFO : Index of the selected model: 5\n",
      "2023-08-18 16:26:17,770 : INFO : Model name (k, alpha, beta parameters): ('32', '0.01', 'auto')\n",
      "2023-08-18 16:26:17,774 : INFO : Number of topics in the selected model: 32\n",
      "2023-08-18 16:26:17,778 : INFO : Coherence of the selected Topic Model: 0.47518148079689115\n",
      "2023-08-18 16:26:17,782 : INFO : Perplexity value: -9.960594973875374\n",
      "2023-08-18 16:26:17,788 : INFO : Topic coherences: [(1, 0.535), (2, 0.477), (3, 0.534), (4, 0.533), (5, 0.432), (6, 0.502), (7, 0.415), (8, 0.462), (9, 0.372), (10, 0.549), (11, 0.455), (12, 0.516), (13, 0.546), (14, 0.448), (15, 0.386), (16, 0.432), (17, 0.378), (18, 0.421), (19, 0.45), (20, 0.44), (21, 0.576), (22, 0.509), (23, 0.511), (24, 0.569), (25, 0.532), (26, 0.28), (27, 0.52), (28, 0.402), (29, 0.511), (30, 0.592), (31, 0.495), (32, 0.425)] \n",
      "\n",
      "2023-08-18 16:26:17,791 : INFO : Index of the selected model: 15\n",
      "2023-08-18 16:26:17,793 : INFO : Model name (k, alpha, beta parameters): ('32', '0.61', '0.9099999999999999')\n",
      "2023-08-18 16:26:17,794 : INFO : Number of topics in the selected model: 32\n",
      "2023-08-18 16:26:17,796 : INFO : Coherence of the selected Topic Model: 0.5039984840433469\n",
      "2023-08-18 16:26:17,798 : INFO : Perplexity value: -10.370451642820827\n",
      "2023-08-18 16:26:17,800 : INFO : Topic coherences: [(1, 0.242), (2, 0.458), (3, 0.459), (4, 0.485), (5, 0.443), (6, 0.527), (7, 0.482), (8, 0.58), (9, 0.423), (10, 0.51), (11, 0.574), (12, 0.552), (13, 0.459), (14, 0.568), (15, 0.555), (16, 0.545), (17, 0.549), (18, 0.543), (19, 0.506), (20, 0.578), (21, 0.536), (22, 0.581), (23, 0.549), (24, 0.546), (25, 0.556), (26, 0.487), (27, 0.41), (28, 0.529), (29, 0.525), (30, 0.528), (31, 0.395), (32, 0.445)] \n",
      "\n",
      "2023-08-18 16:26:17,803 : INFO : Index of the selected model: 39\n",
      "2023-08-18 16:26:17,807 : INFO : Model name (k, alpha, beta parameters): ('32', 'auto', '0.9099999999999999')\n",
      "2023-08-18 16:26:17,813 : INFO : Number of topics in the selected model: 32\n",
      "2023-08-18 16:26:17,815 : INFO : Coherence of the selected Topic Model: 0.48119171996492827\n",
      "2023-08-18 16:26:17,817 : INFO : Perplexity value: -10.40464174524202\n",
      "2023-08-18 16:26:17,819 : INFO : Topic coherences: [(1, 0.4), (2, 0.458), (3, 0.554), (4, 0.547), (5, 0.496), (6, 0.389), (7, 0.456), (8, 0.571), (9, 0.361), (10, 0.558), (11, 0.414), (12, 0.493), (13, 0.335), (14, 0.443), (15, 0.543), (16, 0.518), (17, 0.51), (18, 0.553), (19, 0.446), (20, 0.583), (21, 0.466), (22, 0.373), (23, 0.496), (24, 0.554), (25, 0.56), (26, 0.391), (27, 0.497), (28, 0.497), (29, 0.504), (30, 0.538), (31, 0.31), (32, 0.582)] \n",
      "\n"
     ]
    }
   ],
   "source": [
    "possible_models = []\n",
    "for value in coherence_values_cv:\n",
    "    if value > 0.475:\n",
    "        selected_index = coherence_values_cv.index(value)\n",
    "        get_model_info(selected_index, model_names_cv, model_list_cv, coherence_values_cv, perplexity_values_cv, topic_coherence_values_cv)"
   ]
  },
  {
   "cell_type": "markdown",
   "metadata": {},
   "source": [
    "Visualizing the generated models with pyLDAvis, so that the optimal model can be chosen."
   ]
  },
  {
   "cell_type": "code",
   "execution_count": 16,
   "metadata": {
    "tags": [
     "cell #20"
    ]
   },
   "outputs": [],
   "source": [
    "pyLDAvis.enable_notebook()\n",
    "vis = pyLDAvis.gensim_models.prepare(model_list_cv[5], corpus, id2word)\n",
    "pyLDAvis.show(vis, local=False)"
   ]
  },
  {
   "cell_type": "markdown",
   "metadata": {},
   "source": [
    "After close inspection, the model with index=42 seems to fit the purposes best (This is the model initially created while finding the optimal k). Thus, it is determined as the optimal model:"
   ]
  },
  {
   "cell_type": "code",
   "execution_count": 17,
   "metadata": {},
   "outputs": [
    {
     "name": "stderr",
     "output_type": "stream",
     "text": [
      "2023-08-16 08:58:30,043 : INFO : LdaState lifecycle event {'fname_or_handle': 'Models/optimal_model_k32.model.state', 'separately': 'None', 'sep_limit': 10485760, 'ignore': frozenset(), 'datetime': '2023-08-16T08:58:30.043089', 'gensim': '4.2.0', 'python': '3.10.5 (tags/v3.10.5:f377153, Jun  6 2022, 16:14:13) [MSC v.1929 64 bit (AMD64)]', 'platform': 'Windows-10-10.0.19045-SP0', 'event': 'saving'}\n",
      "2023-08-16 08:58:30,061 : INFO : saved Models/optimal_model_k32.model.state\n",
      "2023-08-16 08:58:30,126 : INFO : LdaModel lifecycle event {'fname_or_handle': 'Models/optimal_model_k32.model', 'separately': \"['expElogbeta', 'sstats']\", 'sep_limit': 10485760, 'ignore': ['id2word', 'state', 'w', 'dispatcher'], 'datetime': '2023-08-16T08:58:30.126188', 'gensim': '4.2.0', 'python': '3.10.5 (tags/v3.10.5:f377153, Jun  6 2022, 16:14:13) [MSC v.1929 64 bit (AMD64)]', 'platform': 'Windows-10-10.0.19045-SP0', 'event': 'saving'}\n",
      "2023-08-16 08:58:30,127 : INFO : storing np array 'expElogbeta' to Models/optimal_model_k32.model.expElogbeta.npy\n",
      "2023-08-16 08:58:30,136 : INFO : not storing attribute id2word\n",
      "2023-08-16 08:58:30,138 : INFO : not storing attribute state\n",
      "2023-08-16 08:58:30,140 : INFO : not storing attribute dispatcher\n",
      "2023-08-16 08:58:30,145 : INFO : saved Models/optimal_model_k32.model\n"
     ]
    }
   ],
   "source": [
    "optimal_model = model_list_cv[5]\n",
    "final_num_topics = optimal_model.num_topics\n",
    "optimal_model.save(\"Models/optimal_model_k32.model\", \"w\")"
   ]
  },
  {
   "cell_type": "markdown",
   "metadata": {},
   "source": [
    "If needed, the model can be loaded from the folder with the following line"
   ]
  },
  {
   "cell_type": "code",
   "execution_count": 19,
   "metadata": {
    "tags": [
     "cell #21"
    ]
   },
   "outputs": [],
   "source": [
    "optimal_model = LdaModel.load(\"Models/optimal_model_k32.model\")"
   ]
  },
  {
   "attachments": {},
   "cell_type": "markdown",
   "metadata": {},
   "source": [
    "Which topic is the most salient topic in which text?"
   ]
  },
  {
   "cell_type": "code",
   "execution_count": 34,
   "metadata": {},
   "outputs": [
    {
     "name": "stdout",
     "output_type": "stream",
     "text": [
      "27 DHd-Verband-DHd-Abstracts-2014-667e2de/PDF-files/FORKEL_Robert_CLLD_Datenpublikationen_in_der_Linguistik.pdf\n",
      "57 DHd-Verband-DHd-Abstracts-2014-667e2de/PDF-files/LÜCKE_Stephan_Das_Projekt_VerbaAlpina.pdf\n",
      "163 DHd-Verband-DHd-Abstracts-2015-615abf8/PDF-files/150227_EmpirischeAnsätze_3_Elwert-Beziehung_und_Bedeutung_Soziale_und_semantische_Netzwerkanalyse_religionshistorischer_Korpora-1311163.pdf\n",
      "197 DHd-Verband-DHd-Abstracts-2015-615abf8/PDF-files/HOMBURG_Timo_Learning_cuneiform_the_modern_way.pdf\n",
      "230 DHd-Verband-DHd-Abstracts-2015-615abf8/PDF-files/CAPELLE_im_19._Jahrhunderts.pdf\n",
      "234 DHd-Verband-DHd-Abstracts-2016-2fa852e/XML-files/panels-004.xml\n",
      "239 DHd-Verband-DHd-Abstracts-2016-2fa852e/XML-files/posters-001.xml\n",
      "272 DHd-Verband-DHd-Abstracts-2016-2fa852e/XML-files/posters-034.xml\n",
      "277 DHd-Verband-DHd-Abstracts-2016-2fa852e/XML-files/posters-039.xml\n",
      "288 DHd-Verband-DHd-Abstracts-2016-2fa852e/XML-files/posters-051.xml\n",
      "300 DHd-Verband-DHd-Abstracts-2016-2fa852e/XML-files/posters-063.xml\n",
      "402 DHd-Verband-DHd-Abstracts-2017-23dc821/XML-files/plenary-SUESS.xml\n",
      "501 DHd-Verband-DHd-Abstracts-2018-7697044/XML-files/BURGHARDT_Manuel_Digital_Dylan___Computergestützte_Analyse_d.xml\n",
      "510 DHd-Verband-DHd-Abstracts-2018-7697044/XML-files/DECLERCK_Thierry_Formalisierung_von_Märchen.xml\n",
      "518 DHd-Verband-DHd-Abstracts-2018-7697044/XML-files/DÄNGELI_Peter_Von_der_geschlossenen_Forschungsdatenbank_zur_.xml\n",
      "523 DHd-Verband-DHd-Abstracts-2018-7697044/XML-files/FICHTNER_Mark_Von_Drupal_8_zur_virtuellen_Forschungsumgebung.xml\n",
      "537 DHd-Verband-DHd-Abstracts-2018-7697044/XML-files/GROSSE_Peggy_Interpretation_und_Unschärfe_bei_der_semantisch.xml\n",
      "551 DHd-Verband-DHd-Abstracts-2018-7697044/XML-files/HOMBURG_Timo_Semantische_Extraktion_auf_antiken_Schriften_am.xml\n",
      "555 DHd-Verband-DHd-Abstracts-2018-7697044/XML-files/KAMOCKI_Pawel_Das_neue__Gesetz_zur_Angleichung_des_Urheberre.xml\n",
      "567 DHd-Verband-DHd-Abstracts-2018-7697044/XML-files/KRAUTTER_Benjamin_Quantitatives__close_reading___Vier_mikroa.xml\n",
      "577 DHd-Verband-DHd-Abstracts-2018-7697044/XML-files/LÖCKER_HERSCHKOWITZ_Johannes_A__Fachspezifische_Herausforder.xml\n",
      "610 DHd-Verband-DHd-Abstracts-2018-7697044/XML-files/SCHASSAN_Torsten__Im_Netz_der_Möglichkeiten___Wechselwirkung.xml\n",
      "612 DHd-Verband-DHd-Abstracts-2018-7697044/XML-files/SCHLESINGER_Claus_Michael_Die_Max_Bense_Collection__Digitale.xml\n",
      "636 DHd-Verband-DHd-Abstracts-2018-7697044/XML-files/ULLRICH_Sabine__Aufdecken_von__versteckten__Einflüssen__Teil.xml\n",
      "696 DHd-Verband-DHd-Abstracts-2019-9957e6f/XML-files/188_final-SCHLUPKOTHEN_Frederik_FormIt__Eine_multimodale_Arbeitsumgebu.xml\n",
      "791 DHd-Verband-DHd-Abstracts-2020-2da3c62/XML-files/117_final-HODEL_Tobias_Best_practices_zur_Erkennung_alter_Drucke_und_H.xml\n",
      "809 DHd-Verband-DHd-Abstracts-2020-2da3c62/XML-files/143_final-HORSTMANN_Jan_Interpretationsspielräume__Undogmatisches_Anno.xml\n",
      "864 DHd-Verband-DHd-Abstracts-2020-2da3c62/XML-files/221_final-RASTINGER_Nina_Claudia_Zwischen_geisteswissenschaftlicher_Of.xml\n",
      "865 DHd-Verband-DHd-Abstracts-2020-2da3c62/XML-files/222_final-PÖCKELMANN_Marcus_Keter_Shem__ov___Prozessualisierung_eines_.xml\n",
      "885 DHd-Verband-DHd-Abstracts-2020-2da3c62/XML-files/246_final-SCHOLGER_Martina_Das_Theater_mit_dem_Theater__Thementransfer.xml\n",
      "915 DHd-Verband-DHd-Abstracts-2020-2da3c62/XML-files/FLANDERS_Keynote.xml\n",
      "922 DHd-Verband-DHd-Abstracts-2022-45a164a/XML-Files/ANDORFER_Peter_NERDPool___Datenpool_für_Named_Entity_Recogni.xml\n",
      "949 DHd-Verband-DHd-Abstracts-2022-45a164a/XML-Files/DÖRING_Marten_Grenz_berschreitendes_Textmining_von_Historisc.xml\n",
      "975 DHd-Verband-DHd-Abstracts-2022-45a164a/XML-Files/HELLING_Patrick_Pragmatisches_Forschungsdatenmanagement___qu.xml\n",
      "980 DHd-Verband-DHd-Abstracts-2022-45a164a/XML-Files/HIGH_STESKAL_Nicole_What_s_in_a_name__Die_Rolle_der_Sprache_.xml\n",
      "990 DHd-Verband-DHd-Abstracts-2022-45a164a/XML-Files/KINDLER_Sebastian__Das_Puzzle_zusammensetzen___Von_analogen_.xml\n",
      "1011 DHd-Verband-DHd-Abstracts-2022-45a164a/XML-Files/MEISTER_Malte_GitMA_Poster__CATMA_Daten_via_Git_abrufen_und_.xml\n",
      "1022 DHd-Verband-DHd-Abstracts-2022-45a164a/XML-Files/ODEBRECHT_Carolin_Referenzierung_des_digitalen_kulturellen__.xml\n",
      "1069 DHd-Verband-DHd-Abstracts-2022-45a164a/XML-Files/WUTTKE_Ulrike_Spotlights__Wie_das_OpenMethods_Metablog_Digit.xml\n",
      "1077 xml_final/STAHN_Lena_Luise_Von_Wissensdingen_und_Werkr_umen__Graph_bas.xml\n",
      "1105 xml_final/MAYER_Manuela_Das_QhoD_Projekt__Digitale_Edition_von_Quellen.xml\n",
      "1107 xml_final/SCHULZ_Daniela_Offene_Editionen___Die_Task_Area_Editionen_im.xml\n",
      "1113 xml_final/SUTOR_Nadine_Doctoral_Consortium__Nadine_Sutor.xml\n",
      "1116 xml_final/NIEMANN_Klara_Datenaufbereitung_und__kuration_im_Spannungsfe.xml\n",
      "1127 xml_final/TRIPPEL_Thorsten_Korpora_modular__verteilt__vernetzt_in_Text.xml\n",
      "1128 xml_final/SCHELBERT_Georg_Sammlungsdaten_mit_Wikidata_anreichern_und_f.xml\n",
      "1152 xml_final/PICHLER_Axel_Urheberrechtlich_gesch_tzte_Texte_nachnutzen___.xml\n",
      "1159 xml_final/D_RFELD_Michael_ARS___Architecture_Research_Stage.xml\n",
      "1160 xml_final/HORSTMANN_Jan_Algorithmen_anwenden___algorithmisch_denken.xml\n",
      "1181 xml_final/HORSTMANN_Jan_Grenzen_der_Offenheit__eine_digitale_Sammlung_.xml\n"
     ]
    }
   ],
   "source": [
    "main_topics, topics_per_document = find_document_topics(corpus, optimal_model)\n",
    "\n",
    "for item in main_topics.items():\n",
    "    key, value = item\n",
    "    if value == 24:\n",
    "        print(key, textnames[key])"
   ]
  },
  {
   "attachments": {},
   "cell_type": "markdown",
   "metadata": {},
   "source": [
    "<span style=\"color: red;\"> Löschen wenn nicht gebraucht </span>\n",
    "\n",
    "For all: https://github.com/RaRe-Technologies/gensim/blob/develop/docs/notebooks/topic_methods.ipynb\n",
    "\n",
    "Getting the most frequent words per topic and the probability of a term per topic"
   ]
  },
  {
   "cell_type": "code",
   "execution_count": 186,
   "metadata": {},
   "outputs": [],
   "source": [
    "# optimal_model.show_topics(num_topics=final_num_topics)\n",
    "# # optimal_model.get_term_topics('kybernetik')"
   ]
  },
  {
   "attachments": {},
   "cell_type": "markdown",
   "metadata": {},
   "source": [
    "==========================================================================================================================\n",
    "\n",
    "==========================================================================================================================\n",
    "\n",
    "=========================================================================================================================="
   ]
  },
  {
   "attachments": {},
   "cell_type": "markdown",
   "metadata": {},
   "source": [
    "## Research Question 2: Hierarchical Clustering and Topic Similarity\n",
    "\n",
    "### *Which topics appear together frequently in one abstract and therefore have a high topic similarity?*\n",
    "\n",
    "- Function *calculate_euclidean_distances*:\n",
    "\n",
    "This function takes as input the vectors of each topic in each document. This means that with k=32 and for example 100 documents from 2014, 32 vectors of the length 100 are created. Through this, the distance between the vectors can be calculated by the Euclidean distance. This finally enables the hierarchical clustering to see which topics occurr together frequently. \n",
    "\n",
    "- Function *create_dendrogramm*:\n",
    "\n",
    "The function has the purpose to create a dendrogramm for hierarchical clustering with the input data. It is given a vector as input, as well as titles for x-axis and the whole visualization, labels for the leaves, the degree of label rotation and the resulting file name. For the clustering process itself, the library scipy is used with its objects cluster.hierarchy.dendrogramm and .linkage (shc.dendrogramm/shc.linkage)."
   ]
  },
  {
   "cell_type": "code",
   "execution_count": 180,
   "metadata": {},
   "outputs": [],
   "source": [
    "def calculate_euclidean_distances(topic_vectors_years):\n",
    "    \n",
    "    # calculating the distance of each topic's topic distribution to any other topics' distribution with Hellinger Distance \n",
    "    euclidean_distances_years = []\n",
    "    for top in topic_vectors_years:\n",
    "        vec_distances = []\n",
    "        # comparing the distance between the topic distribution of one text to the distribution of all other texts\n",
    "        for comparison in topic_vectors_years:\n",
    "            vec_distances.append(math.dist(top, comparison))\n",
    "        # returns list of lists, in which the distance of each document to each other document is saved    \n",
    "        euclidean_distances_years.append(vec_distances)\n",
    "    \n",
    "    return euclidean_distances_years"
   ]
  },
  {
   "cell_type": "code",
   "execution_count": 298,
   "metadata": {},
   "outputs": [],
   "source": [
    "def create_dendrogram(vector, xlabel, plot_title, leaf_labels, rotation, filename):\n",
    "    \n",
    "    plt.figure(figsize=(20, 18))\n",
    "    plt.xlabel(xlabel)  \n",
    "    plt.title(plot_title, fontsize = 18) \n",
    "    dend = shc.dendrogram(shc.linkage(vector, method='ward'), labels = leaf_labels, leaf_font_size=14, leaf_rotation = rotation)\n",
    "    plt.savefig(filename, format='svg')"
   ]
  },
  {
   "cell_type": "markdown",
   "metadata": {},
   "source": [
    "### RQ2: Main\n",
    "\n",
    "Creating a dendrogramm with the topic distances for every year observed"
   ]
  },
  {
   "cell_type": "code",
   "execution_count": 303,
   "metadata": {
    "tags": [
     "cell #24"
    ]
   },
   "outputs": [],
   "source": [
    "for i in range(0, len(indexes)-1):\n",
    "    # separating the data according to the conference year the texts belong to\n",
    "    data = topics_per_document[indexes[i]:indexes[i+1]]\n",
    "    \n",
    "    # creating and transposing DataFrame to easily extract each first, second, third value in the lists\n",
    "    df_topic_averages = pd.DataFrame(data=data).T\n",
    "    \n",
    "    # topic_vectors contains a list for each year\n",
    "    # each list contains the probability of the respective topic for each text of the year, therefore each list is as long as the indexes indicate\n",
    "    # therefore, topic_vectors_years[0] contains topic 0's probabilities from all texts from the analyzed year, topic_vectors[1] contains topic 1's probabilities from the year\n",
    "    topic_vectors_years = []\n",
    "    for j in range(0, final_num_topics):\n",
    "        topic_vectors_years.append(df_topic_averages.iloc[j].values)\n",
    "\n",
    "    # calculating the distance of each topic's topic distribution to any other topics' distribution with Euclidean Distance \n",
    "    euclidean_distances_years = calculate_euclidean_distances(topic_vectors_years)\n",
    "    \n",
    "    create_dendrogram(euclidean_distances_years, 'Topics', filenames[i]+': Hierarchical Clustering of All Topics Based on Euclidean Distance', \n",
    "                       range(1, final_num_topics+1), 45,'Figures/RQ2/RQ2_Clustering'+ filenames[i]+'.svg')"
   ]
  },
  {
   "cell_type": "markdown",
   "metadata": {},
   "source": [
    "Creating a dendrogramm with the topic distances for all years combined"
   ]
  },
  {
   "cell_type": "code",
   "execution_count": 302,
   "metadata": {
    "tags": [
     "cell #25"
    ]
   },
   "outputs": [],
   "source": [
    "# creating DataFrame to easily extract each first, second, third value in the lists\n",
    "df_averages = pd.DataFrame(data=topics_per_text).T\n",
    "topic_vectors_total = []\n",
    "\n",
    "# basically same operations as above, but without splitting by years\n",
    "for i in range(0, final_num_topics):\n",
    "    topic_vectors_total.append(df_averages.iloc[i].values)\n",
    "\n",
    "# calculating the distance of each topic's topic distribution to any other topics' distribution with Euclidean Distance \n",
    "euclidean_distances_years = calculate_euclidean_distances(topic_vectors_total)\n",
    "\n",
    "create_dendrogramm(euclidean_distances_years, 'Topics', '2016-2023: Hierarchical Clustering of Topics Based on Euclidean Distance', range(1, final_num_topics+1), 45 ,'Figures/RQ2/RQ2__Clustering_AllYears.svg')"
   ]
  },
  {
   "attachments": {},
   "cell_type": "markdown",
   "metadata": {},
   "source": [
    "==========================================================================================================================\n",
    "\n",
    "==========================================================================================================================\n",
    "\n",
    "=========================================================================================================================="
   ]
  },
  {
   "attachments": {},
   "cell_type": "markdown",
   "metadata": {},
   "source": [
    "## Research Question 3: Mann-Kendall-Test\n",
    "\n",
    "### *How have the topics been changing throughout the years - which trends are perceptible?*\n",
    "\n",
    "\n",
    "Mann-Kendall-Test:\n",
    "\n",
    "- MK-Test analyzes whether there is a trend in a topic's appearance over time: increasing, decreasing, no trend (Chen et al., 2020; Mann, 1945)\n",
    "- results are statistically significant if p <= 0.05\n",
    "- results are highly statistically significant if p <= 0.01\n",
    "- [Further Information on Mann-Kendall-Test](https://www.geeksforgeeks.org/how-to-perform-a-mann-kendall-trend-test-in-python/)\n",
    "\n",
    "\n",
    "### RQ3: Functions\n",
    "\n",
    "- Function *calculate_topic_average*:\n",
    "\n",
    "This function takes the list of indexes for each year's corpus as well as the lists of topics per text as input. The latter one contains a list of probabilities for every topic for every text in the corpus. On the basis of those probabilites and separated by the DHd-year the texts belong to, the average probability of each topic within each conference year is calculated. Those averages are then stored in another list, which is returned."
   ]
  },
  {
   "cell_type": "code",
   "execution_count": 19,
   "metadata": {
    "tags": [
     "cell #26"
    ]
   },
   "outputs": [],
   "source": [
    "def calculate_topic_average(indexes, topics_per_text):\n",
    "    \n",
    "    averages_per_topic_per_year = []\n",
    "    i = 0 \n",
    "    j = 1\n",
    "    while i < int(len(indexes)-1):\n",
    "        all_probabilities = []\n",
    "        for text in topics_per_text[indexes[i]:indexes[j]]:\n",
    "            all_probabilities.append(text)\n",
    "        # dividing the sum of all first, second, third... values by the number of values to get the average of all n topics for one year\n",
    "        averages_per_topic = (np.sum(all_probabilities, axis=0)/len(all_probabilities))\n",
    "        averages_per_topic_per_year.append(averages_per_topic)\n",
    "        i +=1\n",
    "        j += 1\n",
    "        \n",
    "    return averages_per_topic_per_year"
   ]
  },
  {
   "attachments": {},
   "cell_type": "markdown",
   "metadata": {},
   "source": [
    "### RQ3: Main"
   ]
  },
  {
   "cell_type": "code",
   "execution_count": 20,
   "metadata": {
    "tags": [
     "cell #27"
    ]
   },
   "outputs": [],
   "source": [
    "# using the list of names of documents for each year to count how many documents belong to one year\n",
    "topic_averages = calculate_topic_average(indexes, topics_per_text)\n",
    "\n",
    "# creating a dataframe which shows the average probability of a topic in each year\n",
    "df_averages = pd.DataFrame(topic_averages, index=filenames).T\n",
    "\n",
    "# conducting the Mann-Kendall-Test for each of the topics\n",
    "df_mk = []\n",
    "for i in range(0, final_num_topics):\n",
    "    df_mk.append(mk.original_test(df_averages.values[i]))\n",
    "mk_results = pd.DataFrame(df_mk)\n",
    "\n",
    "# joining the averages-DF and the Mann-Kendall-Test-DF in order to have complete csv-file\n",
    "mk_df = df_averages.join(mk_results)\n",
    "# rename columns so that topics are 1-22 and not 0-21 (similar in all other uses)\n",
    "mk_df.index = list(np.arange(1, final_num_topics+1, 1))\n",
    "mk_df.to_csv('Figures/RQ3/RQ3__Mann-Kendall.csv')"
   ]
  },
  {
   "attachments": {},
   "cell_type": "markdown",
   "metadata": {},
   "source": [
    "### RQ3: Line Plot Visualization"
   ]
  },
  {
   "cell_type": "code",
   "execution_count": 22,
   "metadata": {
    "tags": [
     "cell #28"
    ]
   },
   "outputs": [],
   "source": [
    "# dividing up the number of topics in order to plot understandable graphs \n",
    "parts = [0, round(final_num_topics*0.25), round(final_num_topics*0.5), round(final_num_topics*0.75), final_num_topics]\n",
    "\n",
    "for k in range(len(parts)-1):\n",
    "    line_chart = pygal.Line(x_title='Years Observed', y_title='Average Probability of the Topic')\n",
    "    line_chart.title = 'Average Probabilities of Topics over the Years'\n",
    "    line_chart.x_labels = filenames\n",
    "    for i in range(parts[k], parts[k+1]):\n",
    "        line_chart.add(str('Topic ' + str(i+1)), df_averages.values[i])\n",
    "    \n",
    "    name = 'Figures/RQ3/RQ3__TopicProbabilitiesPerYear_' + str(parts[k]+1) + '-' + str((parts[k+1])) + '.svg'\n",
    "    line_chart.render_to_file(name) "
   ]
  },
  {
   "attachments": {},
   "cell_type": "markdown",
   "metadata": {},
   "source": [
    "==========================================================================================================================\n",
    "\n",
    "==========================================================================================================================\n",
    "\n",
    "=========================================================================================================================="
   ]
  },
  {
   "attachments": {},
   "cell_type": "markdown",
   "metadata": {},
   "source": [
    "## Research Question 4: Use and Development of Research Methods\n",
    "### *With regard to the use of different scientific methods, which developments are perceptible?*"
   ]
  },
  {
   "attachments": {},
   "cell_type": "markdown",
   "metadata": {},
   "source": [
    "There are two types of keywords used in the xml-files of the DHd-Conferences: \\<keywords scheme=\"ConfTool\" n=\"keywords\"> and \\<keywords scheme=\"ConfTool\" n=\"topics\">. The former may be used by authors to freely annotate their xml-file with words which they want to be in the metadata, while the latter one only allows for a selection of keywords.\n",
    "From 2016 on, authors to the conference could select keywords to be used in the xml-file to their contribution. The list of keywords is 75 items long, out of which six can currently be selected for the xml-file. Yet, in 2016 and 2017, this restriction has not been made, so that authors could select more than six keywords for the metadata. The full list of usable keywords is called 'conf_tool_methods' and will be used in the following.\n",
    "\n",
    "\n",
    "### RQ4: Functions\n",
    "\n",
    "- Function *count_keywords*:\n",
    "\n",
    "This function is the first to be called for RQ4 and takes two lists as input arguments. The first one contains all freely-assigned keywords which were used in all xml-texts from 2016 until 2023. This list is then used to create a dictionary for counting the used methods. At first, all values to the keys, which are the methods' names, are set to 0, but then the second list provided will be iterated over and the values of the methods are added to. This happens for each DHd-year separately, so that the sorted list returned by *count_keywords* provides an overview of which methods were used how often in which year.\n",
    "\n",
    "- Function *find_popular_methods*:\n",
    "\n",
    "*find_popular_methods* takes the list provided by *count_keywords* as input and extracts the first five entries for each year. Those entries are the five most-often used keywords for the respective year and they are added to a list which stores the most popular methods. The list is returned by the function.\n",
    "\n",
    "- Function *calculate_relative_count*:\n",
    "\n",
    "The function takes as input the popular keywords extracted in the previous function, the sorted list of counted keywords from *count_keywords* as well as a list stating how many xml-files are in each conference year's corpus. The function's purpose, in the first step, is to find out how often each of the popular keywords is used over the years, i.e. over all corpora. As a second step, this count of the method is then divided by the number of documents in the corpus in order to compute relative instead of absolute numbers. This is necessary because there are larger and smaller corpora in the collection, which could distort the interpretation of numbers. \n",
    "\n",
    "- Function *information_on_keywords*:\n",
    "\n",
    "This function calls on the other three functions sequentially and returns the relative count of use of keywords.\n",
    "\n",
    "- Function *chart_and_csv*:\n",
    "\n",
    "*chart_and_cv* takes as input data calculated beforehand as well as titles for the resulting output. It turns the given data into a line chart containing only a small amount of selected data as well as a csv file that contains all data. "
   ]
  },
  {
   "cell_type": "code",
   "execution_count": 23,
   "metadata": {
    "tags": [
     "cell #29"
    ]
   },
   "outputs": [],
   "source": [
    "def count_keywords(complete_list, year_list):\n",
    "    # for each year, a large list of all possible, freely annotated keywords is set up and the count for each of the keywords is set to 0\n",
    "    # if the method appears in the specific year's list, +1 will be added to the count\n",
    "     \n",
    "    counted_keywords_per_year = []\n",
    "    for year in year_list:\n",
    "        dict = {}\n",
    "        for method in complete_list:\n",
    "            dict[method] = 0\n",
    "        for method in year:\n",
    "            dict[method] += 1\n",
    "        # sorting the dict according to the count, so that the item with the highest count comes first\n",
    "        sorted_dict = sorted(dict.items(), key=lambda x: x[1], reverse=True)\n",
    "        counted_keywords_per_year.append(sorted_dict)\n",
    "        \n",
    "    return counted_keywords_per_year"
   ]
  },
  {
   "cell_type": "code",
   "execution_count": 24,
   "metadata": {
    "tags": [
     "cell #30"
    ]
   },
   "outputs": [],
   "source": [
    "def find_most_popular_methods(methods):\n",
    "    # takes sorted list as input in which the methods used and their count (how often were they used/stated as keyword in each year?) is saved\n",
    "    most_popular_methods = []\n",
    "    for year in methods:\n",
    "        # extracts the first five methods (the ones with the highest count) and appends them to another list, in which only the method itself is saved\n",
    "        best_five = year[:5]\n",
    "        for item in best_five: \n",
    "            research_method, count = item\n",
    "            if research_method not in most_popular_methods:\n",
    "                most_popular_methods.append(research_method)\n",
    "                \n",
    "    return most_popular_methods"
   ]
  },
  {
   "cell_type": "code",
   "execution_count": 25,
   "metadata": {
    "tags": [
     "cell #31"
    ]
   },
   "outputs": [],
   "source": [
    "def calculate_relative_count(most_popular_methods, count_keywords, number_xml_docs):\n",
    "    \n",
    "    # for the popular methods, it is looked at how often they appear in each year's corpus\n",
    "    # then, that count will be divided by the total number of texts in that corpus, which results in a proportional frequency of the keyword to the corpus size \n",
    "    relative_dict = {}\n",
    "    for item in most_popular_methods:\n",
    "        item_count = []\n",
    "        for year in count_keywords:\n",
    "            i = 0\n",
    "            for tuple in year:\n",
    "                name, count = tuple\n",
    "                if name == item:\n",
    "                    item_count.append(round(count/number_xml_docs[i], 3))\n",
    "            i += 1\n",
    "        relative_dict[item] = item_count\n",
    "        \n",
    "    return relative_dict"
   ]
  },
  {
   "cell_type": "code",
   "execution_count": 26,
   "metadata": {
    "tags": [
     "cell #32"
    ]
   },
   "outputs": [],
   "source": [
    "def retrieve_information_on_keywords(total_list, used_keywords_list, number_xml_docs):\n",
    "    \n",
    "    absolute_count_keywords = count_keywords(total_list, used_keywords_list)\n",
    "    most_popular_methods = find_most_popular_methods(absolute_count_keywords)\n",
    "    relative_count_keywords = calculate_relative_count(most_popular_methods, absolute_count_keywords, number_xml_docs)\n",
    "    \n",
    "    return absolute_count_keywords, relative_count_keywords"
   ]
  },
  {
   "cell_type": "code",
   "execution_count": 27,
   "metadata": {
    "tags": [
     "cell #33"
    ]
   },
   "outputs": [],
   "source": [
    "def chart_and_csv(chart_title, filenames_xml, relative_count, chart_filename, all_relative_counts, csv_filename):\n",
    "    # creating a plot for visualisation\n",
    "\n",
    "    line_chart = pygal.Line(truncate_legend=-1, x_title='Years Observed', y_title= 'Number of Usages Per Method' + '\\n' + '(Relative to Corpus Size)')\n",
    "\n",
    "    line_chart.title = chart_title\n",
    "    line_chart.x_labels = filenames_xml\n",
    "    for key in relative_count:\n",
    "        line_chart.add(key, relative_count[key])\n",
    "\n",
    "    line_chart.render_to_file(chart_filename)\n",
    "    \n",
    "    # for complete information, a csv-file is provided with all used keywords and their relative counts\n",
    "    df_averages = pd.DataFrame(all_relative_counts.values(), index=all_relative_counts.keys(),columns=filenames_xml)\n",
    "    df_averages.to_csv(csv_filename)"
   ]
  },
  {
   "attachments": {},
   "cell_type": "markdown",
   "metadata": {},
   "source": [
    "### RQ4: Main"
   ]
  },
  {
   "cell_type": "code",
   "execution_count": 28,
   "metadata": {
    "tags": [
     "cell #34"
    ]
   },
   "outputs": [],
   "source": [
    "# importing the list provided, which contains all selectable options for <keywords n='keywords'>\n",
    "all_predetermined_keywords = open_list('Misc/predetermined_keywords.txt')\n",
    "\n",
    "absolute_count_free_keywords, relative_count_free_keywords = retrieve_information_on_keywords(all_freely_selectable_keywords, used_keywords_freely_selectable, number_xml_docs)\n",
    "absolute_count_predetermined_keywords, relative_count_predetermined_keywords = retrieve_information_on_keywords(all_predetermined_keywords, used_keywords_predetermined, number_xml_docs)"
   ]
  },
  {
   "cell_type": "code",
   "execution_count": 29,
   "metadata": {
    "tags": [
     "cell #35"
    ]
   },
   "outputs": [],
   "source": [
    "# for complete information, a csv-file is provided with all used keywords and their relative counts, in line chart only the most popular ones were taken\n",
    "free_relative_all = calculate_relative_count(all_freely_selectable_keywords, absolute_count_free_keywords, number_xml_docs)\n",
    "predetermined_relative_all = calculate_relative_count(all_predetermined_keywords, absolute_count_predetermined_keywords, number_xml_docs)\n",
    "\n",
    "\n",
    "chart_and_csv('Use of methods in <keywords n=\\'keywords\\'>', filenames_xml, relative_count_free_keywords, \n",
    "             'Figures/RQ4/RQ4__Free_ResearchMethodsPerYear.svg', free_relative_all, 'Figures/RQ4/RQ4__Free_Keywords_All.csv')\n",
    "\n",
    "chart_and_csv('Use of methods in <keywords n=\\'topics\\'>', filenames_xml, relative_count_predetermined_keywords,\n",
    "             'Figures/RQ4/RQ4__Predetermined_ResearchMethodsPerYear.svg', predetermined_relative_all, 'Figures/RQ4/RQ4__Predetermined_Keywords_All.csv')"
   ]
  },
  {
   "attachments": {},
   "cell_type": "markdown",
   "metadata": {},
   "source": [
    "==========================================================================================================================\n",
    "\n",
    "==========================================================================================================================\n",
    "\n",
    "=========================================================================================================================="
   ]
  },
  {
   "attachments": {},
   "cell_type": "markdown",
   "metadata": {},
   "source": [
    "## Research Question 5: Analysis of Authors and Teams of Authors\n",
    "\n",
    "\n",
    "*Which researchers contribute to the conference particularly frequently with abstracts, in which teams do they contribute and how have the teams been changing?*"
   ]
  },
  {
   "attachments": {},
   "cell_type": "markdown",
   "metadata": {},
   "source": [
    "### RQ5: Functions - Part 1: Data Processing\n",
    "\n",
    "- Function *count_appearances_descending*:\n",
    "\n",
    "*count_appearances_descending* takes a list as input and counts how often a list item appears within the list. The function returns a sorted dictionary in which the keys with the highest values come first.\n",
    "\n",
    "- Function *rank_authors*:\n",
    "\n",
    "*rank_authors* takes as input the nested list of authors per text and per year, and turns it one large list containing every author who contributed the conference in one year. This list contains authors twice/three times if they contributed twice/three times within one conference, which is how eventually a count of every author and their contributions to the conferene is set up. The function returns a list of lists, in which the authors' names and their respective count of contributions for one year is stored. This function is necessary to set up the network nodes in a last step.\n",
    "\n",
    "- Function *find_coauthors*:\n",
    "\n",
    "The function *find_coauthors* takes the same list, *authors* as input. Differently to *rank_authors*, however, this function uses the input list to determine the coauthors of one year. This means that it extracts the authors who worked together in one single contribution in pairs and counts how often these pairs appear within one conference year. This function prepares the data for adding edges and their weight to the network.\n",
    "\n",
    "- Function *find_new_authors*:\n",
    "\n",
    "*find_new_authors* takes the output list from *rank_authors* as input and uses it to determine which authors have contributed to one conference but not the previous one. Further, it identifies authors who have never contributed to any DHd conference. This is done by comparing the authors lists of one year with the one from the previous year(s). Those new authors are stored in a list, which is used in the setting up of the network in order to mark those new authors.\n",
    "\n",
    "- Function *convert_tuples_to_dict*:\n",
    "\n",
    "Converts a list of tuples into a dictionary where the first tuple-item is the key and the second tuple-item is the value.\n",
    "\n",
    "- Function *check_for_significant_teams*:\n",
    "\n",
    "Takes the list of the 25 most significant, i.e. most contributing authors as input and the list of coauthors per year. Iterating over these lists, the function then checks whether two of the significant authors collaborated on a conference document and saves this team of authors. \n",
    "\n",
    "- Function *count_team_appearances*:\n",
    "\n",
    "Gets the list of significant teams returned by *check_for_significant_teams* as input and counts how often each team collaborated togehter."
   ]
  },
  {
   "cell_type": "code",
   "execution_count": 190,
   "metadata": {
    "tags": [
     "cell #36"
    ]
   },
   "outputs": [],
   "source": [
    "def count_appearances_descending(input_list):\n",
    "    \n",
    "    count_dict = {}\n",
    "    # for each item in keyword list, check if it is alredy in dictionary\n",
    "    # if not, add and set count to 1, if yes add +1 to count\n",
    "    for item in input_list:\n",
    "        if item not in count_dict.keys():\n",
    "            count_dict[item] = 1\n",
    "        else:\n",
    "            count_dict[item] += 1\n",
    "    # sort dictionary according to highest count in the values\n",
    "    sorted_dict = sorted(count_dict.items(), key=lambda x: x[1], reverse=True)\n",
    "\n",
    "    # return the sorted dictionary (becomes list through sorting though)\n",
    "    return sorted_dict"
   ]
  },
  {
   "cell_type": "code",
   "execution_count": 199,
   "metadata": {
    "tags": [
     "cell #37"
    ]
   },
   "outputs": [],
   "source": [
    "def rank_authors(authors):\n",
    "\n",
    "    all_counted_authors = []\n",
    "    for year in authors:\n",
    "        authors_list_per_year = [] \n",
    "        for team in year:\n",
    "            # create one long list of all authors of one year (not separated by author team)\n",
    "            authors_list_per_year = authors_list_per_year + team\n",
    "        all_counted_authors.append(count_appearances_descending(authors_list_per_year))\n",
    "        \n",
    "    return all_counted_authors"
   ]
  },
  {
   "cell_type": "code",
   "execution_count": 204,
   "metadata": {
    "tags": [
     "cell #38"
    ]
   },
   "outputs": [],
   "source": [
    "def find_coauthors(authors):\n",
    "    \n",
    "    coauthors_per_year = []\n",
    "    for conference_year in authors:\n",
    "        coauthors_list = []\n",
    "        for document_authors in conference_year:\n",
    "            # check if text has at least two authors\n",
    "            if len(document_authors) >= 2:\n",
    "                for i in range(len(document_authors)-1):\n",
    "                    for j in range(i+1, len(document_authors), 1):\n",
    "                        coauthors_list.append((document_authors[i], document_authors[j]))              \n",
    "        dict_coauthors_count = count_appearances_descending(coauthors_list)      \n",
    "        coauthors_per_year.append(dict_coauthors_count) \n",
    "        \n",
    "        \n",
    "    return coauthors_per_year"
   ]
  },
  {
   "cell_type": "code",
   "execution_count": 12,
   "metadata": {
    "tags": [
     "cell #39"
    ]
   },
   "outputs": [],
   "source": [
    "def find_new_authors(all_counted_authors):\n",
    "    \n",
    "     # returns list of people who did not participate previous DHd conferences\n",
    "    new_authors = [[]]\n",
    "    all_prev_authors = []\n",
    "    for i in range(1, len(all_counted_authors)):\n",
    "        current_year = all_counted_authors[i]\n",
    "        prev_year = authors[i-1]\n",
    "        \n",
    "        prev_authors = []\n",
    "        completely_new_authors = []\n",
    "        \n",
    "        for item in prev_year:\n",
    "            prev_authors = prev_authors + item\n",
    "        all_prev_authors = all_prev_authors + prev_authors        \n",
    "        for element in current_year:\n",
    "            name, count = element\n",
    "            if name not in all_prev_authors:\n",
    "                completely_new_authors.append(name)\n",
    "        new_authors.append(completely_new_authors)\n",
    "    \n",
    "    return new_authors"
   ]
  },
  {
   "cell_type": "code",
   "execution_count": 101,
   "metadata": {},
   "outputs": [],
   "source": [
    "def convert_tuples_to_dict(tuple_list):\n",
    "    \n",
    "    new_dict = {}\n",
    "    for tuple in tuple_list:\n",
    "        item1, item2 = tuple\n",
    "        new_dict[item1] = item2\n",
    "\n",
    "    return new_dict   "
   ]
  },
  {
   "cell_type": "code",
   "execution_count": 105,
   "metadata": {},
   "outputs": [],
   "source": [
    "def check_for_significant_teams(list_significant_DHumanists, coauthors):\n",
    "    \n",
    "    teams = []\n",
    "    for i in range(len(list_significant_DHumanists)-1):\n",
    "        for j in range(i+1, len(list_significant_DHumanists), 1):\n",
    "            k = 0\n",
    "            for year in coauthors:\n",
    "                for team in year:\n",
    "                    #check if team of authors consists of only the most significant authors (i.e. the 25 most contributing ones)\n",
    "                    if list_significant_DHumanists[i][0] in team[0][0] and list_significant_DHumanists[j][0] in team[0][1]:\n",
    "                            teams.append(team)\n",
    "                k += 1\n",
    "                \n",
    "    return teams"
   ]
  },
  {
   "cell_type": "code",
   "execution_count": 108,
   "metadata": {},
   "outputs": [],
   "source": [
    "def count_team_appearances(teams):\n",
    "\n",
    "    teams_dict = {}\n",
    "    for element in teams:\n",
    "        author_team, team_count = element\n",
    "        if author_team not in teams_dict.keys():\n",
    "            teams_dict[author_team] = team_count\n",
    "        else:\n",
    "            teams_dict[author_team] += team_count\n",
    "\n",
    "    return teams_dict"
   ]
  },
  {
   "cell_type": "markdown",
   "metadata": {},
   "source": [
    "### RQ5: Functions - Part 2: Network \n",
    "\n",
    "- Function *determine_node_shape*:\n",
    "\n",
    "Depending on how often the author contributed to the DHd conference in the respective year, i.e. whether they are a very frequent author or not, this function returns a string which then determines the author's node's shape in the final network. \n",
    "\n",
    "- Function *add_nodes*:\n",
    "\n",
    "Creates a node for every author that contributed to the DHd in that specific year. Depending on how often that author contributed to the conference in the form of writing an abstract, the shape of the node is determined. \n",
    "\n",
    "- Function *change_color_new_authors*:\n",
    "\n",
    "For every author appearing in the new_authors list, the node color is changed from pink to orange, so that they can be clearly seen in the network.\n",
    "\n",
    "- Function *determine_edge_color*:\n",
    "\n",
    "The function *determine_edge_color* is applied while setting up the network. Based on the so-called coauthor-count, which is determined by the function *find_coauthors*, this function determines the color of the network's edges depending on how often the two authors have worked together in on conference year. \n",
    "\n",
    "- Function *add_edges*:\n",
    "\n",
    "For every team of coauthors, the edges within the nodes are added by referring to the authors' nodes by their names. The edges' colors are determined by how often the two authors collaborated in that DHd year, which precisely happens in the function *determine_edge_color*.\n",
    "\n",
    "- Function *generate_html_file*:\n",
    "\n",
    "Generates an html file containing all the nodes and edges created previously. Additionally, a legend is added to the html, so that the colors and shapes within the network can be understood. \n",
    "\n"
   ]
  },
  {
   "cell_type": "code",
   "execution_count": 14,
   "metadata": {
    "tags": [
     "cell #41"
    ]
   },
   "outputs": [],
   "source": [
    "def determine_node_shape(total_count, topcount):\n",
    "    \n",
    "    if total_count == topcount:\n",
    "        return 'star'\n",
    "    else:\n",
    "        return 'dot'"
   ]
  },
  {
   "cell_type": "code",
   "execution_count": 207,
   "metadata": {},
   "outputs": [],
   "source": [
    "def add_nodes(all_counted_authors, i):\n",
    "    \n",
    "    top_name, top_count = all_counted_authors[i][0]\n",
    "    for author in all_counted_authors[i]:\n",
    "        name, total_count = author\n",
    "        title = (name, total_count)\n",
    "        g.add_node(name, \n",
    "                title=title, \n",
    "                label=name, \n",
    "                size=(total_count*10), \n",
    "                # pink\n",
    "                color='#C70039',\n",
    "                borderWidth=1, \n",
    "                borderWidthSelected=3,\n",
    "                # determine the nodes' shape according to whether author is top author with most contributions in that year (==star) or not (==dot)\n",
    "                shape = determine_node_shape(total_count, top_count))\n",
    "        \n",
    "    return"
   ]
  },
  {
   "cell_type": "code",
   "execution_count": 215,
   "metadata": {},
   "outputs": [],
   "source": [
    "def change_color_new_authors(new_authors, i):\n",
    "       \n",
    "    if len(new_authors[i]) > 0:\n",
    "        for author in new_authors[i]:\n",
    "            g.get_node(author)['color'] = 'orange'\n",
    "        \n",
    "    return len(new_authors[i])    "
   ]
  },
  {
   "cell_type": "code",
   "execution_count": 205,
   "metadata": {
    "tags": [
     "cell #40"
    ]
   },
   "outputs": [],
   "source": [
    "def determine_edge_color(coauthor_count):\n",
    "      \n",
    "      # function to determine the color of the network's edges, depending on how often authors worked together in that year\n",
    "      # dark blue\n",
    "      if coauthor_count >= 3:\n",
    "            return '#360BFA'\n",
    "      # light blue\n",
    "      elif coauthor_count == 2:\n",
    "            return '#6CADFB'\n",
    "      # turquoise\n",
    "      else: \n",
    "        return '#1FA3B5'"
   ]
  },
  {
   "cell_type": "code",
   "execution_count": 227,
   "metadata": {},
   "outputs": [],
   "source": [
    "def add_edges(coauthors_per_yer, i):\n",
    "    \n",
    "    for item in coauthors_per_year[i]:\n",
    "        name1 = item[0][0]\n",
    "        name2 = item[0][1]\n",
    "        coauthor_count = item[1]\n",
    "    \n",
    "        # edge color depending on how often authors worked togehter\n",
    "        g.add_edge(name1, name2, \n",
    "                    width=(coauthor_count),\n",
    "                    title=(coauthor_count),\n",
    "                    color = determine_edge_color(coauthor_count))\n",
    "    \n",
    "    return"
   ]
  },
  {
   "cell_type": "code",
   "execution_count": 225,
   "metadata": {},
   "outputs": [],
   "source": [
    "def generate_html_file(filenames_xml, i):\n",
    "    \n",
    "    # opening the provided HTML code which has to be added to the network html file\n",
    "    with open('Misc/LegendHTML.txt', \"r\", encoding='utf-8') as legend:\n",
    "        html_addition = legend.read()\n",
    "    \n",
    "    # writing an html-file\n",
    "    html = g.generate_html()\n",
    "    name = 'Figures/RQ5/RQ5__Authors_Networks_' + str(filenames_xml[i][-4:]) + '.html'\n",
    "    \n",
    "    with open(str(name), mode='w', encoding='utf-8') as fp:        \n",
    "        # finding the proper place in the html document and inserting the additional markup for legend\n",
    "        find = re.search(r'<div id=\"mynetwork\" class=\"card-body\"></div>', html)\n",
    "        end = find.end()+1\n",
    "\n",
    "        html = html[:end] + html_addition + html[end:]   \n",
    "        fp.write(html)"
   ]
  },
  {
   "attachments": {},
   "cell_type": "markdown",
   "metadata": {},
   "source": [
    "### RQ5: Main"
   ]
  },
  {
   "cell_type": "code",
   "execution_count": 203,
   "metadata": {
    "tags": [
     "cell #42"
    ]
   },
   "outputs": [
    {
     "name": "stdout",
     "output_type": "stream",
     "text": [
      "[[(('Jannidis, Fotis', 'Reger, Isabella'), 3), (('Engelhardt, Claudia', 'Kurzawe, Daniel'), 2), (('Kleineberg, Michael', 'Kaden, Ben'), 2), (('Fischer, Frank', 'Göbel, Mathias'), 2), (('Fischer, Frank', 'Kampkaspar, Dario'), 2), (('Göbel, Mathias', 'Kampkaspar, Dario'), 2), (('Trilcke, Peer', 'Kampkaspar, Dario'), 2), (('Jannidis, Fotis', 'Pielström, Steffen'), 2), (('Pielström, Steffen', 'Reger, Isabella'), 2), (('Stiller, Juliane', 'Thoden, Klaus'), 2), (('Meißner, Cordula', 'Wallner, Franziska'), 2), (('Gradl, Tobias', 'Henrich, Andreas'), 2), (('Hoppe, Stephan', 'Pfarr-Harfst, Mieke'), 1), (('Hoppe, Stephan', 'Münster, Sander'), 1), (('Hoppe, Stephan', 'Kuroczyński, Piotr'), 1), (('Hoppe, Stephan', 'Blümel, Ina'), 1), (('Hoppe, Stephan', 'Hauck, Oliver'), 1), (('Hoppe, Stephan', 'Lutteroth, Jan'), 1), (('Pfarr-Harfst, Mieke', 'Münster, Sander'), 1), (('Pfarr-Harfst, Mieke', 'Kuroczyński, Piotr'), 1), (('Pfarr-Harfst, Mieke', 'Blümel, Ina'), 1), (('Pfarr-Harfst, Mieke', 'Hauck, Oliver'), 1), (('Pfarr-Harfst, Mieke', 'Lutteroth, Jan'), 1), (('Münster, Sander', 'Kuroczyński, Piotr'), 1), (('Münster, Sander', 'Blümel, Ina'), 1), (('Münster, Sander', 'Hauck, Oliver'), 1), (('Münster, Sander', 'Lutteroth, Jan'), 1), (('Kuroczyński, Piotr', 'Blümel, Ina'), 1), (('Kuroczyński, Piotr', 'Hauck, Oliver'), 1), (('Kuroczyński, Piotr', 'Lutteroth, Jan'), 1), (('Blümel, Ina', 'Hauck, Oliver'), 1), (('Blümel, Ina', 'Lutteroth, Jan'), 1), (('Hauck, Oliver', 'Lutteroth, Jan'), 1), (('Pfeil, Patrick', 'Aehnlich, Barbara'), 1), (('Sahle, Patrick', 'Trippel, Thorsten'), 1), (('Sahle, Patrick', 'Neumann, Gerald'), 1), (('Sahle, Patrick', 'Engelhardt, Claudia'), 1), (('Sahle, Patrick', 'Kurzawe, Daniel'), 1), (('Sahle, Patrick', 'Schäfer, Felix'), 1), (('Sahle, Patrick', 'Wörner, Kai'), 1), (('Trippel, Thorsten', 'Neumann, Gerald'), 1), (('Trippel, Thorsten', 'Engelhardt, Claudia'), 1), (('Trippel, Thorsten', 'Kurzawe, Daniel'), 1), (('Trippel, Thorsten', 'Schäfer, Felix'), 1), (('Trippel, Thorsten', 'Wörner, Kai'), 1), (('Neumann, Gerald', 'Engelhardt, Claudia'), 1), (('Neumann, Gerald', 'Kurzawe, Daniel'), 1), (('Neumann, Gerald', 'Schäfer, Felix'), 1), (('Neumann, Gerald', 'Wörner, Kai'), 1), (('Engelhardt, Claudia', 'Schäfer, Felix'), 1), (('Engelhardt, Claudia', 'Wörner, Kai'), 1), (('Kurzawe, Daniel', 'Schäfer, Felix'), 1), (('Kurzawe, Daniel', 'Wörner, Kai'), 1), (('Schäfer, Felix', 'Wörner, Kai'), 1), (('Wiedemann, Gregor', 'Gloning, Thomas'), 1), (('Wiedemann, Gregor', 'Blätte, Andreas'), 1), (('Wiedemann, Gregor', 'Keller, Maret'), 1), (('Wiedemann, Gregor', 'Haaf, Susanne'), 1), (('Wiedemann, Gregor', 'Würzner, Kay-Michael'), 1), (('Gloning, Thomas', 'Blätte, Andreas'), 1), (('Gloning, Thomas', 'Keller, Maret'), 1), (('Gloning, Thomas', 'Haaf, Susanne'), 1), (('Gloning, Thomas', 'Würzner, Kay-Michael'), 1), (('Blätte, Andreas', 'Keller, Maret'), 1), (('Blätte, Andreas', 'Haaf, Susanne'), 1), (('Blätte, Andreas', 'Würzner, Kay-Michael'), 1), (('Keller, Maret', 'Haaf, Susanne'), 1), (('Keller, Maret', 'Würzner, Kay-Michael'), 1), (('Haaf, Susanne', 'Würzner, Kay-Michael'), 1), (('Andorfer, Peter', 'Durco, Matej'), 1), (('Andorfer, Peter', 'Stäcker, Thomas'), 1), (('Andorfer, Peter', 'Thomas, Christian'), 1), (('Andorfer, Peter', 'Hildenbrandt, Vera'), 1), (('Andorfer, Peter', 'Stigler, Hubert'), 1), (('Andorfer, Peter', 'Söring, Sibylle'), 1), (('Andorfer, Peter', 'Rosenthaler, Lukas'), 1), (('Durco, Matej', 'Stäcker, Thomas'), 1), (('Durco, Matej', 'Thomas, Christian'), 1), (('Durco, Matej', 'Hildenbrandt, Vera'), 1), (('Durco, Matej', 'Stigler, Hubert'), 1), (('Durco, Matej', 'Söring, Sibylle'), 1), (('Durco, Matej', 'Rosenthaler, Lukas'), 1), (('Stäcker, Thomas', 'Thomas, Christian'), 1), (('Stäcker, Thomas', 'Hildenbrandt, Vera'), 1), (('Stäcker, Thomas', 'Stigler, Hubert'), 1), (('Stäcker, Thomas', 'Söring, Sibylle'), 1), (('Stäcker, Thomas', 'Rosenthaler, Lukas'), 1), (('Thomas, Christian', 'Hildenbrandt, Vera'), 1), (('Thomas, Christian', 'Stigler, Hubert'), 1), (('Thomas, Christian', 'Söring, Sibylle'), 1), (('Thomas, Christian', 'Rosenthaler, Lukas'), 1), (('Hildenbrandt, Vera', 'Stigler, Hubert'), 1), (('Hildenbrandt, Vera', 'Söring, Sibylle'), 1), (('Hildenbrandt, Vera', 'Rosenthaler, Lukas'), 1), (('Stigler, Hubert', 'Söring, Sibylle'), 1), (('Stigler, Hubert', 'Rosenthaler, Lukas'), 1), (('Söring, Sibylle', 'Rosenthaler, Lukas'), 1), (('Aehnlich, Barbara', 'Kösser, Sylwia'), 1), (('Bürgermeister, Martina', 'Makowski, Stephan'), 1), (('Bürgermeister, Martina', 'Strecker, Bernhard'), 1), (('Bürgermeister, Martina', 'Jeller, Daniel'), 1), (('Bürgermeister, Martina', 'Schneider, Gerlinde'), 1), (('Bürgermeister, Martina', 'Bigalke, Jan'), 1), (('Makowski, Stephan', 'Strecker, Bernhard'), 1), (('Makowski, Stephan', 'Jeller, Daniel'), 1), (('Makowski, Stephan', 'Schneider, Gerlinde'), 1), (('Makowski, Stephan', 'Bigalke, Jan'), 1), (('Strecker, Bernhard', 'Jeller, Daniel'), 1), (('Strecker, Bernhard', 'Schneider, Gerlinde'), 1), (('Strecker, Bernhard', 'Bigalke, Jan'), 1), (('Jeller, Daniel', 'Schneider, Gerlinde'), 1), (('Jeller, Daniel', 'Bigalke, Jan'), 1), (('Schneider, Gerlinde', 'Bigalke, Jan'), 1), (('Büttner, Stephan', 'Heger, Martin'), 1), (('Büttner, Stephan', 'Heinrich, Marcus'), 1), (('Büttner, Stephan', 'Keller, Carolin'), 1), (('Büttner, Stephan', 'Lehmann, Anna'), 1), (('Büttner, Stephan', 'Meyer, Michaela'), 1), (('Heger, Martin', 'Heinrich, Marcus'), 1), (('Heger, Martin', 'Keller, Carolin'), 1), (('Heger, Martin', 'Lehmann, Anna'), 1), (('Heger, Martin', 'Meyer, Michaela'), 1), (('Heinrich, Marcus', 'Keller, Carolin'), 1), (('Heinrich, Marcus', 'Lehmann, Anna'), 1), (('Heinrich, Marcus', 'Meyer, Michaela'), 1), (('Keller, Carolin', 'Lehmann, Anna'), 1), (('Keller, Carolin', 'Meyer, Michaela'), 1), (('Lehmann, Anna', 'Meyer, Michaela'), 1), (('Barzen, Johanna', 'Falkenthal, Michael'), 1), (('Barzen, Johanna', 'Hentschel, Frank'), 1), (('Barzen, Johanna', 'Leymann, Frank'), 1), (('Barzen, Johanna', 'Strehl, Tino'), 1), (('Falkenthal, Michael', 'Hentschel, Frank'), 1), (('Falkenthal, Michael', 'Leymann, Frank'), 1), (('Falkenthal, Michael', 'Strehl, Tino'), 1), (('Hentschel, Frank', 'Leymann, Frank'), 1), (('Hentschel, Frank', 'Strehl, Tino'), 1), (('Leymann, Frank', 'Strehl, Tino'), 1), (('Stäcker, Thomas', 'Baum, Constanze'), 1), (('Stäcker, Thomas', 'Steyer, Timo'), 1), (('Stäcker, Thomas', 'Kleineberg, Michael'), 1), (('Stäcker, Thomas', 'Baillot, Anne'), 1), (('Stäcker, Thomas', 'Kaden, Ben'), 1), (('Stäcker, Thomas', 'Chen, Esther'), 1), (('Stäcker, Thomas', 'Walkowski, Nils-Oliver'), 1), (('Stäcker, Thomas', 'Schwaderer, Christian'), 1), (('Stäcker, Thomas', 'Ernst, Thomas'), 1), (('Baum, Constanze', 'Steyer, Timo'), 1), (('Baum, Constanze', 'Kleineberg, Michael'), 1), (('Baum, Constanze', 'Baillot, Anne'), 1), (('Baum, Constanze', 'Kaden, Ben'), 1), (('Baum, Constanze', 'Chen, Esther'), 1), (('Baum, Constanze', 'Walkowski, Nils-Oliver'), 1), (('Baum, Constanze', 'Schwaderer, Christian'), 1), (('Baum, Constanze', 'Ernst, Thomas'), 1), (('Steyer, Timo', 'Kleineberg, Michael'), 1), (('Steyer, Timo', 'Baillot, Anne'), 1), (('Steyer, Timo', 'Kaden, Ben'), 1), (('Steyer, Timo', 'Chen, Esther'), 1), (('Steyer, Timo', 'Walkowski, Nils-Oliver'), 1), (('Steyer, Timo', 'Schwaderer, Christian'), 1), (('Steyer, Timo', 'Ernst, Thomas'), 1), (('Kleineberg, Michael', 'Baillot, Anne'), 1), (('Kleineberg, Michael', 'Chen, Esther'), 1), (('Kleineberg, Michael', 'Walkowski, Nils-Oliver'), 1), (('Kleineberg, Michael', 'Schwaderer, Christian'), 1), (('Kleineberg, Michael', 'Ernst, Thomas'), 1), (('Baillot, Anne', 'Kaden, Ben'), 1), (('Baillot, Anne', 'Chen, Esther'), 1), (('Baillot, Anne', 'Walkowski, Nils-Oliver'), 1), (('Baillot, Anne', 'Schwaderer, Christian'), 1), (('Baillot, Anne', 'Ernst, Thomas'), 1), (('Kaden, Ben', 'Chen, Esther'), 1), (('Kaden, Ben', 'Walkowski, Nils-Oliver'), 1), (('Kaden, Ben', 'Schwaderer, Christian'), 1), (('Kaden, Ben', 'Ernst, Thomas'), 1), (('Chen, Esther', 'Walkowski, Nils-Oliver'), 1), (('Chen, Esther', 'Schwaderer, Christian'), 1), (('Chen, Esther', 'Ernst, Thomas'), 1), (('Walkowski, Nils-Oliver', 'Schwaderer, Christian'), 1), (('Walkowski, Nils-Oliver', 'Ernst, Thomas'), 1), (('Schwaderer, Christian', 'Ernst, Thomas'), 1), (('Beißwenger, Michael', 'Axel, Herold'), 1), (('Beißwenger, Michael', 'Harald, Lüngen'), 1), (('Beißwenger, Michael', 'Angelika, Storrer'), 1), (('Axel, Herold', 'Harald, Lüngen'), 1), (('Axel, Herold', 'Angelika, Storrer'), 1), (('Harald, Lüngen', 'Angelika, Storrer'), 1), (('Borek, Luise', 'Schöch, Christof'), 1), (('Borek, Luise', 'Thoden, Klaus'), 1), (('Schöch, Christof', 'Thoden, Klaus'), 1), (('Wieneke, Lars', 'Düring, Marten'), 1), (('Wieneke, Lars', 'Guido, Daniele'), 1), (('Düring, Marten', 'Guido, Daniele'), 1), (('Decker, Eric', 'Volkmann, Armin'), 1), (('Decker, Eric', 'Guth, Matthias'), 1), (('Volkmann, Armin', 'Guth, Matthias'), 1), (('Do Dinh, Erik-Lân', 'Gerloff, Malte'), 1), (('Do Dinh, Erik-Lân', 'Núñez, Alexandra'), 1), (('Gerloff, Malte', 'Núñez, Alexandra'), 1), (('Engelhardt, Claudia', 'Wuttke, Ulrike'), 1), (('Engelhardt, Claudia', 'Buddenbohm, Stefan'), 1), (('Kurzawe, Daniel', 'Wuttke, Ulrike'), 1), (('Kurzawe, Daniel', 'Buddenbohm, Stefan'), 1), (('Wuttke, Ulrike', 'Buddenbohm, Stefan'), 1), (('Fechner, Martin', 'Körner, Fabian'), 1), (('Fischer, Frank', 'Vogel, Andreas'), 1), (('Fischer, Frank', 'Trilcke, Peer'), 1), (('Fischer, Frank', 'Kittel, Christopher'), 1), (('Vogel, Andreas', 'Göbel, Mathias'), 1), (('Vogel, Andreas', 'Trilcke, Peer'), 1), (('Vogel, Andreas', 'Kampkaspar, Dario'), 1), (('Vogel, Andreas', 'Kittel, Christopher'), 1), (('Göbel, Mathias', 'Trilcke, Peer'), 1), (('Göbel, Mathias', 'Kittel, Christopher'), 1), (('Trilcke, Peer', 'Kittel, Christopher'), 1), (('Kampkaspar, Dario', 'Kittel, Christopher'), 1), (('Gehrke, Stefanie', 'Charbonnier, Pauline'), 1), (('Gehrke, Stefanie', 'Eduard, Frunzeanu'), 1), (('Charbonnier, Pauline', 'Eduard, Frunzeanu'), 1), (('Mueller, Mathias', 'Dittrich, Andreas'), 1), (('Mueller, Mathias', 'Waltl, Gilbert'), 1), (('Mueller, Mathias', 'Csillag, Marlene'), 1), (('Mueller, Mathias', 'Godler, Katharina'), 1), (('Mueller, Mathias', 'Ivanovic, Christine'), 1), (('Dittrich, Andreas', 'Waltl, Gilbert'), 1), (('Dittrich, Andreas', 'Csillag, Marlene'), 1), (('Dittrich, Andreas', 'Godler, Katharina'), 1), (('Dittrich, Andreas', 'Ivanovic, Christine'), 1), (('Waltl, Gilbert', 'Csillag, Marlene'), 1), (('Waltl, Gilbert', 'Godler, Katharina'), 1), (('Waltl, Gilbert', 'Ivanovic, Christine'), 1), (('Csillag, Marlene', 'Godler, Katharina'), 1), (('Csillag, Marlene', 'Ivanovic, Christine'), 1), (('Godler, Katharina', 'Ivanovic, Christine'), 1), (('Hörmann, Richard', 'Weiss, Romedius'), 1), (('Hadersbeck, Maximilian', 'Eder, Elisabeth'), 1), (('Hadersbeck, Maximilian', 'Capsamun, Roman'), 1), (('Hadersbeck, Maximilian', 'Eichfeldt, Nora'), 1), (('Hadersbeck, Maximilian', 'Herteis, Simeon'), 1), (('Hadersbeck, Maximilian', 'Lindinger, Matthias'), 1), (('Hadersbeck, Maximilian', 'Höps, Raphael'), 1), (('Hadersbeck, Maximilian', 'Schweter, Stefan'), 1), (('Eder, Elisabeth', 'Capsamun, Roman'), 1), (('Eder, Elisabeth', 'Eichfeldt, Nora'), 1), (('Eder, Elisabeth', 'Herteis, Simeon'), 1), (('Eder, Elisabeth', 'Lindinger, Matthias'), 1), (('Eder, Elisabeth', 'Höps, Raphael'), 1), (('Eder, Elisabeth', 'Schweter, Stefan'), 1), (('Capsamun, Roman', 'Eichfeldt, Nora'), 1), (('Capsamun, Roman', 'Herteis, Simeon'), 1), (('Capsamun, Roman', 'Lindinger, Matthias'), 1), (('Capsamun, Roman', 'Höps, Raphael'), 1), (('Capsamun, Roman', 'Schweter, Stefan'), 1), (('Eichfeldt, Nora', 'Herteis, Simeon'), 1), (('Eichfeldt, Nora', 'Lindinger, Matthias'), 1), (('Eichfeldt, Nora', 'Höps, Raphael'), 1), (('Eichfeldt, Nora', 'Schweter, Stefan'), 1), (('Herteis, Simeon', 'Lindinger, Matthias'), 1), (('Herteis, Simeon', 'Höps, Raphael'), 1), (('Herteis, Simeon', 'Schweter, Stefan'), 1), (('Lindinger, Matthias', 'Höps, Raphael'), 1), (('Lindinger, Matthias', 'Schweter, Stefan'), 1), (('Höps, Raphael', 'Schweter, Stefan'), 1), (('Hartmann, Jutta', 'Sauter, Corinna'), 1), (('Hartmann, Jutta', 'Schole, Gesa'), 1), (('Hartmann, Jutta', 'Wagner, Wiltrud'), 1), (('Hartmann, Jutta', 'Gietz, Peter'), 1), (('Hartmann, Jutta', 'Winkler, Susanne'), 1), (('Sauter, Corinna', 'Schole, Gesa'), 1), (('Sauter, Corinna', 'Wagner, Wiltrud'), 1), (('Sauter, Corinna', 'Gietz, Peter'), 1), (('Sauter, Corinna', 'Winkler, Susanne'), 1), (('Schole, Gesa', 'Wagner, Wiltrud'), 1), (('Schole, Gesa', 'Gietz, Peter'), 1), (('Schole, Gesa', 'Winkler, Susanne'), 1), (('Wagner, Wiltrud', 'Gietz, Peter'), 1), (('Wagner, Wiltrud', 'Winkler, Susanne'), 1), (('Gietz, Peter', 'Winkler, Susanne'), 1), (('Kamocki, Pawel', 'Ketzan, Erik'), 1), (('Kamocki, Pawel', 'Witt, Andreas'), 1), (('Ketzan, Erik', 'Witt, Andreas'), 1), (('Kaßner, Fabian', 'Kischel, André'), 1), (('Steyer, Timo', 'Koglin, Lydia'), 1), (('Steyer, Timo', 'Fritz, Steffen'), 1), (('Koglin, Lydia', 'Fritz, Steffen'), 1), (('Loebel, Jens-Martin', 'Holly, Eva Maria'), 1), (('Mederake, Nathalie', 'Blanck, Wiebke'), 1), (('Meise, Bianca', 'Schloots, Franziska'), 1), (('Meise, Bianca', 'Meister, Dorothee'), 1), (('Meise, Bianca', 'Müller-Lietzkow, Jörg'), 1), (('Schloots, Franziska', 'Meister, Dorothee'), 1), (('Schloots, Franziska', 'Müller-Lietzkow, Jörg'), 1), (('Meister, Dorothee', 'Müller-Lietzkow, Jörg'), 1), (('Wintergrün, Dirk', 'Valleriani, Matteo'), 1), (('Wintergrün, Dirk', 'Lalli, Roberto'), 1), (('Valleriani, Matteo', 'Lalli, Roberto'), 1), (('Pfeil, Patrick', 'Mehner, Caroline'), 1), (('Reimer, Nils', 'Jannidis, Fotis'), 1), (('Reimer, Nils', 'Pielström, Steffen'), 1), (('Reimer, Nils', 'Pernes, Stefan'), 1), (('Reimer, Nils', 'Reger, Isabella'), 1), (('Jannidis, Fotis', 'Pernes, Stefan'), 1), (('Pielström, Steffen', 'Pernes, Stefan'), 1), (('Pernes, Stefan', 'Reger, Isabella'), 1), (('Schöch, Christof', 'von Ehrlich, Isabel'), 1), (('Schöch, Christof', 'Ehrlicher, Hanno'), 1), (('Schöch, Christof', 'Gerstenberg, Annette'), 1), (('Schöch, Christof', 'Kraft, Tobias'), 1), (('Schöch, Christof', 'Rißler-Pipka, Nanette'), 1), (('Schöch, Christof', 'Völker, Harald'), 1), (('Schöch, Christof', 'Mühlschlegel, Ulrike'), 1), (('von Ehrlich, Isabel', 'Ehrlicher, Hanno'), 1), (('von Ehrlich, Isabel', 'Gerstenberg, Annette'), 1), (('von Ehrlich, Isabel', 'Kraft, Tobias'), 1), (('von Ehrlich, Isabel', 'Rißler-Pipka, Nanette'), 1), (('von Ehrlich, Isabel', 'Völker, Harald'), 1), (('von Ehrlich, Isabel', 'Mühlschlegel, Ulrike'), 1), (('Ehrlicher, Hanno', 'Gerstenberg, Annette'), 1), (('Ehrlicher, Hanno', 'Kraft, Tobias'), 1), (('Ehrlicher, Hanno', 'Rißler-Pipka, Nanette'), 1), (('Ehrlicher, Hanno', 'Völker, Harald'), 1), (('Ehrlicher, Hanno', 'Mühlschlegel, Ulrike'), 1), (('Gerstenberg, Annette', 'Kraft, Tobias'), 1), (('Gerstenberg, Annette', 'Rißler-Pipka, Nanette'), 1), (('Gerstenberg, Annette', 'Völker, Harald'), 1), (('Gerstenberg, Annette', 'Mühlschlegel, Ulrike'), 1), (('Kraft, Tobias', 'Rißler-Pipka, Nanette'), 1), (('Kraft, Tobias', 'Völker, Harald'), 1), (('Kraft, Tobias', 'Mühlschlegel, Ulrike'), 1), (('Rißler-Pipka, Nanette', 'Völker, Harald'), 1), (('Rißler-Pipka, Nanette', 'Mühlschlegel, Ulrike'), 1), (('Völker, Harald', 'Mühlschlegel, Ulrike'), 1), (('Merz, Dorian', 'Fichtner, Mark'), 1), (('Steiner, Elisabeth', 'Koch, Carina'), 1), (('Gnadt, Timo', 'Stiller, Juliane'), 1), (('Gnadt, Timo', 'Thoden, Klaus'), 1), (('Wandl-Vogt, Eveline', 'Barbera, Roberto'), 1), (('Wandl-Vogt, Eveline', 'La Rocca, Guiseppe'), 1), (('Wandl-Vogt, Eveline', 'Calanducci, Antonio'), 1), (('Wandl-Vogt, Eveline', 'Kalman, Tibor'), 1), (('Barbera, Roberto', 'La Rocca, Guiseppe'), 1), (('Barbera, Roberto', 'Calanducci, Antonio'), 1), (('Barbera, Roberto', 'Kalman, Tibor'), 1), (('La Rocca, Guiseppe', 'Calanducci, Antonio'), 1), (('La Rocca, Guiseppe', 'Kalman, Tibor'), 1), (('Calanducci, Antonio', 'Kalman, Tibor'), 1), (('Windhager, Florian', 'Schreder, Günther'), 1), (('Windhager, Florian', 'Smuc, Michael'), 1), (('Windhager, Florian', 'Mayr, Eva'), 1), (('Schreder, Günther', 'Smuc, Michael'), 1), (('Schreder, Günther', 'Mayr, Eva'), 1), (('Smuc, Michael', 'Mayr, Eva'), 1), (('Wissik, Tanja', 'Durco, Matej'), 1), (('Blank, Daniel', 'Henrich, Andreas'), 1), (('Busch, Hannah', 'Chandna, Swati'), 1), (('Busch, Hannah', 'Tonne, Danah'), 1), (('Busch, Hannah', 'Celia, Krause'), 1), (('Busch, Hannah', 'Philipp, Vanscheidt'), 1), (('Busch, Hannah', 'Schmid, Oliver'), 1), (('Chandna, Swati', 'Tonne, Danah'), 1), (('Chandna, Swati', 'Celia, Krause'), 1), (('Chandna, Swati', 'Philipp, Vanscheidt'), 1), (('Chandna, Swati', 'Schmid, Oliver'), 1), (('Tonne, Danah', 'Celia, Krause'), 1), (('Tonne, Danah', 'Philipp, Vanscheidt'), 1), (('Tonne, Danah', 'Schmid, Oliver'), 1), (('Celia, Krause', 'Philipp, Vanscheidt'), 1), (('Celia, Krause', 'Schmid, Oliver'), 1), (('Philipp, Vanscheidt', 'Schmid, Oliver'), 1), (('Draxler, Christoph', 'Schiel, Florian'), 1), (('Draxler, Christoph', 'Reichel, Uwe'), 1), (('Draxler, Christoph', 'Kisler, Thomas'), 1), (('Schiel, Florian', 'Reichel, Uwe'), 1), (('Schiel, Florian', 'Kisler, Thomas'), 1), (('Reichel, Uwe', 'Kisler, Thomas'), 1), (('Grabsch, Sascha', 'Jürgens, Marco'), 1), (('Hellrich, Johannes', 'Hahn, Udo'), 1), (('Hinrichs, Marie', 'Coltekin, Cagri'), 1), (('Jänicke, Stefan', 'Efer, Thomas'), 1), (('Jänicke, Stefan', 'Blumenstein, Judith'), 1), (('Jänicke, Stefan', 'Wöckener-Gade, Eva'), 1), (('Jänicke, Stefan', 'Schubert, Charlotte'), 1), (('Jänicke, Stefan', 'Scheuermann, Gerik'), 1), (('Efer, Thomas', 'Blumenstein, Judith'), 1), (('Efer, Thomas', 'Wöckener-Gade, Eva'), 1), (('Efer, Thomas', 'Schubert, Charlotte'), 1), (('Efer, Thomas', 'Scheuermann, Gerik'), 1), (('Blumenstein, Judith', 'Wöckener-Gade, Eva'), 1), (('Blumenstein, Judith', 'Schubert, Charlotte'), 1), (('Blumenstein, Judith', 'Scheuermann, Gerik'), 1), (('Wöckener-Gade, Eva', 'Schubert, Charlotte'), 1), (('Wöckener-Gade, Eva', 'Scheuermann, Gerik'), 1), (('Schubert, Charlotte', 'Scheuermann, Gerik'), 1), (('Kuhn, Jonas', 'Alexiadou, Artemis'), 1), (('Kuhn, Jonas', 'Braun, Manuel'), 1), (('Kuhn, Jonas', 'Ertl, Thomas'), 1), (('Kuhn, Jonas', 'Holtz, Sabine'), 1), (('Kuhn, Jonas', 'Kantner, Cathleen'), 1), (('Kuhn, Jonas', 'Misselhorn, Catrin'), 1), (('Kuhn, Jonas', 'Pado, Sebastian'), 1), (('Kuhn, Jonas', 'Richter, Sandra'), 1), (('Kuhn, Jonas', 'Stein, Achim'), 1), (('Kuhn, Jonas', 'Zittel, Claus'), 1), (('Alexiadou, Artemis', 'Braun, Manuel'), 1), (('Alexiadou, Artemis', 'Ertl, Thomas'), 1), (('Alexiadou, Artemis', 'Holtz, Sabine'), 1), (('Alexiadou, Artemis', 'Kantner, Cathleen'), 1), (('Alexiadou, Artemis', 'Misselhorn, Catrin'), 1), (('Alexiadou, Artemis', 'Pado, Sebastian'), 1), (('Alexiadou, Artemis', 'Richter, Sandra'), 1), (('Alexiadou, Artemis', 'Stein, Achim'), 1), (('Alexiadou, Artemis', 'Zittel, Claus'), 1), (('Braun, Manuel', 'Ertl, Thomas'), 1), (('Braun, Manuel', 'Holtz, Sabine'), 1), (('Braun, Manuel', 'Kantner, Cathleen'), 1), (('Braun, Manuel', 'Misselhorn, Catrin'), 1), (('Braun, Manuel', 'Pado, Sebastian'), 1), (('Braun, Manuel', 'Richter, Sandra'), 1), (('Braun, Manuel', 'Stein, Achim'), 1), (('Braun, Manuel', 'Zittel, Claus'), 1), (('Ertl, Thomas', 'Holtz, Sabine'), 1), (('Ertl, Thomas', 'Kantner, Cathleen'), 1), (('Ertl, Thomas', 'Misselhorn, Catrin'), 1), (('Ertl, Thomas', 'Pado, Sebastian'), 1), (('Ertl, Thomas', 'Richter, Sandra'), 1), (('Ertl, Thomas', 'Stein, Achim'), 1), (('Ertl, Thomas', 'Zittel, Claus'), 1), (('Holtz, Sabine', 'Kantner, Cathleen'), 1), (('Holtz, Sabine', 'Misselhorn, Catrin'), 1), (('Holtz, Sabine', 'Pado, Sebastian'), 1), (('Holtz, Sabine', 'Richter, Sandra'), 1), (('Holtz, Sabine', 'Stein, Achim'), 1), (('Holtz, Sabine', 'Zittel, Claus'), 1), (('Kantner, Cathleen', 'Misselhorn, Catrin'), 1), (('Kantner, Cathleen', 'Pado, Sebastian'), 1), (('Kantner, Cathleen', 'Richter, Sandra'), 1), (('Kantner, Cathleen', 'Stein, Achim'), 1), (('Kantner, Cathleen', 'Zittel, Claus'), 1), (('Misselhorn, Catrin', 'Pado, Sebastian'), 1), (('Misselhorn, Catrin', 'Richter, Sandra'), 1), (('Misselhorn, Catrin', 'Stein, Achim'), 1), (('Misselhorn, Catrin', 'Zittel, Claus'), 1), (('Pado, Sebastian', 'Richter, Sandra'), 1), (('Pado, Sebastian', 'Stein, Achim'), 1), (('Pado, Sebastian', 'Zittel, Claus'), 1), (('Richter, Sandra', 'Stein, Achim'), 1), (('Richter, Sandra', 'Zittel, Claus'), 1), (('Stein, Achim', 'Zittel, Claus'), 1), (('Müller-Birn, Claudia', 'Breitenfeld, Andre'), 1), (('Trevisan, Bianka', 'Reimer, Eva'), 1), (('Trevisan, Bianka', 'Digmayer, Claas'), 1), (('Trevisan, Bianka', 'Ullrich, Anna Valentine'), 1), (('Trevisan, Bianka', 'Jakobs, Eva-Maria'), 1), (('Reimer, Eva', 'Digmayer, Claas'), 1), (('Reimer, Eva', 'Ullrich, Anna Valentine'), 1), (('Reimer, Eva', 'Jakobs, Eva-Maria'), 1), (('Digmayer, Claas', 'Ullrich, Anna Valentine'), 1), (('Digmayer, Claas', 'Jakobs, Eva-Maria'), 1), (('Ullrich, Anna Valentine', 'Jakobs, Eva-Maria'), 1), (('Schopper, Daniel', 'Pirgruber, Reinhard'), 1), (('Schopper, Daniel', 'Jursa, Michael'), 1), (('Pirgruber, Reinhard', 'Jursa, Michael'), 1), (('Wettlaufer, Jörg', 'Tech, Maike'), 1), (('Wettlaufer, Jörg', 'Naegle, Sibylle'), 1), (('Tech, Maike', 'Naegle, Sibylle'), 1), (('Zhekova, Desislava', 'Krefeld, Thomas'), 1), (('Zhekova, Desislava', 'Herteis, Simeon'), 1), (('Krefeld, Thomas', 'Herteis, Simeon'), 1), (('Fischer, Peter M.', 'Diewald, Nils'), 1), (('Fischer, Peter M.', 'Kupietz, Marc'), 1), (('Fischer, Peter M.', 'Witt, Andreas'), 1), (('Diewald, Nils', 'Kupietz, Marc'), 1), (('Diewald, Nils', 'Witt, Andreas'), 1), (('Kupietz, Marc', 'Witt, Andreas'), 1), (('Weichselbaumer, Nikolaus', 'Christlein, Vincent'), 1), (('Wagner, Andreas', 'Caesar, Ingo'), 1), (('Blessing, Andre', 'Bockwinkel, Peggy'), 1), (('Blessing, Andre', 'Reiter, Nils'), 1), (('Blessing, Andre', 'Willand, Marcus'), 1), (('Bockwinkel, Peggy', 'Reiter, Nils'), 1), (('Bockwinkel, Peggy', 'Willand, Marcus'), 1), (('Reiter, Nils', 'Willand, Marcus'), 1), (('Stotz, Sophia', 'Geierhos, Michaela'), 1), (('Zhekova, Desislava', 'Mikhaylova, Alena'), 1), (('Butt, Miriam', 'Heyer, Gerhard'), 1), (('Butt, Miriam', 'Holzinger, Katharina'), 1), (('Butt, Miriam', 'Kantner, Cathleen'), 1), (('Butt, Miriam', 'Keim, Daniel A.'), 1), (('Butt, Miriam', 'Kuhn, Jonas'), 1), (('Butt, Miriam', 'Schaal, Gary'), 1), (('Butt, Miriam', 'Blessing, André'), 1), (('Butt, Miriam', 'Dumm, Sebastian'), 1), (('Butt, Miriam', 'El-Assady, Mennatallah'), 1), (('Butt, Miriam', 'Gold, Valentin'), 1), (('Butt, Miriam', 'Hautli-Janisz, Annette'), 1), (('Butt, Miriam', 'Lemke, Matthias'), 1), (('Butt, Miriam', 'Müller, Maike'), 1), (('Butt, Miriam', 'Niekler, Andreas'), 1), (('Butt, Miriam', 'Overbeck, Maximilian'), 1), (('Butt, Miriam', 'Wiedemann, Gregor'), 1), (('Heyer, Gerhard', 'Holzinger, Katharina'), 1), (('Heyer, Gerhard', 'Kantner, Cathleen'), 1), (('Heyer, Gerhard', 'Keim, Daniel A.'), 1), (('Heyer, Gerhard', 'Kuhn, Jonas'), 1), (('Heyer, Gerhard', 'Schaal, Gary'), 1), (('Heyer, Gerhard', 'Blessing, André'), 1), (('Heyer, Gerhard', 'Dumm, Sebastian'), 1), (('Heyer, Gerhard', 'El-Assady, Mennatallah'), 1), (('Heyer, Gerhard', 'Gold, Valentin'), 1), (('Heyer, Gerhard', 'Hautli-Janisz, Annette'), 1), (('Heyer, Gerhard', 'Lemke, Matthias'), 1), (('Heyer, Gerhard', 'Müller, Maike'), 1), (('Heyer, Gerhard', 'Niekler, Andreas'), 1), (('Heyer, Gerhard', 'Overbeck, Maximilian'), 1), (('Heyer, Gerhard', 'Wiedemann, Gregor'), 1), (('Holzinger, Katharina', 'Kantner, Cathleen'), 1), (('Holzinger, Katharina', 'Keim, Daniel A.'), 1), (('Holzinger, Katharina', 'Kuhn, Jonas'), 1), (('Holzinger, Katharina', 'Schaal, Gary'), 1), (('Holzinger, Katharina', 'Blessing, André'), 1), (('Holzinger, Katharina', 'Dumm, Sebastian'), 1), (('Holzinger, Katharina', 'El-Assady, Mennatallah'), 1), (('Holzinger, Katharina', 'Gold, Valentin'), 1), (('Holzinger, Katharina', 'Hautli-Janisz, Annette'), 1), (('Holzinger, Katharina', 'Lemke, Matthias'), 1), (('Holzinger, Katharina', 'Müller, Maike'), 1), (('Holzinger, Katharina', 'Niekler, Andreas'), 1), (('Holzinger, Katharina', 'Overbeck, Maximilian'), 1), (('Holzinger, Katharina', 'Wiedemann, Gregor'), 1), (('Kantner, Cathleen', 'Keim, Daniel A.'), 1), (('Kantner, Cathleen', 'Kuhn, Jonas'), 1), (('Kantner, Cathleen', 'Schaal, Gary'), 1), (('Kantner, Cathleen', 'Blessing, André'), 1), (('Kantner, Cathleen', 'Dumm, Sebastian'), 1), (('Kantner, Cathleen', 'El-Assady, Mennatallah'), 1), (('Kantner, Cathleen', 'Gold, Valentin'), 1), (('Kantner, Cathleen', 'Hautli-Janisz, Annette'), 1), (('Kantner, Cathleen', 'Lemke, Matthias'), 1), (('Kantner, Cathleen', 'Müller, Maike'), 1), (('Kantner, Cathleen', 'Niekler, Andreas'), 1), (('Kantner, Cathleen', 'Overbeck, Maximilian'), 1), (('Kantner, Cathleen', 'Wiedemann, Gregor'), 1), (('Keim, Daniel A.', 'Kuhn, Jonas'), 1), (('Keim, Daniel A.', 'Schaal, Gary'), 1), (('Keim, Daniel A.', 'Blessing, André'), 1), (('Keim, Daniel A.', 'Dumm, Sebastian'), 1), (('Keim, Daniel A.', 'El-Assady, Mennatallah'), 1), (('Keim, Daniel A.', 'Gold, Valentin'), 1), (('Keim, Daniel A.', 'Hautli-Janisz, Annette'), 1), (('Keim, Daniel A.', 'Lemke, Matthias'), 1), (('Keim, Daniel A.', 'Müller, Maike'), 1), (('Keim, Daniel A.', 'Niekler, Andreas'), 1), (('Keim, Daniel A.', 'Overbeck, Maximilian'), 1), (('Keim, Daniel A.', 'Wiedemann, Gregor'), 1), (('Kuhn, Jonas', 'Schaal, Gary'), 1), (('Kuhn, Jonas', 'Blessing, André'), 1), (('Kuhn, Jonas', 'Dumm, Sebastian'), 1), (('Kuhn, Jonas', 'El-Assady, Mennatallah'), 1), (('Kuhn, Jonas', 'Gold, Valentin'), 1), (('Kuhn, Jonas', 'Hautli-Janisz, Annette'), 1), (('Kuhn, Jonas', 'Lemke, Matthias'), 1), (('Kuhn, Jonas', 'Müller, Maike'), 1), (('Kuhn, Jonas', 'Niekler, Andreas'), 1), (('Kuhn, Jonas', 'Overbeck, Maximilian'), 1), (('Kuhn, Jonas', 'Wiedemann, Gregor'), 1), (('Schaal, Gary', 'Blessing, André'), 1), (('Schaal, Gary', 'Dumm, Sebastian'), 1), (('Schaal, Gary', 'El-Assady, Mennatallah'), 1), (('Schaal, Gary', 'Gold, Valentin'), 1), (('Schaal, Gary', 'Hautli-Janisz, Annette'), 1), (('Schaal, Gary', 'Lemke, Matthias'), 1), (('Schaal, Gary', 'Müller, Maike'), 1), (('Schaal, Gary', 'Niekler, Andreas'), 1), (('Schaal, Gary', 'Overbeck, Maximilian'), 1), (('Schaal, Gary', 'Wiedemann, Gregor'), 1), (('Blessing, André', 'Dumm, Sebastian'), 1), (('Blessing, André', 'El-Assady, Mennatallah'), 1), (('Blessing, André', 'Gold, Valentin'), 1), (('Blessing, André', 'Hautli-Janisz, Annette'), 1), (('Blessing, André', 'Lemke, Matthias'), 1), (('Blessing, André', 'Müller, Maike'), 1), (('Blessing, André', 'Niekler, Andreas'), 1), (('Blessing, André', 'Overbeck, Maximilian'), 1), (('Blessing, André', 'Wiedemann, Gregor'), 1), (('Dumm, Sebastian', 'El-Assady, Mennatallah'), 1), (('Dumm, Sebastian', 'Gold, Valentin'), 1), (('Dumm, Sebastian', 'Hautli-Janisz, Annette'), 1), (('Dumm, Sebastian', 'Lemke, Matthias'), 1), (('Dumm, Sebastian', 'Müller, Maike'), 1), (('Dumm, Sebastian', 'Niekler, Andreas'), 1), (('Dumm, Sebastian', 'Overbeck, Maximilian'), 1), (('Dumm, Sebastian', 'Wiedemann, Gregor'), 1), (('El-Assady, Mennatallah', 'Gold, Valentin'), 1), (('El-Assady, Mennatallah', 'Hautli-Janisz, Annette'), 1), (('El-Assady, Mennatallah', 'Lemke, Matthias'), 1), (('El-Assady, Mennatallah', 'Müller, Maike'), 1), (('El-Assady, Mennatallah', 'Niekler, Andreas'), 1), (('El-Assady, Mennatallah', 'Overbeck, Maximilian'), 1), (('El-Assady, Mennatallah', 'Wiedemann, Gregor'), 1), (('Gold, Valentin', 'Hautli-Janisz, Annette'), 1), (('Gold, Valentin', 'Lemke, Matthias'), 1), (('Gold, Valentin', 'Müller, Maike'), 1), (('Gold, Valentin', 'Niekler, Andreas'), 1), (('Gold, Valentin', 'Overbeck, Maximilian'), 1), (('Gold, Valentin', 'Wiedemann, Gregor'), 1), (('Hautli-Janisz, Annette', 'Lemke, Matthias'), 1), (('Hautli-Janisz, Annette', 'Müller, Maike'), 1), (('Hautli-Janisz, Annette', 'Niekler, Andreas'), 1), (('Hautli-Janisz, Annette', 'Overbeck, Maximilian'), 1), (('Hautli-Janisz, Annette', 'Wiedemann, Gregor'), 1), (('Lemke, Matthias', 'Müller, Maike'), 1), (('Lemke, Matthias', 'Niekler, Andreas'), 1), (('Lemke, Matthias', 'Overbeck, Maximilian'), 1), (('Lemke, Matthias', 'Wiedemann, Gregor'), 1), (('Müller, Maike', 'Niekler, Andreas'), 1), (('Müller, Maike', 'Overbeck, Maximilian'), 1), (('Müller, Maike', 'Wiedemann, Gregor'), 1), (('Niekler, Andreas', 'Overbeck, Maximilian'), 1), (('Niekler, Andreas', 'Wiedemann, Gregor'), 1), (('Overbeck, Maximilian', 'Wiedemann, Gregor'), 1), (('Evert, Stefan', 'Jannidis, Fotis'), 1), (('Evert, Stefan', 'Dimpel, Friedrich Michael'), 1), (('Evert, Stefan', 'Schöch, Christof'), 1), (('Evert, Stefan', 'Pielström, Steffen'), 1), (('Evert, Stefan', 'Vitt, Thorsten'), 1), (('Evert, Stefan', 'Reger, Isabella'), 1), (('Evert, Stefan', 'Büttner, Andreas'), 1), (('Evert, Stefan', 'Proisl, Thomas'), 1), (('Jannidis, Fotis', 'Dimpel, Friedrich Michael'), 1), (('Jannidis, Fotis', 'Schöch, Christof'), 1), (('Jannidis, Fotis', 'Vitt, Thorsten'), 1), (('Jannidis, Fotis', 'Büttner, Andreas'), 1), (('Jannidis, Fotis', 'Proisl, Thomas'), 1), (('Dimpel, Friedrich Michael', 'Schöch, Christof'), 1), (('Dimpel, Friedrich Michael', 'Pielström, Steffen'), 1), (('Dimpel, Friedrich Michael', 'Vitt, Thorsten'), 1), (('Dimpel, Friedrich Michael', 'Reger, Isabella'), 1), (('Dimpel, Friedrich Michael', 'Büttner, Andreas'), 1), (('Dimpel, Friedrich Michael', 'Proisl, Thomas'), 1), (('Schöch, Christof', 'Pielström, Steffen'), 1), (('Schöch, Christof', 'Vitt, Thorsten'), 1), (('Schöch, Christof', 'Reger, Isabella'), 1), (('Schöch, Christof', 'Büttner, Andreas'), 1), (('Schöch, Christof', 'Proisl, Thomas'), 1), (('Pielström, Steffen', 'Vitt, Thorsten'), 1), (('Pielström, Steffen', 'Büttner, Andreas'), 1), (('Pielström, Steffen', 'Proisl, Thomas'), 1), (('Vitt, Thorsten', 'Reger, Isabella'), 1), (('Vitt, Thorsten', 'Büttner, Andreas'), 1), (('Vitt, Thorsten', 'Proisl, Thomas'), 1), (('Reger, Isabella', 'Büttner, Andreas'), 1), (('Reger, Isabella', 'Proisl, Thomas'), 1), (('Büttner, Andreas', 'Proisl, Thomas'), 1), (('Schelbert, Georg', 'Hohmann, Georg'), 1), (('Schelbert, Georg', 'Kuroczyński, Piotr'), 1), (('Schelbert, Georg', 'Raspe, Martin'), 1), (('Hohmann, Georg', 'Kuroczyński, Piotr'), 1), (('Hohmann, Georg', 'Raspe, Martin'), 1), (('Kuroczyński, Piotr', 'Raspe, Martin'), 1), (('Greulich, Markus', 'Oberthür, Simon'), 1), (('Greulich, Markus', 'Karthaus, Nicola'), 1), (('Greulich, Markus', 'Schmidt, Ariane'), 1), (('Greulich, Markus', 'Wilk, Nicole M.'), 1), (('Greulich, Markus', 'Stog, Kristina'), 1), (('Greulich, Markus', 'Senft, Björn'), 1), (('Oberthür, Simon', 'Karthaus, Nicola'), 1), (('Oberthür, Simon', 'Schmidt, Ariane'), 1), (('Oberthür, Simon', 'Wilk, Nicole M.'), 1), (('Oberthür, Simon', 'Stog, Kristina'), 1), (('Oberthür, Simon', 'Senft, Björn'), 1), (('Karthaus, Nicola', 'Schmidt, Ariane'), 1), (('Karthaus, Nicola', 'Wilk, Nicole M.'), 1), (('Karthaus, Nicola', 'Stog, Kristina'), 1), (('Karthaus, Nicola', 'Senft, Björn'), 1), (('Schmidt, Ariane', 'Wilk, Nicole M.'), 1), (('Schmidt, Ariane', 'Stog, Kristina'), 1), (('Schmidt, Ariane', 'Senft, Björn'), 1), (('Wilk, Nicole M.', 'Stog, Kristina'), 1), (('Wilk, Nicole M.', 'Senft, Björn'), 1), (('Stog, Kristina', 'Senft, Björn'), 1), (('Wagner, Benno', 'Mehler, Alexander'), 1), (('Wagner, Benno', 'Biber, Hanno'), 1), (('Mehler, Alexander', 'Biber, Hanno'), 1), (('Bamberg, Claudia', 'Jochen, Strobel'), 1), (('Bogacz, Bartosz', 'Mara, Hubert'), 1), (('Dieckmann, Lisa', 'Bell, Peter'), 1), (('Dunst, Alexander', 'Hartel, Rita'), 1), (('Fiedler, Maik', 'Weiß, Andreas'), 1), (('Fiedler, Maik', 'Heuwing, Ben'), 1), (('Fiedler, Maik', 'Schnober, Carsten'), 1), (('Weiß, Andreas', 'Heuwing, Ben'), 1), (('Weiß, Andreas', 'Schnober, Carsten'), 1), (('Heuwing, Ben', 'Schnober, Carsten'), 1), (('Göbel, Mathias', 'Meiners, Hanna-Lena'), 1), (('Gauer, Isabelle', 'Hamann, Hanjo'), 1), (('Gauer, Isabelle', 'Vogel, Friedemann'), 1), (('Hamann, Hanjo', 'Vogel, Friedemann'), 1), (('Gradmann, Stefan', 'Hennicke, Steffen'), 1), (('Gradmann, Stefan', 'Tschumpel, Gerold'), 1), (('Gradmann, Stefan', 'Dill, Kristin'), 1), (('Gradmann, Stefan', 'Thoden, Klaus'), 1), (('Gradmann, Stefan', 'Pichler, Alois'), 1), (('Gradmann, Stefan', 'Morbindoni, Christian'), 1), (('Gradmann, Stefan', 'Stiller, Juliane'), 1), (('Hennicke, Steffen', 'Tschumpel, Gerold'), 1), (('Hennicke, Steffen', 'Dill, Kristin'), 1), (('Hennicke, Steffen', 'Thoden, Klaus'), 1), (('Hennicke, Steffen', 'Pichler, Alois'), 1), (('Hennicke, Steffen', 'Morbindoni, Christian'), 1), (('Hennicke, Steffen', 'Stiller, Juliane'), 1), (('Tschumpel, Gerold', 'Dill, Kristin'), 1), (('Tschumpel, Gerold', 'Thoden, Klaus'), 1), (('Tschumpel, Gerold', 'Pichler, Alois'), 1), (('Tschumpel, Gerold', 'Morbindoni, Christian'), 1), (('Tschumpel, Gerold', 'Stiller, Juliane'), 1), (('Dill, Kristin', 'Thoden, Klaus'), 1), (('Dill, Kristin', 'Pichler, Alois'), 1), (('Dill, Kristin', 'Morbindoni, Christian'), 1), (('Dill, Kristin', 'Stiller, Juliane'), 1), (('Thoden, Klaus', 'Pichler, Alois'), 1), (('Thoden, Klaus', 'Morbindoni, Christian'), 1), (('Thoden, Klaus', 'Stiller, Juliane'), 1), (('Pichler, Alois', 'Morbindoni, Christian'), 1), (('Pichler, Alois', 'Stiller, Juliane'), 1), (('Morbindoni, Christian', 'Stiller, Juliane'), 1), (('Herrmann, J. Berenike', 'Lauer, Gerhard'), 1), (('Ivanovic, Christine', 'Frank, Andrew U.'), 1), (('Laubrock, Jochen', 'Hohenstein, Sven'), 1), (('Laubrock, Jochen', 'Thoß, Alexander'), 1), (('Hohenstein, Sven', 'Thoß, Alexander'), 1), (('Müller-Birn, Claudia', 'Schlegel, Alexa'), 1), (('Müller-Birn, Claudia', 'Baillot, Anne'), 1), (('Müller-Birn, Claudia', 'Klawitter, Jana'), 1), (('Schlegel, Alexa', 'Baillot, Anne'), 1), (('Schlegel, Alexa', 'Klawitter, Jana'), 1), (('Baillot, Anne', 'Klawitter, Jana'), 1), (('Münster, Sander', 'Niebling, Florian'), 1), (('McIsaac, Peter', 'Jamin, Sugih'), 1), (('McIsaac, Peter', 'Ibanez, Ines'), 1), (('McIsaac, Peter', 'Singer, Oskar'), 1), (('McIsaac, Peter', 'Bray, Benjamin'), 1), (('Jamin, Sugih', 'Ibanez, Ines'), 1), (('Jamin, Sugih', 'Singer, Oskar'), 1), (('Jamin, Sugih', 'Bray, Benjamin'), 1), (('Ibanez, Ines', 'Singer, Oskar'), 1), (('Ibanez, Ines', 'Bray, Benjamin'), 1), (('Singer, Oskar', 'Bray, Benjamin'), 1), (('Rau, Felix', 'Blumtritt, Jonathan'), 1), (('Scholz, Martin', 'Goerz, Guenther'), 1), (('Scholz, Martin', 'Wagner, Sarah'), 1), (('Scholz, Martin', 'Fichtner, Mark'), 1), (('Goerz, Guenther', 'Wagner, Sarah'), 1), (('Goerz, Guenther', 'Fichtner, Mark'), 1), (('Wagner, Sarah', 'Fichtner, Mark'), 1), (('Specht, Sebastian', 'Hanewinkel, Christian'), 1), (('Specht, Sebastian', 'Koslitz, Sebastian'), 1), (('Specht, Sebastian', 'Steller, Heike'), 1), (('Hanewinkel, Christian', 'Koslitz, Sebastian'), 1), (('Hanewinkel, Christian', 'Steller, Heike'), 1), (('Koslitz, Sebastian', 'Steller, Heike'), 1), (('Kittelmann, Jana', 'Wernhard, Christoph'), 1), (('Zirker, Angelika', 'Bauer, Matthias'), 1), (('Alscher, Stefan', 'Bender, Michael'), 1), (('Alscher, Stefan', 'John, Markus'), 1), (('Alscher, Stefan', 'Müller, Andreas'), 1), (('Alscher, Stefan', 'Richter, Sandra'), 1), (('Alscher, Stefan', 'Rapp, Andrea'), 1), (('Alscher, Stefan', 'Ertl, Thomas'), 1), (('Alscher, Stefan', 'Koch, Steffen'), 1), (('Alscher, Stefan', 'Kuhn, Jonas'), 1), (('Bender, Michael', 'John, Markus'), 1), (('Bender, Michael', 'Müller, Andreas'), 1), (('Bender, Michael', 'Richter, Sandra'), 1), (('Bender, Michael', 'Rapp, Andrea'), 1), (('Bender, Michael', 'Ertl, Thomas'), 1), (('Bender, Michael', 'Koch, Steffen'), 1), (('Bender, Michael', 'Kuhn, Jonas'), 1), (('John, Markus', 'Müller, Andreas'), 1), (('John, Markus', 'Richter, Sandra'), 1), (('John, Markus', 'Rapp, Andrea'), 1), (('John, Markus', 'Ertl, Thomas'), 1), (('John, Markus', 'Koch, Steffen'), 1), (('John, Markus', 'Kuhn, Jonas'), 1), (('Müller, Andreas', 'Richter, Sandra'), 1), (('Müller, Andreas', 'Rapp, Andrea'), 1), (('Müller, Andreas', 'Ertl, Thomas'), 1), (('Müller, Andreas', 'Koch, Steffen'), 1), (('Müller, Andreas', 'Kuhn, Jonas'), 1), (('Richter, Sandra', 'Rapp, Andrea'), 1), (('Richter, Sandra', 'Ertl, Thomas'), 1), (('Richter, Sandra', 'Koch, Steffen'), 1), (('Richter, Sandra', 'Kuhn, Jonas'), 1), (('Rapp, Andrea', 'Ertl, Thomas'), 1), (('Rapp, Andrea', 'Koch, Steffen'), 1), (('Rapp, Andrea', 'Kuhn, Jonas'), 1), (('Ertl, Thomas', 'Koch, Steffen'), 1), (('Ertl, Thomas', 'Kuhn, Jonas'), 1), (('Koch, Steffen', 'Kuhn, Jonas'), 1), (('Boenig, Matthias', 'Würzner, Kay-Michael'), 1), (('Boenig, Matthias', 'Binder, Arne'), 1), (('Boenig, Matthias', 'Springmann, Uwe'), 1), (('Würzner, Kay-Michael', 'Binder, Arne'), 1), (('Würzner, Kay-Michael', 'Springmann, Uwe'), 1), (('Binder, Arne', 'Springmann, Uwe'), 1), (('Bohl, Benjamin W.', 'Berndt, Axel, Dr.'), 1), (('Bohl, Benjamin W.', 'Senft, Björn'), 1), (('Berndt, Axel, Dr.', 'Senft, Björn'), 1), (('Burghardt, Manuel', 'Wolff, Christian'), 1), (('Goldhahn, Dirk', 'Eckart, Thomas'), 1), (('Goldhahn, Dirk', 'Heyer, Gerhard'), 1), (('Eckart, Thomas', 'Heyer, Gerhard'), 1), (('Gradl, Tobias', 'Lordick, Harald'), 1), (('Lordick, Harald', 'Henrich, Andreas'), 1), (('Hellwig, Oliver', 'Petersen, Wiebke'), 1), (('Jacke, Janina', 'Gius, Evelyn'), 1), (('Krug, Markus', 'Jannidis, Fotis'), 1), (('Krug, Markus', 'Reger, Isabella'), 1), (('Krug, Markus', 'Macharowsky, Luisa'), 1), (('Krug, Markus', 'Weimer, Lukas'), 1), (('Krug, Markus', 'Puppe, Frank'), 1), (('Jannidis, Fotis', 'Macharowsky, Luisa'), 1), (('Jannidis, Fotis', 'Weimer, Lukas'), 1), (('Jannidis, Fotis', 'Puppe, Frank'), 1), (('Reger, Isabella', 'Macharowsky, Luisa'), 1), (('Reger, Isabella', 'Weimer, Lukas'), 1), (('Reger, Isabella', 'Puppe, Frank'), 1), (('Macharowsky, Luisa', 'Weimer, Lukas'), 1), (('Macharowsky, Luisa', 'Puppe, Frank'), 1), (('Weimer, Lukas', 'Puppe, Frank'), 1), (('Jurish, Bryan', 'Geyken, Alexander'), 1), (('Jurish, Bryan', 'Werneke, Thomas'), 1), (('Geyken, Alexander', 'Werneke, Thomas'), 1), (('Kaufmann, Sascha', 'Andrews, Tara Lee'), 1), (('Lauer, Gerhard', 'Mattner, Cosima'), 1), (('Lauer, Gerhard', 'Herrmann, Berenike'), 1), (('Mattner, Cosima', 'Herrmann, Berenike'), 1), (('Hedeland, Hanna', 'Lehmberg, Timm'), 1), (('Hedeland, Hanna', 'Wagner-Nagy, Beata'), 1), (('Lehmberg, Timm', 'Wagner-Nagy, Beata'), 1), (('Lengyel, Dominik', 'Toulouse, Catherine'), 1), (('Meindl, Claudia', 'Rausch, Alexandre'), 1), (('Ourednik, André', 'Nellen, Stefan'), 1), (('Ourednik, André', 'Fleer, Peter'), 1), (('Nellen, Stefan', 'Fleer, Peter'), 1), (('Schütz, Susanne', 'Pöckelmann, Marcus'), 1), (('Hettinger, Lena', 'Reger, Isabella'), 1), (('Hettinger, Lena', 'Jannidis, Fotis'), 1), (('Hettinger, Lena', 'Hotho, Andreas'), 1), (('Reger, Isabella', 'Jannidis, Fotis'), 1), (('Reger, Isabella', 'Hotho, Andreas'), 1), (('Jannidis, Fotis', 'Hotho, Andreas'), 1), (('Fandrych, Christian', 'Frick, Elena'), 1), (('Fandrych, Christian', 'Hedeland, Hanna'), 1), (('Fandrych, Christian', 'Iliash, Anna'), 1), (('Fandrych, Christian', 'Jettka, Daniel'), 1), (('Fandrych, Christian', 'Meißner, Cordula'), 1), (('Fandrych, Christian', 'Schmidt, Thomas'), 1), (('Fandrych, Christian', 'Wallner, Franziska'), 1), (('Fandrych, Christian', 'Weigert, Kathrin'), 1), (('Frick, Elena', 'Hedeland, Hanna'), 1), (('Frick, Elena', 'Iliash, Anna'), 1), (('Frick, Elena', 'Jettka, Daniel'), 1), (('Frick, Elena', 'Meißner, Cordula'), 1), (('Frick, Elena', 'Schmidt, Thomas'), 1), (('Frick, Elena', 'Wallner, Franziska'), 1), (('Frick, Elena', 'Weigert, Kathrin'), 1), (('Hedeland, Hanna', 'Iliash, Anna'), 1), (('Hedeland, Hanna', 'Jettka, Daniel'), 1), (('Hedeland, Hanna', 'Meißner, Cordula'), 1), (('Hedeland, Hanna', 'Schmidt, Thomas'), 1), (('Hedeland, Hanna', 'Wallner, Franziska'), 1), (('Hedeland, Hanna', 'Weigert, Kathrin'), 1), (('Iliash, Anna', 'Jettka, Daniel'), 1), (('Iliash, Anna', 'Meißner, Cordula'), 1), (('Iliash, Anna', 'Schmidt, Thomas'), 1), (('Iliash, Anna', 'Wallner, Franziska'), 1), (('Iliash, Anna', 'Weigert, Kathrin'), 1), (('Jettka, Daniel', 'Meißner, Cordula'), 1), (('Jettka, Daniel', 'Schmidt, Thomas'), 1), (('Jettka, Daniel', 'Wallner, Franziska'), 1), (('Jettka, Daniel', 'Weigert, Kathrin'), 1), (('Meißner, Cordula', 'Schmidt, Thomas'), 1), (('Meißner, Cordula', 'Weigert, Kathrin'), 1), (('Schmidt, Thomas', 'Wallner, Franziska'), 1), (('Schmidt, Thomas', 'Weigert, Kathrin'), 1), (('Wallner, Franziska', 'Weigert, Kathrin'), 1), (('Schöch, Christof', 'Henny, Ulrike'), 1), (('Schöch, Christof', 'Calvo, José'), 1), (('Schöch, Christof', 'Schlör, Daniel'), 1), (('Schöch, Christof', 'Popp, Stefanie'), 1), (('Henny, Ulrike', 'Calvo, José'), 1), (('Henny, Ulrike', 'Schlör, Daniel'), 1), (('Henny, Ulrike', 'Popp, Stefanie'), 1), (('Calvo, José', 'Schlör, Daniel'), 1), (('Calvo, José', 'Popp, Stefanie'), 1), (('Schlör, Daniel', 'Popp, Stefanie'), 1), (('Bodomo, Adams', 'Wandl-Vogt, Eveline'), 1), (('Bodomo, Adams', 'Mörth, Karlheinz'), 1), (('Wandl-Vogt, Eveline', 'Mörth, Karlheinz'), 1), (('Stiller, Juliane', 'Zielke, Dennis'), 1), (('Thoden, Klaus', 'Zielke, Dennis'), 1), (('Trilcke, Peer', 'Fischer, Frank'), 1), (('Trilcke, Peer', 'Göbel, Mathias'), 1), (('Vertan, Cristina', 'Ellwardt, Andreas'), 1), (('Vertan, Cristina', 'Hummerl, Susanne'), 1), (('Ellwardt, Andreas', 'Hummerl, Susanne'), 1), (('von Lupin, Martin', 'Geuder, Philipp'), 1), (('von Lupin, Martin', 'Leidinger, Marie-Claire'), 1), (('von Lupin, Martin', 'Schröder, Tobias'), 1), (('von Lupin, Martin', 'Dörk, Marian'), 1), (('Geuder, Philipp', 'Leidinger, Marie-Claire'), 1), (('Geuder, Philipp', 'Schröder, Tobias'), 1), (('Geuder, Philipp', 'Dörk, Marian'), 1), (('Leidinger, Marie-Claire', 'Schröder, Tobias'), 1), (('Leidinger, Marie-Claire', 'Dörk, Marian'), 1), (('Schröder, Tobias', 'Dörk, Marian'), 1), (('Blanken, Christine', 'Rettinghaus, Klaus'), 1), (('Blanken, Christine', 'Siegert, Christine'), 1), (('Blanken, Christine', 'Dubowy, Norbert'), 1), (('Blanken, Christine', 'Schwinger, Tobias'), 1), (('Blanken, Christine', 'Muehlberger, Guenter'), 1), (('Blanken, Christine', 'Christlein, Vincent'), 1), (('Blanken, Christine', 'Stadler, Peter'), 1), (('Blanken, Christine', 'Schildt, Maria'), 1), (('Blanken, Christine', 'Wiermann, Barbara'), 1), (('Blanken, Christine', 'Schmidt, Frieder'), 1), (('Blanken, Christine', 'Schneider, Dietmar'), 1), (('Blanken, Christine', 'Hausmann, Christiane'), 1), (('Blanken, Christine', 'Morgenstern, Anja'), 1), (('Blanken, Christine', 'Wollny, Peter'), 1), (('Blanken, Christine', 'Kupferschmidt, Jens'), 1), (('Blanken, Christine', 'Bärwald, Manuel'), 1), (('Rettinghaus, Klaus', 'Siegert, Christine'), 1), (('Rettinghaus, Klaus', 'Dubowy, Norbert'), 1), (('Rettinghaus, Klaus', 'Schwinger, Tobias'), 1), (('Rettinghaus, Klaus', 'Muehlberger, Guenter'), 1), (('Rettinghaus, Klaus', 'Christlein, Vincent'), 1), (('Rettinghaus, Klaus', 'Stadler, Peter'), 1), (('Rettinghaus, Klaus', 'Schildt, Maria'), 1), (('Rettinghaus, Klaus', 'Wiermann, Barbara'), 1), (('Rettinghaus, Klaus', 'Schmidt, Frieder'), 1), (('Rettinghaus, Klaus', 'Schneider, Dietmar'), 1), (('Rettinghaus, Klaus', 'Hausmann, Christiane'), 1), (('Rettinghaus, Klaus', 'Morgenstern, Anja'), 1), (('Rettinghaus, Klaus', 'Wollny, Peter'), 1), (('Rettinghaus, Klaus', 'Kupferschmidt, Jens'), 1), (('Rettinghaus, Klaus', 'Bärwald, Manuel'), 1), (('Siegert, Christine', 'Dubowy, Norbert'), 1), (('Siegert, Christine', 'Schwinger, Tobias'), 1), (('Siegert, Christine', 'Muehlberger, Guenter'), 1), (('Siegert, Christine', 'Christlein, Vincent'), 1), (('Siegert, Christine', 'Stadler, Peter'), 1), (('Siegert, Christine', 'Schildt, Maria'), 1), (('Siegert, Christine', 'Wiermann, Barbara'), 1), (('Siegert, Christine', 'Schmidt, Frieder'), 1), (('Siegert, Christine', 'Schneider, Dietmar'), 1), (('Siegert, Christine', 'Hausmann, Christiane'), 1), (('Siegert, Christine', 'Morgenstern, Anja'), 1), (('Siegert, Christine', 'Wollny, Peter'), 1), (('Siegert, Christine', 'Kupferschmidt, Jens'), 1), (('Siegert, Christine', 'Bärwald, Manuel'), 1), (('Dubowy, Norbert', 'Schwinger, Tobias'), 1), (('Dubowy, Norbert', 'Muehlberger, Guenter'), 1), (('Dubowy, Norbert', 'Christlein, Vincent'), 1), (('Dubowy, Norbert', 'Stadler, Peter'), 1), (('Dubowy, Norbert', 'Schildt, Maria'), 1), (('Dubowy, Norbert', 'Wiermann, Barbara'), 1), (('Dubowy, Norbert', 'Schmidt, Frieder'), 1), (('Dubowy, Norbert', 'Schneider, Dietmar'), 1), (('Dubowy, Norbert', 'Hausmann, Christiane'), 1), (('Dubowy, Norbert', 'Morgenstern, Anja'), 1), (('Dubowy, Norbert', 'Wollny, Peter'), 1), (('Dubowy, Norbert', 'Kupferschmidt, Jens'), 1), (('Dubowy, Norbert', 'Bärwald, Manuel'), 1), (('Schwinger, Tobias', 'Muehlberger, Guenter'), 1), (('Schwinger, Tobias', 'Christlein, Vincent'), 1), (('Schwinger, Tobias', 'Stadler, Peter'), 1), (('Schwinger, Tobias', 'Schildt, Maria'), 1), (('Schwinger, Tobias', 'Wiermann, Barbara'), 1), (('Schwinger, Tobias', 'Schmidt, Frieder'), 1), (('Schwinger, Tobias', 'Schneider, Dietmar'), 1), (('Schwinger, Tobias', 'Hausmann, Christiane'), 1), (('Schwinger, Tobias', 'Morgenstern, Anja'), 1), (('Schwinger, Tobias', 'Wollny, Peter'), 1), (('Schwinger, Tobias', 'Kupferschmidt, Jens'), 1), (('Schwinger, Tobias', 'Bärwald, Manuel'), 1), (('Muehlberger, Guenter', 'Christlein, Vincent'), 1), (('Muehlberger, Guenter', 'Stadler, Peter'), 1), (('Muehlberger, Guenter', 'Schildt, Maria'), 1), (('Muehlberger, Guenter', 'Wiermann, Barbara'), 1), (('Muehlberger, Guenter', 'Schmidt, Frieder'), 1), (('Muehlberger, Guenter', 'Schneider, Dietmar'), 1), (('Muehlberger, Guenter', 'Hausmann, Christiane'), 1), (('Muehlberger, Guenter', 'Morgenstern, Anja'), 1), (('Muehlberger, Guenter', 'Wollny, Peter'), 1), (('Muehlberger, Guenter', 'Kupferschmidt, Jens'), 1), (('Muehlberger, Guenter', 'Bärwald, Manuel'), 1), (('Christlein, Vincent', 'Stadler, Peter'), 1), (('Christlein, Vincent', 'Schildt, Maria'), 1), (('Christlein, Vincent', 'Wiermann, Barbara'), 1), (('Christlein, Vincent', 'Schmidt, Frieder'), 1), (('Christlein, Vincent', 'Schneider, Dietmar'), 1), (('Christlein, Vincent', 'Hausmann, Christiane'), 1), (('Christlein, Vincent', 'Morgenstern, Anja'), 1), (('Christlein, Vincent', 'Wollny, Peter'), 1), (('Christlein, Vincent', 'Kupferschmidt, Jens'), 1), (('Christlein, Vincent', 'Bärwald, Manuel'), 1), (('Stadler, Peter', 'Schildt, Maria'), 1), (('Stadler, Peter', 'Wiermann, Barbara'), 1), (('Stadler, Peter', 'Schmidt, Frieder'), 1), (('Stadler, Peter', 'Schneider, Dietmar'), 1), (('Stadler, Peter', 'Hausmann, Christiane'), 1), (('Stadler, Peter', 'Morgenstern, Anja'), 1), (('Stadler, Peter', 'Wollny, Peter'), 1), (('Stadler, Peter', 'Kupferschmidt, Jens'), 1), (('Stadler, Peter', 'Bärwald, Manuel'), 1), (('Schildt, Maria', 'Wiermann, Barbara'), 1), (('Schildt, Maria', 'Schmidt, Frieder'), 1), (('Schildt, Maria', 'Schneider, Dietmar'), 1), (('Schildt, Maria', 'Hausmann, Christiane'), 1), (('Schildt, Maria', 'Morgenstern, Anja'), 1), (('Schildt, Maria', 'Wollny, Peter'), 1), (('Schildt, Maria', 'Kupferschmidt, Jens'), 1), (('Schildt, Maria', 'Bärwald, Manuel'), 1), (('Wiermann, Barbara', 'Schmidt, Frieder'), 1), (('Wiermann, Barbara', 'Schneider, Dietmar'), 1), (('Wiermann, Barbara', 'Hausmann, Christiane'), 1), (('Wiermann, Barbara', 'Morgenstern, Anja'), 1), (('Wiermann, Barbara', 'Wollny, Peter'), 1), (('Wiermann, Barbara', 'Kupferschmidt, Jens'), 1), (('Wiermann, Barbara', 'Bärwald, Manuel'), 1), (('Schmidt, Frieder', 'Schneider, Dietmar'), 1), (('Schmidt, Frieder', 'Hausmann, Christiane'), 1), (('Schmidt, Frieder', 'Morgenstern, Anja'), 1), (('Schmidt, Frieder', 'Wollny, Peter'), 1), (('Schmidt, Frieder', 'Kupferschmidt, Jens'), 1), (('Schmidt, Frieder', 'Bärwald, Manuel'), 1), (('Schneider, Dietmar', 'Hausmann, Christiane'), 1), (('Schneider, Dietmar', 'Morgenstern, Anja'), 1), (('Schneider, Dietmar', 'Wollny, Peter'), 1), (('Schneider, Dietmar', 'Kupferschmidt, Jens'), 1), (('Schneider, Dietmar', 'Bärwald, Manuel'), 1), (('Hausmann, Christiane', 'Morgenstern, Anja'), 1), (('Hausmann, Christiane', 'Wollny, Peter'), 1), (('Hausmann, Christiane', 'Kupferschmidt, Jens'), 1), (('Hausmann, Christiane', 'Bärwald, Manuel'), 1), (('Morgenstern, Anja', 'Wollny, Peter'), 1), (('Morgenstern, Anja', 'Kupferschmidt, Jens'), 1), (('Morgenstern, Anja', 'Bärwald, Manuel'), 1), (('Wollny, Peter', 'Kupferschmidt, Jens'), 1), (('Wollny, Peter', 'Bärwald, Manuel'), 1), (('Kupferschmidt, Jens', 'Bärwald, Manuel'), 1), (('König, Mareike', 'Baillot, Anne'), 1), (('Kessels, Geert', 'van Bree, Pim'), 1), (('Odebrecht, Carolin', 'Lüdeling, Anke'), 1), (('Odebrecht, Carolin', 'Dreyer, Malte'), 1), (('Odebrecht, Carolin', 'Zielke, Dennis'), 1), (('Lüdeling, Anke', 'Dreyer, Malte'), 1), (('Lüdeling, Anke', 'Zielke, Dennis'), 1), (('Dreyer, Malte', 'Zielke, Dennis'), 1), (('Bögel, Thomas', 'Gius, Evelyn'), 1), (('Bögel, Thomas', 'Petris, Marco'), 1), (('Bögel, Thomas', 'Strötgen, Jannik'), 1), (('Gius, Evelyn', 'Petris, Marco'), 1), (('Gius, Evelyn', 'Strötgen, Jannik'), 1), (('Petris, Marco', 'Strötgen, Jannik'), 1), (('Recker-Hamm, Ute', 'Schneider, Matthias'), 1), (('Schrade, Torsten', 'Kuczera, Andreas'), 1), (('Schrade, Torsten', 'Kollatz, Thomas'), 1), (('Kuczera, Andreas', 'Kollatz, Thomas'), 1), (('Vanscheidt, Philipp', 'Rapp, Andrea'), 1), (('Vanscheidt, Philipp', 'Schmid, Oliver'), 1), (('Vanscheidt, Philipp', 'Schmunk, Stefan'), 1), (('Vanscheidt, Philipp', 'Kollatz, Thomas'), 1), (('Rapp, Andrea', 'Schmid, Oliver'), 1), (('Rapp, Andrea', 'Schmunk, Stefan'), 1), (('Rapp, Andrea', 'Kollatz, Thomas'), 1), (('Schmid, Oliver', 'Schmunk, Stefan'), 1), (('Schmid, Oliver', 'Kollatz, Thomas'), 1), (('Schmunk, Stefan', 'Kollatz, Thomas'), 1)], [(('Kurmann, Eliane', 'Natale, Enrico'), 2), (('Baumann, Jan', 'Natale, Enrico'), 2), (('Trilcke, Peer', 'Fischer, Frank'), 2), (('Seltmann, Melanie', 'Wandl-Vogt, Eveline'), 2), (('Burghardt, Manuel', 'Wolff, Christian'), 2), (('Jannidis, Fotis', 'Reger, Isabella'), 2), (('Feige, Tillmann', 'González, Alicia'), 1), (('Feige, Tillmann', 'Prager, Christian'), 1), (('Feige, Tillmann', 'Vertan, Cristina'), 1), (('Feige, Tillmann', 'Werwick, Heiko'), 1), (('González, Alicia', 'Prager, Christian'), 1), (('González, Alicia', 'Vertan, Cristina'), 1), (('González, Alicia', 'Werwick, Heiko'), 1), (('Prager, Christian', 'Vertan, Cristina'), 1), (('Prager, Christian', 'Werwick, Heiko'), 1), (('Vertan, Cristina', 'Werwick, Heiko'), 1), (('Piotrowski, Michael', 'Schomaker, Lambert'), 1), (('Piotrowski, Michael', 'Horstmann, Wolfram'), 1), (('Piotrowski, Michael', 'Burch, Thomas'), 1), (('Piotrowski, Michael', 'Hodel, Tobias'), 1), (('Schomaker, Lambert', 'Horstmann, Wolfram'), 1), (('Schomaker, Lambert', 'Burch, Thomas'), 1), (('Schomaker, Lambert', 'Hodel, Tobias'), 1), (('Horstmann, Wolfram', 'Burch, Thomas'), 1), (('Horstmann, Wolfram', 'Hodel, Tobias'), 1), (('Burch, Thomas', 'Hodel, Tobias'), 1), (('Hohmann, Georg', 'Schmidt, Antje'), 1), (('Hohmann, Georg', 'Doppelbauer, Regina'), 1), (('Hohmann, Georg', 'Rehbein, Malte'), 1), (('Schmidt, Antje', 'Doppelbauer, Regina'), 1), (('Schmidt, Antje', 'Rehbein, Malte'), 1), (('Doppelbauer, Regina', 'Rehbein, Malte'), 1), (('Kurmann, Eliane', 'Baumann, Jan'), 1), (('Kuroczyński, Piotr', 'Stanicka-Brzezicka, Ksenia'), 1), (('Kuroczyński, Piotr', 'Fichtl, Barbara'), 1), (('Kuroczyński, Piotr', 'Köhler, Werner'), 1), (('Kuroczyński, Piotr', 'Brahaj, Armand'), 1), (('Kuroczyński, Piotr', 'Fichtner, Mark'), 1), (('Stanicka-Brzezicka, Ksenia', 'Fichtl, Barbara'), 1), (('Stanicka-Brzezicka, Ksenia', 'Köhler, Werner'), 1), (('Stanicka-Brzezicka, Ksenia', 'Brahaj, Armand'), 1), (('Stanicka-Brzezicka, Ksenia', 'Fichtner, Mark'), 1), (('Fichtl, Barbara', 'Köhler, Werner'), 1), (('Fichtl, Barbara', 'Brahaj, Armand'), 1), (('Fichtl, Barbara', 'Fichtner, Mark'), 1), (('Köhler, Werner', 'Brahaj, Armand'), 1), (('Köhler, Werner', 'Fichtner, Mark'), 1), (('Brahaj, Armand', 'Fichtner, Mark'), 1), (('Niebling, Florian', 'Münster, Sander'), 1), (('Niebling, Florian', 'Friedrichs, Kristina'), 1), (('Niebling, Florian', 'Henze, Frank'), 1), (('Niebling, Florian', 'Kröber, Cindy'), 1), (('Niebling, Florian', 'Bruschke, Jonas'), 1), (('Münster, Sander', 'Friedrichs, Kristina'), 1), (('Münster, Sander', 'Henze, Frank'), 1), (('Münster, Sander', 'Kröber, Cindy'), 1), (('Münster, Sander', 'Bruschke, Jonas'), 1), (('Friedrichs, Kristina', 'Henze, Frank'), 1), (('Friedrichs, Kristina', 'Kröber, Cindy'), 1), (('Friedrichs, Kristina', 'Bruschke, Jonas'), 1), (('Henze, Frank', 'Kröber, Cindy'), 1), (('Henze, Frank', 'Bruschke, Jonas'), 1), (('Kröber, Cindy', 'Bruschke, Jonas'), 1), (('Willand, Marcus', 'Trilcke, Peer'), 1), (('Willand, Marcus', 'Schöch, Christof'), 1), (('Willand, Marcus', 'Rißler-Pipka, Nanette'), 1), (('Willand, Marcus', 'Reiter, Nils'), 1), (('Willand, Marcus', 'Fischer, Frank'), 1), (('Trilcke, Peer', 'Schöch, Christof'), 1), (('Trilcke, Peer', 'Rißler-Pipka, Nanette'), 1), (('Trilcke, Peer', 'Reiter, Nils'), 1), (('Schöch, Christof', 'Rißler-Pipka, Nanette'), 1), (('Schöch, Christof', 'Reiter, Nils'), 1), (('Schöch, Christof', 'Fischer, Frank'), 1), (('Rißler-Pipka, Nanette', 'Reiter, Nils'), 1), (('Rißler-Pipka, Nanette', 'Fischer, Frank'), 1), (('Reiter, Nils', 'Fischer, Frank'), 1), (('Seltmann, Melanie', 'Dorn, Amelie'), 1), (('Wandl-Vogt, Eveline', 'Dorn, Amelie'), 1), (('Baillot, Anne', 'Busch, Anna'), 1), (('Baillot, Anne', 'Puren, Marie'), 1), (('Baillot, Anne', 'Mertens, Mike'), 1), (('Baillot, Anne', 'Romary, Laurent'), 1), (('Busch, Anna', 'Puren, Marie'), 1), (('Busch, Anna', 'Mertens, Mike'), 1), (('Busch, Anna', 'Romary, Laurent'), 1), (('Puren, Marie', 'Mertens, Mike'), 1), (('Puren, Marie', 'Romary, Laurent'), 1), (('Mertens, Mike', 'Romary, Laurent'), 1), (('Baumann, Jan', 'Kurmann, Eliane'), 1), (('Breitenbücher, Uwe', 'Barzen, Johanna'), 1), (('Breitenbücher, Uwe', 'Falkenthal, Michael'), 1), (('Breitenbücher, Uwe', 'Leymann, Frank'), 1), (('Barzen, Johanna', 'Falkenthal, Michael'), 1), (('Barzen, Johanna', 'Leymann, Frank'), 1), (('Falkenthal, Michael', 'Leymann, Frank'), 1), (('Bürgermeister, Martina', 'Vogeler, Georg'), 1), (('Burghardt, Manuel', 'Spanner, Sebastian'), 1), (('Burghardt, Manuel', 'Schmidt, Thomas'), 1), (('Burghardt, Manuel', 'Fuchs, Florian'), 1), (('Burghardt, Manuel', 'Buchhop, Katia'), 1), (('Burghardt, Manuel', 'Nickl, Miriam'), 1), (('Spanner, Sebastian', 'Schmidt, Thomas'), 1), (('Spanner, Sebastian', 'Fuchs, Florian'), 1), (('Spanner, Sebastian', 'Buchhop, Katia'), 1), (('Spanner, Sebastian', 'Nickl, Miriam'), 1), (('Spanner, Sebastian', 'Wolff, Christian'), 1), (('Schmidt, Thomas', 'Fuchs, Florian'), 1), (('Schmidt, Thomas', 'Buchhop, Katia'), 1), (('Schmidt, Thomas', 'Nickl, Miriam'), 1), (('Schmidt, Thomas', 'Wolff, Christian'), 1), (('Fuchs, Florian', 'Buchhop, Katia'), 1), (('Fuchs, Florian', 'Nickl, Miriam'), 1), (('Fuchs, Florian', 'Wolff, Christian'), 1), (('Buchhop, Katia', 'Nickl, Miriam'), 1), (('Buchhop, Katia', 'Wolff, Christian'), 1), (('Nickl, Miriam', 'Wolff, Christian'), 1), (('Döhling, Lars', 'Burghardt, Manuel'), 1), (('Döhling, Lars', 'Wolff, Christian'), 1), (('Eder, Elisabeth', 'Hadersbeck, Maximilian'), 1), (('Dufner, Matthias', 'Kunz, Axel'), 1), (('Dufner, Matthias', 'Klammt, Anne'), 1), (('Kunz, Axel', 'Klammt, Anne'), 1), (('Grumt Suárez, Holger', 'Karlova-Bourbonus, Natali'), 1), (('Grumt Suárez, Holger', 'Lobin, Henning'), 1), (('Karlova-Bourbonus, Natali', 'Lobin, Henning'), 1), (('Hegel, Philipp', 'Tonne, Danah'), 1), (('Hegel, Philipp', 'Geukes, Albert'), 1), (('Hegel, Philipp', 'Krewet, Michael'), 1), (('Hegel, Philipp', 'Rapp, Andrea'), 1), (('Hegel, Philipp', 'Stotzka, Rainer'), 1), (('Hegel, Philipp', 'Uhlmann, Gyburg'), 1), (('Tonne, Danah', 'Geukes, Albert'), 1), (('Tonne, Danah', 'Krewet, Michael'), 1), (('Tonne, Danah', 'Rapp, Andrea'), 1), (('Tonne, Danah', 'Stotzka, Rainer'), 1), (('Tonne, Danah', 'Uhlmann, Gyburg'), 1), (('Geukes, Albert', 'Krewet, Michael'), 1), (('Geukes, Albert', 'Rapp, Andrea'), 1), (('Geukes, Albert', 'Stotzka, Rainer'), 1), (('Geukes, Albert', 'Uhlmann, Gyburg'), 1), (('Krewet, Michael', 'Rapp, Andrea'), 1), (('Krewet, Michael', 'Stotzka, Rainer'), 1), (('Krewet, Michael', 'Uhlmann, Gyburg'), 1), (('Rapp, Andrea', 'Stotzka, Rainer'), 1), (('Rapp, Andrea', 'Uhlmann, Gyburg'), 1), (('Stotzka, Rainer', 'Uhlmann, Gyburg'), 1), (('Hellrich, Johannes', 'Matthies, Franz'), 1), (('Hellrich, Johannes', 'Hahn, Udo'), 1), (('Matthies, Franz', 'Hahn, Udo'), 1), (('Hermes, Jürgen', 'Hoffmann, Moritz'), 1), (('Hermes, Jürgen', 'Eide, Øyvind'), 1), (('Hermes, Jürgen', 'Geduldig, Alena'), 1), (('Hermes, Jürgen', 'Schildkamp, Philip'), 1), (('Hoffmann, Moritz', 'Eide, Øyvind'), 1), (('Hoffmann, Moritz', 'Geduldig, Alena'), 1), (('Hoffmann, Moritz', 'Schildkamp, Philip'), 1), (('Eide, Øyvind', 'Geduldig, Alena'), 1), (('Eide, Øyvind', 'Schildkamp, Philip'), 1), (('Geduldig, Alena', 'Schildkamp, Philip'), 1), (('Hohenstein, Sven', 'Laubrock, Jochen'), 1), (('Vogeler, Georg', 'Klugseder, Robert'), 1), (('Vogeler, Georg', 'Klug, Helmut W.'), 1), (('Vogeler, Georg', 'Steiner, Christian'), 1), (('Vogeler, Georg', 'Raunig, Elisabeth'), 1), (('Klugseder, Robert', 'Klug, Helmut W.'), 1), (('Klugseder, Robert', 'Steiner, Christian'), 1), (('Klugseder, Robert', 'Raunig, Elisabeth'), 1), (('Klug, Helmut W.', 'Steiner, Christian'), 1), (('Klug, Helmut W.', 'Raunig, Elisabeth'), 1), (('Steiner, Christian', 'Raunig, Elisabeth'), 1), (('Laubrock, Jochen', 'Richter, Eike'), 1), (('Laubrock, Jochen', 'Hohenstein, Sven'), 1), (('Richter, Eike', 'Hohenstein, Sven'), 1), (('Schlögl, Matthias', 'Lejtovicz, Katalin'), 1), (('Mathiak, Brigitte', 'Kronenwett, Simone'), 1), (('Odebrecht, Carolin', 'Dreyer, Malte'), 1), (('Odebrecht, Carolin', 'Lüdeling, Anke'), 1), (('Odebrecht, Carolin', 'Krause, Thomas'), 1), (('Dreyer, Malte', 'Lüdeling, Anke'), 1), (('Dreyer, Malte', 'Krause, Thomas'), 1), (('Lüdeling, Anke', 'Krause, Thomas'), 1), (('Jannidis, Fotis', 'Pielström, Steffen'), 1), (('Jannidis, Fotis', 'Schöch, Christof'), 1), (('Jannidis, Fotis', 'Vitt, Thorsten'), 1), (('Pielström, Steffen', 'Schöch, Christof'), 1), (('Pielström, Steffen', 'Vitt, Thorsten'), 1), (('Schöch, Christof', 'Vitt, Thorsten'), 1), (('Kath, Roxana', 'Keilholz, Franz'), 1), (('Kath, Roxana', 'Klinker, Fabian'), 1), (('Kath, Roxana', 'Pöckelmann, Marcus'), 1), (('Kath, Roxana', 'Rücker, Michaela'), 1), (('Kath, Roxana', 'Švitek, Mihael'), 1), (('Kath, Roxana', 'Wöckener-Gade, Eva'), 1), (('Kath, Roxana', 'Yu, Xiaozhou'), 1), (('Keilholz, Franz', 'Klinker, Fabian'), 1), (('Keilholz, Franz', 'Pöckelmann, Marcus'), 1), (('Keilholz, Franz', 'Rücker, Michaela'), 1), (('Keilholz, Franz', 'Švitek, Mihael'), 1), (('Keilholz, Franz', 'Wöckener-Gade, Eva'), 1), (('Keilholz, Franz', 'Yu, Xiaozhou'), 1), (('Klinker, Fabian', 'Pöckelmann, Marcus'), 1), (('Klinker, Fabian', 'Rücker, Michaela'), 1), (('Klinker, Fabian', 'Švitek, Mihael'), 1), (('Klinker, Fabian', 'Wöckener-Gade, Eva'), 1), (('Klinker, Fabian', 'Yu, Xiaozhou'), 1), (('Pöckelmann, Marcus', 'Rücker, Michaela'), 1), (('Pöckelmann, Marcus', 'Švitek, Mihael'), 1), (('Pöckelmann, Marcus', 'Wöckener-Gade, Eva'), 1), (('Pöckelmann, Marcus', 'Yu, Xiaozhou'), 1), (('Rücker, Michaela', 'Švitek, Mihael'), 1), (('Rücker, Michaela', 'Wöckener-Gade, Eva'), 1), (('Rücker, Michaela', 'Yu, Xiaozhou'), 1), (('Švitek, Mihael', 'Wöckener-Gade, Eva'), 1), (('Švitek, Mihael', 'Yu, Xiaozhou'), 1), (('Wöckener-Gade, Eva', 'Yu, Xiaozhou'), 1), (('Lauscher, Anne', 'Nanni, Federico'), 1), (('Lauscher, Anne', 'Ponzetto, Simone Paolo'), 1), (('Nanni, Federico', 'Ponzetto, Simone Paolo'), 1), (('Krug, Markus', 'Wick, Christoph'), 1), (('Krug, Markus', 'Jannidis, Fotis'), 1), (('Krug, Markus', 'Reger, Isabella'), 1), (('Krug, Markus', 'Weimer, Lukas'), 1), (('Krug, Markus', 'Madarasz, Nathalie'), 1), (('Krug, Markus', 'Puppe, Frank'), 1), (('Wick, Christoph', 'Jannidis, Fotis'), 1), (('Wick, Christoph', 'Reger, Isabella'), 1), (('Wick, Christoph', 'Weimer, Lukas'), 1), (('Wick, Christoph', 'Madarasz, Nathalie'), 1), (('Wick, Christoph', 'Puppe, Frank'), 1), (('Jannidis, Fotis', 'Weimer, Lukas'), 1), (('Jannidis, Fotis', 'Madarasz, Nathalie'), 1), (('Jannidis, Fotis', 'Puppe, Frank'), 1), (('Reger, Isabella', 'Weimer, Lukas'), 1), (('Reger, Isabella', 'Madarasz, Nathalie'), 1), (('Reger, Isabella', 'Puppe, Frank'), 1), (('Weimer, Lukas', 'Madarasz, Nathalie'), 1), (('Weimer, Lukas', 'Puppe, Frank'), 1), (('Madarasz, Nathalie', 'Puppe, Frank'), 1), (('Riechert, Thomas', 'Beretta, Francesco'), 1), (('Schäuble, Joshua', 'Crowley, Ronan'), 1), (('Schulz, Daniela', 'Fischer, Franz'), 1), (('Schulz, Daniela', 'Geißler, Nils'), 1), (('Schulz, Daniela', 'Gödel, Martina'), 1), (('Fischer, Franz', 'Geißler, Nils'), 1), (('Fischer, Franz', 'Gödel, Martina'), 1), (('Geißler, Nils', 'Gödel, Martina'), 1), (('Therón, Roberto', 'Dorn, Amelie'), 1), (('Therón, Roberto', 'Seltmann, Melanie'), 1), (('Therón, Roberto', 'Benito, Alejandro'), 1), (('Therón, Roberto', 'Wandl-Vogt, Eveline'), 1), (('Therón, Roberto', 'Gabriel Losada Gómez, Antonio'), 1), (('Dorn, Amelie', 'Seltmann, Melanie'), 1), (('Dorn, Amelie', 'Benito, Alejandro'), 1), (('Dorn, Amelie', 'Wandl-Vogt, Eveline'), 1), (('Dorn, Amelie', 'Gabriel Losada Gómez, Antonio'), 1), (('Seltmann, Melanie', 'Benito, Alejandro'), 1), (('Seltmann, Melanie', 'Gabriel Losada Gómez, Antonio'), 1), (('Benito, Alejandro', 'Wandl-Vogt, Eveline'), 1), (('Benito, Alejandro', 'Gabriel Losada Gómez, Antonio'), 1), (('Wandl-Vogt, Eveline', 'Gabriel Losada Gómez, Antonio'), 1), (('Elwert, Frederik', 'Tabti, Samira'), 1), (('Elwert, Frederik', 'Krech, Volkhard'), 1), (('Elwert, Frederik', 'Morik, Katharina'), 1), (('Elwert, Frederik', 'Pfahler, Lukas'), 1), (('Tabti, Samira', 'Krech, Volkhard'), 1), (('Tabti, Samira', 'Morik, Katharina'), 1), (('Tabti, Samira', 'Pfahler, Lukas'), 1), (('Krech, Volkhard', 'Morik, Katharina'), 1), (('Krech, Volkhard', 'Pfahler, Lukas'), 1), (('Morik, Katharina', 'Pfahler, Lukas'), 1), (('Wettlaufer, Jörg', 'Johnson, Christopher'), 1), (('Wuttke, Ulrike', 'Adrian, Dominik'), 1), (('Wuttke, Ulrike', 'Ott, Carolin'), 1), (('Adrian, Dominik', 'Ott, Carolin'), 1), (('Zirker, Angelika', 'Bauer, Matthias'), 1), (('Barth, Florian', 'Viehhauser, Gabriel'), 1), (('Daengeli, Peter', 'Zumsteg, Simon'), 1), (('Daxenberger, Johannes', 'Görke, Susanne'), 1), (('Daxenberger, Johannes', 'Siahdohoni, Darjush'), 1), (('Daxenberger, Johannes', 'Gurevych, Iryna'), 1), (('Daxenberger, Johannes', 'Prechel, Doris'), 1), (('Görke, Susanne', 'Siahdohoni, Darjush'), 1), (('Görke, Susanne', 'Gurevych, Iryna'), 1), (('Görke, Susanne', 'Prechel, Doris'), 1), (('Siahdohoni, Darjush', 'Gurevych, Iryna'), 1), (('Siahdohoni, Darjush', 'Prechel, Doris'), 1), (('Gurevych, Iryna', 'Prechel, Doris'), 1), (('Glinka, Katrin', 'Pietsch, Christopher'), 1), (('Glinka, Katrin', 'Dörk, Marian'), 1), (('Pietsch, Christopher', 'Dörk, Marian'), 1), (('Echelmeyer, Nora', 'Reiter, Nils'), 1), (('Echelmeyer, Nora', 'Schulz, Sarah'), 1), (('Reiter, Nils', 'Schulz, Sarah'), 1), (('Jäschke, Robert', 'Strötgen, Jannik'), 1), (('Jäschke, Robert', 'Krotova, Elena'), 1), (('Jäschke, Robert', 'Fischer, Frank'), 1), (('Strötgen, Jannik', 'Krotova, Elena'), 1), (('Strötgen, Jannik', 'Fischer, Frank'), 1), (('Krotova, Elena', 'Fischer, Frank'), 1), (('Gius, Evelyn', 'Kleymann, Rabea'), 1), (('Gius, Evelyn', 'Meister, Jan Christoph'), 1), (('Gius, Evelyn', 'Petris, Marco'), 1), (('Kleymann, Rabea', 'Meister, Jan Christoph'), 1), (('Kleymann, Rabea', 'Petris, Marco'), 1), (('Meister, Jan Christoph', 'Petris, Marco'), 1), (('Goedel, Martina', 'Zimmer, Sebastian'), 1), (('Große, Peggy', 'Wagner, Sarah'), 1), (('Kasper, Dominik', 'Grüntgens, Max'), 1), (('Herrmann, J. Berenike', 'Lauer, Gerhard'), 1), (('Lange, Felix', 'Wintergrün, Dirk'), 1), (('Lange, Felix', 'Wannenwetsch, Oliver'), 1), (('Lange, Felix', 'Schoepflin, Urs'), 1), (('Wintergrün, Dirk', 'Wannenwetsch, Oliver'), 1), (('Wintergrün, Dirk', 'Schoepflin, Urs'), 1), (('Wannenwetsch, Oliver', 'Schoepflin, Urs'), 1), (('Matschinegg, Ingrid', 'Nicka, Isabella'), 1), (('Meise, Bianca', 'Meister, Dorothee'), 1), (('Messerschmidt, Reinhard', 'Mathiak, Brigitte'), 1), (('Münster, Sander', 'Kuroczyński, Piotr'), 1), (('Münster, Sander', 'Pfarr-Harfst, Mieke'), 1), (('Kuroczyński, Piotr', 'Pfarr-Harfst, Mieke'), 1), (('Dieckmann, Lisa', 'Hermes, Jürgen'), 1), (('Dieckmann, Lisa', 'Neuefeind, Claes'), 1), (('Hermes, Jürgen', 'Neuefeind, Claes'), 1), (('Pause, Johannes', 'Walkowski, Niels-Oliver'), 1), (('Pernes, Stefan', 'Keller, Lennart'), 1), (('Pernes, Stefan', 'Peterek, Christoph'), 1), (('Keller, Lennart', 'Peterek, Christoph'), 1), (('Jannidis, Fotis', 'Zehe, Albin'), 1), (('Jannidis, Fotis', 'Becker, Martin'), 1), (('Jannidis, Fotis', 'Hettinger, Lena'), 1), (('Jannidis, Fotis', 'Hotho, Andreas'), 1), (('Reger, Isabella', 'Zehe, Albin'), 1), (('Reger, Isabella', 'Becker, Martin'), 1), (('Reger, Isabella', 'Hettinger, Lena'), 1), (('Reger, Isabella', 'Hotho, Andreas'), 1), (('Zehe, Albin', 'Becker, Martin'), 1), (('Zehe, Albin', 'Hettinger, Lena'), 1), (('Zehe, Albin', 'Hotho, Andreas'), 1), (('Becker, Martin', 'Hettinger, Lena'), 1), (('Becker, Martin', 'Hotho, Andreas'), 1), (('Hettinger, Lena', 'Hotho, Andreas'), 1), (('Rißler-Pipka, Nanette', 'Chandna, Swati'), 1), (('Rißler-Pipka, Nanette', 'Tonne, Danah'), 1), (('Chandna, Swati', 'Tonne, Danah'), 1), (('Thoden, Klaus', 'Wintergrün, Dirk'), 1), (('Thoden, Klaus', 'Stiller, Juliane'), 1), (('Thoden, Klaus', 'Gnadt, Timo'), 1), (('Thoden, Klaus', 'Meiners, Hanna'), 1), (('Wintergrün, Dirk', 'Stiller, Juliane'), 1), (('Wintergrün, Dirk', 'Gnadt, Timo'), 1), (('Wintergrün, Dirk', 'Meiners, Hanna'), 1), (('Stiller, Juliane', 'Gnadt, Timo'), 1), (('Stiller, Juliane', 'Meiners, Hanna'), 1), (('Gnadt, Timo', 'Meiners, Hanna'), 1), (('Trilcke, Peer', 'Göbel, Mathias'), 1), (('Trilcke, Peer', 'Kampkaspar, Dario'), 1), (('Trilcke, Peer', 'Kittel, Christopher'), 1), (('Fischer, Frank', 'Göbel, Mathias'), 1), (('Fischer, Frank', 'Kampkaspar, Dario'), 1), (('Fischer, Frank', 'Kittel, Christopher'), 1), (('Göbel, Mathias', 'Kampkaspar, Dario'), 1), (('Göbel, Mathias', 'Kittel, Christopher'), 1), (('Kampkaspar, Dario', 'Kittel, Christopher'), 1), (('von Wartburg, Karin', 'Nepfer, Matthias'), 1), (('Windhager, Florian', 'Mayr, Eva'), 1), (('Windhager, Florian', 'Schreder, Günther'), 1), (('Windhager, Florian', 'Wandl-Vogt, Eveline'), 1), (('Windhager, Florian', 'Gruber, Christine'), 1), (('Mayr, Eva', 'Schreder, Günther'), 1), (('Mayr, Eva', 'Wandl-Vogt, Eveline'), 1), (('Mayr, Eva', 'Gruber, Christine'), 1), (('Schreder, Günther', 'Wandl-Vogt, Eveline'), 1), (('Schreder, Günther', 'Gruber, Christine'), 1), (('Wandl-Vogt, Eveline', 'Gruber, Christine'), 1), (('Zihlmann, Patricia', 'von Zimmermann, Christian'), 1), (('Gradl, Tobias', 'Aschauer, Anna'), 1), (('Gradl, Tobias', 'Dogunke, Swantje'), 1), (('Gradl, Tobias', 'Klaffki, Lisa'), 1), (('Gradl, Tobias', 'Schmunk, Stefan'), 1), (('Gradl, Tobias', 'Steyer, Timo'), 1), (('Aschauer, Anna', 'Dogunke, Swantje'), 1), (('Aschauer, Anna', 'Klaffki, Lisa'), 1), (('Aschauer, Anna', 'Schmunk, Stefan'), 1), (('Aschauer, Anna', 'Steyer, Timo'), 1), (('Dogunke, Swantje', 'Klaffki, Lisa'), 1), (('Dogunke, Swantje', 'Schmunk, Stefan'), 1), (('Dogunke, Swantje', 'Steyer, Timo'), 1), (('Klaffki, Lisa', 'Schmunk, Stefan'), 1), (('Klaffki, Lisa', 'Steyer, Timo'), 1), (('Schmunk, Stefan', 'Steyer, Timo'), 1), (('Hannesschläger, Vanessa', 'Losehand, Joachim'), 1), (('Hannesschläger, Vanessa', 'Kamocki, Paweł'), 1), (('Hannesschläger, Vanessa', 'Scholger, Walter'), 1), (('Hannesschläger, Vanessa', 'Witt, Andreas'), 1), (('Hannesschläger, Vanessa', 'Amini, Seyavash'), 1), (('Losehand, Joachim', 'Kamocki, Paweł'), 1), (('Losehand, Joachim', 'Scholger, Walter'), 1), (('Losehand, Joachim', 'Witt, Andreas'), 1), (('Losehand, Joachim', 'Amini, Seyavash'), 1), (('Kamocki, Paweł', 'Scholger, Walter'), 1), (('Kamocki, Paweł', 'Witt, Andreas'), 1), (('Kamocki, Paweł', 'Amini, Seyavash'), 1), (('Scholger, Walter', 'Witt, Andreas'), 1), (('Scholger, Walter', 'Amini, Seyavash'), 1), (('Witt, Andreas', 'Amini, Seyavash'), 1), (('Hodel, Tobias', 'Lang, Eva-Maria'), 1), (('Hodel, Tobias', 'Fiel, Stefan'), 1), (('Lang, Eva-Maria', 'Fiel, Stefan'), 1), (('Johnson, Christopher', 'Wettlaufer, Jörg'), 1), (('Kampkaspar, Dario', 'Andorfer, Peter'), 1), (('Kampkaspar, Dario', 'Baumgarten, Marcus'), 1), (('Kampkaspar, Dario', 'Steyer, Timo'), 1), (('Andorfer, Peter', 'Baumgarten, Marcus'), 1), (('Andorfer, Peter', 'Steyer, Timo'), 1), (('Baumgarten, Marcus', 'Steyer, Timo'), 1), (('Kollatz, Thomas', 'Hegel, Philipp'), 1), (('Kollatz, Thomas', 'Veentjer, Ubbo'), 1), (('Kollatz, Thomas', 'Söring, Sibylle'), 1), (('Kollatz, Thomas', 'Funk, Stefan E.'), 1), (('Hegel, Philipp', 'Veentjer, Ubbo'), 1), (('Hegel, Philipp', 'Söring, Sibylle'), 1), (('Hegel, Philipp', 'Funk, Stefan E.'), 1), (('Veentjer, Ubbo', 'Söring, Sibylle'), 1), (('Veentjer, Ubbo', 'Funk, Stefan E.'), 1), (('Söring, Sibylle', 'Funk, Stefan E.'), 1), (('Pohl, Oliver', 'Schrade, Torsten'), 1), (('Reiter, Nils', 'Blessing, Andre'), 1), (('Reiter, Nils', 'Echelmeyer, Nora'), 1), (('Reiter, Nils', 'Koch, Steffen'), 1), (('Reiter, Nils', 'Kremer, Gerhard'), 1), (('Reiter, Nils', 'Murr, Sandra'), 1), (('Reiter, Nils', 'Overbeck, Maximilian'), 1), (('Reiter, Nils', 'Pichler, Axel'), 1), (('Blessing, Andre', 'Echelmeyer, Nora'), 1), (('Blessing, Andre', 'Koch, Steffen'), 1), (('Blessing, Andre', 'Kremer, Gerhard'), 1), (('Blessing, Andre', 'Murr, Sandra'), 1), (('Blessing, Andre', 'Overbeck, Maximilian'), 1), (('Blessing, Andre', 'Pichler, Axel'), 1), (('Echelmeyer, Nora', 'Koch, Steffen'), 1), (('Echelmeyer, Nora', 'Kremer, Gerhard'), 1), (('Echelmeyer, Nora', 'Murr, Sandra'), 1), (('Echelmeyer, Nora', 'Overbeck, Maximilian'), 1), (('Echelmeyer, Nora', 'Pichler, Axel'), 1), (('Koch, Steffen', 'Kremer, Gerhard'), 1), (('Koch, Steffen', 'Murr, Sandra'), 1), (('Koch, Steffen', 'Overbeck, Maximilian'), 1), (('Koch, Steffen', 'Pichler, Axel'), 1), (('Kremer, Gerhard', 'Murr, Sandra'), 1), (('Kremer, Gerhard', 'Overbeck, Maximilian'), 1), (('Kremer, Gerhard', 'Pichler, Axel'), 1), (('Murr, Sandra', 'Overbeck, Maximilian'), 1), (('Murr, Sandra', 'Pichler, Axel'), 1), (('Overbeck, Maximilian', 'Pichler, Axel'), 1)], [(('Tu, Ngoc Duyen Tanja', 'Weimer, Lukas'), 2), (('Fischer, Frank', 'Jäschke, Robert'), 2), (('Fischer, Frank', 'Trilcke, Peer'), 2), (('Donig, Simon', 'Handschuh, Siegfried'), 2), (('Friedrichs, Kristina', 'Niebling, Florian'), 2), (('Münster, Sander', 'Niebling, Florian'), 2), (('Münster, Sander', 'Bruschke, Jonas'), 2), (('Münster, Sander', 'Barthel, Kristina'), 2), (('Kamocki, Pawel', 'Ketzan, Erik'), 2), (('Kamocki, Pawel', 'Wildgans, Julia'), 2), (('Kamocki, Pawel', 'Witt, Andreas'), 2), (('Ketzan, Erik', 'Wildgans, Julia'), 2), (('Ketzan, Erik', 'Witt, Andreas'), 2), (('Wildgans, Julia', 'Witt, Andreas'), 2), (('Zehe, Albin', 'Hotho, Andreas'), 2), (('Mayr, Eva', 'Schreder, Günther'), 2), (('Andorfer, Peter', 'Karner, Stefan'), 1), (('Aschauer, Anna', 'Büchler, Marco'), 1), (('Aschauer, Anna', 'Gradl, Tobias'), 1), (('Aschauer, Anna', 'Henrich, Andreas'), 1), (('Büchler, Marco', 'Gradl, Tobias'), 1), (('Büchler, Marco', 'Henrich, Andreas'), 1), (('Gradl, Tobias', 'Henrich, Andreas'), 1), (('Barzen, Johanna', 'Blumtritt, Jonathan'), 1), (('Barzen, Johanna', 'Breitenbücher, Uwe'), 1), (('Barzen, Johanna', 'Kronenwett, Simone'), 1), (('Barzen, Johanna', 'Leymann, Frank'), 1), (('Barzen, Johanna', 'Mathiak, Brigitte'), 1), (('Barzen, Johanna', 'Neuefeind, Claes'), 1), (('Blumtritt, Jonathan', 'Breitenbücher, Uwe'), 1), (('Blumtritt, Jonathan', 'Kronenwett, Simone'), 1), (('Blumtritt, Jonathan', 'Leymann, Frank'), 1), (('Blumtritt, Jonathan', 'Mathiak, Brigitte'), 1), (('Blumtritt, Jonathan', 'Neuefeind, Claes'), 1), (('Breitenbücher, Uwe', 'Kronenwett, Simone'), 1), (('Breitenbücher, Uwe', 'Leymann, Frank'), 1), (('Breitenbücher, Uwe', 'Mathiak, Brigitte'), 1), (('Breitenbücher, Uwe', 'Neuefeind, Claes'), 1), (('Kronenwett, Simone', 'Leymann, Frank'), 1), (('Kronenwett, Simone', 'Mathiak, Brigitte'), 1), (('Kronenwett, Simone', 'Neuefeind, Claes'), 1), (('Leymann, Frank', 'Mathiak, Brigitte'), 1), (('Leymann, Frank', 'Neuefeind, Claes'), 1), (('Mathiak, Brigitte', 'Neuefeind, Claes'), 1), (('Beck, Jens', 'Willand, Marcus'), 1), (('Beck, Jens', 'Reiter, Nils'), 1), (('Willand, Marcus', 'Reiter, Nils'), 1), (('Bigalke, Ben', 'Drach, Sviatoslav'), 1), (('Bigalke, Ben', 'Henny-Krahmer, Ulrike'), 1), (('Bigalke, Ben', 'Sepúlveda, Pedro'), 1), (('Bigalke, Ben', 'Theisen, Christian'), 1), (('Drach, Sviatoslav', 'Henny-Krahmer, Ulrike'), 1), (('Drach, Sviatoslav', 'Sepúlveda, Pedro'), 1), (('Drach, Sviatoslav', 'Theisen, Christian'), 1), (('Henny-Krahmer, Ulrike', 'Sepúlveda, Pedro'), 1), (('Henny-Krahmer, Ulrike', 'Theisen, Christian'), 1), (('Sepúlveda, Pedro', 'Theisen, Christian'), 1), (('Blanken, Christine', 'Rettinghaus, Klaus'), 1), (('Blessing, Andre', 'Kuczera, Andreas'), 1), (('Blumtritt, Jonathan', 'Rau, Felix'), 1), (('Boenig, Matthias', 'Federbusch, Maria'), 1), (('Boenig, Matthias', 'Herrmann, Elisa'), 1), (('Boenig, Matthias', 'Neudecker, Clemens'), 1), (('Boenig, Matthias', 'Würzner, Kay-Michael'), 1), (('Federbusch, Maria', 'Herrmann, Elisa'), 1), (('Federbusch, Maria', 'Neudecker, Clemens'), 1), (('Federbusch, Maria', 'Würzner, Kay-Michael'), 1), (('Herrmann, Elisa', 'Neudecker, Clemens'), 1), (('Herrmann, Elisa', 'Würzner, Kay-Michael'), 1), (('Neudecker, Clemens', 'Würzner, Kay-Michael'), 1), (('Bruder, Daniel', 'Teufel, Simone'), 1), (('Brunner, Annelen', 'Engelberg, Stefan'), 1), (('Brunner, Annelen', 'Jannidis, Fotis'), 1), (('Brunner, Annelen', 'Tu, Ngoc Duyen Tanja'), 1), (('Brunner, Annelen', 'Weimer, Lukas'), 1), (('Engelberg, Stefan', 'Jannidis, Fotis'), 1), (('Engelberg, Stefan', 'Tu, Ngoc Duyen Tanja'), 1), (('Engelberg, Stefan', 'Weimer, Lukas'), 1), (('Jannidis, Fotis', 'Tu, Ngoc Duyen Tanja'), 1), (('Jannidis, Fotis', 'Weimer, Lukas'), 1), (('Burckhardt, Daniel', 'Menny, Anna'), 1), (('Burghardt, Manuel', 'Heftberger, Adelheid'), 1), (('Burghardt, Manuel', 'Müller-Birn, Claudia'), 1), (('Burghardt, Manuel', 'Pause, Johannes'), 1), (('Burghardt, Manuel', 'Walkowski, Niels-Oliver'), 1), (('Burghardt, Manuel', 'Zeppelzauer, Matthias'), 1), (('Heftberger, Adelheid', 'Müller-Birn, Claudia'), 1), (('Heftberger, Adelheid', 'Pause, Johannes'), 1), (('Heftberger, Adelheid', 'Walkowski, Niels-Oliver'), 1), (('Heftberger, Adelheid', 'Zeppelzauer, Matthias'), 1), (('Müller-Birn, Claudia', 'Pause, Johannes'), 1), (('Müller-Birn, Claudia', 'Walkowski, Niels-Oliver'), 1), (('Müller-Birn, Claudia', 'Zeppelzauer, Matthias'), 1), (('Pause, Johannes', 'Walkowski, Niels-Oliver'), 1), (('Pause, Johannes', 'Zeppelzauer, Matthias'), 1), (('Walkowski, Niels-Oliver', 'Zeppelzauer, Matthias'), 1), (('Sippl, Colin', 'Fuchs, Florian'), 1), (('Sippl, Colin', 'Burghardt, Manuel'), 1), (('Fuchs, Florian', 'Burghardt, Manuel'), 1), (('Burr, Elisabeth', 'Fußbahn, Ulrike'), 1), (('Busch, Hannah', 'Bös, Eva'), 1), (('Börner, Ingo', 'Fischer, Frank'), 1), (('Börner, Ingo', 'Hechtl, Angelika'), 1), (('Börner, Ingo', 'Jäschke, Robert'), 1), (('Börner, Ingo', 'Trilcke, Peer'), 1), (('Fischer, Frank', 'Hechtl, Angelika'), 1), (('Hechtl, Angelika', 'Jäschke, Robert'), 1), (('Hechtl, Angelika', 'Trilcke, Peer'), 1), (('Jäschke, Robert', 'Trilcke, Peer'), 1), (('Böttger, Lucie', 'Zeckey, Alexander'), 1), (('Böttger, Lucie', 'Langner, Martin'), 1), (('Zeckey, Alexander', 'Langner, Martin'), 1), (('Bürgermeister, Martina', 'Schneider, Gerlinde'), 1), (('Bürgermeister, Martina', 'Makowski, Stephan'), 1), (('Bürgermeister, Martina', 'Jeller, Daniel'), 1), (('Bürgermeister, Martina', 'Bigalke, Jan'), 1), (('Bürgermeister, Martina', 'Theisen, Christian'), 1), (('Bürgermeister, Martina', 'Vogeler, Georg'), 1), (('Schneider, Gerlinde', 'Makowski, Stephan'), 1), (('Schneider, Gerlinde', 'Jeller, Daniel'), 1), (('Schneider, Gerlinde', 'Bigalke, Jan'), 1), (('Schneider, Gerlinde', 'Theisen, Christian'), 1), (('Schneider, Gerlinde', 'Vogeler, Georg'), 1), (('Makowski, Stephan', 'Jeller, Daniel'), 1), (('Makowski, Stephan', 'Bigalke, Jan'), 1), (('Makowski, Stephan', 'Theisen, Christian'), 1), (('Makowski, Stephan', 'Vogeler, Georg'), 1), (('Jeller, Daniel', 'Bigalke, Jan'), 1), (('Jeller, Daniel', 'Theisen, Christian'), 1), (('Jeller, Daniel', 'Vogeler, Georg'), 1), (('Bigalke, Jan', 'Theisen, Christian'), 1), (('Bigalke, Jan', 'Vogeler, Georg'), 1), (('Theisen, Christian', 'Vogeler, Georg'), 1), (('Chiarcos, Christian', 'Donandt, Kathrin'), 1), (('Chiarcos, Christian', 'Ionov, Maxim'), 1), (('Chiarcos, Christian', 'Rind-Pawlowski, Monika'), 1), (('Chiarcos, Christian', 'Sargsian, Hasmik'), 1), (('Chiarcos, Christian', 'Wichers Schreur, Jesse'), 1), (('Donandt, Kathrin', 'Ionov, Maxim'), 1), (('Donandt, Kathrin', 'Rind-Pawlowski, Monika'), 1), (('Donandt, Kathrin', 'Sargsian, Hasmik'), 1), (('Donandt, Kathrin', 'Wichers Schreur, Jesse'), 1), (('Ionov, Maxim', 'Rind-Pawlowski, Monika'), 1), (('Ionov, Maxim', 'Sargsian, Hasmik'), 1), (('Ionov, Maxim', 'Wichers Schreur, Jesse'), 1), (('Rind-Pawlowski, Monika', 'Sargsian, Hasmik'), 1), (('Rind-Pawlowski, Monika', 'Wichers Schreur, Jesse'), 1), (('Sargsian, Hasmik', 'Wichers Schreur, Jesse'), 1), (('Czmiel, Alexander', 'Grabsch, Sascha'), 1), (('Czmiel, Alexander', 'Jürgens, Marco'), 1), (('Czmiel, Alexander', 'Maiwald, Anke'), 1), (('Czmiel, Alexander', 'Willenborg, Josef'), 1), (('Grabsch, Sascha', 'Jürgens, Marco'), 1), (('Grabsch, Sascha', 'Maiwald, Anke'), 1), (('Grabsch, Sascha', 'Willenborg, Josef'), 1), (('Jürgens, Marco', 'Maiwald, Anke'), 1), (('Jürgens, Marco', 'Willenborg, Josef'), 1), (('Maiwald, Anke', 'Willenborg, Josef'), 1), (('Declerck, Thierry', 'Aman, Anastasija'), 1), (('Declerck, Thierry', 'Grünewald, Stefan'), 1), (('Declerck, Thierry', 'Lindemann, Matthias'), 1), (('Declerck, Thierry', 'Schäfer, Lisa'), 1), (('Declerck, Thierry', 'Skachkova, Natalia'), 1), (('Aman, Anastasija', 'Grünewald, Stefan'), 1), (('Aman, Anastasija', 'Lindemann, Matthias'), 1), (('Aman, Anastasija', 'Schäfer, Lisa'), 1), (('Aman, Anastasija', 'Skachkova, Natalia'), 1), (('Grünewald, Stefan', 'Lindemann, Matthias'), 1), (('Grünewald, Stefan', 'Schäfer, Lisa'), 1), (('Grünewald, Stefan', 'Skachkova, Natalia'), 1), (('Lindemann, Matthias', 'Schäfer, Lisa'), 1), (('Lindemann, Matthias', 'Skachkova, Natalia'), 1), (('Schäfer, Lisa', 'Skachkova, Natalia'), 1), (('Donig, Simon', 'Christoforaki, Maria'), 1), (('Donig, Simon', 'Bermeitinger, Bernhard'), 1), (('Christoforaki, Maria', 'Bermeitinger, Bernhard'), 1), (('Christoforaki, Maria', 'Handschuh, Siegfried'), 1), (('Bermeitinger, Bernhard', 'Handschuh, Siegfried'), 1), (('Donig, Simon', 'Radisch, Erik'), 1), (('Donig, Simon', 'Rehbein, Malte'), 1), (('Donig, Simon', 'Hastik, Canan'), 1), (('Donig, Simon', 'Kohle, Hubertus'), 1), (('Donig, Simon', 'Ommer, Björn'), 1), (('Handschuh, Siegfried', 'Radisch, Erik'), 1), (('Handschuh, Siegfried', 'Rehbein, Malte'), 1), (('Handschuh, Siegfried', 'Hastik, Canan'), 1), (('Handschuh, Siegfried', 'Kohle, Hubertus'), 1), (('Handschuh, Siegfried', 'Ommer, Björn'), 1), (('Radisch, Erik', 'Rehbein, Malte'), 1), (('Radisch, Erik', 'Hastik, Canan'), 1), (('Radisch, Erik', 'Kohle, Hubertus'), 1), (('Radisch, Erik', 'Ommer, Björn'), 1), (('Rehbein, Malte', 'Hastik, Canan'), 1), (('Rehbein, Malte', 'Kohle, Hubertus'), 1), (('Rehbein, Malte', 'Ommer, Björn'), 1), (('Hastik, Canan', 'Kohle, Hubertus'), 1), (('Hastik, Canan', 'Ommer, Björn'), 1), (('Kohle, Hubertus', 'Ommer, Björn'), 1), (('Druskat, Stephan', 'Vertan, Cristina'), 1), (('Dunst, Alexander', 'Hartel, Rita'), 1), (('Mellmann, Katja', 'Du, Keli'), 1), (('Forney, Christian', 'Rojas Castro, Antonio'), 1), (('Forney, Christian', 'Dängeli, Peter'), 1), (('Rojas Castro, Antonio', 'Dängeli, Peter'), 1), (('Dörk, Marian', 'Glinka, Katrin'), 1), (('Wieners, Jan', 'Schubert, Zoe'), 1), (('Wieners, Jan', 'Eide, Øyvind'), 1), (('Schubert, Zoe', 'Eide, Øyvind'), 1), (('Faynberg, Veronika', 'Fischer, Frank'), 1), (('Faynberg, Veronika', 'Lashchuk, Svetlana'), 1), (('Faynberg, Veronika', 'Orlova, Tatyana'), 1), (('Faynberg, Veronika', 'Palchikov, German'), 1), (('Faynberg, Veronika', 'Shlosman, Evgenia'), 1), (('Fischer, Frank', 'Lashchuk, Svetlana'), 1), (('Fischer, Frank', 'Orlova, Tatyana'), 1), (('Fischer, Frank', 'Palchikov, German'), 1), (('Fischer, Frank', 'Shlosman, Evgenia'), 1), (('Lashchuk, Svetlana', 'Orlova, Tatyana'), 1), (('Lashchuk, Svetlana', 'Palchikov, German'), 1), (('Lashchuk, Svetlana', 'Shlosman, Evgenia'), 1), (('Orlova, Tatyana', 'Palchikov, German'), 1), (('Orlova, Tatyana', 'Shlosman, Evgenia'), 1), (('Palchikov, German', 'Shlosman, Evgenia'), 1), (('Franzini, Greta', 'Fischer, Franz'), 1), (('Franzini, Greta', 'Kestemont, Mike'), 1), (('Fischer, Franz', 'Kestemont, Mike'), 1), (('Friedrichs, Kristina', 'Münster, Sander'), 1), (('Friedrichs, Kristina', 'Maiwald, Ferdinand'), 1), (('Friedrichs, Kristina', 'Bruschke, Jonas'), 1), (('Friedrichs, Kristina', 'Barthel, Kristina'), 1), (('Münster, Sander', 'Maiwald, Ferdinand'), 1), (('Niebling, Florian', 'Maiwald, Ferdinand'), 1), (('Niebling, Florian', 'Bruschke, Jonas'), 1), (('Niebling, Florian', 'Barthel, Kristina'), 1), (('Maiwald, Ferdinand', 'Bruschke, Jonas'), 1), (('Maiwald, Ferdinand', 'Barthel, Kristina'), 1), (('Bruschke, Jonas', 'Barthel, Kristina'), 1), (('Garcés, Juan', 'Bräuer, Johannes'), 1), (('Gerhards, Simone', 'Gülden, Svenja A.'), 1), (('Gerhards, Simone', 'Konrad, Tobias'), 1), (('Gerhards, Simone', 'Leuk, Michael'), 1), (('Gerhards, Simone', 'Verhoeven-van Elsbergen, Ursula'), 1), (('Gerhards, Simone', 'Rapp, Andrea'), 1), (('Gülden, Svenja A.', 'Konrad, Tobias'), 1), (('Gülden, Svenja A.', 'Leuk, Michael'), 1), (('Gülden, Svenja A.', 'Verhoeven-van Elsbergen, Ursula'), 1), (('Gülden, Svenja A.', 'Rapp, Andrea'), 1), (('Konrad, Tobias', 'Leuk, Michael'), 1), (('Konrad, Tobias', 'Verhoeven-van Elsbergen, Ursula'), 1), (('Konrad, Tobias', 'Rapp, Andrea'), 1), (('Leuk, Michael', 'Verhoeven-van Elsbergen, Ursula'), 1), (('Leuk, Michael', 'Rapp, Andrea'), 1), (('Verhoeven-van Elsbergen, Ursula', 'Rapp, Andrea'), 1), (('Adelmann, Benedikt', 'Andresen, Melanie'), 1), (('Adelmann, Benedikt', 'Begerow, Anke'), 1), (('Adelmann, Benedikt', 'Gaidys, Uta'), 1), (('Adelmann, Benedikt', 'Gius, Evelyn'), 1), (('Adelmann, Benedikt', 'Koch, Gertraud'), 1), (('Adelmann, Benedikt', 'Menzel, Wolfgang'), 1), (('Adelmann, Benedikt', 'Orth, Dominik'), 1), (('Adelmann, Benedikt', 'Topp, Sebastian'), 1), (('Adelmann, Benedikt', 'Vauth, Michael'), 1), (('Adelmann, Benedikt', 'Zinsmeister, Heike'), 1), (('Andresen, Melanie', 'Begerow, Anke'), 1), (('Andresen, Melanie', 'Gaidys, Uta'), 1), (('Andresen, Melanie', 'Gius, Evelyn'), 1), (('Andresen, Melanie', 'Koch, Gertraud'), 1), (('Andresen, Melanie', 'Menzel, Wolfgang'), 1), (('Andresen, Melanie', 'Orth, Dominik'), 1), (('Andresen, Melanie', 'Topp, Sebastian'), 1), (('Andresen, Melanie', 'Vauth, Michael'), 1), (('Andresen, Melanie', 'Zinsmeister, Heike'), 1), (('Begerow, Anke', 'Gaidys, Uta'), 1), (('Begerow, Anke', 'Gius, Evelyn'), 1), (('Begerow, Anke', 'Koch, Gertraud'), 1), (('Begerow, Anke', 'Menzel, Wolfgang'), 1), (('Begerow, Anke', 'Orth, Dominik'), 1), (('Begerow, Anke', 'Topp, Sebastian'), 1), (('Begerow, Anke', 'Vauth, Michael'), 1), (('Begerow, Anke', 'Zinsmeister, Heike'), 1), (('Gaidys, Uta', 'Gius, Evelyn'), 1), (('Gaidys, Uta', 'Koch, Gertraud'), 1), (('Gaidys, Uta', 'Menzel, Wolfgang'), 1), (('Gaidys, Uta', 'Orth, Dominik'), 1), (('Gaidys, Uta', 'Topp, Sebastian'), 1), (('Gaidys, Uta', 'Vauth, Michael'), 1), (('Gaidys, Uta', 'Zinsmeister, Heike'), 1), (('Gius, Evelyn', 'Koch, Gertraud'), 1), (('Gius, Evelyn', 'Menzel, Wolfgang'), 1), (('Gius, Evelyn', 'Orth, Dominik'), 1), (('Gius, Evelyn', 'Topp, Sebastian'), 1), (('Gius, Evelyn', 'Vauth, Michael'), 1), (('Gius, Evelyn', 'Zinsmeister, Heike'), 1), (('Koch, Gertraud', 'Menzel, Wolfgang'), 1), (('Koch, Gertraud', 'Orth, Dominik'), 1), (('Koch, Gertraud', 'Topp, Sebastian'), 1), (('Koch, Gertraud', 'Vauth, Michael'), 1), (('Koch, Gertraud', 'Zinsmeister, Heike'), 1), (('Menzel, Wolfgang', 'Orth, Dominik'), 1), (('Menzel, Wolfgang', 'Topp, Sebastian'), 1), (('Menzel, Wolfgang', 'Vauth, Michael'), 1), (('Menzel, Wolfgang', 'Zinsmeister, Heike'), 1), (('Orth, Dominik', 'Topp, Sebastian'), 1), (('Orth, Dominik', 'Vauth, Michael'), 1), (('Orth, Dominik', 'Zinsmeister, Heike'), 1), (('Topp, Sebastian', 'Vauth, Michael'), 1), (('Topp, Sebastian', 'Zinsmeister, Heike'), 1), (('Vauth, Michael', 'Zinsmeister, Heike'), 1), (('Wagner, Andreas', 'Glück, David'), 1), (('Bosse, Anke', 'Fanta, Walter'), 1), (('Bosse, Anke', 'Godler, Katharina'), 1), (('Bosse, Anke', 'Brüning, Gerrit'), 1), (('Bosse, Anke', 'Boelderl, Artur'), 1), (('Fanta, Walter', 'Godler, Katharina'), 1), (('Fanta, Walter', 'Brüning, Gerrit'), 1), (('Fanta, Walter', 'Boelderl, Artur'), 1), (('Godler, Katharina', 'Brüning, Gerrit'), 1), (('Godler, Katharina', 'Boelderl, Artur'), 1), (('Brüning, Gerrit', 'Boelderl, Artur'), 1), (('Goedel, Martina', 'Zimmer, Sebastian'), 1), (('Goedel, Martina', 'Schmidt, Johannes'), 1), (('Zimmer, Sebastian', 'Schmidt, Johannes'), 1), (('Romanello, Matteo', 'Gradl, Tobias'), 1), (('Gronemeyer, Sven', 'Diehr, Franziska'), 1), (('Gronemeyer, Sven', 'Prager, Christian'), 1), (('Gronemeyer, Sven', 'Diederichs, Katja'), 1), (('Gronemeyer, Sven', 'Wagner, Elisabeth'), 1), (('Gronemeyer, Sven', 'Brodhun, Maximilian'), 1), (('Gronemeyer, Sven', 'Grube, Nikolai'), 1), (('Diehr, Franziska', 'Prager, Christian'), 1), (('Diehr, Franziska', 'Diederichs, Katja'), 1), (('Diehr, Franziska', 'Wagner, Elisabeth'), 1), (('Diehr, Franziska', 'Brodhun, Maximilian'), 1), (('Diehr, Franziska', 'Grube, Nikolai'), 1), (('Prager, Christian', 'Diederichs, Katja'), 1), (('Prager, Christian', 'Wagner, Elisabeth'), 1), (('Prager, Christian', 'Brodhun, Maximilian'), 1), (('Prager, Christian', 'Grube, Nikolai'), 1), (('Diederichs, Katja', 'Wagner, Elisabeth'), 1), (('Diederichs, Katja', 'Brodhun, Maximilian'), 1), (('Diederichs, Katja', 'Grube, Nikolai'), 1), (('Wagner, Elisabeth', 'Brodhun, Maximilian'), 1), (('Wagner, Elisabeth', 'Grube, Nikolai'), 1), (('Brodhun, Maximilian', 'Grube, Nikolai'), 1), (('Hamisch, Juliane', 'Große, Peggy'), 1), (('Hannesschläger, Vanessa', 'Andorfer, Peter'), 1), (('Helling, Patrick', 'Mathiak, Brigitte'), 1), (('Hellrich, Johannes', 'Stöger, Alexander'), 1), (('Hellrich, Johannes', 'Hahn, Udo'), 1), (('Stöger, Alexander', 'Hahn, Udo'), 1), (('Henny-Krahmer, Ulrike', 'Betz, Katrin'), 1), (('Henny-Krahmer, Ulrike', 'Schlör, Daniel'), 1), (('Henny-Krahmer, Ulrike', 'Hotho, Andreas'), 1), (('Betz, Katrin', 'Schlör, Daniel'), 1), (('Betz, Katrin', 'Hotho, Andreas'), 1), (('Schlör, Daniel', 'Hotho, Andreas'), 1), (('Hiebert, Matthew', 'Lässig, Simone'), 1), (('Hiebert, Matthew', 'Witt, Andreas'), 1), (('Lässig, Simone', 'Witt, Andreas'), 1), (('Hodel, Tobias', 'Strauß, Tobias'), 1), (('Hodel, Tobias', 'Diem, Markus'), 1), (('Strauß, Tobias', 'Diem, Markus'), 1), (('Hoenen, Armin', 'Samushia, Lela'), 1), (('Jacke, Janina', 'Horstmann, Jan'), 1), (('Jacke, Janina', 'Meister, Jan Christoph'), 1), (('Horstmann, Jan', 'Meister, Jan Christoph'), 1), (('Kessler, Linda', 'Braun, Tamara'), 1), (('Kessler, Linda', 'Preuß, Tanja'), 1), (('Braun, Tamara', 'Preuß, Tanja'), 1), (('Klaffki, Lisa', 'Steyer, Timo'), 1), (('Kleymann, Rabea', 'Meister, Jan Christoph'), 1), (('Kleymann, Rabea', 'Stange, Jan-Erik'), 1), (('Meister, Jan Christoph', 'Stange, Jan-Erik'), 1), (('Barth, Florian', 'Kim, Evgeny'), 1), (('Barth, Florian', 'Murr, Sandra'), 1), (('Barth, Florian', 'Klinger, Roman'), 1), (('Kim, Evgeny', 'Murr, Sandra'), 1), (('Kim, Evgeny', 'Klinger, Roman'), 1), (('Murr, Sandra', 'Klinger, Roman'), 1), (('Braun, Manuel', 'Klinger, Roman'), 1), (('Braun, Manuel', 'Padó, Sebastian'), 1), (('Braun, Manuel', 'Viehhauser, Gabriel'), 1), (('Klinger, Roman', 'Padó, Sebastian'), 1), (('Klinger, Roman', 'Viehhauser, Gabriel'), 1), (('Padó, Sebastian', 'Viehhauser, Gabriel'), 1), (('Knoth, Alexander', 'Stede, Manfred'), 1), (('Knoth, Alexander', 'Hägert, Erik'), 1), (('Stede, Manfred', 'Hägert, Erik'), 1), (('Jannidis, Fotis', 'Konle, Leonard'), 1), (('Jannidis, Fotis', 'Zehe, Albin'), 1), (('Jannidis, Fotis', 'Hotho, Andreas'), 1), (('Jannidis, Fotis', 'Krug, Markus'), 1), (('Konle, Leonard', 'Zehe, Albin'), 1), (('Konle, Leonard', 'Hotho, Andreas'), 1), (('Konle, Leonard', 'Krug, Markus'), 1), (('Zehe, Albin', 'Krug, Markus'), 1), (('Hotho, Andreas', 'Krug, Markus'), 1), (('Haas, Gabriele', 'Koumpis, Adamantios'), 1), (('Haas, Gabriele', 'Handschuh, Siegfried'), 1), (('Koumpis, Adamantios', 'Handschuh, Siegfried'), 1), (('Gálffy, Andreas', 'Kamphausen, Julian'), 1), (('Gálffy, Andreas', 'Kronenwett, Simone'), 1), (('Gálffy, Andreas', 'Wieners, Jan G.'), 1), (('Kamphausen, Julian', 'Kronenwett, Simone'), 1), (('Kamphausen, Julian', 'Wieners, Jan G.'), 1), (('Kronenwett, Simone', 'Wieners, Jan G.'), 1), (('Krug, Markus', 'Tu, Ngoc Duyen Tanja'), 1), (('Krug, Markus', 'Weimer, Lukas'), 1), (('Krug, Markus', 'Reger, Isabella'), 1), (('Krug, Markus', 'Konle, Leonard'), 1), (('Krug, Markus', 'Jannidis, Fotis'), 1), (('Krug, Markus', 'Puppe, Frank'), 1), (('Tu, Ngoc Duyen Tanja', 'Reger, Isabella'), 1), (('Tu, Ngoc Duyen Tanja', 'Konle, Leonard'), 1), (('Tu, Ngoc Duyen Tanja', 'Jannidis, Fotis'), 1), (('Tu, Ngoc Duyen Tanja', 'Puppe, Frank'), 1), (('Weimer, Lukas', 'Reger, Isabella'), 1), (('Weimer, Lukas', 'Konle, Leonard'), 1), (('Weimer, Lukas', 'Jannidis, Fotis'), 1), (('Weimer, Lukas', 'Puppe, Frank'), 1), (('Reger, Isabella', 'Konle, Leonard'), 1), (('Reger, Isabella', 'Jannidis, Fotis'), 1), (('Reger, Isabella', 'Puppe, Frank'), 1), (('Konle, Leonard', 'Jannidis, Fotis'), 1), (('Konle, Leonard', 'Puppe, Frank'), 1), (('Jannidis, Fotis', 'Puppe, Frank'), 1), (('Kröger, Bärbel', 'Popp, Christian'), 1), (('Laubrock, Jochen', 'Dubray, David'), 1), (('Laubrock, Jochen', 'Krügel, André'), 1), (('Dubray, David', 'Krügel, André'), 1), (('Hess, Jan', 'Lebherz, Daniel'), 1), (('Hess, Jan', 'Zeyen, Christian'), 1), (('Lebherz, Daniel', 'Zeyen, Christian'), 1), (('Lindemann, David', 'Kliche, Fritz'), 1), (('Lindemann, David', 'Kutzner, Kristin'), 1), (('Kliche, Fritz', 'Kutzner, Kristin'), 1), (('Loebel, Jens-Martin', 'Hahn, Carolin'), 1), (('Lordick, Harald', 'Mache, Beata'), 1), (('Löcker-Herschkowitz, Johannes A.', 'Wagner, Christian'), 1), (('Wodausch, David', 'Fiedler, Maik'), 1), (('Wodausch, David', 'Heuwing, Ben'), 1), (('Wodausch, David', 'Mandl, Thomas'), 1), (('Fiedler, Maik', 'Heuwing, Ben'), 1), (('Fiedler, Maik', 'Mandl, Thomas'), 1), (('Heuwing, Ben', 'Mandl, Thomas'), 1), (('Caria, Federico', 'Mathiak, Brigitte'), 1), (('Mayr, Eva', 'Windhager, Florian'), 1), (('Schreder, Günther', 'Windhager, Florian'), 1), (('Moeller, Katrin', 'Ďurčo, Matej'), 1), (('Moeller, Katrin', 'Ebert, Barbara'), 1), (('Moeller, Katrin', 'Lemaire, Marina'), 1), (('Moeller, Katrin', 'Rosenthaler, Lukas'), 1), (('Moeller, Katrin', 'Sahle, Patrick'), 1), (('Moeller, Katrin', 'Wuttke, Ulrike'), 1), (('Moeller, Katrin', 'Wettlaufer, Jörg'), 1), (('Ďurčo, Matej', 'Ebert, Barbara'), 1), (('Ďurčo, Matej', 'Lemaire, Marina'), 1), (('Ďurčo, Matej', 'Rosenthaler, Lukas'), 1), (('Ďurčo, Matej', 'Sahle, Patrick'), 1), (('Ďurčo, Matej', 'Wuttke, Ulrike'), 1), (('Ďurčo, Matej', 'Wettlaufer, Jörg'), 1), (('Ebert, Barbara', 'Lemaire, Marina'), 1), (('Ebert, Barbara', 'Rosenthaler, Lukas'), 1), (('Ebert, Barbara', 'Sahle, Patrick'), 1), (('Ebert, Barbara', 'Wuttke, Ulrike'), 1), (('Ebert, Barbara', 'Wettlaufer, Jörg'), 1), (('Lemaire, Marina', 'Rosenthaler, Lukas'), 1), (('Lemaire, Marina', 'Sahle, Patrick'), 1), (('Lemaire, Marina', 'Wuttke, Ulrike'), 1), (('Lemaire, Marina', 'Wettlaufer, Jörg'), 1), (('Rosenthaler, Lukas', 'Sahle, Patrick'), 1), (('Rosenthaler, Lukas', 'Wuttke, Ulrike'), 1), (('Rosenthaler, Lukas', 'Wettlaufer, Jörg'), 1), (('Sahle, Patrick', 'Wuttke, Ulrike'), 1), (('Sahle, Patrick', 'Wettlaufer, Jörg'), 1), (('Wuttke, Ulrike', 'Wettlaufer, Jörg'), 1), (('Mondaca, Francisco', 'Rolshoven, Jürgen'), 1), (('Mondaca, Francisco', 'Schildkamp, Philip'), 1), (('Mondaca, Francisco', 'Vogt, Andreas'), 1), (('Rolshoven, Jürgen', 'Schildkamp, Philip'), 1), (('Rolshoven, Jürgen', 'Vogt, Andreas'), 1), (('Schildkamp, Philip', 'Vogt, Andreas'), 1), (('Müller-Birn, Claudia', 'Schelbert, Georg'), 1), (('Müller-Birn, Claudia', 'Raspe, Martin'), 1), (('Müller-Birn, Claudia', 'Wübbena, Thorsten'), 1), (('Schelbert, Georg', 'Raspe, Martin'), 1), (('Schelbert, Georg', 'Wübbena, Thorsten'), 1), (('Raspe, Martin', 'Wübbena, Thorsten'), 1), (('Münster, Sander', 'Christen, Jonas'), 1), (('Münster, Sander', 'Pfarr-Harfst, Mieke'), 1), (('Christen, Jonas', 'Pfarr-Harfst, Mieke'), 1), (('Münster, Sander', 'Friedrichs, Kristina'), 1), (('Münster, Sander', 'Kröber, Cindy'), 1), (('Münster, Sander', 'Maywald, Ferdinand'), 1), (('Barthel, Kristina', 'Bruschke, Jonas'), 1), (('Barthel, Kristina', 'Friedrichs, Kristina'), 1), (('Barthel, Kristina', 'Kröber, Cindy'), 1), (('Barthel, Kristina', 'Maywald, Ferdinand'), 1), (('Barthel, Kristina', 'Niebling, Florian'), 1), (('Bruschke, Jonas', 'Friedrichs, Kristina'), 1), (('Bruschke, Jonas', 'Kröber, Cindy'), 1), (('Bruschke, Jonas', 'Maywald, Ferdinand'), 1), (('Bruschke, Jonas', 'Niebling, Florian'), 1), (('Friedrichs, Kristina', 'Kröber, Cindy'), 1), (('Friedrichs, Kristina', 'Maywald, Ferdinand'), 1), (('Kröber, Cindy', 'Maywald, Ferdinand'), 1), (('Kröber, Cindy', 'Niebling, Florian'), 1), (('Maywald, Ferdinand', 'Niebling, Florian'), 1), (('Nasarek, Robert', 'Moeller, Katrin'), 1), (('Neovesky, Anna', 'von Vlahovits, Frederic'), 1), (('Neuber, Frederike', 'Henny-Krahmer, Ulrike'), 1), (('Neuber, Frederike', 'Sahle, Patrick'), 1), (('Neuber, Frederike', 'Fischer, Franz'), 1), (('Henny-Krahmer, Ulrike', 'Sahle, Patrick'), 1), (('Henny-Krahmer, Ulrike', 'Fischer, Franz'), 1), (('Sahle, Patrick', 'Fischer, Franz'), 1), (('Reinöhl, Uta', 'Kölligan, Daniel'), 1), (('Reinöhl, Uta', 'Kiss, Börge'), 1), (('Reinöhl, Uta', 'Mondaca, Francisco'), 1), (('Reinöhl, Uta', 'Neuefeind, Claes'), 1), (('Reinöhl, Uta', 'Sahle, Patrick'), 1), (('Kölligan, Daniel', 'Kiss, Börge'), 1), (('Kölligan, Daniel', 'Mondaca, Francisco'), 1), (('Kölligan, Daniel', 'Neuefeind, Claes'), 1), (('Kölligan, Daniel', 'Sahle, Patrick'), 1), (('Kiss, Börge', 'Mondaca, Francisco'), 1), (('Kiss, Börge', 'Neuefeind, Claes'), 1), (('Kiss, Börge', 'Sahle, Patrick'), 1), (('Mondaca, Francisco', 'Neuefeind, Claes'), 1), (('Mondaca, Francisco', 'Sahle, Patrick'), 1), (('Neuefeind, Claes', 'Sahle, Patrick'), 1), (('Odebrecht, Carolin', 'Krause, Thomas'), 1), (('Odebrecht, Carolin', 'Guescini, Rolf'), 1), (('Odebrecht, Carolin', 'Kühnlenz, Frank'), 1), (('Odebrecht, Carolin', 'Lüdeling, Anke'), 1), (('Odebrecht, Carolin', 'Dreyer, Malte'), 1), (('Krause, Thomas', 'Guescini, Rolf'), 1), (('Krause, Thomas', 'Kühnlenz, Frank'), 1), (('Krause, Thomas', 'Lüdeling, Anke'), 1), (('Krause, Thomas', 'Dreyer, Malte'), 1), (('Guescini, Rolf', 'Kühnlenz, Frank'), 1), (('Guescini, Rolf', 'Lüdeling, Anke'), 1), (('Guescini, Rolf', 'Dreyer, Malte'), 1), (('Kühnlenz, Frank', 'Lüdeling, Anke'), 1), (('Kühnlenz, Frank', 'Dreyer, Malte'), 1), (('Lüdeling, Anke', 'Dreyer, Malte'), 1), (('Simmler, Severin', 'Vitt, Thorsten'), 1), (('Simmler, Severin', 'Pielström, Steffen'), 1), (('Vitt, Thorsten', 'Pielström, Steffen'), 1), (('Jannidis, Fotis', 'Kestemont, Mike'), 1), (('Pollin, Christopher', 'Vogeler, Georg'), 1), (('Proisl, Thomas', 'Evert, Stefan'), 1), (('Kath, Roxana', 'Keilholz, Franz'), 1), (('Kath, Roxana', 'Pöckelmann, Marcus'), 1), (('Kath, Roxana', 'Rücker, Michaela'), 1), (('Kath, Roxana', 'Wöckener-Gade, Eva'), 1), (('Kath, Roxana', 'Yu, Xiaozhou'), 1), (('Keilholz, Franz', 'Pöckelmann, Marcus'), 1), (('Keilholz, Franz', 'Rücker, Michaela'), 1), (('Keilholz, Franz', 'Wöckener-Gade, Eva'), 1), (('Keilholz, Franz', 'Yu, Xiaozhou'), 1), (('Pöckelmann, Marcus', 'Rücker, Michaela'), 1), (('Pöckelmann, Marcus', 'Wöckener-Gade, Eva'), 1), (('Pöckelmann, Marcus', 'Yu, Xiaozhou'), 1), (('Rücker, Michaela', 'Wöckener-Gade, Eva'), 1), (('Rücker, Michaela', 'Yu, Xiaozhou'), 1), (('Wöckener-Gade, Eva', 'Yu, Xiaozhou'), 1), (('Bermeitinger, Bernhard', 'Howanitz, Gernot'), 1), (('Bermeitinger, Bernhard', 'Radisch, Erik'), 1), (('Howanitz, Gernot', 'Radisch, Erik'), 1), (('Raunig, Michael', 'Höfler, Elke'), 1), (('Köhler, Joachim', 'Leh, Almut'), 1), (('Köhler, Joachim', 'Himmelmann, Nikolaus'), 1), (('Köhler, Joachim', 'Rau, Felix'), 1), (('Leh, Almut', 'Himmelmann, Nikolaus'), 1), (('Leh, Almut', 'Rau, Felix'), 1), (('Himmelmann, Nikolaus', 'Rau, Felix'), 1), (('Salgaro, Massimo', 'Rebora, Simone'), 1), (('Salgaro, Massimo', 'Lauer, Gerhard'), 1), (('Salgaro, Massimo', 'Herrmann, J. Berenike'), 1), (('Rebora, Simone', 'Lauer, Gerhard'), 1), (('Rebora, Simone', 'Herrmann, J. Berenike'), 1), (('Lauer, Gerhard', 'Herrmann, J. Berenike'), 1), (('Reiter, Nils', 'Ketschik, Nora'), 1), (('Reiter, Nils', 'Kremer, Gerhard'), 1), (('Reiter, Nils', 'Schulz, Sarah'), 1), (('Ketschik, Nora', 'Kremer, Gerhard'), 1), (('Ketschik, Nora', 'Schulz, Sarah'), 1), (('Kremer, Gerhard', 'Schulz, Sarah'), 1), (('Gius, Evelyn', 'Reiter, Nils'), 1), (('Gius, Evelyn', 'Strötgen, Jannik'), 1), (('Gius, Evelyn', 'Willand, Marcus'), 1), (('Reiter, Nils', 'Strötgen, Jannik'), 1), (('Reiter, Nils', 'Willand, Marcus'), 1), (('Strötgen, Jannik', 'Willand, Marcus'), 1), (('Resch, Claudia', 'Kampkaspar, Dario'), 1), (('Resch, Claudia', 'Schopper, Daniel'), 1), (('Kampkaspar, Dario', 'Schopper, Daniel'), 1), (('Rolshoven, Jürgen', 'Etimi, Valmir'), 1), (('Rolshoven, Jürgen', 'Seipel, Peter'), 1), (('Rolshoven, Jürgen', 'Wiehe, Thomas'), 1), (('Etimi, Valmir', 'Seipel, Peter'), 1), (('Etimi, Valmir', 'Wiehe, Thomas'), 1), (('Seipel, Peter', 'Wiehe, Thomas'), 1), (('Ruiz Fabo, Pablo', 'Martínez Cantón, Clara'), 1), (('Ruiz Fabo, Pablo', 'Calvo Tello, José'), 1), (('Martínez Cantón, Clara', 'Calvo Tello, José'), 1), (('Nantke, Julia', 'Schlupkothen, Frederik'), 1), (('Schlögl, Matthias', 'Bernád, Ágoston'), 1), (('Schlögl, Matthias', 'Kaiser, Maximilian'), 1), (('Schlögl, Matthias', 'Lejtovicz, Katalin'), 1), (('Schlögl, Matthias', 'Rumpolt, Peter'), 1), (('Bernád, Ágoston', 'Kaiser, Maximilian'), 1), (('Bernád, Ágoston', 'Lejtovicz, Katalin'), 1), (('Bernád, Ágoston', 'Rumpolt, Peter'), 1), (('Kaiser, Maximilian', 'Lejtovicz, Katalin'), 1), (('Kaiser, Maximilian', 'Rumpolt, Peter'), 1), (('Lejtovicz, Katalin', 'Rumpolt, Peter'), 1), (('Schmidt, Thomas', 'Burghardt, Manuel'), 1), (('Schmidt, Thomas', 'Dennerlein, Katrin'), 1), (('Burghardt, Manuel', 'Dennerlein, Katrin'), 1), (('Hannesschläger, Vanessa', 'Kamocki, Pawel'), 1), (('Hannesschläger, Vanessa', 'Scholger, Walter'), 1), (('Kamocki, Pawel', 'Scholger, Walter'), 1), (('Scholz, Martin', 'Wagner, Sarah'), 1), (('Wagner, Sarah', 'Scholz, Martin'), 1), (('Wagner, Sarah', 'Andraschke, Udo'), 1), (('Scholz, Martin', 'Andraschke, Udo'), 1), (('Schrade, Torsten', 'Czmiel, Alexander'), 1), (('Schrade, Torsten', 'Druskat, Stephan'), 1), (('Czmiel, Alexander', 'Druskat, Stephan'), 1), (('Schubert, Charlotte', 'Kahl, Hannes'), 1), (('Schubert, Charlotte', 'Meins, Friedrich'), 1), (('Schubert, Charlotte', 'Bräckel, Oliver'), 1), (('Kahl, Hannes', 'Meins, Friedrich'), 1), (('Kahl, Hannes', 'Bräckel, Oliver'), 1), (('Meins, Friedrich', 'Bräckel, Oliver'), 1), (('Schulz, Daniela', 'Vogeler, Georg'), 1), (('Schwengelbeck, Isabel', 'Wahl, Dominik'), 1), (('Schwengelbeck, Isabel', 'Foester, Karl'), 1), (('Schwengelbeck, Isabel', 'Friedl, Dennis'), 1), (('Schwengelbeck, Isabel', 'Fluss, Fabian'), 1), (('Schwengelbeck, Isabel', 'Mersch, Isabelle'), 1), (('Schwengelbeck, Isabel', 'Voss, Fabian'), 1), (('Schwengelbeck, Isabel', 'Dröge, Martin'), 1), (('Schwengelbeck, Isabel', 'Stadler, Peter'), 1), (('Schwengelbeck, Isabel', 'Voges, Ramon'), 1), (('Wahl, Dominik', 'Foester, Karl'), 1), (('Wahl, Dominik', 'Friedl, Dennis'), 1), (('Wahl, Dominik', 'Fluss, Fabian'), 1), (('Wahl, Dominik', 'Mersch, Isabelle'), 1), (('Wahl, Dominik', 'Voss, Fabian'), 1), (('Wahl, Dominik', 'Dröge, Martin'), 1), (('Wahl, Dominik', 'Stadler, Peter'), 1), (('Wahl, Dominik', 'Voges, Ramon'), 1), (('Foester, Karl', 'Friedl, Dennis'), 1), (('Foester, Karl', 'Fluss, Fabian'), 1), (('Foester, Karl', 'Mersch, Isabelle'), 1), (('Foester, Karl', 'Voss, Fabian'), 1), (('Foester, Karl', 'Dröge, Martin'), 1), (('Foester, Karl', 'Stadler, Peter'), 1), (('Foester, Karl', 'Voges, Ramon'), 1), (('Friedl, Dennis', 'Fluss, Fabian'), 1), (('Friedl, Dennis', 'Mersch, Isabelle'), 1), (('Friedl, Dennis', 'Voss, Fabian'), 1), (('Friedl, Dennis', 'Dröge, Martin'), 1), (('Friedl, Dennis', 'Stadler, Peter'), 1), (('Friedl, Dennis', 'Voges, Ramon'), 1), (('Fluss, Fabian', 'Mersch, Isabelle'), 1), (('Fluss, Fabian', 'Voss, Fabian'), 1), (('Fluss, Fabian', 'Dröge, Martin'), 1), (('Fluss, Fabian', 'Stadler, Peter'), 1), (('Fluss, Fabian', 'Voges, Ramon'), 1), (('Mersch, Isabelle', 'Voss, Fabian'), 1), (('Mersch, Isabelle', 'Dröge, Martin'), 1), (('Mersch, Isabelle', 'Stadler, Peter'), 1), (('Mersch, Isabelle', 'Voges, Ramon'), 1), (('Voss, Fabian', 'Dröge, Martin'), 1), (('Voss, Fabian', 'Stadler, Peter'), 1), (('Voss, Fabian', 'Voges, Ramon'), 1), (('Dröge, Martin', 'Stadler, Peter'), 1), (('Dröge, Martin', 'Voges, Ramon'), 1), (('Stadler, Peter', 'Voges, Ramon'), 1), (('Schöch, Christof', 'Zehe, Albin'), 1), (('Schöch, Christof', 'Calvo Tello, José'), 1), (('Schöch, Christof', 'Hotho, Andreas'), 1), (('Zehe, Albin', 'Calvo Tello, José'), 1), (('Calvo Tello, José', 'Hotho, Andreas'), 1), (('Aehnlich, Barbara', 'Seidel, Henry'), 1), (('Seltmann, Melanie', 'Breuer, Ludwig Maximilian'), 1), (('Seltmann, Melanie', 'Heinisch, Barbara'), 1), (('Breuer, Ludwig Maximilian', 'Heinisch, Barbara'), 1), (('Guhr, Svenja', 'Pannach, Franziska'), 1), (('Guhr, Svenja', 'Ziehe, Stefan'), 1), (('Guhr, Svenja', 'Knauth, Jürgen'), 1), (('Guhr, Svenja', 'Kauf, Carina'), 1), (('Guhr, Svenja', 'Sporleder, Caroline'), 1), (('Pannach, Franziska', 'Ziehe, Stefan'), 1), (('Pannach, Franziska', 'Knauth, Jürgen'), 1), (('Pannach, Franziska', 'Kauf, Carina'), 1), (('Pannach, Franziska', 'Sporleder, Caroline'), 1), (('Ziehe, Stefan', 'Knauth, Jürgen'), 1), (('Ziehe, Stefan', 'Kauf, Carina'), 1), (('Ziehe, Stefan', 'Sporleder, Caroline'), 1), (('Knauth, Jürgen', 'Kauf, Carina'), 1), (('Knauth, Jürgen', 'Sporleder, Caroline'), 1), (('Kauf, Carina', 'Sporleder, Caroline'), 1), (('Stadler, Peter', 'Kepper, Johannes'), 1), (('Stadler, Peter', 'Capelle, Irmlind'), 1), (('Stadler, Peter', 'Oberhoff, Andreas'), 1), (('Kepper, Johannes', 'Capelle, Irmlind'), 1), (('Kepper, Johannes', 'Oberhoff, Andreas'), 1), (('Capelle, Irmlind', 'Oberhoff, Andreas'), 1), (('Steyer, Timo', 'Dogunke, Swantje'), 1), (('Steyer, Timo', 'Mayer, Corinna'), 1), (('Steyer, Timo', 'Neumann, Katrin'), 1), (('Steyer, Timo', 'Cremer, Fabian'), 1), (('Steyer, Timo', 'Wübbena, Thorsten'), 1), (('Dogunke, Swantje', 'Mayer, Corinna'), 1), (('Dogunke, Swantje', 'Neumann, Katrin'), 1), (('Dogunke, Swantje', 'Cremer, Fabian'), 1), (('Dogunke, Swantje', 'Wübbena, Thorsten'), 1), (('Mayer, Corinna', 'Neumann, Katrin'), 1), (('Mayer, Corinna', 'Cremer, Fabian'), 1), (('Mayer, Corinna', 'Wübbena, Thorsten'), 1), (('Neumann, Katrin', 'Cremer, Fabian'), 1), (('Neumann, Katrin', 'Wübbena, Thorsten'), 1), (('Cremer, Fabian', 'Wübbena, Thorsten'), 1), (('Strobel, Jochen', 'Bürger, Thomas'), 1), (('Pfahler, Lukas', 'Elwert, Frederik'), 1), (('Pfahler, Lukas', 'Tabti, Samira'), 1), (('Pfahler, Lukas', 'Morik, Katharina'), 1), (('Pfahler, Lukas', 'Krech, Volker'), 1), (('Elwert, Frederik', 'Tabti, Samira'), 1), (('Elwert, Frederik', 'Morik, Katharina'), 1), (('Elwert, Frederik', 'Krech, Volker'), 1), (('Tabti, Samira', 'Morik, Katharina'), 1), (('Tabti, Samira', 'Krech, Volker'), 1), (('Morik, Katharina', 'Krech, Volker'), 1), (('Sojer, Claudia', 'Tratter, Aaron Rudolf'), 1), (('Fischer, Frank', 'Kittel, Christopher'), 1), (('Fischer, Frank', 'Milling, Carsten'), 1), (('Fischer, Frank', 'Wolf, Jana'), 1), (('Kittel, Christopher', 'Milling, Carsten'), 1), (('Kittel, Christopher', 'Trilcke, Peer'), 1), (('Kittel, Christopher', 'Wolf, Jana'), 1), (('Milling, Carsten', 'Trilcke, Peer'), 1), (('Milling, Carsten', 'Wolf, Jana'), 1), (('Trilcke, Peer', 'Wolf, Jana'), 1), (('Mache, Beata', 'Trippel, Thorsten'), 1), (('Mache, Beata', 'Effinger, Maria'), 1), (('Mache, Beata', 'Gradl, Tobias'), 1), (('Mache, Beata', 'Haaf, Susanne'), 1), (('Mache, Beata', 'Hinrichs, Erhard'), 1), (('Mache, Beata', 'Horstmann, Wolfram'), 1), (('Mache, Beata', 'Müller, Lydia'), 1), (('Mache, Beata', 'Schrade, Torsten'), 1), (('Mache, Beata', 'Teich, Elke'), 1), (('Trippel, Thorsten', 'Effinger, Maria'), 1), (('Trippel, Thorsten', 'Gradl, Tobias'), 1), (('Trippel, Thorsten', 'Haaf, Susanne'), 1), (('Trippel, Thorsten', 'Hinrichs, Erhard'), 1), (('Trippel, Thorsten', 'Horstmann, Wolfram'), 1), (('Trippel, Thorsten', 'Müller, Lydia'), 1), (('Trippel, Thorsten', 'Schrade, Torsten'), 1), (('Trippel, Thorsten', 'Teich, Elke'), 1), (('Effinger, Maria', 'Gradl, Tobias'), 1), (('Effinger, Maria', 'Haaf, Susanne'), 1), (('Effinger, Maria', 'Hinrichs, Erhard'), 1), (('Effinger, Maria', 'Horstmann, Wolfram'), 1), (('Effinger, Maria', 'Müller, Lydia'), 1), (('Effinger, Maria', 'Schrade, Torsten'), 1), (('Effinger, Maria', 'Teich, Elke'), 1), (('Gradl, Tobias', 'Haaf, Susanne'), 1), (('Gradl, Tobias', 'Hinrichs, Erhard'), 1), (('Gradl, Tobias', 'Horstmann, Wolfram'), 1), (('Gradl, Tobias', 'Müller, Lydia'), 1), (('Gradl, Tobias', 'Schrade, Torsten'), 1), (('Gradl, Tobias', 'Teich, Elke'), 1), (('Haaf, Susanne', 'Hinrichs, Erhard'), 1), (('Haaf, Susanne', 'Horstmann, Wolfram'), 1), (('Haaf, Susanne', 'Müller, Lydia'), 1), (('Haaf, Susanne', 'Schrade, Torsten'), 1), (('Haaf, Susanne', 'Teich, Elke'), 1), (('Hinrichs, Erhard', 'Horstmann, Wolfram'), 1), (('Hinrichs, Erhard', 'Müller, Lydia'), 1), (('Hinrichs, Erhard', 'Schrade, Torsten'), 1), (('Hinrichs, Erhard', 'Teich, Elke'), 1), (('Horstmann, Wolfram', 'Müller, Lydia'), 1), (('Horstmann, Wolfram', 'Schrade, Torsten'), 1), (('Horstmann, Wolfram', 'Teich, Elke'), 1), (('Müller, Lydia', 'Schrade, Torsten'), 1), (('Müller, Lydia', 'Teich, Elke'), 1), (('Schrade, Torsten', 'Teich, Elke'), 1), (('Ullrich, Sabine', 'Bruder, Daniel'), 1), (('Ullrich, Sabine', 'Hadersbeck, Maximilian'), 1), (('Bruder, Daniel', 'Hadersbeck, Maximilian'), 1), (('Vertan, Cristina', 'von Hahn, Walther'), 1), (('Windhager, Florian', 'Glinka, Katrin'), 1), (('Windhager, Florian', 'Mayr, Eva'), 1), (('Windhager, Florian', 'Schreder, Günther'), 1), (('Windhager, Florian', 'Dörk, Marian'), 1), (('Glinka, Katrin', 'Mayr, Eva'), 1), (('Glinka, Katrin', 'Schreder, Günther'), 1), (('Glinka, Katrin', 'Dörk, Marian'), 1), (('Mayr, Eva', 'Dörk, Marian'), 1), (('Schreder, Günther', 'Dörk, Marian'), 1), (('Wissik, Tanja', 'Krek, Simon'), 1), (('Wissik, Tanja', 'Jakubicek, Milos'), 1), (('Wissik, Tanja', 'Tiberius, Carole'), 1), (('Wissik, Tanja', 'Navigli, Roberto'), 1), (('Wissik, Tanja', 'McCrae, John'), 1), (('Wissik, Tanja', 'Tasovac, Toma'), 1), (('Wissik, Tanja', 'Varadi, Tamas'), 1), (('Wissik, Tanja', 'Koeva, Svetla'), 1), (('Wissik, Tanja', 'Costa, Rute'), 1), (('Wissik, Tanja', 'Kernerman, Ilan'), 1), (('Wissik, Tanja', 'Monachini, Monica'), 1), (('Wissik, Tanja', 'Trap-Jensen, Lars'), 1), (('Wissik, Tanja', 'Pedersen, Bolette S.'), 1), (('Wissik, Tanja', 'Hildenbrandt, Vera'), 1), (('Wissik, Tanja', 'Kallas, Jelena'), 1), (('Wissik, Tanja', 'Porta-Zamorano, Jordi'), 1), (('Krek, Simon', 'Jakubicek, Milos'), 1), (('Krek, Simon', 'Tiberius, Carole'), 1), (('Krek, Simon', 'Navigli, Roberto'), 1), (('Krek, Simon', 'McCrae, John'), 1), (('Krek, Simon', 'Tasovac, Toma'), 1), (('Krek, Simon', 'Varadi, Tamas'), 1), (('Krek, Simon', 'Koeva, Svetla'), 1), (('Krek, Simon', 'Costa, Rute'), 1), (('Krek, Simon', 'Kernerman, Ilan'), 1), (('Krek, Simon', 'Monachini, Monica'), 1), (('Krek, Simon', 'Trap-Jensen, Lars'), 1), (('Krek, Simon', 'Pedersen, Bolette S.'), 1), (('Krek, Simon', 'Hildenbrandt, Vera'), 1), (('Krek, Simon', 'Kallas, Jelena'), 1), (('Krek, Simon', 'Porta-Zamorano, Jordi'), 1), (('Jakubicek, Milos', 'Tiberius, Carole'), 1), (('Jakubicek, Milos', 'Navigli, Roberto'), 1), (('Jakubicek, Milos', 'McCrae, John'), 1), (('Jakubicek, Milos', 'Tasovac, Toma'), 1), (('Jakubicek, Milos', 'Varadi, Tamas'), 1), (('Jakubicek, Milos', 'Koeva, Svetla'), 1), (('Jakubicek, Milos', 'Costa, Rute'), 1), (('Jakubicek, Milos', 'Kernerman, Ilan'), 1), (('Jakubicek, Milos', 'Monachini, Monica'), 1), (('Jakubicek, Milos', 'Trap-Jensen, Lars'), 1), (('Jakubicek, Milos', 'Pedersen, Bolette S.'), 1), (('Jakubicek, Milos', 'Hildenbrandt, Vera'), 1), (('Jakubicek, Milos', 'Kallas, Jelena'), 1), (('Jakubicek, Milos', 'Porta-Zamorano, Jordi'), 1), (('Tiberius, Carole', 'Navigli, Roberto'), 1), (('Tiberius, Carole', 'McCrae, John'), 1), (('Tiberius, Carole', 'Tasovac, Toma'), 1), (('Tiberius, Carole', 'Varadi, Tamas'), 1), (('Tiberius, Carole', 'Koeva, Svetla'), 1), (('Tiberius, Carole', 'Costa, Rute'), 1), (('Tiberius, Carole', 'Kernerman, Ilan'), 1), (('Tiberius, Carole', 'Monachini, Monica'), 1), (('Tiberius, Carole', 'Trap-Jensen, Lars'), 1), (('Tiberius, Carole', 'Pedersen, Bolette S.'), 1), (('Tiberius, Carole', 'Hildenbrandt, Vera'), 1), (('Tiberius, Carole', 'Kallas, Jelena'), 1), (('Tiberius, Carole', 'Porta-Zamorano, Jordi'), 1), (('Navigli, Roberto', 'McCrae, John'), 1), (('Navigli, Roberto', 'Tasovac, Toma'), 1), (('Navigli, Roberto', 'Varadi, Tamas'), 1), (('Navigli, Roberto', 'Koeva, Svetla'), 1), (('Navigli, Roberto', 'Costa, Rute'), 1), (('Navigli, Roberto', 'Kernerman, Ilan'), 1), (('Navigli, Roberto', 'Monachini, Monica'), 1), (('Navigli, Roberto', 'Trap-Jensen, Lars'), 1), (('Navigli, Roberto', 'Pedersen, Bolette S.'), 1), (('Navigli, Roberto', 'Hildenbrandt, Vera'), 1), (('Navigli, Roberto', 'Kallas, Jelena'), 1), (('Navigli, Roberto', 'Porta-Zamorano, Jordi'), 1), (('McCrae, John', 'Tasovac, Toma'), 1), (('McCrae, John', 'Varadi, Tamas'), 1), (('McCrae, John', 'Koeva, Svetla'), 1), (('McCrae, John', 'Costa, Rute'), 1), (('McCrae, John', 'Kernerman, Ilan'), 1), (('McCrae, John', 'Monachini, Monica'), 1), (('McCrae, John', 'Trap-Jensen, Lars'), 1), (('McCrae, John', 'Pedersen, Bolette S.'), 1), (('McCrae, John', 'Hildenbrandt, Vera'), 1), (('McCrae, John', 'Kallas, Jelena'), 1), (('McCrae, John', 'Porta-Zamorano, Jordi'), 1), (('Tasovac, Toma', 'Varadi, Tamas'), 1), (('Tasovac, Toma', 'Koeva, Svetla'), 1), (('Tasovac, Toma', 'Costa, Rute'), 1), (('Tasovac, Toma', 'Kernerman, Ilan'), 1), (('Tasovac, Toma', 'Monachini, Monica'), 1), (('Tasovac, Toma', 'Trap-Jensen, Lars'), 1), (('Tasovac, Toma', 'Pedersen, Bolette S.'), 1), (('Tasovac, Toma', 'Hildenbrandt, Vera'), 1), (('Tasovac, Toma', 'Kallas, Jelena'), 1), (('Tasovac, Toma', 'Porta-Zamorano, Jordi'), 1), (('Varadi, Tamas', 'Koeva, Svetla'), 1), (('Varadi, Tamas', 'Costa, Rute'), 1), (('Varadi, Tamas', 'Kernerman, Ilan'), 1), (('Varadi, Tamas', 'Monachini, Monica'), 1), (('Varadi, Tamas', 'Trap-Jensen, Lars'), 1), (('Varadi, Tamas', 'Pedersen, Bolette S.'), 1), (('Varadi, Tamas', 'Hildenbrandt, Vera'), 1), (('Varadi, Tamas', 'Kallas, Jelena'), 1), (('Varadi, Tamas', 'Porta-Zamorano, Jordi'), 1), (('Koeva, Svetla', 'Costa, Rute'), 1), (('Koeva, Svetla', 'Kernerman, Ilan'), 1), (('Koeva, Svetla', 'Monachini, Monica'), 1), (('Koeva, Svetla', 'Trap-Jensen, Lars'), 1), (('Koeva, Svetla', 'Pedersen, Bolette S.'), 1), (('Koeva, Svetla', 'Hildenbrandt, Vera'), 1), (('Koeva, Svetla', 'Kallas, Jelena'), 1), (('Koeva, Svetla', 'Porta-Zamorano, Jordi'), 1), (('Costa, Rute', 'Kernerman, Ilan'), 1), (('Costa, Rute', 'Monachini, Monica'), 1), (('Costa, Rute', 'Trap-Jensen, Lars'), 1), (('Costa, Rute', 'Pedersen, Bolette S.'), 1), (('Costa, Rute', 'Hildenbrandt, Vera'), 1), (('Costa, Rute', 'Kallas, Jelena'), 1), (('Costa, Rute', 'Porta-Zamorano, Jordi'), 1), (('Kernerman, Ilan', 'Monachini, Monica'), 1), (('Kernerman, Ilan', 'Trap-Jensen, Lars'), 1), (('Kernerman, Ilan', 'Pedersen, Bolette S.'), 1), (('Kernerman, Ilan', 'Hildenbrandt, Vera'), 1), (('Kernerman, Ilan', 'Kallas, Jelena'), 1), (('Kernerman, Ilan', 'Porta-Zamorano, Jordi'), 1), (('Monachini, Monica', 'Trap-Jensen, Lars'), 1), (('Monachini, Monica', 'Pedersen, Bolette S.'), 1), (('Monachini, Monica', 'Hildenbrandt, Vera'), 1), (('Monachini, Monica', 'Kallas, Jelena'), 1), (('Monachini, Monica', 'Porta-Zamorano, Jordi'), 1), (('Trap-Jensen, Lars', 'Pedersen, Bolette S.'), 1), (('Trap-Jensen, Lars', 'Hildenbrandt, Vera'), 1), (('Trap-Jensen, Lars', 'Kallas, Jelena'), 1), (('Trap-Jensen, Lars', 'Porta-Zamorano, Jordi'), 1), (('Pedersen, Bolette S.', 'Hildenbrandt, Vera'), 1), (('Pedersen, Bolette S.', 'Kallas, Jelena'), 1), (('Pedersen, Bolette S.', 'Porta-Zamorano, Jordi'), 1), (('Hildenbrandt, Vera', 'Kallas, Jelena'), 1), (('Hildenbrandt, Vera', 'Porta-Zamorano, Jordi'), 1), (('Kallas, Jelena', 'Porta-Zamorano, Jordi'), 1), (('Wissik, Tanja', 'Resch, Claudia'), 1), (('Zirker, Angelika', 'Bauer, Matthias'), 1), (('Zirker, Angelika', 'Kirchhoff, Leonie'), 1), (('Zirker, Angelika', 'Lahrsow, Miriam'), 1), (('Bauer, Matthias', 'Kirchhoff, Leonie'), 1), (('Bauer, Matthias', 'Lahrsow, Miriam'), 1), (('Kirchhoff, Leonie', 'Lahrsow, Miriam'), 1)], [(('Fricke-Steyer, Henrike', 'Klaffki, Lisa'), 2), (('Reul, Christian', 'Puppe, Frank'), 2), (('Blumtritt, Jonathan', 'Rau, Felix'), 2), (('Mehler, Alexander', 'Uslu, Tolga'), 2), (('Diehr, Franziska', 'Brodhun, Maximilian'), 2), (('Kuczera, Andreas', 'Martin, Fechner'), 1), (('Seemann, Nina', 'Merten, Marie-Luis'), 1), (('Hodel, Tobias', 'Diem, Markus'), 1), (('Hodel, Tobias', 'Oliveira Ares, Sofia'), 1), (('Hodel, Tobias', 'Weidemann, Max'), 1), (('Diem, Markus', 'Oliveira Ares, Sofia'), 1), (('Diem, Markus', 'Weidemann, Max'), 1), (('Oliveira Ares, Sofia', 'Weidemann, Max'), 1), (('Steyer, Timo', 'Neumann, Katrin'), 1), (('Steyer, Timo', 'Seltmann, Melanie'), 1), (('Steyer, Timo', 'Walter, Scholger'), 1), (('Neumann, Katrin', 'Seltmann, Melanie'), 1), (('Neumann, Katrin', 'Walter, Scholger'), 1), (('Seltmann, Melanie', 'Walter, Scholger'), 1), (('Bäumer, Frederik Simon', 'Buff, Bianca'), 1), (('Bäumer, Frederik Simon', 'Geierhos, Michaela'), 1), (('Buff, Bianca', 'Geierhos, Michaela'), 1), (('Helm, Wiebke', 'Im, Chanjong'), 1), (('Helm, Wiebke', 'Mandl, Thomas'), 1), (('Helm, Wiebke', 'Schmideler, Sebastian'), 1), (('Im, Chanjong', 'Mandl, Thomas'), 1), (('Im, Chanjong', 'Schmideler, Sebastian'), 1), (('Mandl, Thomas', 'Schmideler, Sebastian'), 1), (('Wuttke, Ulrike', 'Neuroth, Heike'), 1), (('Schaßan, Torsten', 'Baumgarten, Marcus'), 1), (('Schaßan, Torsten', 'Steyer, Timo'), 1), (('Schaßan, Torsten', 'Fricke-Steyer, Henrike'), 1), (('Schaßan, Torsten', 'Iglesia, Martin de la'), 1), (('Schaßan, Torsten', 'Kampkaspar, Dario'), 1), (('Schaßan, Torsten', 'Klaffki, Lisa'), 1), (('Schaßan, Torsten', 'Parlitz, Dietrich'), 1), (('Baumgarten, Marcus', 'Steyer, Timo'), 1), (('Baumgarten, Marcus', 'Fricke-Steyer, Henrike'), 1), (('Baumgarten, Marcus', 'Iglesia, Martin de la'), 1), (('Baumgarten, Marcus', 'Kampkaspar, Dario'), 1), (('Baumgarten, Marcus', 'Klaffki, Lisa'), 1), (('Baumgarten, Marcus', 'Parlitz, Dietrich'), 1), (('Steyer, Timo', 'Fricke-Steyer, Henrike'), 1), (('Steyer, Timo', 'Iglesia, Martin de la'), 1), (('Steyer, Timo', 'Kampkaspar, Dario'), 1), (('Steyer, Timo', 'Klaffki, Lisa'), 1), (('Steyer, Timo', 'Parlitz, Dietrich'), 1), (('Fricke-Steyer, Henrike', 'Iglesia, Martin de la'), 1), (('Fricke-Steyer, Henrike', 'Kampkaspar, Dario'), 1), (('Fricke-Steyer, Henrike', 'Parlitz, Dietrich'), 1), (('Iglesia, Martin de la', 'Kampkaspar, Dario'), 1), (('Iglesia, Martin de la', 'Klaffki, Lisa'), 1), (('Iglesia, Martin de la', 'Parlitz, Dietrich'), 1), (('Kampkaspar, Dario', 'Klaffki, Lisa'), 1), (('Kampkaspar, Dario', 'Parlitz, Dietrich'), 1), (('Klaffki, Lisa', 'Parlitz, Dietrich'), 1), (('Reul, Christian', 'Springmann, Uwe'), 1), (('Reul, Christian', 'Wick, Christoph'), 1), (('Springmann, Uwe', 'Wick, Christoph'), 1), (('Springmann, Uwe', 'Puppe, Frank'), 1), (('Wick, Christoph', 'Puppe, Frank'), 1), (('Schneider, Stefanie', 'Kohle, Hubertus'), 1), (('Schneider, Stefanie', 'Burg, Severin'), 1), (('Schneider, Stefanie', 'Küchenhoff, Helmut'), 1), (('Kohle, Hubertus', 'Burg, Severin'), 1), (('Kohle, Hubertus', 'Küchenhoff, Helmut'), 1), (('Burg, Severin', 'Küchenhoff, Helmut'), 1), (('Rössel, Julia', 'Maus, David'), 1), (('Bald, Markus', 'Damiani, Vincenzo'), 1), (('Bald, Markus', 'Essler, Holger'), 1), (('Bald, Markus', 'Eyeselein, Björn'), 1), (('Bald, Markus', 'Reul, Christian'), 1), (('Bald, Markus', 'Puppe, Frank'), 1), (('Damiani, Vincenzo', 'Essler, Holger'), 1), (('Damiani, Vincenzo', 'Eyeselein, Björn'), 1), (('Damiani, Vincenzo', 'Reul, Christian'), 1), (('Damiani, Vincenzo', 'Puppe, Frank'), 1), (('Essler, Holger', 'Eyeselein, Björn'), 1), (('Essler, Holger', 'Reul, Christian'), 1), (('Essler, Holger', 'Puppe, Frank'), 1), (('Eyeselein, Björn', 'Reul, Christian'), 1), (('Eyeselein, Björn', 'Puppe, Frank'), 1), (('Howanitz, Gernot', 'Radisch, Erik'), 1), (('Howanitz, Gernot', 'Decker, Jan-Oliver'), 1), (('Howanitz, Gernot', 'Rehbein, Malte'), 1), (('Radisch, Erik', 'Decker, Jan-Oliver'), 1), (('Radisch, Erik', 'Rehbein, Malte'), 1), (('Decker, Jan-Oliver', 'Rehbein, Malte'), 1), (('Schmidt, Thomas', 'Blumtritt, Jonathan'), 1), (('Schmidt, Thomas', 'Hedeland, Hanna'), 1), (('Schmidt, Thomas', 'Gorisch, Jan'), 1), (('Schmidt, Thomas', 'Rau, Felix'), 1), (('Schmidt, Thomas', 'Wörner, Kai'), 1), (('Blumtritt, Jonathan', 'Hedeland, Hanna'), 1), (('Blumtritt, Jonathan', 'Gorisch, Jan'), 1), (('Blumtritt, Jonathan', 'Wörner, Kai'), 1), (('Hedeland, Hanna', 'Gorisch, Jan'), 1), (('Hedeland, Hanna', 'Rau, Felix'), 1), (('Hedeland, Hanna', 'Wörner, Kai'), 1), (('Gorisch, Jan', 'Rau, Felix'), 1), (('Gorisch, Jan', 'Wörner, Kai'), 1), (('Rau, Felix', 'Wörner, Kai'), 1), (('Batinic, Josip', 'Frick, Elena'), 1), (('Batinic, Josip', 'Gasch, Joachim'), 1), (('Batinic, Josip', 'Schmidt, Thomas'), 1), (('Frick, Elena', 'Gasch, Joachim'), 1), (('Frick, Elena', 'Schmidt, Thomas'), 1), (('Gasch, Joachim', 'Schmidt, Thomas'), 1), (('Brunner, Annelen', 'Weimer, Lukas'), 1), (('Brunner, Annelen', 'Tu, Ngoc Duyen Tanja'), 1), (('Brunner, Annelen', 'Engelberg, Stefan'), 1), (('Brunner, Annelen', 'Jannidis, Fotis'), 1), (('Weimer, Lukas', 'Tu, Ngoc Duyen Tanja'), 1), (('Weimer, Lukas', 'Engelberg, Stefan'), 1), (('Weimer, Lukas', 'Jannidis, Fotis'), 1), (('Tu, Ngoc Duyen Tanja', 'Engelberg, Stefan'), 1), (('Tu, Ngoc Duyen Tanja', 'Jannidis, Fotis'), 1), (('Engelberg, Stefan', 'Jannidis, Fotis'), 1), (('Zimmer, Sebastian', 'Gödel, Martina'), 1), (('Zimmer, Sebastian', 'Persch, Dana'), 1), (('Gödel, Martina', 'Persch, Dana'), 1), (('Donig, Simon', 'Christoforaki, Maria'), 1), (('Donig, Simon', 'Bermeitinger, Bernhard'), 1), (('Donig, Simon', 'Handschuh, Siegfried'), 1), (('Christoforaki, Maria', 'Bermeitinger, Bernhard'), 1), (('Christoforaki, Maria', 'Handschuh, Siegfried'), 1), (('Bermeitinger, Bernhard', 'Handschuh, Siegfried'), 1), (('Tu, Ngoc Duyen Tanja', 'Krug, Markus'), 1), (('Tu, Ngoc Duyen Tanja', 'Brunner, Annelen'), 1), (('Krug, Markus', 'Brunner, Annelen'), 1), (('Horstmann, Jan', 'Meister, Jan Christoph'), 1), (('Horstmann, Jan', 'Petris, Marco'), 1), (('Horstmann, Jan', 'Schumacher, Mareike'), 1), (('Meister, Jan Christoph', 'Petris, Marco'), 1), (('Meister, Jan Christoph', 'Schumacher, Mareike'), 1), (('Petris, Marco', 'Schumacher, Mareike'), 1), (('Kuroczyński, Piotr', 'Brandt, Julia'), 1), (('Kuroczyński, Piotr', 'Jara, Karolina'), 1), (('Kuroczyński, Piotr', 'Grosse, Peggy'), 1), (('Brandt, Julia', 'Jara, Karolina'), 1), (('Brandt, Julia', 'Grosse, Peggy'), 1), (('Jara, Karolina', 'Grosse, Peggy'), 1), (('Klaus, Carsten', 'Fankhauser, Peter'), 1), (('Klaus, Carsten', 'Klakow, Dietrich'), 1), (('Fankhauser, Peter', 'Klakow, Dietrich'), 1), (('Krug, Markus', 'Kempf, Sebastian'), 1), (('Krug, Markus', 'David, Schmidt'), 1), (('Krug, Markus', 'Lukas, Weimer'), 1), (('Krug, Markus', 'Frank, Puppe'), 1), (('Kempf, Sebastian', 'David, Schmidt'), 1), (('Kempf, Sebastian', 'Lukas, Weimer'), 1), (('Kempf, Sebastian', 'Frank, Puppe'), 1), (('David, Schmidt', 'Lukas, Weimer'), 1), (('David, Schmidt', 'Frank, Puppe'), 1), (('Lukas, Weimer', 'Frank, Puppe'), 1), (('Fischer, Frank', 'Börner, Ingo'), 1), (('Fischer, Frank', 'Göbel, Mathias'), 1), (('Fischer, Frank', 'Hechtl, Angelika'), 1), (('Fischer, Frank', 'Kittel, Christopher'), 1), (('Fischer, Frank', 'Milling, Carsten'), 1), (('Fischer, Frank', 'Trilcke, Peer'), 1), (('Börner, Ingo', 'Göbel, Mathias'), 1), (('Börner, Ingo', 'Hechtl, Angelika'), 1), (('Börner, Ingo', 'Kittel, Christopher'), 1), (('Börner, Ingo', 'Milling, Carsten'), 1), (('Börner, Ingo', 'Trilcke, Peer'), 1), (('Göbel, Mathias', 'Hechtl, Angelika'), 1), (('Göbel, Mathias', 'Kittel, Christopher'), 1), (('Göbel, Mathias', 'Milling, Carsten'), 1), (('Göbel, Mathias', 'Trilcke, Peer'), 1), (('Hechtl, Angelika', 'Kittel, Christopher'), 1), (('Hechtl, Angelika', 'Milling, Carsten'), 1), (('Hechtl, Angelika', 'Trilcke, Peer'), 1), (('Kittel, Christopher', 'Milling, Carsten'), 1), (('Kittel, Christopher', 'Trilcke, Peer'), 1), (('Milling, Carsten', 'Trilcke, Peer'), 1), (('Willand, Marcus', 'Gius, Evelyn'), 1), (('Willand, Marcus', 'Reiter, Nils'), 1), (('Gius, Evelyn', 'Reiter, Nils'), 1), (('Meißner, Cordula', 'Wallner, Franziska'), 1), (('Laubrock, Jochen', 'Dubray, David'), 1), (('Pattee, Aaron', 'Kuczera, Andreas'), 1), (('Pattee, Aaron', 'Volkmann, Armin'), 1), (('Kuczera, Andreas', 'Volkmann, Armin'), 1), (('Prager, Christian', 'Mara, Hubert'), 1), (('Prager, Christian', 'Bogacz, Bartosz'), 1), (('Prager, Christian', 'Feldmann, Felix'), 1), (('Mara, Hubert', 'Bogacz, Bartosz'), 1), (('Mara, Hubert', 'Feldmann, Felix'), 1), (('Bogacz, Bartosz', 'Feldmann, Felix'), 1), (('Baillot, Anne', 'Wottawa, Jane'), 1), (('Baillot, Anne', 'Barrault, Loïc'), 1), (('Baillot, Anne', 'Bougares, Fethi'), 1), (('Wottawa, Jane', 'Barrault, Loïc'), 1), (('Wottawa, Jane', 'Bougares, Fethi'), 1), (('Barrault, Loïc', 'Bougares, Fethi'), 1), (('Dewitz, Leyla', 'Münster, Sander'), 1), (('Dewitz, Leyla', 'Niebling, Florian'), 1), (('Münster, Sander', 'Niebling, Florian'), 1), (('Dogunke, Swantje', 'Steyer, Timo'), 1), (('Jannidis, Fotis', 'Konle, Leonard'), 1), (('Jannidis, Fotis', 'Leinen, Peter'), 1), (('Konle, Leonard', 'Leinen, Peter'), 1), (('Scherl, Magdalena', 'Unold, Martin'), 1), (('Scherl, Magdalena', 'Homburg, Timo'), 1), (('Unold, Martin', 'Homburg, Timo'), 1), (('Kremer, Gerhard', 'Jung, Kerstin'), 1), (('Neuefeind, Claes', 'Schildkamp, Philip'), 1), (('Neuefeind, Claes', 'Mathiak, Brigitte'), 1), (('Neuefeind, Claes', 'Harzenetter, Lukas'), 1), (('Neuefeind, Claes', 'Barzen, Johanna'), 1), (('Neuefeind, Claes', 'Breitenbücher, Uwe'), 1), (('Neuefeind, Claes', 'Leymann, Frank'), 1), (('Schildkamp, Philip', 'Mathiak, Brigitte'), 1), (('Schildkamp, Philip', 'Harzenetter, Lukas'), 1), (('Schildkamp, Philip', 'Barzen, Johanna'), 1), (('Schildkamp, Philip', 'Breitenbücher, Uwe'), 1), (('Schildkamp, Philip', 'Leymann, Frank'), 1), (('Mathiak, Brigitte', 'Harzenetter, Lukas'), 1), (('Mathiak, Brigitte', 'Barzen, Johanna'), 1), (('Mathiak, Brigitte', 'Breitenbücher, Uwe'), 1), (('Mathiak, Brigitte', 'Leymann, Frank'), 1), (('Harzenetter, Lukas', 'Barzen, Johanna'), 1), (('Harzenetter, Lukas', 'Breitenbücher, Uwe'), 1), (('Harzenetter, Lukas', 'Leymann, Frank'), 1), (('Barzen, Johanna', 'Breitenbücher, Uwe'), 1), (('Barzen, Johanna', 'Leymann, Frank'), 1), (('Breitenbücher, Uwe', 'Leymann, Frank'), 1), (('Andorfer, Peter', 'Cremer, Fabian'), 1), (('Andorfer, Peter', 'Steyer, Timo'), 1), (('Cremer, Fabian', 'Steyer, Timo'), 1), (('Schlupkothen, Frederik', 'Nantke, Julia'), 1), (('Kesselheim, Wolfgang', 'Hottiger, Christoph'), 1), (('Kurz, Stephan', 'Zaytseva, Ksenia'), 1), (('Gius, Evelyn', 'Katharina, Krüger'), 1), (('Gius, Evelyn', 'Carla, Sökefeld'), 1), (('Katharina, Krüger', 'Carla, Sökefeld'), 1), (('Mehler, Alexander', 'Gleim, Rüdiger'), 1), (('Mehler, Alexander', 'Baumartz, Daniel'), 1), (('Uslu, Tolga', 'Gleim, Rüdiger'), 1), (('Uslu, Tolga', 'Baumartz, Daniel'), 1), (('Gleim, Rüdiger', 'Baumartz, Daniel'), 1), (('Diehr, Franziska', 'Kuczera, Andreas'), 1), (('Diehr, Franziska', 'Kollatz, Thomas'), 1), (('Diehr, Franziska', 'Wübbena, Thorsten'), 1), (('Diehr, Franziska', 'Efer, Thomas'), 1), (('Brodhun, Maximilian', 'Kuczera, Andreas'), 1), (('Brodhun, Maximilian', 'Kollatz, Thomas'), 1), (('Brodhun, Maximilian', 'Wübbena, Thorsten'), 1), (('Brodhun, Maximilian', 'Efer, Thomas'), 1), (('Kuczera, Andreas', 'Kollatz, Thomas'), 1), (('Kuczera, Andreas', 'Wübbena, Thorsten'), 1), (('Kuczera, Andreas', 'Efer, Thomas'), 1), (('Kollatz, Thomas', 'Wübbena, Thorsten'), 1), (('Kollatz, Thomas', 'Efer, Thomas'), 1), (('Wübbena, Thorsten', 'Efer, Thomas'), 1), (('Dimpel, Friedrich', 'Proisl, Thomas'), 1), (('Adelmann, Benedikt', 'Franken, Lina'), 1), (('Adelmann, Benedikt', 'Gius, Evelyn'), 1), (('Adelmann, Benedikt', 'Krüger, Katharina'), 1), (('Adelmann, Benedikt', 'Vauth, Michael'), 1), (('Franken, Lina', 'Gius, Evelyn'), 1), (('Franken, Lina', 'Krüger, Katharina'), 1), (('Franken, Lina', 'Vauth, Michael'), 1), (('Gius, Evelyn', 'Krüger, Katharina'), 1), (('Gius, Evelyn', 'Vauth, Michael'), 1), (('Krüger, Katharina', 'Vauth, Michael'), 1), (('Hohmann, Georg', 'Geipel, Andrea'), 1), (('Hohmann, Georg', 'Henkensiefken, Claus'), 1), (('Geipel, Andrea', 'Henkensiefken, Claus'), 1), (('Tonne, Danah', 'Götzelmann, Germaine'), 1), (('Tonne, Danah', 'Hegel, Philipp'), 1), (('Tonne, Danah', 'Krewet, Michael'), 1), (('Tonne, Danah', 'Hübner, Julia'), 1), (('Tonne, Danah', 'Söring, Sibylle'), 1), (('Tonne, Danah', 'Löffler, Andreas'), 1), (('Tonne, Danah', 'Hitzker, Michael'), 1), (('Tonne, Danah', 'Höfler, Markus'), 1), (('Tonne, Danah', 'Schmidt, Timo'), 1), (('Götzelmann, Germaine', 'Hegel, Philipp'), 1), (('Götzelmann, Germaine', 'Krewet, Michael'), 1), (('Götzelmann, Germaine', 'Hübner, Julia'), 1), (('Götzelmann, Germaine', 'Söring, Sibylle'), 1), (('Götzelmann, Germaine', 'Löffler, Andreas'), 1), (('Götzelmann, Germaine', 'Hitzker, Michael'), 1), (('Götzelmann, Germaine', 'Höfler, Markus'), 1), (('Götzelmann, Germaine', 'Schmidt, Timo'), 1), (('Hegel, Philipp', 'Krewet, Michael'), 1), (('Hegel, Philipp', 'Hübner, Julia'), 1), (('Hegel, Philipp', 'Söring, Sibylle'), 1), (('Hegel, Philipp', 'Löffler, Andreas'), 1), (('Hegel, Philipp', 'Hitzker, Michael'), 1), (('Hegel, Philipp', 'Höfler, Markus'), 1), (('Hegel, Philipp', 'Schmidt, Timo'), 1), (('Krewet, Michael', 'Hübner, Julia'), 1), (('Krewet, Michael', 'Söring, Sibylle'), 1), (('Krewet, Michael', 'Löffler, Andreas'), 1), (('Krewet, Michael', 'Hitzker, Michael'), 1), (('Krewet, Michael', 'Höfler, Markus'), 1), (('Krewet, Michael', 'Schmidt, Timo'), 1), (('Hübner, Julia', 'Söring, Sibylle'), 1), (('Hübner, Julia', 'Löffler, Andreas'), 1), (('Hübner, Julia', 'Hitzker, Michael'), 1), (('Hübner, Julia', 'Höfler, Markus'), 1), (('Hübner, Julia', 'Schmidt, Timo'), 1), (('Söring, Sibylle', 'Löffler, Andreas'), 1), (('Söring, Sibylle', 'Hitzker, Michael'), 1), (('Söring, Sibylle', 'Höfler, Markus'), 1), (('Söring, Sibylle', 'Schmidt, Timo'), 1), (('Löffler, Andreas', 'Hitzker, Michael'), 1), (('Löffler, Andreas', 'Höfler, Markus'), 1), (('Löffler, Andreas', 'Schmidt, Timo'), 1), (('Hitzker, Michael', 'Höfler, Markus'), 1), (('Hitzker, Michael', 'Schmidt, Timo'), 1), (('Höfler, Markus', 'Schmidt, Timo'), 1), (('Mühleder, Peter', 'Hoffmann, Tracy'), 1), (('Mühleder, Peter', 'Rämisch, Florian'), 1), (('Hoffmann, Tracy', 'Rämisch, Florian'), 1), (('Lorenz, Anne Katrin', 'Müller-Dannhausen, Lea'), 1), (('Lorenz, Anne Katrin', 'Trautmann, Marjam'), 1), (('Müller-Dannhausen, Lea', 'Trautmann, Marjam'), 1), (('Druskat, Stephan', 'Rockenberger, Annika'), 1), (('Pohl, Oliver', 'Marx, Michael'), 1), (('Pohl, Oliver', 'Franke, Stefanie'), 1), (('Pohl, Oliver', 'Artika, Farah'), 1), (('Pohl, Oliver', 'Schnöpf, Markus'), 1), (('Pohl, Oliver', 'Mahmutovic, Edin'), 1), (('Marx, Michael', 'Franke, Stefanie'), 1), (('Marx, Michael', 'Artika, Farah'), 1), (('Marx, Michael', 'Schnöpf, Markus'), 1), (('Marx, Michael', 'Mahmutovic, Edin'), 1), (('Franke, Stefanie', 'Artika, Farah'), 1), (('Franke, Stefanie', 'Schnöpf, Markus'), 1), (('Franke, Stefanie', 'Mahmutovic, Edin'), 1), (('Artika, Farah', 'Schnöpf, Markus'), 1), (('Artika, Farah', 'Mahmutovic, Edin'), 1), (('Schnöpf, Markus', 'Mahmutovic, Edin'), 1), (('Röhrer, Ines', 'Ullrich, Sabine'), 1), (('Röhrer, Ines', 'Hadersbeck, Maximilian'), 1), (('Ullrich, Sabine', 'Hadersbeck, Maximilian'), 1), (('König, Mareike', 'Menke, Ulla'), 1), (('Pohl, Oliver', 'Dogaru, Teodora'), 1), (('Pohl, Oliver', 'Müller-Laackman, Jonas'), 1), (('Dogaru, Teodora', 'Müller-Laackman, Jonas'), 1), (('Dunst, Alexander', 'Hartel, Rita'), 1), (('Sikora, Uwe', 'Gronemeyer, Sven'), 1), (('Sikora, Uwe', 'Diehr, Franziska'), 1), (('Sikora, Uwe', 'Wagner, Elisabeth'), 1), (('Sikora, Uwe', 'Prager, Christian'), 1), (('Sikora, Uwe', 'Brodhun, Maximilian'), 1), (('Sikora, Uwe', 'Diederichs, Katja'), 1), (('Sikora, Uwe', 'Grube, Nikolai'), 1), (('Gronemeyer, Sven', 'Diehr, Franziska'), 1), (('Gronemeyer, Sven', 'Wagner, Elisabeth'), 1), (('Gronemeyer, Sven', 'Prager, Christian'), 1), (('Gronemeyer, Sven', 'Brodhun, Maximilian'), 1), (('Gronemeyer, Sven', 'Diederichs, Katja'), 1), (('Gronemeyer, Sven', 'Grube, Nikolai'), 1), (('Diehr, Franziska', 'Wagner, Elisabeth'), 1), (('Diehr, Franziska', 'Prager, Christian'), 1), (('Diehr, Franziska', 'Diederichs, Katja'), 1), (('Diehr, Franziska', 'Grube, Nikolai'), 1), (('Wagner, Elisabeth', 'Prager, Christian'), 1), (('Wagner, Elisabeth', 'Brodhun, Maximilian'), 1), (('Wagner, Elisabeth', 'Diederichs, Katja'), 1), (('Wagner, Elisabeth', 'Grube, Nikolai'), 1), (('Prager, Christian', 'Brodhun, Maximilian'), 1), (('Prager, Christian', 'Diederichs, Katja'), 1), (('Prager, Christian', 'Grube, Nikolai'), 1), (('Brodhun, Maximilian', 'Diederichs, Katja'), 1), (('Brodhun, Maximilian', 'Grube, Nikolai'), 1), (('Diederichs, Katja', 'Grube, Nikolai'), 1), (('Moeller, Katrin', 'Müller, Andreas'), 1), (('Moeller, Katrin', 'Purschwitz, Anne'), 1), (('Müller, Andreas', 'Purschwitz, Anne'), 1), (('Metzmacher, Katja', 'Helling, Patrick'), 1), (('Metzmacher, Katja', 'Blumtritt, Jonathan'), 1), (('Metzmacher, Katja', 'Mathiak, Brigitte'), 1), (('Helling, Patrick', 'Blumtritt, Jonathan'), 1), (('Helling, Patrick', 'Mathiak, Brigitte'), 1), (('Blumtritt, Jonathan', 'Mathiak, Brigitte'), 1), (('Hemati, Wahed', 'Mehler, Alexander'), 1), (('Hemati, Wahed', 'Uslu, Tolga'), 1), (('Hemati, Wahed', 'Abrami, Giuseppe'), 1), (('Mehler, Alexander', 'Abrami, Giuseppe'), 1), (('Uslu, Tolga', 'Abrami, Giuseppe'), 1), (('Schlör, Daniel', 'Veseli, Blerta'), 1), (('Schlör, Daniel', 'Hotho, Andreas'), 1), (('Veseli, Blerta', 'Hotho, Andreas'), 1), (('Burghardt, Manuel', 'Meyer, Selina'), 1), (('Burghardt, Manuel', 'Schmidtbauer, Stephanie'), 1), (('Burghardt, Manuel', 'Molz, Johannes'), 1), (('Meyer, Selina', 'Schmidtbauer, Stephanie'), 1), (('Meyer, Selina', 'Molz, Johannes'), 1), (('Schmidtbauer, Stephanie', 'Molz, Johannes'), 1), (('Müller-Laackman, Jonas', 'Dumont, Stefan'), 1), (('Müller-Laackman, Jonas', 'Grabsch, Sascha'), 1), (('Dumont, Stefan', 'Grabsch, Sascha'), 1), (('Abrami, Giuseppe', 'Spiekermann, Christian'), 1), (('Abrami, Giuseppe', 'Mehler, Alexander'), 1), (('Spiekermann, Christian', 'Mehler, Alexander'), 1), (('Guhr, Svenja', 'Varachkina, Hanna'), 1), (('Guhr, Svenja', 'Lee, Geumbi'), 1), (('Guhr, Svenja', 'Sporleder, Caroline'), 1), (('Varachkina, Hanna', 'Lee, Geumbi'), 1), (('Varachkina, Hanna', 'Sporleder, Caroline'), 1), (('Lee, Geumbi', 'Sporleder, Caroline'), 1), (('Bürgermeister, Martina', 'Bartz, Gabriele'), 1), (('Bürgermeister, Martina', 'Gneiß, Markus'), 1), (('Bartz, Gabriele', 'Gneiß, Markus'), 1), (('Ziehe, Stefan', 'Sporleder, Caroline'), 1), (('Stuber, Martin', 'Dängeli, Peter'), 1), (('Stuber, Martin', 'Forney, Christian'), 1), (('Dängeli, Peter', 'Forney, Christian'), 1), (('Koch, Gertraud', 'Franken, Lina'), 1), (('Wettlaufer, Jörg', 'Kilincoglu, Deniz'), 1), (('Wettlaufer, Jörg', 'Ziehe, Stefan'), 1), (('Wettlaufer, Jörg', 'Mandalka, Markus'), 1), (('Ziehe, Stefan', 'Mandalka, Markus'), 1), (('Krautter, Benjamin', 'Pagel, Janis'), 1), (('Dumont, Stefan', 'Haaf, Susanne'), 1), (('Dumont, Stefan', 'Henny-Krahmer, Ulrike'), 1), (('Dumont, Stefan', 'Krautter, Benjamin'), 1), (('Dumont, Stefan', 'Neuber, Frederike'), 1), (('Haaf, Susanne', 'Henny-Krahmer, Ulrike'), 1), (('Haaf, Susanne', 'Krautter, Benjamin'), 1), (('Haaf, Susanne', 'Neuber, Frederike'), 1), (('Henny-Krahmer, Ulrike', 'Krautter, Benjamin'), 1), (('Henny-Krahmer, Ulrike', 'Neuber, Frederike'), 1), (('Krautter, Benjamin', 'Neuber, Frederike'), 1), (('Diehr, Franziska', 'Glinka, Katrin'), 1), (('Görz, Günther', 'Seidl, Chiara'), 1), (('Görz, Günther', 'Thiering, Martin'), 1), (('Seidl, Chiara', 'Thiering, Martin'), 1), (('Schaeben, Marcel', 'El Khatib, Randa'), 1), (('Schwappach, Florin', 'Burghardt, Manuel'), 1), (('Burghardt, Manuel', 'Pause, Johannes'), 1), (('Burghardt, Manuel', 'Walkowski, Niels-Oliver'), 1), (('Pause, Johannes', 'Walkowski, Niels-Oliver'), 1), (('Severin, Simmler', 'Thorsten, Vitt'), 1), (('Severin, Simmler', 'Pielström, Steffen'), 1), (('Thorsten, Vitt', 'Pielström, Steffen'), 1), (('Busch, Anna', 'Bludau, Mark-Jan'), 1), (('Busch, Anna', 'Brüggemann, Viktoria'), 1), (('Busch, Anna', 'Dörk, Marian'), 1), (('Busch, Anna', 'Genzel, Kristina'), 1), (('Busch, Anna', 'Möller, Klaus-Peter'), 1), (('Busch, Anna', 'Seifert, Sabine'), 1), (('Busch, Anna', 'Trilcke, Peer'), 1), (('Bludau, Mark-Jan', 'Brüggemann, Viktoria'), 1), (('Bludau, Mark-Jan', 'Dörk, Marian'), 1), (('Bludau, Mark-Jan', 'Genzel, Kristina'), 1), (('Bludau, Mark-Jan', 'Möller, Klaus-Peter'), 1), (('Bludau, Mark-Jan', 'Seifert, Sabine'), 1), (('Bludau, Mark-Jan', 'Trilcke, Peer'), 1), (('Brüggemann, Viktoria', 'Dörk, Marian'), 1), (('Brüggemann, Viktoria', 'Genzel, Kristina'), 1), (('Brüggemann, Viktoria', 'Möller, Klaus-Peter'), 1), (('Brüggemann, Viktoria', 'Seifert, Sabine'), 1), (('Brüggemann, Viktoria', 'Trilcke, Peer'), 1), (('Dörk, Marian', 'Genzel, Kristina'), 1), (('Dörk, Marian', 'Möller, Klaus-Peter'), 1), (('Dörk, Marian', 'Seifert, Sabine'), 1), (('Dörk, Marian', 'Trilcke, Peer'), 1), (('Genzel, Kristina', 'Möller, Klaus-Peter'), 1), (('Genzel, Kristina', 'Seifert, Sabine'), 1), (('Genzel, Kristina', 'Trilcke, Peer'), 1), (('Möller, Klaus-Peter', 'Seifert, Sabine'), 1), (('Möller, Klaus-Peter', 'Trilcke, Peer'), 1), (('Seifert, Sabine', 'Trilcke, Peer'), 1), (('Wagner, Andreas', 'Bragagnolo, Manuela'), 1), (('Vitt, Thorsten', 'Brüning, Gerrit'), 1), (('Vitt, Thorsten', 'Pravida, Dietmar'), 1), (('Vitt, Thorsten', 'Wissenbach, Moritz'), 1), (('Brüning, Gerrit', 'Pravida, Dietmar'), 1), (('Brüning, Gerrit', 'Wissenbach, Moritz'), 1), (('Pravida, Dietmar', 'Wissenbach, Moritz'), 1), (('Fritze, Christiane', 'Fischer, Franz'), 1), (('Fritze, Christiane', 'Vogeler, Georg'), 1), (('Fritze, Christiane', 'Schnöpf, Markus'), 1), (('Fritze, Christiane', 'Scholger, Martina'), 1), (('Fritze, Christiane', 'Sahle, Patrick'), 1), (('Fischer, Franz', 'Vogeler, Georg'), 1), (('Fischer, Franz', 'Schnöpf, Markus'), 1), (('Fischer, Franz', 'Scholger, Martina'), 1), (('Fischer, Franz', 'Sahle, Patrick'), 1), (('Vogeler, Georg', 'Schnöpf, Markus'), 1), (('Vogeler, Georg', 'Scholger, Martina'), 1), (('Vogeler, Georg', 'Sahle, Patrick'), 1), (('Schnöpf, Markus', 'Scholger, Martina'), 1), (('Schnöpf, Markus', 'Sahle, Patrick'), 1), (('Scholger, Martina', 'Sahle, Patrick'), 1), (('Nasarek, Robert', 'Müller, Andreas'), 1), (('Boenig, Matthias', 'Herrmann, Elisa'), 1), (('Boenig, Matthias', 'Hartmann, Volker'), 1), (('Herrmann, Elisa', 'Hartmann, Volker'), 1), (('Jarosch, Julian', 'Kuczera, Andreas'), 1), (('Jarosch, Julian', 'Schrade, Torsten'), 1), (('Jarosch, Julian', 'Yousef, Tariq'), 1), (('Kuczera, Andreas', 'Schrade, Torsten'), 1), (('Kuczera, Andreas', 'Yousef, Tariq'), 1), (('Schrade, Torsten', 'Yousef, Tariq'), 1), (('Vogeler, Georg', 'Vasold, Gunter'), 1), (('Vogeler, Georg', 'Schlögl, Matthias'), 1), (('Vasold, Gunter', 'Schlögl, Matthias'), 1), (('Wigg-Wolf, David', 'Tolle, Karsten'), 1), (('Wigg-Wolf, David', 'Kissinger, Timo'), 1), (('Tolle, Karsten', 'Kissinger, Timo'), 1), (('Schumacher, Mareike', 'Horstmann, Jan'), 1), (('Proisl, Thomas', 'Konle, Leonard'), 1), (('Proisl, Thomas', 'Evert, Stefan'), 1), (('Proisl, Thomas', 'Jannidis, Fotis'), 1), (('Konle, Leonard', 'Evert, Stefan'), 1), (('Konle, Leonard', 'Jannidis, Fotis'), 1), (('Evert, Stefan', 'Jannidis, Fotis'), 1), (('Weichselbaumer, Nikolaus', 'Seuret, Mathias'), 1), (('Weichselbaumer, Nikolaus', 'Limbach, Saskia'), 1), (('Weichselbaumer, Nikolaus', 'Christlein, Vincent'), 1), (('Weichselbaumer, Nikolaus', 'Maier, Andreas'), 1), (('Seuret, Mathias', 'Limbach, Saskia'), 1), (('Seuret, Mathias', 'Christlein, Vincent'), 1), (('Seuret, Mathias', 'Maier, Andreas'), 1), (('Limbach, Saskia', 'Christlein, Vincent'), 1), (('Limbach, Saskia', 'Maier, Andreas'), 1), (('Christlein, Vincent', 'Maier, Andreas'), 1), (('Hedeland, Hanna', 'Remus, Steffen'), 1), (('Hedeland, Hanna', 'Ferger, Anne'), 1), (('Hedeland, Hanna', 'Bührig, Kristin'), 1), (('Hedeland, Hanna', 'Biemann, Chris'), 1), (('Remus, Steffen', 'Ferger, Anne'), 1), (('Remus, Steffen', 'Bührig, Kristin'), 1), (('Remus, Steffen', 'Biemann, Chris'), 1), (('Ferger, Anne', 'Bührig, Kristin'), 1), (('Ferger, Anne', 'Biemann, Chris'), 1), (('Bührig, Kristin', 'Biemann, Chris'), 1), (('Mukhametov, Sergey', 'Kesselheim, Wolfgang'), 1), (('Mukhametov, Sergey', 'Brandenbeger, Christina'), 1), (('Kesselheim, Wolfgang', 'Brandenbeger, Christina'), 1), (('Gerhards, Donata', 'Hüther, Frank'), 1), (('Schlögl, Matthias', 'Andorfer, Peter'), 1), (('Schüller, Daniel', 'Mittelberg, Irene'), 1), (('Moisich, Oliver', 'Hartel, Rita'), 1), (('Mayr, Eva', 'Windhager, Florian'), 1), (('Mayr, Eva', 'Schreder, Günther'), 1), (('Windhager, Florian', 'Schreder, Günther'), 1)], [(('Pagel, Janis', 'Reiter, Nils'), 3), (('Horstmann, Jan', 'Flüh, Marie'), 3), (('Hadersbeck, Maximilian', 'Still, Sebastian'), 2), (('Hadersbeck, Maximilian', 'Ullrich, Sabine'), 2), (('Krautter, Benjamin', 'Pagel, Janis'), 2), (('Krautter, Benjamin', 'Reiter, Nils'), 2), (('Fischer, Frank', 'Trilcke, Peer'), 2), (('Horstmann, Jan', 'Petris, Marco'), 2), (('Horstmann, Jan', 'Meister, Jan Christoph'), 2), (('Horstmann, Jan', 'Schumacher, Mareike'), 2), (('Schumacher, Mareike', 'Flüh, Marie'), 2), (('Kuhn, Jonas', 'Viehhauser, Gabriel'), 2), (('Bludau, Mark-Jan', 'Dörk, Marian'), 2), (('Steiner, Christian', 'Klug, Helmut W.'), 2), (('Saric, Sanja', 'Scholger, Martina'), 2), (('Steyer, Timo', 'Andorfer, Peter'), 1), (('Steyer, Timo', 'Cremer, Fabian'), 1), (('Andorfer, Peter', 'Cremer, Fabian'), 1), (('Hadersbeck, Maximilian', 'Babl, Florian'), 1), (('Hadersbeck, Maximilian', 'Eisterhues, Marcel'), 1), (('Hadersbeck, Maximilian', 'Röhrer, Ines'), 1), (('Hadersbeck, Maximilian', 'Landes, Florian'), 1), (('Hadersbeck, Maximilian', 'Lindinger, Matthias'), 1), (('Babl, Florian', 'Eisterhues, Marcel'), 1), (('Babl, Florian', 'Röhrer, Ines'), 1), (('Babl, Florian', 'Still, Sebastian'), 1), (('Babl, Florian', 'Ullrich, Sabine'), 1), (('Babl, Florian', 'Landes, Florian'), 1), (('Babl, Florian', 'Lindinger, Matthias'), 1), (('Eisterhues, Marcel', 'Röhrer, Ines'), 1), (('Eisterhues, Marcel', 'Still, Sebastian'), 1), (('Eisterhues, Marcel', 'Ullrich, Sabine'), 1), (('Eisterhues, Marcel', 'Landes, Florian'), 1), (('Eisterhues, Marcel', 'Lindinger, Matthias'), 1), (('Röhrer, Ines', 'Still, Sebastian'), 1), (('Röhrer, Ines', 'Ullrich, Sabine'), 1), (('Röhrer, Ines', 'Landes, Florian'), 1), (('Röhrer, Ines', 'Lindinger, Matthias'), 1), (('Still, Sebastian', 'Ullrich, Sabine'), 1), (('Still, Sebastian', 'Landes, Florian'), 1), (('Still, Sebastian', 'Lindinger, Matthias'), 1), (('Ullrich, Sabine', 'Landes, Florian'), 1), (('Ullrich, Sabine', 'Lindinger, Matthias'), 1), (('Landes, Florian', 'Lindinger, Matthias'), 1), (('Hadersbeck, Maximilian', 'Pichler, Alois'), 1), (('Ullrich, Sabine', 'Still, Sebastian'), 1), (('Ullrich, Sabine', 'Pichler, Alois'), 1), (('Still, Sebastian', 'Pichler, Alois'), 1), (('Wübbena, Thorsten', 'Neumann, Katrin'), 1), (('Wübbena, Thorsten', 'Cremer, Fabian'), 1), (('Neumann, Katrin', 'Cremer, Fabian'), 1), (('Nicka, Isabella', 'Hinkelmanns, Peter'), 1), (('Nicka, Isabella', 'Landkammer, Miriam'), 1), (('Nicka, Isabella', 'Schwembacher, Manuel'), 1), (('Nicka, Isabella', 'Zeppezauer-Wachauer, Katharina'), 1), (('Hinkelmanns, Peter', 'Landkammer, Miriam'), 1), (('Hinkelmanns, Peter', 'Schwembacher, Manuel'), 1), (('Hinkelmanns, Peter', 'Zeppezauer-Wachauer, Katharina'), 1), (('Landkammer, Miriam', 'Schwembacher, Manuel'), 1), (('Landkammer, Miriam', 'Zeppezauer-Wachauer, Katharina'), 1), (('Schwembacher, Manuel', 'Zeppezauer-Wachauer, Katharina'), 1), (('Meyer-Sickendiek, Burkhard', 'Baumann, Timo'), 1), (('Meyer-Sickendiek, Burkhard', 'Hussein, Hussein'), 1), (('Baumann, Timo', 'Hussein, Hussein'), 1), (('Scholz, Martin', 'Klusik-Eckert, Jacqueline'), 1), (('Kremer, Gerhard', 'Jung, Kerstin'), 1), (('Howanitz, Gernot', 'Radisch, Erik'), 1), (('Roeder, Torsten', 'Rettinghaus, Klaus'), 1), (('Landes, Lisa', 'Dinger, Patrick'), 1), (('Wehner, Maximilian', 'Dahnke, Michael'), 1), (('Wehner, Maximilian', 'Landes, Florian'), 1), (('Wehner, Maximilian', 'Nasarek, Robert'), 1), (('Wehner, Maximilian', 'Reul, Christian'), 1), (('Dahnke, Michael', 'Landes, Florian'), 1), (('Dahnke, Michael', 'Nasarek, Robert'), 1), (('Dahnke, Michael', 'Reul, Christian'), 1), (('Landes, Florian', 'Nasarek, Robert'), 1), (('Landes, Florian', 'Reul, Christian'), 1), (('Nasarek, Robert', 'Reul, Christian'), 1), (('Albrecht, Jens', 'Lehmann, Robert'), 1), (('Heinig, Julia', 'Elwert, Frederik'), 1), (('Kröber, Cindy', 'Münster, Sander'), 1), (('Kröber, Cindy', 'Messemer, Heike'), 1), (('Münster, Sander', 'Messemer, Heike'), 1), (('Schmidt, David', 'Krug, Markus'), 1), (('Schmidt, David', 'Puppe, Frank'), 1), (('Krug, Markus', 'Puppe, Frank'), 1), (('Eckl, Markus', 'Gassner, Sebastian'), 1), (('Ketschik, Nora', 'Krautter, Benjamin'), 1), (('Ketschik, Nora', 'Murr, Sandra'), 1), (('Ketschik, Nora', 'Pagel, Janis'), 1), (('Ketschik, Nora', 'Reiter, Nils'), 1), (('Krautter, Benjamin', 'Murr, Sandra'), 1), (('Murr, Sandra', 'Pagel, Janis'), 1), (('Murr, Sandra', 'Reiter, Nils'), 1), (('Weichselbaumer, Nikolaus', 'Seuret, Mathias'), 1), (('Weichselbaumer, Nikolaus', 'Limbach, Saskia'), 1), (('Weichselbaumer, Nikolaus', 'Hinrichsen, Lena'), 1), (('Weichselbaumer, Nikolaus', 'Maier, Andreas'), 1), (('Weichselbaumer, Nikolaus', 'Christlein, Vincent'), 1), (('Seuret, Mathias', 'Limbach, Saskia'), 1), (('Seuret, Mathias', 'Hinrichsen, Lena'), 1), (('Seuret, Mathias', 'Maier, Andreas'), 1), (('Seuret, Mathias', 'Christlein, Vincent'), 1), (('Limbach, Saskia', 'Hinrichsen, Lena'), 1), (('Limbach, Saskia', 'Maier, Andreas'), 1), (('Limbach, Saskia', 'Christlein, Vincent'), 1), (('Hinrichsen, Lena', 'Maier, Andreas'), 1), (('Hinrichsen, Lena', 'Christlein, Vincent'), 1), (('Maier, Andreas', 'Christlein, Vincent'), 1), (('Fischer, Frank', 'Busch, Anna'), 1), (('Fischer, Frank', 'Hechtl, Angelika'), 1), (('Fischer, Frank', 'Vogel, Andreas'), 1), (('Busch, Anna', 'Hechtl, Angelika'), 1), (('Busch, Anna', 'Trilcke, Peer'), 1), (('Busch, Anna', 'Vogel, Andreas'), 1), (('Hechtl, Angelika', 'Trilcke, Peer'), 1), (('Hechtl, Angelika', 'Vogel, Andreas'), 1), (('Trilcke, Peer', 'Vogel, Andreas'), 1), (('Horstmann, Jan', 'Jacke, Janina'), 1), (('Roller, Ramona', 'Schweitzer, Frank'), 1), (('Görz, Günther', 'Seidl, Chiara'), 1), (('Görz, Günther', 'Thiering, Martin'), 1), (('Seidl, Chiara', 'Thiering, Martin'), 1), (('Wiedmer, Nathalie', 'Pagel, Janis'), 1), (('Wiedmer, Nathalie', 'Reiter, Nils'), 1), (('Blumtritt, Jonathan', 'Helling, Patrick'), 1), (('Blumtritt, Jonathan', 'Mathiak, Brigitte'), 1), (('Blumtritt, Jonathan', 'Neuefeind, Claes'), 1), (('Blumtritt, Jonathan', 'Rau, Felix'), 1), (('Blumtritt, Jonathan', 'Schildkamp, Philip'), 1), (('Blumtritt, Jonathan', 'Wieners, Jan Gerrit'), 1), (('Helling, Patrick', 'Mathiak, Brigitte'), 1), (('Helling, Patrick', 'Neuefeind, Claes'), 1), (('Helling, Patrick', 'Rau, Felix'), 1), (('Helling, Patrick', 'Schildkamp, Philip'), 1), (('Helling, Patrick', 'Wieners, Jan Gerrit'), 1), (('Mathiak, Brigitte', 'Neuefeind, Claes'), 1), (('Mathiak, Brigitte', 'Rau, Felix'), 1), (('Mathiak, Brigitte', 'Schildkamp, Philip'), 1), (('Mathiak, Brigitte', 'Wieners, Jan Gerrit'), 1), (('Neuefeind, Claes', 'Rau, Felix'), 1), (('Neuefeind, Claes', 'Schildkamp, Philip'), 1), (('Neuefeind, Claes', 'Wieners, Jan Gerrit'), 1), (('Rau, Felix', 'Schildkamp, Philip'), 1), (('Rau, Felix', 'Wieners, Jan Gerrit'), 1), (('Schildkamp, Philip', 'Wieners, Jan Gerrit'), 1), (('Flüh, Marie', 'Petris, Marco'), 1), (('Dziudzia, Corinna', 'Hall, Mark'), 1), (('Bürgermeister, Martina', 'Holzer, Matthias'), 1), (('Bürgermeister, Martina', 'Nussmüller, Antonia'), 1), (('Bürgermeister, Martina', 'Scheuermann, Leif'), 1), (('Bürgermeister, Martina', 'Sonnberger, Jakob'), 1), (('Holzer, Matthias', 'Nussmüller, Antonia'), 1), (('Holzer, Matthias', 'Scheuermann, Leif'), 1), (('Holzer, Matthias', 'Sonnberger, Jakob'), 1), (('Nussmüller, Antonia', 'Scheuermann, Leif'), 1), (('Nussmüller, Antonia', 'Sonnberger, Jakob'), 1), (('Scheuermann, Leif', 'Sonnberger, Jakob'), 1), (('Wick, Christoph', 'Hartelt, Alexander'), 1), (('Wick, Christoph', 'Puppe, Frank'), 1), (('Hartelt, Alexander', 'Puppe, Frank'), 1), (('Jegan, Robin', 'Gradl, Tobias'), 1), (('Jegan, Robin', 'Henrich, Andreas'), 1), (('Gradl, Tobias', 'Henrich, Andreas'), 1), (('Meister, Jan Christoph', 'Petris, Marco'), 1), (('Meister, Jan Christoph', 'Schumacher, Mareike'), 1), (('Meister, Jan Christoph', 'Flüh, Marie'), 1), (('Petris, Marco', 'Schumacher, Mareike'), 1), (('Petris, Marco', 'Flüh, Marie'), 1), (('Ortloff, Anna-Marie', 'Windl, Maximiliane'), 1), (('Ortloff, Anna-Marie', 'Güntner, Lydia'), 1), (('Ortloff, Anna-Marie', 'Schmidt, Thomas'), 1), (('Windl, Maximiliane', 'Güntner, Lydia'), 1), (('Windl, Maximiliane', 'Schmidt, Thomas'), 1), (('Güntner, Lydia', 'Schmidt, Thomas'), 1), (('Homburg, Timo', 'Thiery, Florian'), 1), (('Adelmann, Benedikt', 'Gius, Evelyn'), 1), (('Capelle, Irmlind', 'Richts, Kristina'), 1), (('Capelle, Irmlind', 'Schilke, Elena'), 1), (('Richts, Kristina', 'Schilke, Elena'), 1), (('Willand, Marcus', 'Krautter, Benjamin'), 1), (('Willand, Marcus', 'Pagel, Janis'), 1), (('Willand, Marcus', 'Reiter, Nils'), 1), (('Brunner, Annelen', 'Jannidis, Fotis'), 1), (('Brunner, Annelen', 'Tu, Ngoc Duyen Tanja'), 1), (('Brunner, Annelen', 'Weimer, Lukas'), 1), (('Jannidis, Fotis', 'Tu, Ngoc Duyen Tanja'), 1), (('Jannidis, Fotis', 'Weimer, Lukas'), 1), (('Tu, Ngoc Duyen Tanja', 'Weimer, Lukas'), 1), (('Boenig, Matthias', 'Engl, Elisabeth'), 1), (('Boenig, Matthias', 'Baierer, Konstantin'), 1), (('Boenig, Matthias', 'Hartmann, Volker'), 1), (('Boenig, Matthias', 'Neudecker, Clemens'), 1), (('Engl, Elisabeth', 'Baierer, Konstantin'), 1), (('Engl, Elisabeth', 'Hartmann, Volker'), 1), (('Engl, Elisabeth', 'Neudecker, Clemens'), 1), (('Baierer, Konstantin', 'Hartmann, Volker'), 1), (('Baierer, Konstantin', 'Neudecker, Clemens'), 1), (('Hartmann, Volker', 'Neudecker, Clemens'), 1), (('Luhmann, Jan', 'Burghardt, Manuel'), 1), (('Luhmann, Jan', 'Tiepmar, Jochen'), 1), (('Burghardt, Manuel', 'Tiepmar, Jochen'), 1), (('Thielert, Frauke', 'Haaf, Susanne'), 1), (('Thielert, Frauke', 'Schuster, Britt-Marie'), 1), (('Thielert, Frauke', 'Georgi, Christopher'), 1), (('Haaf, Susanne', 'Schuster, Britt-Marie'), 1), (('Haaf, Susanne', 'Georgi, Christopher'), 1), (('Schuster, Britt-Marie', 'Georgi, Christopher'), 1), (('Rosenkötter, Martha', 'Fischer, Barbara'), 1), (('Schulz, Julian', 'Schneider, Stefanie'), 1), (('Schulz, Julian', 'Cakir, Osman'), 1), (('Schulz, Julian', 'Kohl, Linus'), 1), (('Schulz, Julian', 'Reißer, Alexandra'), 1), (('Schneider, Stefanie', 'Cakir, Osman'), 1), (('Schneider, Stefanie', 'Kohl, Linus'), 1), (('Schneider, Stefanie', 'Reißer, Alexandra'), 1), (('Cakir, Osman', 'Kohl, Linus'), 1), (('Cakir, Osman', 'Reißer, Alexandra'), 1), (('Kohl, Linus', 'Reißer, Alexandra'), 1), (('Burghardt, Manuel', 'Liebl, Bernhard'), 1), (('Ulrich, Mona', 'Hess, Jan'), 1), (('Ulrich, Mona', 'Kamzelak, Roland'), 1), (('Ulrich, Mona', 'Kramski, Heinz Werner'), 1), (('Ulrich, Mona', 'Jung, Kerstin'), 1), (('Ulrich, Mona', 'Kuhn, Jonas'), 1), (('Ulrich, Mona', 'Schlesinger, Claus-Michael'), 1), (('Ulrich, Mona', 'Viehhauser, Gabriel'), 1), (('Ulrich, Mona', 'Schembera, Björn'), 1), (('Ulrich, Mona', 'Bönisch, Thomas'), 1), (('Ulrich, Mona', 'Kaminski, Andreas'), 1), (('Hess, Jan', 'Kamzelak, Roland'), 1), (('Hess, Jan', 'Kramski, Heinz Werner'), 1), (('Hess, Jan', 'Jung, Kerstin'), 1), (('Hess, Jan', 'Kuhn, Jonas'), 1), (('Hess, Jan', 'Schlesinger, Claus-Michael'), 1), (('Hess, Jan', 'Viehhauser, Gabriel'), 1), (('Hess, Jan', 'Schembera, Björn'), 1), (('Hess, Jan', 'Bönisch, Thomas'), 1), (('Hess, Jan', 'Kaminski, Andreas'), 1), (('Kamzelak, Roland', 'Kramski, Heinz Werner'), 1), (('Kamzelak, Roland', 'Jung, Kerstin'), 1), (('Kamzelak, Roland', 'Kuhn, Jonas'), 1), (('Kamzelak, Roland', 'Schlesinger, Claus-Michael'), 1), (('Kamzelak, Roland', 'Viehhauser, Gabriel'), 1), (('Kamzelak, Roland', 'Schembera, Björn'), 1), (('Kamzelak, Roland', 'Bönisch, Thomas'), 1), (('Kamzelak, Roland', 'Kaminski, Andreas'), 1), (('Kramski, Heinz Werner', 'Jung, Kerstin'), 1), (('Kramski, Heinz Werner', 'Kuhn, Jonas'), 1), (('Kramski, Heinz Werner', 'Schlesinger, Claus-Michael'), 1), (('Kramski, Heinz Werner', 'Viehhauser, Gabriel'), 1), (('Kramski, Heinz Werner', 'Schembera, Björn'), 1), (('Kramski, Heinz Werner', 'Bönisch, Thomas'), 1), (('Kramski, Heinz Werner', 'Kaminski, Andreas'), 1), (('Jung, Kerstin', 'Kuhn, Jonas'), 1), (('Jung, Kerstin', 'Schlesinger, Claus-Michael'), 1), (('Jung, Kerstin', 'Viehhauser, Gabriel'), 1), (('Jung, Kerstin', 'Schembera, Björn'), 1), (('Jung, Kerstin', 'Bönisch, Thomas'), 1), (('Jung, Kerstin', 'Kaminski, Andreas'), 1), (('Kuhn, Jonas', 'Schlesinger, Claus-Michael'), 1), (('Kuhn, Jonas', 'Schembera, Björn'), 1), (('Kuhn, Jonas', 'Bönisch, Thomas'), 1), (('Kuhn, Jonas', 'Kaminski, Andreas'), 1), (('Schlesinger, Claus-Michael', 'Viehhauser, Gabriel'), 1), (('Schlesinger, Claus-Michael', 'Schembera, Björn'), 1), (('Schlesinger, Claus-Michael', 'Bönisch, Thomas'), 1), (('Schlesinger, Claus-Michael', 'Kaminski, Andreas'), 1), (('Viehhauser, Gabriel', 'Schembera, Björn'), 1), (('Viehhauser, Gabriel', 'Bönisch, Thomas'), 1), (('Viehhauser, Gabriel', 'Kaminski, Andreas'), 1), (('Schembera, Björn', 'Bönisch, Thomas'), 1), (('Schembera, Björn', 'Kaminski, Andreas'), 1), (('Bönisch, Thomas', 'Kaminski, Andreas'), 1), (('Jannidis, Fotis', 'Konle, Leonard'), 1), (('Jannidis, Fotis', 'Leinen, Peter'), 1), (('Konle, Leonard', 'Leinen, Peter'), 1), (('Hermes, Jürgen', 'Klinke, Harald'), 1), (('Hermes, Jürgen', 'Demmer, Dennis'), 1), (('Klinke, Harald', 'Demmer, Dennis'), 1), (('Schildkamp, Philip', 'Neuefeind, Claes'), 1), (('Schildkamp, Philip', 'Mathiak, Brigitte'), 1), (('Schildkamp, Philip', 'Harzenetter, Lukas'), 1), (('Schildkamp, Philip', 'Breitenbücher, Uwe'), 1), (('Schildkamp, Philip', 'Leymann, Frank'), 1), (('Neuefeind, Claes', 'Mathiak, Brigitte'), 1), (('Neuefeind, Claes', 'Harzenetter, Lukas'), 1), (('Neuefeind, Claes', 'Breitenbücher, Uwe'), 1), (('Neuefeind, Claes', 'Leymann, Frank'), 1), (('Mathiak, Brigitte', 'Harzenetter, Lukas'), 1), (('Mathiak, Brigitte', 'Breitenbücher, Uwe'), 1), (('Mathiak, Brigitte', 'Leymann, Frank'), 1), (('Harzenetter, Lukas', 'Breitenbücher, Uwe'), 1), (('Harzenetter, Lukas', 'Leymann, Frank'), 1), (('Breitenbücher, Uwe', 'Leymann, Frank'), 1), (('Balbach, Nico', 'Reul, Christian'), 1), (('Balbach, Nico', 'Puppe, Frank'), 1), (('Reul, Christian', 'Puppe, Frank'), 1), (('Roeder, Torsten', 'Cremer, Fabian'), 1), (('Roeder, Torsten', 'Dogunke, Swantje'), 1), (('Roeder, Torsten', 'Elwert, Frederik'), 1), (('Roeder, Torsten', 'Lordick, Harald'), 1), (('Roeder, Torsten', 'Ott, Katrin'), 1), (('Roeder, Torsten', 'Söring, Sibylle'), 1), (('Roeder, Torsten', 'Wübbena, Thorsten'), 1), (('Cremer, Fabian', 'Dogunke, Swantje'), 1), (('Cremer, Fabian', 'Elwert, Frederik'), 1), (('Cremer, Fabian', 'Lordick, Harald'), 1), (('Cremer, Fabian', 'Ott, Katrin'), 1), (('Cremer, Fabian', 'Söring, Sibylle'), 1), (('Cremer, Fabian', 'Wübbena, Thorsten'), 1), (('Dogunke, Swantje', 'Elwert, Frederik'), 1), (('Dogunke, Swantje', 'Lordick, Harald'), 1), (('Dogunke, Swantje', 'Ott, Katrin'), 1), (('Dogunke, Swantje', 'Söring, Sibylle'), 1), (('Dogunke, Swantje', 'Wübbena, Thorsten'), 1), (('Elwert, Frederik', 'Lordick, Harald'), 1), (('Elwert, Frederik', 'Ott, Katrin'), 1), (('Elwert, Frederik', 'Söring, Sibylle'), 1), (('Elwert, Frederik', 'Wübbena, Thorsten'), 1), (('Lordick, Harald', 'Ott, Katrin'), 1), (('Lordick, Harald', 'Söring, Sibylle'), 1), (('Lordick, Harald', 'Wübbena, Thorsten'), 1), (('Ott, Katrin', 'Söring, Sibylle'), 1), (('Ott, Katrin', 'Wübbena, Thorsten'), 1), (('Söring, Sibylle', 'Wübbena, Thorsten'), 1), (('Wuttke, Ulrike', 'Lemaire, Marina'), 1), (('Wuttke, Ulrike', 'Stefan, Schulte'), 1), (('Wuttke, Ulrike', 'Helling, Patrick'), 1), (('Wuttke, Ulrike', 'Blumtritt, Jonathan'), 1), (('Wuttke, Ulrike', 'Schmunk, Stefan'), 1), (('Lemaire, Marina', 'Stefan, Schulte'), 1), (('Lemaire, Marina', 'Helling, Patrick'), 1), (('Lemaire, Marina', 'Blumtritt, Jonathan'), 1), (('Lemaire, Marina', 'Schmunk, Stefan'), 1), (('Stefan, Schulte', 'Helling, Patrick'), 1), (('Stefan, Schulte', 'Blumtritt, Jonathan'), 1), (('Stefan, Schulte', 'Schmunk, Stefan'), 1), (('Helling, Patrick', 'Blumtritt, Jonathan'), 1), (('Helling, Patrick', 'Schmunk, Stefan'), 1), (('Blumtritt, Jonathan', 'Schmunk, Stefan'), 1), (('Ruppenhofer, Josef', 'Flinz, Carolina'), 1), (('Ruppenhofer, Josef', 'Schmidt, Thomas'), 1), (('Flinz, Carolina', 'Schmidt, Thomas'), 1), (('Messemer, Heike', 'Clados, Christiane'), 1), (('Reinthal, Angela', 'Tscheu, Amelie'), 1), (('Reinthal, Angela', 'Trautmann, Marjam'), 1), (('Tscheu, Amelie', 'Trautmann, Marjam'), 1), (('Bludau, Mark-Jan', 'Fangerau, Heiner'), 1), (('Bludau, Mark-Jan', 'Halling, Thorsten'), 1), (('Bludau, Mark-Jan', 'Leitner, Elena'), 1), (('Bludau, Mark-Jan', 'Menzel, Sina'), 1), (('Bludau, Mark-Jan', 'Müller, Gerhard'), 1), (('Bludau, Mark-Jan', 'Petras, Vivien'), 1), (('Bludau, Mark-Jan', 'Rehm, Georg'), 1), (('Bludau, Mark-Jan', 'Neudecker, Clemens'), 1), (('Bludau, Mark-Jan', 'Zellhoefer, David'), 1), (('Bludau, Mark-Jan', 'Moreno Schneider, Julian'), 1), (('Dörk, Marian', 'Fangerau, Heiner'), 1), (('Dörk, Marian', 'Halling, Thorsten'), 1), (('Dörk, Marian', 'Leitner, Elena'), 1), (('Dörk, Marian', 'Menzel, Sina'), 1), (('Dörk, Marian', 'Müller, Gerhard'), 1), (('Dörk, Marian', 'Petras, Vivien'), 1), (('Dörk, Marian', 'Rehm, Georg'), 1), (('Dörk, Marian', 'Neudecker, Clemens'), 1), (('Dörk, Marian', 'Zellhoefer, David'), 1), (('Dörk, Marian', 'Moreno Schneider, Julian'), 1), (('Fangerau, Heiner', 'Halling, Thorsten'), 1), (('Fangerau, Heiner', 'Leitner, Elena'), 1), (('Fangerau, Heiner', 'Menzel, Sina'), 1), (('Fangerau, Heiner', 'Müller, Gerhard'), 1), (('Fangerau, Heiner', 'Petras, Vivien'), 1), (('Fangerau, Heiner', 'Rehm, Georg'), 1), (('Fangerau, Heiner', 'Neudecker, Clemens'), 1), (('Fangerau, Heiner', 'Zellhoefer, David'), 1), (('Fangerau, Heiner', 'Moreno Schneider, Julian'), 1), (('Halling, Thorsten', 'Leitner, Elena'), 1), (('Halling, Thorsten', 'Menzel, Sina'), 1), (('Halling, Thorsten', 'Müller, Gerhard'), 1), (('Halling, Thorsten', 'Petras, Vivien'), 1), (('Halling, Thorsten', 'Rehm, Georg'), 1), (('Halling, Thorsten', 'Neudecker, Clemens'), 1), (('Halling, Thorsten', 'Zellhoefer, David'), 1), (('Halling, Thorsten', 'Moreno Schneider, Julian'), 1), (('Leitner, Elena', 'Menzel, Sina'), 1), (('Leitner, Elena', 'Müller, Gerhard'), 1), (('Leitner, Elena', 'Petras, Vivien'), 1), (('Leitner, Elena', 'Rehm, Georg'), 1), (('Leitner, Elena', 'Neudecker, Clemens'), 1), (('Leitner, Elena', 'Zellhoefer, David'), 1), (('Leitner, Elena', 'Moreno Schneider, Julian'), 1), (('Menzel, Sina', 'Müller, Gerhard'), 1), (('Menzel, Sina', 'Petras, Vivien'), 1), (('Menzel, Sina', 'Rehm, Georg'), 1), (('Menzel, Sina', 'Neudecker, Clemens'), 1), (('Menzel, Sina', 'Zellhoefer, David'), 1), (('Menzel, Sina', 'Moreno Schneider, Julian'), 1), (('Müller, Gerhard', 'Petras, Vivien'), 1), (('Müller, Gerhard', 'Rehm, Georg'), 1), (('Müller, Gerhard', 'Neudecker, Clemens'), 1), (('Müller, Gerhard', 'Zellhoefer, David'), 1), (('Müller, Gerhard', 'Moreno Schneider, Julian'), 1), (('Petras, Vivien', 'Rehm, Georg'), 1), (('Petras, Vivien', 'Neudecker, Clemens'), 1), (('Petras, Vivien', 'Zellhoefer, David'), 1), (('Petras, Vivien', 'Moreno Schneider, Julian'), 1), (('Rehm, Georg', 'Neudecker, Clemens'), 1), (('Rehm, Georg', 'Zellhoefer, David'), 1), (('Rehm, Georg', 'Moreno Schneider, Julian'), 1), (('Neudecker, Clemens', 'Zellhoefer, David'), 1), (('Neudecker, Clemens', 'Moreno Schneider, Julian'), 1), (('Zellhoefer, David', 'Moreno Schneider, Julian'), 1), (('Wieners, Jan Gerrit', 'Schubert, Zoe'), 1), (('Wieners, Jan Gerrit', 'Türkoğlu, Enes'), 1), (('Wieners, Jan Gerrit', 'Niebes, Kai Michael'), 1), (('Wieners, Jan Gerrit', 'Eide, Øyvind'), 1), (('Schubert, Zoe', 'Türkoğlu, Enes'), 1), (('Schubert, Zoe', 'Niebes, Kai Michael'), 1), (('Schubert, Zoe', 'Eide, Øyvind'), 1), (('Türkoğlu, Enes', 'Niebes, Kai Michael'), 1), (('Türkoğlu, Enes', 'Eide, Øyvind'), 1), (('Niebes, Kai Michael', 'Eide, Øyvind'), 1), (('Mertgens, Andreas', 'Türkoğlu, Enes'), 1), (('Mertgens, Andreas', 'Probst, Nora'), 1), (('Türkoğlu, Enes', 'Probst, Nora'), 1), (('Schrott, Maximilian', 'Reinert, Matthias'), 1), (('Schlicht, Helene', 'Jentsch, Patrick'), 1), (('Schlicht, Helene', 'Porada, Stephan'), 1), (('Jentsch, Patrick', 'Porada, Stephan'), 1), (('Fricke-Steyer, Henrike', 'Klaffki, Lisa'), 1), (('Rastinger, Nina Claudia', 'Resch, Claudia'), 1), (('Molitor, Paul', 'Necker, Gerold'), 1), (('Molitor, Paul', 'Pöckelmann, Marcus'), 1), (('Molitor, Paul', 'Rebiger, Bill'), 1), (('Molitor, Paul', 'Ritter, Jörg'), 1), (('Necker, Gerold', 'Pöckelmann, Marcus'), 1), (('Necker, Gerold', 'Rebiger, Bill'), 1), (('Necker, Gerold', 'Ritter, Jörg'), 1), (('Pöckelmann, Marcus', 'Rebiger, Bill'), 1), (('Pöckelmann, Marcus', 'Ritter, Jörg'), 1), (('Rebiger, Bill', 'Ritter, Jörg'), 1), (('Schmeer, Hendrik', 'Wissik, Tanja'), 1), (('Brüggemann, Viktoria', 'Bludau, Mark-Jan'), 1), (('Brüggemann, Viktoria', 'Dörk, Marian'), 1), (('Hiltmann, Torsten', 'Thiele, Sebastian'), 1), (('Hiltmann, Torsten', 'Risse, Benjamin'), 1), (('Thiele, Sebastian', 'Risse, Benjamin'), 1), (('Eggert, Lisa', 'Müller, Melissa'), 1), (('Lassner, David', 'Brandl, Stephanie'), 1), (('Lassner, David', 'Guy, Louisa'), 1), (('Lassner, David', 'Baillot, Anne'), 1), (('Brandl, Stephanie', 'Guy, Louisa'), 1), (('Brandl, Stephanie', 'Baillot, Anne'), 1), (('Guy, Louisa', 'Baillot, Anne'), 1), (('Schwandt, Silke', 'Baillot, Anne'), 1), (('Schwandt, Silke', 'Gervais, Ludovic'), 1), (('Schwandt, Silke', 'Braud, Camille'), 1), (('Schwandt, Silke', 'Thomas, Clement'), 1), (('Schwandt, Silke', 'Bonsergent, Lou-Ann'), 1), (('Schwandt, Silke', 'Strothotte, Adrian'), 1), (('Schwandt, Silke', 'Niewöhner, Laura Maria'), 1), (('Baillot, Anne', 'Gervais, Ludovic'), 1), (('Baillot, Anne', 'Braud, Camille'), 1), (('Baillot, Anne', 'Thomas, Clement'), 1), (('Baillot, Anne', 'Bonsergent, Lou-Ann'), 1), (('Baillot, Anne', 'Strothotte, Adrian'), 1), (('Baillot, Anne', 'Niewöhner, Laura Maria'), 1), (('Gervais, Ludovic', 'Braud, Camille'), 1), (('Gervais, Ludovic', 'Thomas, Clement'), 1), (('Gervais, Ludovic', 'Bonsergent, Lou-Ann'), 1), (('Gervais, Ludovic', 'Strothotte, Adrian'), 1), (('Gervais, Ludovic', 'Niewöhner, Laura Maria'), 1), (('Braud, Camille', 'Thomas, Clement'), 1), (('Braud, Camille', 'Bonsergent, Lou-Ann'), 1), (('Braud, Camille', 'Strothotte, Adrian'), 1), (('Braud, Camille', 'Niewöhner, Laura Maria'), 1), (('Thomas, Clement', 'Bonsergent, Lou-Ann'), 1), (('Thomas, Clement', 'Strothotte, Adrian'), 1), (('Thomas, Clement', 'Niewöhner, Laura Maria'), 1), (('Bonsergent, Lou-Ann', 'Strothotte, Adrian'), 1), (('Bonsergent, Lou-Ann', 'Niewöhner, Laura Maria'), 1), (('Strothotte, Adrian', 'Niewöhner, Laura Maria'), 1), (('Bell, Peter', 'Offert, Fabian'), 1), (('Horstmann, Jan', 'Fischer, Frank'), 1), (('Horstmann, Jan', 'Trilcke, Peer'), 1), (('Flüh, Marie', 'Schumacher, Mareike'), 1), (('Flüh, Marie', 'Fischer, Frank'), 1), (('Flüh, Marie', 'Trilcke, Peer'), 1), (('Flüh, Marie', 'Meister, Jan Christoph'), 1), (('Schumacher, Mareike', 'Fischer, Frank'), 1), (('Schumacher, Mareike', 'Trilcke, Peer'), 1), (('Schumacher, Mareike', 'Meister, Jan Christoph'), 1), (('Fischer, Frank', 'Meister, Jan Christoph'), 1), (('Trilcke, Peer', 'Meister, Jan Christoph'), 1), (('Steiner, Christian', 'Böhm, Astrid'), 1), (('Steiner, Christian', 'Raunig, Elisabeth'), 1), (('Steiner, Christian', 'Laurioux, Bruno'), 1), (('Steiner, Christian', 'Ardesi, Denise'), 1), (('Steiner, Christian', 'Poirier, Corentin'), 1), (('Klug, Helmut W.', 'Böhm, Astrid'), 1), (('Klug, Helmut W.', 'Raunig, Elisabeth'), 1), (('Klug, Helmut W.', 'Laurioux, Bruno'), 1), (('Klug, Helmut W.', 'Ardesi, Denise'), 1), (('Klug, Helmut W.', 'Poirier, Corentin'), 1), (('Böhm, Astrid', 'Raunig, Elisabeth'), 1), (('Böhm, Astrid', 'Laurioux, Bruno'), 1), (('Böhm, Astrid', 'Ardesi, Denise'), 1), (('Böhm, Astrid', 'Poirier, Corentin'), 1), (('Raunig, Elisabeth', 'Laurioux, Bruno'), 1), (('Raunig, Elisabeth', 'Ardesi, Denise'), 1), (('Raunig, Elisabeth', 'Poirier, Corentin'), 1), (('Laurioux, Bruno', 'Ardesi, Denise'), 1), (('Laurioux, Bruno', 'Poirier, Corentin'), 1), (('Ardesi, Denise', 'Poirier, Corentin'), 1), (('Kuhn, Jonas', 'Pichler, Axel'), 1), (('Kuhn, Jonas', 'Reiter, Nils'), 1), (('Pichler, Axel', 'Reiter, Nils'), 1), (('Pichler, Axel', 'Viehhauser, Gabriel'), 1), (('Reiter, Nils', 'Viehhauser, Gabriel'), 1), (('Tumanov, Rostislav', 'Viehhauser, Gabriel'), 1), (('Tumanov, Rostislav', 'Feldmann, Alina'), 1), (('Tumanov, Rostislav', 'Koller, Barbara'), 1), (('Viehhauser, Gabriel', 'Feldmann, Alina'), 1), (('Viehhauser, Gabriel', 'Koller, Barbara'), 1), (('Feldmann, Alina', 'Koller, Barbara'), 1), (('Busch, Hannah', 'Gengnagel, Tessa'), 1), (('Busch, Hannah', 'Schulz, Daniela'), 1), (('Gengnagel, Tessa', 'Schulz, Daniela'), 1), (('Brokering, Annalena', 'Guhr, Svenja'), 1), (('Scholger, Walter', 'Hannesschläger, Vanessa'), 1), (('Fuchs, Alexandra', 'Geiger, Bernhard'), 1), (('Fuchs, Alexandra', 'Hobisch, Elisabeth'), 1), (('Fuchs, Alexandra', 'Koncar, Philipp'), 1), (('Fuchs, Alexandra', 'More, Jacqueline'), 1), (('Fuchs, Alexandra', 'Saric, Sanja'), 1), (('Fuchs, Alexandra', 'Scholger, Martina'), 1), (('Geiger, Bernhard', 'Hobisch, Elisabeth'), 1), (('Geiger, Bernhard', 'Koncar, Philipp'), 1), (('Geiger, Bernhard', 'More, Jacqueline'), 1), (('Geiger, Bernhard', 'Saric, Sanja'), 1), (('Geiger, Bernhard', 'Scholger, Martina'), 1), (('Hobisch, Elisabeth', 'Koncar, Philipp'), 1), (('Hobisch, Elisabeth', 'More, Jacqueline'), 1), (('Hobisch, Elisabeth', 'Saric, Sanja'), 1), (('Hobisch, Elisabeth', 'Scholger, Martina'), 1), (('Koncar, Philipp', 'More, Jacqueline'), 1), (('Koncar, Philipp', 'Saric, Sanja'), 1), (('Koncar, Philipp', 'Scholger, Martina'), 1), (('More, Jacqueline', 'Saric, Sanja'), 1), (('More, Jacqueline', 'Scholger, Martina'), 1), (('Schmidt, Thomas', 'Bauer, Marlene'), 1), (('Schmidt, Thomas', 'Habler, Florian'), 1), (('Schmidt, Thomas', 'Heuberger, Hannes'), 1), (('Schmidt, Thomas', 'Pilsl, Florian'), 1), (('Schmidt, Thomas', 'Wolff, Christian'), 1), (('Bauer, Marlene', 'Habler, Florian'), 1), (('Bauer, Marlene', 'Heuberger, Hannes'), 1), (('Bauer, Marlene', 'Pilsl, Florian'), 1), (('Bauer, Marlene', 'Wolff, Christian'), 1), (('Habler, Florian', 'Heuberger, Hannes'), 1), (('Habler, Florian', 'Pilsl, Florian'), 1), (('Habler, Florian', 'Wolff, Christian'), 1), (('Heuberger, Hannes', 'Pilsl, Florian'), 1), (('Heuberger, Hannes', 'Wolff, Christian'), 1), (('Pilsl, Florian', 'Wolff, Christian'), 1), (('Pielström, Steffen', 'Maciej, Eder'), 1), (('Andresen, Melanie', 'Begerow, Anke'), 1), (('Andresen, Melanie', 'Franken, Lina'), 1), (('Andresen, Melanie', 'Gaidys, Uta'), 1), (('Andresen, Melanie', 'Koch, Gertraud'), 1), (('Andresen, Melanie', 'Zinsmeister, Heike'), 1), (('Begerow, Anke', 'Franken, Lina'), 1), (('Begerow, Anke', 'Gaidys, Uta'), 1), (('Begerow, Anke', 'Koch, Gertraud'), 1), (('Begerow, Anke', 'Zinsmeister, Heike'), 1), (('Franken, Lina', 'Gaidys, Uta'), 1), (('Franken, Lina', 'Koch, Gertraud'), 1), (('Franken, Lina', 'Zinsmeister, Heike'), 1), (('Gaidys, Uta', 'Koch, Gertraud'), 1), (('Gaidys, Uta', 'Zinsmeister, Heike'), 1), (('Koch, Gertraud', 'Zinsmeister, Heike'), 1), (('Donig, Simon', 'Maria, Christoforaki'), 1), (('Donig, Simon', 'Bernhard, Bermeitinger'), 1), (('Donig, Simon', 'Handschuh, Siegfried'), 1), (('Maria, Christoforaki', 'Bernhard, Bermeitinger'), 1), (('Maria, Christoforaki', 'Handschuh, Siegfried'), 1), (('Bernhard, Bermeitinger', 'Handschuh, Siegfried'), 1), (('Schneider, Gerlinde', 'Vasold, Gunter'), 1), (('Annisius, Marie', 'Burr, Elisabeth'), 1), (('Annisius, Marie', 'Fußbahn, Ulrike'), 1), (('Burr, Elisabeth', 'Fußbahn, Ulrike'), 1), (('Stadler, Peter', 'Bohl, Benjamin W.'), 1), (('Stadler, Peter', 'Viglianti, Raffaele'), 1), (('Bohl, Benjamin W.', 'Viglianti, Raffaele'), 1), (('Vogeler, Georg', 'Schlögl, Matthias'), 1), (('Vogeler, Georg', 'Vasold, Gunter'), 1), (('Schlögl, Matthias', 'Vasold, Gunter'), 1), (('Vera, Grund', 'Henner, Drewes'), 1), (('Albers, Laura', 'Große, Peggy'), 1), (('Resch, Claudia', 'Rastinger, Nina'), 1), (('De Luca, Ernesto William', 'Fallucchi, Francesca'), 1), (('De Luca, Ernesto William', 'Hertling, Anke'), 1), (('De Luca, Ernesto William', 'Klaes, Jan Sebastian'), 1), (('De Luca, Ernesto William', 'Schmitz, Claudia'), 1), (('De Luca, Ernesto William', 'Towara, Nadine'), 1), (('Fallucchi, Francesca', 'Hertling, Anke'), 1), (('Fallucchi, Francesca', 'Klaes, Jan Sebastian'), 1), (('Fallucchi, Francesca', 'Schmitz, Claudia'), 1), (('Fallucchi, Francesca', 'Towara, Nadine'), 1), (('Hertling, Anke', 'Klaes, Jan Sebastian'), 1), (('Hertling, Anke', 'Schmitz, Claudia'), 1), (('Hertling, Anke', 'Towara, Nadine'), 1), (('Klaes, Jan Sebastian', 'Schmitz, Claudia'), 1), (('Klaes, Jan Sebastian', 'Towara, Nadine'), 1), (('Schmitz, Claudia', 'Towara, Nadine'), 1), (('Pannach, Franziska', 'Krishnan, Aravind'), 1), (('Eschweiler, Mark', 'Evers, Anna-Maria'), 1), (('Eschweiler, Mark', 'Kruhl, Dominik'), 1), (('Eschweiler, Mark', 'Reuhl, Elisabeth'), 1), (('Eschweiler, Mark', 'Türkoğlu, Enes'), 1), (('Evers, Anna-Maria', 'Kruhl, Dominik'), 1), (('Evers, Anna-Maria', 'Reuhl, Elisabeth'), 1), (('Evers, Anna-Maria', 'Türkoğlu, Enes'), 1), (('Kruhl, Dominik', 'Reuhl, Elisabeth'), 1), (('Kruhl, Dominik', 'Türkoğlu, Enes'), 1), (('Reuhl, Elisabeth', 'Türkoğlu, Enes'), 1), (('Herrmann, J. Berenike', 'Messerli, Thomas'), 1), (('Duan, Tinghui', 'Buechel, Sven'), 1), (('Duan, Tinghui', 'Hahn, Udo'), 1), (('Buechel, Sven', 'Hahn, Udo'), 1), (('Geiger, Jonathan', 'Pfeiffer, Jasmin'), 1), (('Effinger, Maria', 'Sobriel, Nicole'), 1)], [(('Achmann, Michael', 'Wolff, Christian'), 2), (('Andresen, Melanie', 'Krautter, Benjamin'), 2), (('Andresen, Melanie', 'Pagel, Janis'), 2), (('Krautter, Benjamin', 'Pagel, Janis'), 2), (('Bludau, Mark-Jan', 'Dörk, Marian'), 2), (('Flüh, Marie', 'Schumacher, Mareike'), 2), (('Gerstorfer, Dominik', 'Meister, Malte'), 2), (('Busch, Anna', 'Trilcke, Peer'), 2), (('Dennerlein, Katrin', 'Wolff, Christian'), 2), (('Schmidt, Thomas', 'Wolff, Christian'), 2), (('Fischer-Nebmaier, Wladimir', 'Kurz, Stephan'), 2), (('Guhr, Svenja', 'Scholger, Walter'), 2), (('Guhr, Svenja', 'Reiter, Nils'), 2), (('Guhr, Svenja', 'Wuttke, Ulrike'), 2), (('Scholger, Walter', 'Wuttke, Ulrike'), 2), (('Burghardt, Manuel', 'Dieckmann, Lisa'), 2), (('Burghardt, Manuel', 'Reiter, Nils'), 2), (('Burghardt, Manuel', 'Wuttke, Ulrike'), 2), (('Dieckmann, Lisa', 'Reiter, Nils'), 2), (('Dieckmann, Lisa', 'Wuttke, Ulrike'), 2), (('Reiter, Nils', 'Wuttke, Ulrike'), 2), (('Baierer, Konstantin', 'Hinrichsen, Lena'), 2), (('Hinzmann, Maria', 'Schöch, Christof'), 2), (('Mayr, Eva', 'Windhager, Florian'), 2), (('Vauth, Michael', 'Gerstorfer, Dominik'), 2), (('Achmann, Michael', 'Hampel, Lisa'), 1), (('Achmann, Michael', 'Asabidi, Ruslan'), 1), (('Hampel, Lisa', 'Asabidi, Ruslan'), 1), (('Hampel, Lisa', 'Wolff, Christian'), 1), (('Asabidi, Ruslan', 'Wolff, Christian'), 1), (('Adamczak, Katarzyna', 'Štanzel, Arnošt'), 1), (('Ahmed, Sajawel', 'Rehman, Misbahur'), 1), (('Ahmed, Sajawel', 'Tischlik, Joshua'), 1), (('Ahmed, Sajawel', 'Kruse, Carl'), 1), (('Ahmed, Sajawel', 'Mahmutovic, Edin'), 1), (('Ahmed, Sajawel', 'Özsoy, Ömer'), 1), (('Rehman, Misbahur', 'Tischlik, Joshua'), 1), (('Rehman, Misbahur', 'Kruse, Carl'), 1), (('Rehman, Misbahur', 'Mahmutovic, Edin'), 1), (('Rehman, Misbahur', 'Özsoy, Ömer'), 1), (('Tischlik, Joshua', 'Kruse, Carl'), 1), (('Tischlik, Joshua', 'Mahmutovic, Edin'), 1), (('Tischlik, Joshua', 'Özsoy, Ömer'), 1), (('Kruse, Carl', 'Mahmutovic, Edin'), 1), (('Kruse, Carl', 'Özsoy, Ömer'), 1), (('Mahmutovic, Edin', 'Özsoy, Ömer'), 1), (('Andorfer, Peter', 'Schlögl, Matthias'), 1), (('Andorfer, Peter', 'Bleier, Roman'), 1), (('Schlögl, Matthias', 'Bleier, Roman'), 1), (('Andresen, Melanie', 'Reiter, Nils'), 1), (('Krautter, Benjamin', 'Reiter, Nils'), 1), (('Pagel, Janis', 'Reiter, Nils'), 1), (('Arnold, Frederik', 'Fiechter, Benjamin'), 1), (('Arnold, Matthias', 'Henke, Konstantin'), 1), (('Baglatzi, Alkyoni', 'Velissaropoulos, Georgios'), 1), (('Berg, Mia', 'Lorenz, Andrea'), 1), (('Bischoff, Eva', 'Schwarz, Anja'), 1), (('Bludau, Mark-Jan', 'Halling, Thorsten'), 1), (('Bludau, Mark-Jan', 'Holly, Eva Maria'), 1), (('Bludau, Mark-Jan', 'Wieloch, Jasmin'), 1), (('Bludau, Mark-Jan', 'Schnaitter, Hannes'), 1), (('Bludau, Mark-Jan', 'Balck, Sandra'), 1), (('Bludau, Mark-Jan', 'Plakidis, Melina'), 1), (('Bludau, Mark-Jan', 'Rehm, Georg'), 1), (('Bludau, Mark-Jan', 'Fangerau, Heiner'), 1), (('Halling, Thorsten', 'Holly, Eva Maria'), 1), (('Halling, Thorsten', 'Wieloch, Jasmin'), 1), (('Halling, Thorsten', 'Schnaitter, Hannes'), 1), (('Halling, Thorsten', 'Balck, Sandra'), 1), (('Halling, Thorsten', 'Plakidis, Melina'), 1), (('Halling, Thorsten', 'Rehm, Georg'), 1), (('Halling, Thorsten', 'Fangerau, Heiner'), 1), (('Halling, Thorsten', 'Dörk, Marian'), 1), (('Holly, Eva Maria', 'Wieloch, Jasmin'), 1), (('Holly, Eva Maria', 'Schnaitter, Hannes'), 1), (('Holly, Eva Maria', 'Balck, Sandra'), 1), (('Holly, Eva Maria', 'Plakidis, Melina'), 1), (('Holly, Eva Maria', 'Rehm, Georg'), 1), (('Holly, Eva Maria', 'Fangerau, Heiner'), 1), (('Holly, Eva Maria', 'Dörk, Marian'), 1), (('Wieloch, Jasmin', 'Schnaitter, Hannes'), 1), (('Wieloch, Jasmin', 'Balck, Sandra'), 1), (('Wieloch, Jasmin', 'Plakidis, Melina'), 1), (('Wieloch, Jasmin', 'Rehm, Georg'), 1), (('Wieloch, Jasmin', 'Fangerau, Heiner'), 1), (('Wieloch, Jasmin', 'Dörk, Marian'), 1), (('Schnaitter, Hannes', 'Balck, Sandra'), 1), (('Schnaitter, Hannes', 'Plakidis, Melina'), 1), (('Schnaitter, Hannes', 'Rehm, Georg'), 1), (('Schnaitter, Hannes', 'Fangerau, Heiner'), 1), (('Schnaitter, Hannes', 'Dörk, Marian'), 1), (('Balck, Sandra', 'Plakidis, Melina'), 1), (('Balck, Sandra', 'Rehm, Georg'), 1), (('Balck, Sandra', 'Fangerau, Heiner'), 1), (('Balck, Sandra', 'Dörk, Marian'), 1), (('Plakidis, Melina', 'Rehm, Georg'), 1), (('Plakidis, Melina', 'Fangerau, Heiner'), 1), (('Plakidis, Melina', 'Dörk, Marian'), 1), (('Rehm, Georg', 'Fangerau, Heiner'), 1), (('Rehm, Georg', 'Dörk, Marian'), 1), (('Fangerau, Heiner', 'Dörk, Marian'), 1), (('Bläß, Sandra', 'Flüh, Marie'), 1), (('Bläß, Sandra', 'Gerstorfer, Dominik'), 1), (('Bläß, Sandra', 'Gius, Evelyn'), 1), (('Bläß, Sandra', 'Meister, Malte'), 1), (('Bläß, Sandra', 'Nantke, Julia'), 1), (('Bläß, Sandra', 'Schumacher, Mareike'), 1), (('Flüh, Marie', 'Gerstorfer, Dominik'), 1), (('Flüh, Marie', 'Gius, Evelyn'), 1), (('Flüh, Marie', 'Meister, Malte'), 1), (('Flüh, Marie', 'Nantke, Julia'), 1), (('Gerstorfer, Dominik', 'Gius, Evelyn'), 1), (('Gerstorfer, Dominik', 'Nantke, Julia'), 1), (('Gerstorfer, Dominik', 'Schumacher, Mareike'), 1), (('Gius, Evelyn', 'Meister, Malte'), 1), (('Gius, Evelyn', 'Nantke, Julia'), 1), (('Gius, Evelyn', 'Schumacher, Mareike'), 1), (('Meister, Malte', 'Nantke, Julia'), 1), (('Meister, Malte', 'Schumacher, Mareike'), 1), (('Nantke, Julia', 'Schumacher, Mareike'), 1), (('Brandl, Stephanie', 'Lassner, David'), 1), (('Brandl, Stephanie', 'Krömer, Cora'), 1), (('Brandl, Stephanie', 'Baillot, Anne'), 1), (('Lassner, David', 'Krömer, Cora'), 1), (('Lassner, David', 'Baillot, Anne'), 1), (('Krömer, Cora', 'Baillot, Anne'), 1), (('Brüggemann, Viktoria', 'Bludau, Mark-Jan'), 1), (('Brüggemann, Viktoria', 'Pietsch, Christopher'), 1), (('Brüggemann, Viktoria', 'Dörk, Marian'), 1), (('Bludau, Mark-Jan', 'Pietsch, Christopher'), 1), (('Pietsch, Christopher', 'Dörk, Marian'), 1), (('Langer, Lars', 'Burghardt, Manuel'), 1), (('Langer, Lars', 'Borgards, Roland'), 1), (('Langer, Lars', 'Köhring, Esther'), 1), (('Langer, Lars', 'Wirth, Christian'), 1), (('Burghardt, Manuel', 'Borgards, Roland'), 1), (('Burghardt, Manuel', 'Köhring, Esther'), 1), (('Burghardt, Manuel', 'Wirth, Christian'), 1), (('Borgards, Roland', 'Köhring, Esther'), 1), (('Borgards, Roland', 'Wirth, Christian'), 1), (('Köhring, Esther', 'Wirth, Christian'), 1), (('Busch, Anna', 'Fetz, Bernhard'), 1), (('Busch, Anna', 'Lepper, Marcel'), 1), (('Busch, Anna', 'Wirtz Eybl, Irmgard'), 1), (('Busch, Anna', 'Richter, Sandra'), 1), (('Fetz, Bernhard', 'Lepper, Marcel'), 1), (('Fetz, Bernhard', 'Wirtz Eybl, Irmgard'), 1), (('Fetz, Bernhard', 'Richter, Sandra'), 1), (('Fetz, Bernhard', 'Trilcke, Peer'), 1), (('Lepper, Marcel', 'Wirtz Eybl, Irmgard'), 1), (('Lepper, Marcel', 'Richter, Sandra'), 1), (('Lepper, Marcel', 'Trilcke, Peer'), 1), (('Wirtz Eybl, Irmgard', 'Richter, Sandra'), 1), (('Wirtz Eybl, Irmgard', 'Trilcke, Peer'), 1), (('Richter, Sandra', 'Trilcke, Peer'), 1), (('Börner, Ingo', 'Fischer, Frank'), 1), (('Börner, Ingo', 'Milling, Carsten'), 1), (('Börner, Ingo', 'Sluyter-Gäthje, Henny'), 1), (('Fischer, Frank', 'Milling, Carsten'), 1), (('Fischer, Frank', 'Sluyter-Gäthje, Henny'), 1), (('Milling, Carsten', 'Sluyter-Gäthje, Henny'), 1), (('Bühler, Fabian', 'Barzen, Johanna'), 1), (('Bühler, Fabian', 'Leymann, Frank'), 1), (('Bühler, Fabian', 'Standl, Bernhard'), 1), (('Bühler, Fabian', 'Schlomske-Bodenstein, Nadine'), 1), (('Barzen, Johanna', 'Leymann, Frank'), 1), (('Barzen, Johanna', 'Standl, Bernhard'), 1), (('Barzen, Johanna', 'Schlomske-Bodenstein, Nadine'), 1), (('Leymann, Frank', 'Standl, Bernhard'), 1), (('Leymann, Frank', 'Schlomske-Bodenstein, Nadine'), 1), (('Standl, Bernhard', 'Schlomske-Bodenstein, Nadine'), 1), (('Börner, Ingo', 'Charvat, Vera Maria'), 1), (('Börner, Ingo', 'Ďurčo, Matej'), 1), (('Börner, Ingo', 'Mrugalski, Michał'), 1), (('Börner, Ingo', 'Odebrecht, Carolin'), 1), (('Charvat, Vera Maria', 'Ďurčo, Matej'), 1), (('Charvat, Vera Maria', 'Mrugalski, Michał'), 1), (('Charvat, Vera Maria', 'Odebrecht, Carolin'), 1), (('Ďurčo, Matej', 'Mrugalski, Michał'), 1), (('Ďurčo, Matej', 'Odebrecht, Carolin'), 1), (('Mrugalski, Michał', 'Odebrecht, Carolin'), 1), (('Dennerlein, Katrin', 'Schmidt, Thomas'), 1), (('de Günther, Sabine', 'Freyberg, Linda'), 1), (('Cremer, Fabian', 'Dogunke, Swantje'), 1), (('Cremer, Fabian', 'Neubert, Anna'), 1), (('Cremer, Fabian', 'Wübbena, Thorsten'), 1), (('Dogunke, Swantje', 'Neubert, Anna'), 1), (('Dogunke, Swantje', 'Wübbena, Thorsten'), 1), (('Neubert, Anna', 'Wübbena, Thorsten'), 1), (('Bigalke, Jan', 'Drach, Sviatoslav'), 1), (('Bigalke, Jan', 'Neuefeind, Claes'), 1), (('Drach, Sviatoslav', 'Neuefeind, Claes'), 1), (('Du, Keli', 'Dudar, Julia'), 1), (('Du, Keli', 'Rok, Cora'), 1), (('Du, Keli', 'Schöch, Christof'), 1), (('Dudar, Julia', 'Rok, Cora'), 1), (('Dudar, Julia', 'Schöch, Christof'), 1), (('Rok, Cora', 'Schöch, Christof'), 1), (('Ehrmann, Maud', 'Bunout, Estelle'), 1), (('Ehrmann, Maud', 'Clematide, Simon'), 1), (('Ehrmann, Maud', 'Düring, Marten'), 1), (('Ehrmann, Maud', 'Fickers, Andreas'), 1), (('Ehrmann, Maud', 'Guido, Daniele'), 1), (('Ehrmann, Maud', 'Kalyakin, Roman'), 1), (('Ehrmann, Maud', 'Kaplan, Frederic'), 1), (('Ehrmann, Maud', 'Romanello, Matteo'), 1), (('Ehrmann, Maud', 'Schroeder, Paul'), 1), (('Ehrmann, Maud', 'Ströbel, Philip'), 1), (('Ehrmann, Maud', 'van Beek, Thijs'), 1), (('Ehrmann, Maud', 'Volk, Martin'), 1), (('Ehrmann, Maud', 'Wieneke, Lars'), 1), (('Bunout, Estelle', 'Clematide, Simon'), 1), (('Bunout, Estelle', 'Düring, Marten'), 1), (('Bunout, Estelle', 'Fickers, Andreas'), 1), (('Bunout, Estelle', 'Guido, Daniele'), 1), (('Bunout, Estelle', 'Kalyakin, Roman'), 1), (('Bunout, Estelle', 'Kaplan, Frederic'), 1), (('Bunout, Estelle', 'Romanello, Matteo'), 1), (('Bunout, Estelle', 'Schroeder, Paul'), 1), (('Bunout, Estelle', 'Ströbel, Philip'), 1), (('Bunout, Estelle', 'van Beek, Thijs'), 1), (('Bunout, Estelle', 'Volk, Martin'), 1), (('Bunout, Estelle', 'Wieneke, Lars'), 1), (('Clematide, Simon', 'Düring, Marten'), 1), (('Clematide, Simon', 'Fickers, Andreas'), 1), (('Clematide, Simon', 'Guido, Daniele'), 1), (('Clematide, Simon', 'Kalyakin, Roman'), 1), (('Clematide, Simon', 'Kaplan, Frederic'), 1), (('Clematide, Simon', 'Romanello, Matteo'), 1), (('Clematide, Simon', 'Schroeder, Paul'), 1), (('Clematide, Simon', 'Ströbel, Philip'), 1), (('Clematide, Simon', 'van Beek, Thijs'), 1), (('Clematide, Simon', 'Volk, Martin'), 1), (('Clematide, Simon', 'Wieneke, Lars'), 1), (('Düring, Marten', 'Fickers, Andreas'), 1), (('Düring, Marten', 'Guido, Daniele'), 1), (('Düring, Marten', 'Kalyakin, Roman'), 1), (('Düring, Marten', 'Kaplan, Frederic'), 1), (('Düring, Marten', 'Romanello, Matteo'), 1), (('Düring, Marten', 'Schroeder, Paul'), 1), (('Düring, Marten', 'Ströbel, Philip'), 1), (('Düring, Marten', 'van Beek, Thijs'), 1), (('Düring, Marten', 'Volk, Martin'), 1), (('Düring, Marten', 'Wieneke, Lars'), 1), (('Fickers, Andreas', 'Guido, Daniele'), 1), (('Fickers, Andreas', 'Kalyakin, Roman'), 1), (('Fickers, Andreas', 'Kaplan, Frederic'), 1), (('Fickers, Andreas', 'Romanello, Matteo'), 1), (('Fickers, Andreas', 'Schroeder, Paul'), 1), (('Fickers, Andreas', 'Ströbel, Philip'), 1), (('Fickers, Andreas', 'van Beek, Thijs'), 1), (('Fickers, Andreas', 'Volk, Martin'), 1), (('Fickers, Andreas', 'Wieneke, Lars'), 1), (('Guido, Daniele', 'Kalyakin, Roman'), 1), (('Guido, Daniele', 'Kaplan, Frederic'), 1), (('Guido, Daniele', 'Romanello, Matteo'), 1), (('Guido, Daniele', 'Schroeder, Paul'), 1), (('Guido, Daniele', 'Ströbel, Philip'), 1), (('Guido, Daniele', 'van Beek, Thijs'), 1), (('Guido, Daniele', 'Volk, Martin'), 1), (('Guido, Daniele', 'Wieneke, Lars'), 1), (('Kalyakin, Roman', 'Kaplan, Frederic'), 1), (('Kalyakin, Roman', 'Romanello, Matteo'), 1), (('Kalyakin, Roman', 'Schroeder, Paul'), 1), (('Kalyakin, Roman', 'Ströbel, Philip'), 1), (('Kalyakin, Roman', 'van Beek, Thijs'), 1), (('Kalyakin, Roman', 'Volk, Martin'), 1), (('Kalyakin, Roman', 'Wieneke, Lars'), 1), (('Kaplan, Frederic', 'Romanello, Matteo'), 1), (('Kaplan, Frederic', 'Schroeder, Paul'), 1), (('Kaplan, Frederic', 'Ströbel, Philip'), 1), (('Kaplan, Frederic', 'van Beek, Thijs'), 1), (('Kaplan, Frederic', 'Volk, Martin'), 1), (('Kaplan, Frederic', 'Wieneke, Lars'), 1), (('Romanello, Matteo', 'Schroeder, Paul'), 1), (('Romanello, Matteo', 'Ströbel, Philip'), 1), (('Romanello, Matteo', 'van Beek, Thijs'), 1), (('Romanello, Matteo', 'Volk, Martin'), 1), (('Romanello, Matteo', 'Wieneke, Lars'), 1), (('Schroeder, Paul', 'Ströbel, Philip'), 1), (('Schroeder, Paul', 'van Beek, Thijs'), 1), (('Schroeder, Paul', 'Volk, Martin'), 1), (('Schroeder, Paul', 'Wieneke, Lars'), 1), (('Ströbel, Philip', 'van Beek, Thijs'), 1), (('Ströbel, Philip', 'Volk, Martin'), 1), (('Ströbel, Philip', 'Wieneke, Lars'), 1), (('van Beek, Thijs', 'Volk, Martin'), 1), (('van Beek, Thijs', 'Wieneke, Lars'), 1), (('Volk, Martin', 'Wieneke, Lars'), 1), (('Elwert, Frederik', 'Pons, Jessie'), 1), (('Zarei, Alireza', 'Seung-Bin, Yim'), 1), (('Zarei, Alireza', 'Ďurčo, Matej'), 1), (('Zarei, Alireza', 'Illmayer, Klaus'), 1), (('Zarei, Alireza', 'Barbot, Laure'), 1), (('Zarei, Alireza', 'Fischer, Frank'), 1), (('Zarei, Alireza', 'Gray, Edward'), 1), (('Seung-Bin, Yim', 'Ďurčo, Matej'), 1), (('Seung-Bin, Yim', 'Illmayer, Klaus'), 1), (('Seung-Bin, Yim', 'Barbot, Laure'), 1), (('Seung-Bin, Yim', 'Fischer, Frank'), 1), (('Seung-Bin, Yim', 'Gray, Edward'), 1), (('Ďurčo, Matej', 'Illmayer, Klaus'), 1), (('Ďurčo, Matej', 'Barbot, Laure'), 1), (('Ďurčo, Matej', 'Fischer, Frank'), 1), (('Ďurčo, Matej', 'Gray, Edward'), 1), (('Illmayer, Klaus', 'Barbot, Laure'), 1), (('Illmayer, Klaus', 'Fischer, Frank'), 1), (('Illmayer, Klaus', 'Gray, Edward'), 1), (('Barbot, Laure', 'Fischer, Frank'), 1), (('Barbot, Laure', 'Gray, Edward'), 1), (('Fischer, Frank', 'Gray, Edward'), 1), (('Çakir, Dîlan Canan', 'Fischer, Frank'), 1), (('Fischer-Nebmaier, Wladimir', 'Lein, Richard'), 1), (('Kurz, Stephan', 'Lein, Richard'), 1), (('Gerstenberg, Annette', 'Leh, Almut'), 1), (('Gerstenberg, Annette', 'Möbus, Dennis'), 1), (('Gerstenberg, Annette', 'Pagenstecher, Cord'), 1), (('Leh, Almut', 'Möbus, Dennis'), 1), (('Leh, Almut', 'Pagenstecher, Cord'), 1), (('Möbus, Dennis', 'Pagenstecher, Cord'), 1), (('Dumont, Stefan', 'Grabsch, Sascha'), 1), (('Dumont, Stefan', 'Müller-Laackman, Jonas'), 1), (('Grabsch, Sascha', 'Müller-Laackman, Jonas'), 1), (('Werthmann, Antonina', 'Gradl, Tobias'), 1), (('Guhr, Svenja', 'Steyer, Timo'), 1), (('Guhr, Svenja', 'Burghardt, Manuel'), 1), (('Guhr, Svenja', 'Dieckmann, Lisa'), 1), (('Steyer, Timo', 'Scholger, Walter'), 1), (('Steyer, Timo', 'Burghardt, Manuel'), 1), (('Steyer, Timo', 'Dieckmann, Lisa'), 1), (('Steyer, Timo', 'Reiter, Nils'), 1), (('Steyer, Timo', 'Wuttke, Ulrike'), 1), (('Scholger, Walter', 'Burghardt, Manuel'), 1), (('Scholger, Walter', 'Dieckmann, Lisa'), 1), (('Scholger, Walter', 'Reiter, Nils'), 1), (('Göggelmann, Michael', 'Heiniger, Anna Katharina'), 1), (('Göggelmann, Michael', 'Reiter, Nils'), 1), (('Göggelmann, Michael', 'Zirker, Angelika'), 1), (('Heiniger, Anna Katharina', 'Reiter, Nils'), 1), (('Heiniger, Anna Katharina', 'Zirker, Angelika'), 1), (('Reiter, Nils', 'Zirker, Angelika'), 1), (('Dziudzia, Corinna', 'Hall, Mark'), 1), (('Heckelen, Malte', 'Schlesinger, Claus-Michael'), 1), (('Heckelen, Malte', 'Burkhard, Fabienne'), 1), (('Schlesinger, Claus-Michael', 'Burkhard, Fabienne'), 1), (('Krewet, Michael', 'Ernst, Felix'), 1), (('Krewet, Michael', 'Götzelmann, Germaine'), 1), (('Krewet, Michael', 'Hegel, Philipp'), 1), (('Krewet, Michael', 'Schenk, Torsten'), 1), (('Krewet, Michael', 'Söring, Sibylle'), 1), (('Krewet, Michael', 'Tonne, Danah'), 1), (('Ernst, Felix', 'Götzelmann, Germaine'), 1), (('Ernst, Felix', 'Hegel, Philipp'), 1), (('Ernst, Felix', 'Schenk, Torsten'), 1), (('Ernst, Felix', 'Söring, Sibylle'), 1), (('Ernst, Felix', 'Tonne, Danah'), 1), (('Götzelmann, Germaine', 'Hegel, Philipp'), 1), (('Götzelmann, Germaine', 'Schenk, Torsten'), 1), (('Götzelmann, Germaine', 'Söring, Sibylle'), 1), (('Götzelmann, Germaine', 'Tonne, Danah'), 1), (('Hegel, Philipp', 'Schenk, Torsten'), 1), (('Hegel, Philipp', 'Söring, Sibylle'), 1), (('Hegel, Philipp', 'Tonne, Danah'), 1), (('Schenk, Torsten', 'Söring, Sibylle'), 1), (('Schenk, Torsten', 'Tonne, Danah'), 1), (('Söring, Sibylle', 'Tonne, Danah'), 1), (('Borges, Rebekka', 'Debbeler, Anke'), 1), (('Borges, Rebekka', 'Helling, Patrick'), 1), (('Debbeler, Anke', 'Helling, Patrick'), 1), (('Rau, Felix', 'Helling, Patrick'), 1), (('Helling, Patrick', 'Jung, Kerstin'), 1), (('Helling, Patrick', 'Pielström, Steffen'), 1), (('Jung, Kerstin', 'Pielström, Steffen'), 1), (('Henny-Krahmer, Ulrike', 'Stadler, Peter'), 1), (('Herrmann, J. Berenike', 'Grisot, Giulia'), 1), (('Blessing, André', 'Hess, Jan'), 1), (('Blessing, André', 'Jung, Kerstin'), 1), (('Hess, Jan', 'Jung, Kerstin'), 1), (('Baierer, Konstantin', 'Boenig, Matthias'), 1), (('Baierer, Konstantin', 'Engl, Elisabeth'), 1), (('Baierer, Konstantin', 'Geestmann, Mareen'), 1), (('Baierer, Konstantin', 'Neudecker, Clemens'), 1), (('Baierer, Konstantin', 'Pestov, Paul'), 1), (('Baierer, Konstantin', 'Weidling, Michelle'), 1), (('Boenig, Matthias', 'Engl, Elisabeth'), 1), (('Boenig, Matthias', 'Geestmann, Mareen'), 1), (('Boenig, Matthias', 'Hinrichsen, Lena'), 1), (('Boenig, Matthias', 'Neudecker, Clemens'), 1), (('Boenig, Matthias', 'Pestov, Paul'), 1), (('Boenig, Matthias', 'Weidling, Michelle'), 1), (('Engl, Elisabeth', 'Geestmann, Mareen'), 1), (('Engl, Elisabeth', 'Hinrichsen, Lena'), 1), (('Engl, Elisabeth', 'Neudecker, Clemens'), 1), (('Engl, Elisabeth', 'Pestov, Paul'), 1), (('Engl, Elisabeth', 'Weidling, Michelle'), 1), (('Geestmann, Mareen', 'Hinrichsen, Lena'), 1), (('Geestmann, Mareen', 'Neudecker, Clemens'), 1), (('Geestmann, Mareen', 'Pestov, Paul'), 1), (('Geestmann, Mareen', 'Weidling, Michelle'), 1), (('Hinrichsen, Lena', 'Neudecker, Clemens'), 1), (('Hinrichsen, Lena', 'Pestov, Paul'), 1), (('Hinrichsen, Lena', 'Weidling, Michelle'), 1), (('Neudecker, Clemens', 'Pestov, Paul'), 1), (('Neudecker, Clemens', 'Weidling, Michelle'), 1), (('Pestov, Paul', 'Weidling, Michelle'), 1), (('Hinzmann, Maria', 'Dietz, Katharina'), 1), (('Hinzmann, Maria', 'Klee, Anne'), 1), (('Hinzmann, Maria', 'Erler-Fridgen, Katharina'), 1), (('Hinzmann, Maria', 'Röttgermann, Julia'), 1), (('Hinzmann, Maria', 'Steffes, Moritz'), 1), (('Schöch, Christof', 'Dietz, Katharina'), 1), (('Schöch, Christof', 'Klee, Anne'), 1), (('Schöch, Christof', 'Erler-Fridgen, Katharina'), 1), (('Schöch, Christof', 'Röttgermann, Julia'), 1), (('Schöch, Christof', 'Steffes, Moritz'), 1), (('Dietz, Katharina', 'Klee, Anne'), 1), (('Dietz, Katharina', 'Erler-Fridgen, Katharina'), 1), (('Dietz, Katharina', 'Röttgermann, Julia'), 1), (('Dietz, Katharina', 'Steffes, Moritz'), 1), (('Klee, Anne', 'Erler-Fridgen, Katharina'), 1), (('Klee, Anne', 'Röttgermann, Julia'), 1), (('Klee, Anne', 'Steffes, Moritz'), 1), (('Erler-Fridgen, Katharina', 'Röttgermann, Julia'), 1), (('Erler-Fridgen, Katharina', 'Steffes, Moritz'), 1), (('Röttgermann, Julia', 'Steffes, Moritz'), 1), (('Alschner, Stefan', 'Baumgarten, Marcus'), 1), (('Alschner, Stefan', 'Horstmann, Jan'), 1), (('Alschner, Stefan', 'Müller, Christiane'), 1), (('Alschner, Stefan', 'Nantke, Julia'), 1), (('Alschner, Stefan', 'Weis, Joëlle'), 1), (('Alschner, Stefan', 'Wübbena, Thorsten'), 1), (('Baumgarten, Marcus', 'Horstmann, Jan'), 1), (('Baumgarten, Marcus', 'Müller, Christiane'), 1), (('Baumgarten, Marcus', 'Nantke, Julia'), 1), (('Baumgarten, Marcus', 'Weis, Joëlle'), 1), (('Baumgarten, Marcus', 'Wübbena, Thorsten'), 1), (('Horstmann, Jan', 'Müller, Christiane'), 1), (('Horstmann, Jan', 'Nantke, Julia'), 1), (('Horstmann, Jan', 'Weis, Joëlle'), 1), (('Horstmann, Jan', 'Wübbena, Thorsten'), 1), (('Müller, Christiane', 'Nantke, Julia'), 1), (('Müller, Christiane', 'Weis, Joëlle'), 1), (('Müller, Christiane', 'Wübbena, Thorsten'), 1), (('Nantke, Julia', 'Weis, Joëlle'), 1), (('Nantke, Julia', 'Wübbena, Thorsten'), 1), (('Weis, Joëlle', 'Wübbena, Thorsten'), 1), (('Bateman, John', 'Diecke, Josephine'), 1), (('Bateman, John', 'Ewerth, Ralph'), 1), (('Bateman, John', 'Heftberger, Adelheid'), 1), (('Bateman, John', 'Howanitz, Gernot'), 1), (('Bateman, John', 'Spiegel, Simon'), 1), (('Bateman, John', 'Loertscher, Miriam'), 1), (('Diecke, Josephine', 'Ewerth, Ralph'), 1), (('Diecke, Josephine', 'Heftberger, Adelheid'), 1), (('Diecke, Josephine', 'Howanitz, Gernot'), 1), (('Diecke, Josephine', 'Spiegel, Simon'), 1), (('Diecke, Josephine', 'Loertscher, Miriam'), 1), (('Ewerth, Ralph', 'Heftberger, Adelheid'), 1), (('Ewerth, Ralph', 'Howanitz, Gernot'), 1), (('Ewerth, Ralph', 'Spiegel, Simon'), 1), (('Ewerth, Ralph', 'Loertscher, Miriam'), 1), (('Heftberger, Adelheid', 'Howanitz, Gernot'), 1), (('Heftberger, Adelheid', 'Spiegel, Simon'), 1), (('Heftberger, Adelheid', 'Loertscher, Miriam'), 1), (('Howanitz, Gernot', 'Spiegel, Simon'), 1), (('Howanitz, Gernot', 'Loertscher, Miriam'), 1), (('Spiegel, Simon', 'Loertscher, Miriam'), 1), (('Illmayer, Klaus', 'Tiefenbacher, Sara'), 1), (('Illmayer, Klaus', 'Voß, Franziska'), 1), (('Illmayer, Klaus', 'Beck, Julia'), 1), (('Illmayer, Klaus', 'Henninger, Christine'), 1), (('Illmayer, Klaus', 'Wittenbecher, Maxim'), 1), (('Tiefenbacher, Sara', 'Voß, Franziska'), 1), (('Tiefenbacher, Sara', 'Beck, Julia'), 1), (('Tiefenbacher, Sara', 'Henninger, Christine'), 1), (('Tiefenbacher, Sara', 'Wittenbecher, Maxim'), 1), (('Voß, Franziska', 'Beck, Julia'), 1), (('Voß, Franziska', 'Henninger, Christine'), 1), (('Voß, Franziska', 'Wittenbecher, Maxim'), 1), (('Beck, Julia', 'Henninger, Christine'), 1), (('Beck, Julia', 'Wittenbecher, Maxim'), 1), (('Henninger, Christine', 'Wittenbecher, Maxim'), 1), (('Jander, Melina', 'Weimer, Lukas'), 1), (('Henny-Krahmer, Ulrike', 'Jettka, Daniel'), 1), (('Keck, Jana', 'Blessing, Andre'), 1), (('Kienbaum, Janna', 'Kreiseler, Sarah'), 1), (('Kienbaum, Janna', 'Heidmann, Frank'), 1), (('Kreiseler, Sarah', 'Heidmann, Frank'), 1), (('Kindler, Sebastian', 'Wolf, Katrin'), 1), (('Klaes, Jan Sebastian', 'Korwisi, Kristof'), 1), (('Klaes, Jan Sebastian', 'Krüger, Katharina'), 1), (('Klaes, Jan Sebastian', 'Reul, Christian'), 1), (('Klaes, Jan Sebastian', 'Towara, Nadine'), 1), (('Korwisi, Kristof', 'Krüger, Katharina'), 1), (('Korwisi, Kristof', 'Reul, Christian'), 1), (('Korwisi, Kristof', 'Towara, Nadine'), 1), (('Krüger, Katharina', 'Reul, Christian'), 1), (('Krüger, Katharina', 'Towara, Nadine'), 1), (('Reul, Christian', 'Towara, Nadine'), 1), (('Wierzoch, Jan', 'Klappenbach, Lou'), 1), (('Kelm, Holden', 'Klappenbach, Lou'), 1), (('Knecht, David', 'Beretta, Francesco'), 1), (('Knecht, David', 'Hotz, Gerhard'), 1), (('Beretta, Francesco', 'Hotz, Gerhard'), 1), (('Knierim, Aenne', 'Achmann, Michael'), 1), (('Knierim, Aenne', 'Wolff, Christian'), 1), (('Kröncke, Merten', 'Konle, Leonard'), 1), (('Kröncke, Merten', 'Jannidis, Fotis'), 1), (('Kröncke, Merten', 'Winko, Simone'), 1), (('Konle, Leonard', 'Jannidis, Fotis'), 1), (('Konle, Leonard', 'Winko, Simone'), 1), (('Jannidis, Fotis', 'Winko, Simone'), 1), (('Lange, Felix', 'Kuper, Heinz-Günter'), 1), (('Lange, Felix', 'Müller, Anja'), 1), (('Lange, Felix', 'Amrhein, Kilian'), 1), (('Lange, Felix', 'Klindt, Marco'), 1), (('Lange, Felix', 'Nowicki, Anna-Lena'), 1), (('Kuper, Heinz-Günter', 'Müller, Anja'), 1), (('Kuper, Heinz-Günter', 'Amrhein, Kilian'), 1), (('Kuper, Heinz-Günter', 'Klindt, Marco'), 1), (('Kuper, Heinz-Günter', 'Nowicki, Anna-Lena'), 1), (('Müller, Anja', 'Amrhein, Kilian'), 1), (('Müller, Anja', 'Klindt, Marco'), 1), (('Müller, Anja', 'Nowicki, Anna-Lena'), 1), (('Amrhein, Kilian', 'Klindt, Marco'), 1), (('Amrhein, Kilian', 'Nowicki, Anna-Lena'), 1), (('Klindt, Marco', 'Nowicki, Anna-Lena'), 1), (('Arndt, Nadine', 'Baddack, Cornelia'), 1), (('Arndt, Nadine', 'Fischer-Nebmaier, Wladimir'), 1), (('Arndt, Nadine', 'Gleixner, Sebastian'), 1), (('Arndt, Nadine', 'von Hindenburg, Barbara'), 1), (('Arndt, Nadine', 'Jüngerkes, Sven'), 1), (('Arndt, Nadine', 'Kurz, Stephan'), 1), (('Arndt, Nadine', 'Schrott, Maximilian'), 1), (('Baddack, Cornelia', 'Fischer-Nebmaier, Wladimir'), 1), (('Baddack, Cornelia', 'Gleixner, Sebastian'), 1), (('Baddack, Cornelia', 'von Hindenburg, Barbara'), 1), (('Baddack, Cornelia', 'Jüngerkes, Sven'), 1), (('Baddack, Cornelia', 'Kurz, Stephan'), 1), (('Baddack, Cornelia', 'Schrott, Maximilian'), 1), (('Fischer-Nebmaier, Wladimir', 'Gleixner, Sebastian'), 1), (('Fischer-Nebmaier, Wladimir', 'von Hindenburg, Barbara'), 1), (('Fischer-Nebmaier, Wladimir', 'Jüngerkes, Sven'), 1), (('Fischer-Nebmaier, Wladimir', 'Schrott, Maximilian'), 1), (('Gleixner, Sebastian', 'von Hindenburg, Barbara'), 1), (('Gleixner, Sebastian', 'Jüngerkes, Sven'), 1), (('Gleixner, Sebastian', 'Kurz, Stephan'), 1), (('Gleixner, Sebastian', 'Schrott, Maximilian'), 1), (('von Hindenburg, Barbara', 'Jüngerkes, Sven'), 1), (('von Hindenburg, Barbara', 'Kurz, Stephan'), 1), (('von Hindenburg, Barbara', 'Schrott, Maximilian'), 1), (('Jüngerkes, Sven', 'Kurz, Stephan'), 1), (('Jüngerkes, Sven', 'Schrott, Maximilian'), 1), (('Kurz, Stephan', 'Schrott, Maximilian'), 1), (('Köster, Jan', 'Franke, Claus'), 1), (('Köster, Jan', 'Peter, Ulrike'), 1), (('Franke, Claus', 'Peter, Ulrike'), 1), (('Langhanki, Florian', 'Wehner, Maximilian'), 1), (('Langhanki, Florian', 'Baierer, Konstantin'), 1), (('Langhanki, Florian', 'Hinrichsen, Lena'), 1), (('Langhanki, Florian', 'Reul, Christian'), 1), (('Wehner, Maximilian', 'Baierer, Konstantin'), 1), (('Wehner, Maximilian', 'Hinrichsen, Lena'), 1), (('Wehner, Maximilian', 'Reul, Christian'), 1), (('Baierer, Konstantin', 'Reul, Christian'), 1), (('Hinrichsen, Lena', 'Reul, Christian'), 1), (('Laubrock, Jochen', 'Tseng, Chiao-I'), 1), (('Busch, Anna', 'Cremer, Fabian'), 1), (('Busch, Anna', 'Lordick, Harald'), 1), (('Busch, Anna', 'Mischke, Dennis'), 1), (('Busch, Anna', 'Steyer, Timo'), 1), (('Cremer, Fabian', 'Lordick, Harald'), 1), (('Cremer, Fabian', 'Mischke, Dennis'), 1), (('Cremer, Fabian', 'Steyer, Timo'), 1), (('Lordick, Harald', 'Mischke, Dennis'), 1), (('Lordick, Harald', 'Steyer, Timo'), 1), (('Mischke, Dennis', 'Steyer, Timo'), 1), (('Mayr, Eva', 'Liem, Johannes'), 1), (('Mayr, Eva', 'High-Steskal, Nicole'), 1), (('Mayr, Eva', 'Grebe, Anja'), 1), (('Liem, Johannes', 'High-Steskal, Nicole'), 1), (('Liem, Johannes', 'Grebe, Anja'), 1), (('Liem, Johannes', 'Windhager, Florian'), 1), (('High-Steskal, Nicole', 'Grebe, Anja'), 1), (('High-Steskal, Nicole', 'Windhager, Florian'), 1), (('Grebe, Anja', 'Windhager, Florian'), 1), (('Meding, Holle Ameriga', 'Contreras Saiz, Mónika'), 1), (('Meding, Holle Ameriga', 'Muessemann, Hannah'), 1), (('Contreras Saiz, Mónika', 'Muessemann, Hannah'), 1), (('Meier-Vieracker, Simon', 'Kreuzmair, Elias'), 1), (('Meister, Malte', 'Vauth, Michael'), 1), (('Meister, Malte', 'Gerstorfer, Dominik'), 1), (('Mischke, Dennis', 'Trilcke, Peer'), 1), (('Mischke, Dennis', 'Sluyter-Gäthje, Henny'), 1), (('Trilcke, Peer', 'Sluyter-Gäthje, Henny'), 1), (('Moeller, Katrin', 'Goldberg, Jan Michael'), 1), (('Moeller, Katrin', 'Söring, Sibylle'), 1), (('Moeller, Katrin', 'Imeri, Sabine'), 1), (('Moeller, Katrin', 'Lemaire, Marina'), 1), (('Moeller, Katrin', 'Reichert, Nils'), 1), (('Söring, Sibylle', 'Imeri, Sabine'), 1), (('Söring, Sibylle', 'Lemaire, Marina'), 1), (('Söring, Sibylle', 'Reichert, Nils'), 1), (('Imeri, Sabine', 'Lemaire, Marina'), 1), (('Imeri, Sabine', 'Reichert, Nils'), 1), (('Lemaire, Marina', 'Reichert, Nils'), 1), (('Mollenhauer, Elisabeth', 'Rau, Felix'), 1), (('Muenster, Sander', 'Bruschke, Jonas'), 1), (('Muenster, Sander', 'Kroeber, Cindy'), 1), (('Muenster, Sander', 'Hoppe, Stephan'), 1), (('Muenster, Sander', 'Maiwald, Ferdinand'), 1), (('Muenster, Sander', 'Niebling, Florian'), 1), (('Muenster, Sander', 'Pattee, Aaron'), 1), (('Muenster, Sander', 'Utescher, Ronja'), 1), (('Muenster, Sander', 'Zarriess, Sina'), 1), (('Bruschke, Jonas', 'Kroeber, Cindy'), 1), (('Bruschke, Jonas', 'Hoppe, Stephan'), 1), (('Bruschke, Jonas', 'Maiwald, Ferdinand'), 1), (('Bruschke, Jonas', 'Niebling, Florian'), 1), (('Bruschke, Jonas', 'Pattee, Aaron'), 1), (('Bruschke, Jonas', 'Utescher, Ronja'), 1), (('Bruschke, Jonas', 'Zarriess, Sina'), 1), (('Kroeber, Cindy', 'Hoppe, Stephan'), 1), (('Kroeber, Cindy', 'Maiwald, Ferdinand'), 1), (('Kroeber, Cindy', 'Niebling, Florian'), 1), (('Kroeber, Cindy', 'Pattee, Aaron'), 1), (('Kroeber, Cindy', 'Utescher, Ronja'), 1), (('Kroeber, Cindy', 'Zarriess, Sina'), 1), (('Hoppe, Stephan', 'Maiwald, Ferdinand'), 1), (('Hoppe, Stephan', 'Niebling, Florian'), 1), (('Hoppe, Stephan', 'Pattee, Aaron'), 1), (('Hoppe, Stephan', 'Utescher, Ronja'), 1), (('Hoppe, Stephan', 'Zarriess, Sina'), 1), (('Maiwald, Ferdinand', 'Niebling, Florian'), 1), (('Maiwald, Ferdinand', 'Pattee, Aaron'), 1), (('Maiwald, Ferdinand', 'Utescher, Ronja'), 1), (('Maiwald, Ferdinand', 'Zarriess, Sina'), 1), (('Niebling, Florian', 'Pattee, Aaron'), 1), (('Niebling, Florian', 'Utescher, Ronja'), 1), (('Niebling, Florian', 'Zarriess, Sina'), 1), (('Pattee, Aaron', 'Utescher, Ronja'), 1), (('Pattee, Aaron', 'Zarriess, Sina'), 1), (('Utescher, Ronja', 'Zarriess, Sina'), 1), (('Nantke, Julia', 'Bläß, Sandra'), 1), (('Nantke, Julia', 'Flueh, Marie'), 1), (('Nantke, Julia', 'Maus, David'), 1), (('Bläß, Sandra', 'Flueh, Marie'), 1), (('Bläß, Sandra', 'Maus, David'), 1), (('Flueh, Marie', 'Maus, David'), 1), (('Czmiel, Alexander', 'Neuber, Frederike'), 1), (('Neuefeind, Claes', 'Mondaca, Francisco'), 1), (('Neuefeind, Claes', 'Eide, Øyvind'), 1), (('Neuefeind, Claes', 'Colditz, Iris'), 1), (('Neuefeind, Claes', 'Jügel, Thomas'), 1), (('Neuefeind, Claes', 'Rezania, Kianoosh'), 1), (('Neuefeind, Claes', 'Zeini, Arash'), 1), (('Neuefeind, Claes', 'Cantera, Alberto'), 1), (('Neuefeind, Claes', 'Emanuel, Chagai'), 1), (('Neuefeind, Claes', 'Shaked, Shaul'), 1), (('Mondaca, Francisco', 'Eide, Øyvind'), 1), (('Mondaca, Francisco', 'Colditz, Iris'), 1), (('Mondaca, Francisco', 'Jügel, Thomas'), 1), (('Mondaca, Francisco', 'Rezania, Kianoosh'), 1), (('Mondaca, Francisco', 'Zeini, Arash'), 1), (('Mondaca, Francisco', 'Cantera, Alberto'), 1), (('Mondaca, Francisco', 'Emanuel, Chagai'), 1), (('Mondaca, Francisco', 'Shaked, Shaul'), 1), (('Eide, Øyvind', 'Colditz, Iris'), 1), (('Eide, Øyvind', 'Jügel, Thomas'), 1), (('Eide, Øyvind', 'Rezania, Kianoosh'), 1), (('Eide, Øyvind', 'Zeini, Arash'), 1), (('Eide, Øyvind', 'Cantera, Alberto'), 1), (('Eide, Øyvind', 'Emanuel, Chagai'), 1), (('Eide, Øyvind', 'Shaked, Shaul'), 1), (('Colditz, Iris', 'Jügel, Thomas'), 1), (('Colditz, Iris', 'Rezania, Kianoosh'), 1), (('Colditz, Iris', 'Zeini, Arash'), 1), (('Colditz, Iris', 'Cantera, Alberto'), 1), (('Colditz, Iris', 'Emanuel, Chagai'), 1), (('Colditz, Iris', 'Shaked, Shaul'), 1), (('Jügel, Thomas', 'Rezania, Kianoosh'), 1), (('Jügel, Thomas', 'Zeini, Arash'), 1), (('Jügel, Thomas', 'Cantera, Alberto'), 1), (('Jügel, Thomas', 'Emanuel, Chagai'), 1), (('Jügel, Thomas', 'Shaked, Shaul'), 1), (('Rezania, Kianoosh', 'Zeini, Arash'), 1), (('Rezania, Kianoosh', 'Cantera, Alberto'), 1), (('Rezania, Kianoosh', 'Emanuel, Chagai'), 1), (('Rezania, Kianoosh', 'Shaked, Shaul'), 1), (('Zeini, Arash', 'Cantera, Alberto'), 1), (('Zeini, Arash', 'Emanuel, Chagai'), 1), (('Zeini, Arash', 'Shaked, Shaul'), 1), (('Cantera, Alberto', 'Emanuel, Chagai'), 1), (('Cantera, Alberto', 'Shaked, Shaul'), 1), (('Emanuel, Chagai', 'Shaked, Shaul'), 1), (('Nieländer, Maret', 'Jurish, Bryan'), 1), (('Nieländer, Maret', 'Scheel, Christian'), 1), (('Jurish, Bryan', 'Scheel, Christian'), 1), (('Althage, Melanie', 'Dreyer, Malte'), 1), (('Althage, Melanie', 'Guescini, Rolf'), 1), (('Althage, Melanie', 'Hiltmann, Torsten'), 1), (('Althage, Melanie', 'Lüdeling, Anke'), 1), (('Althage, Melanie', 'Odebrecht, Carolin'), 1), (('Dreyer, Malte', 'Guescini, Rolf'), 1), (('Dreyer, Malte', 'Hiltmann, Torsten'), 1), (('Dreyer, Malte', 'Lüdeling, Anke'), 1), (('Dreyer, Malte', 'Odebrecht, Carolin'), 1), (('Guescini, Rolf', 'Hiltmann, Torsten'), 1), (('Guescini, Rolf', 'Lüdeling, Anke'), 1), (('Guescini, Rolf', 'Odebrecht, Carolin'), 1), (('Hiltmann, Torsten', 'Lüdeling, Anke'), 1), (('Hiltmann, Torsten', 'Odebrecht, Carolin'), 1), (('Lüdeling, Anke', 'Odebrecht, Carolin'), 1), (('Balck, Sandra', 'Menzel, Sina'), 1), (('Balck, Sandra', 'Petras, Vivien'), 1), (('Balck, Sandra', 'Schnaitter, Hannes'), 1), (('Balck, Sandra', 'Zinck, Josefine'), 1), (('Menzel, Sina', 'Petras, Vivien'), 1), (('Menzel, Sina', 'Schnaitter, Hannes'), 1), (('Menzel, Sina', 'Zinck, Josefine'), 1), (('Petras, Vivien', 'Schnaitter, Hannes'), 1), (('Petras, Vivien', 'Zinck, Josefine'), 1), (('Schnaitter, Hannes', 'Zinck, Josefine'), 1), (('Pfeffer, Magnus', 'Kacsuk, Zoltan'), 1), (('Pfeffer, Magnus', 'Roth, Martin'), 1), (('Kacsuk, Zoltan', 'Roth, Martin'), 1), (('Andresen, Melanie', 'Pichler, Axel'), 1), (('Krautter, Benjamin', 'Pichler, Axel'), 1), (('Pagel, Janis', 'Pichler, Axel'), 1), (('Pielström, Steffen', 'Jung, Kerstin'), 1), (('Purschwitz, Anne', 'Zedlitz, Jesper'), 1), (('Pöckelmann, Marcus', 'Rebiger, Bill'), 1), (('Rainer, Simon', 'Radisch, Erik'), 1), (('Poetis, Panoria', 'Radmacher, Emilia'), 1), (('Poetis, Panoria', 'Smiatek, Katharina'), 1), (('Poetis, Panoria', 'Schneider, Stefanie'), 1), (('Radmacher, Emilia', 'Smiatek, Katharina'), 1), (('Radmacher, Emilia', 'Schneider, Stefanie'), 1), (('Smiatek, Katharina', 'Schneider, Stefanie'), 1), (('Rebora, Simone', 'Messerli, Thomas'), 1), (('Rebora, Simone', 'Herrmann, J. Berenike'), 1), (('Messerli, Thomas', 'Herrmann, J. Berenike'), 1), (('Böhm, Alexander', 'Reiners-Selbach, Stefan'), 1), (('Böhm, Alexander', 'Baedke, Jan'), 1), (('Böhm, Alexander', 'Fábregas Tejeda, Alejandro'), 1), (('Böhm, Alexander', 'Nicholson, Daniel J.'), 1), (('Reiners-Selbach, Stefan', 'Baedke, Jan'), 1), (('Reiners-Selbach, Stefan', 'Fábregas Tejeda, Alejandro'), 1), (('Reiners-Selbach, Stefan', 'Nicholson, Daniel J.'), 1), (('Baedke, Jan', 'Fábregas Tejeda, Alejandro'), 1), (('Baedke, Jan', 'Nicholson, Daniel J.'), 1), (('Fábregas Tejeda, Alejandro', 'Nicholson, Daniel J.'), 1), (('Burghardt, Manuel', 'Czmiel, Alexander'), 1), (('Burghardt, Manuel', 'Guhr, Svenja'), 1), (('Burghardt, Manuel', 'Jacke, Janina'), 1), (('Burghardt, Manuel', 'Scholger, Walter'), 1), (('Czmiel, Alexander', 'Dieckmann, Lisa'), 1), (('Czmiel, Alexander', 'Guhr, Svenja'), 1), (('Czmiel, Alexander', 'Jacke, Janina'), 1), (('Czmiel, Alexander', 'Reiter, Nils'), 1), (('Czmiel, Alexander', 'Scholger, Walter'), 1), (('Czmiel, Alexander', 'Wuttke, Ulrike'), 1), (('Dieckmann, Lisa', 'Guhr, Svenja'), 1), (('Dieckmann, Lisa', 'Jacke, Janina'), 1), (('Dieckmann, Lisa', 'Scholger, Walter'), 1), (('Guhr, Svenja', 'Jacke, Janina'), 1), (('Jacke, Janina', 'Reiter, Nils'), 1), (('Jacke, Janina', 'Scholger, Walter'), 1), (('Jacke, Janina', 'Wuttke, Ulrike'), 1), (('Reiter, Nils', 'Scholger, Walter'), 1), (('Altenhöner, Reinhard', 'Dieckmann, Lisa'), 1), (('Altenhöner, Reinhard', 'Münzmay, Andreas'), 1), (('Altenhöner, Reinhard', 'Pratschke, Margarete'), 1), (('Altenhöner, Reinhard', 'Primavesi, Patrick'), 1), (('Altenhöner, Reinhard', 'Richts-Matthaei, Kristina'), 1), (('Altenhöner, Reinhard', 'Röwenstrunk, Daniel'), 1), (('Altenhöner, Reinhard', 'Schulz, Christoph'), 1), (('Altenhöner, Reinhard', 'Stellmacher, Martha'), 1), (('Dieckmann, Lisa', 'Münzmay, Andreas'), 1), (('Dieckmann, Lisa', 'Pratschke, Margarete'), 1), (('Dieckmann, Lisa', 'Primavesi, Patrick'), 1), (('Dieckmann, Lisa', 'Richts-Matthaei, Kristina'), 1), (('Dieckmann, Lisa', 'Röwenstrunk, Daniel'), 1), (('Dieckmann, Lisa', 'Schulz, Christoph'), 1), (('Dieckmann, Lisa', 'Stellmacher, Martha'), 1), (('Münzmay, Andreas', 'Pratschke, Margarete'), 1), (('Münzmay, Andreas', 'Primavesi, Patrick'), 1), (('Münzmay, Andreas', 'Richts-Matthaei, Kristina'), 1), (('Münzmay, Andreas', 'Röwenstrunk, Daniel'), 1), (('Münzmay, Andreas', 'Schulz, Christoph'), 1), (('Münzmay, Andreas', 'Stellmacher, Martha'), 1), (('Pratschke, Margarete', 'Primavesi, Patrick'), 1), (('Pratschke, Margarete', 'Richts-Matthaei, Kristina'), 1), (('Pratschke, Margarete', 'Röwenstrunk, Daniel'), 1), (('Pratschke, Margarete', 'Schulz, Christoph'), 1), (('Pratschke, Margarete', 'Stellmacher, Martha'), 1), (('Primavesi, Patrick', 'Richts-Matthaei, Kristina'), 1), (('Primavesi, Patrick', 'Röwenstrunk, Daniel'), 1), (('Primavesi, Patrick', 'Schulz, Christoph'), 1), (('Primavesi, Patrick', 'Stellmacher, Martha'), 1), (('Richts-Matthaei, Kristina', 'Röwenstrunk, Daniel'), 1), (('Richts-Matthaei, Kristina', 'Schulz, Christoph'), 1), (('Richts-Matthaei, Kristina', 'Stellmacher, Martha'), 1), (('Röwenstrunk, Daniel', 'Schulz, Christoph'), 1), (('Röwenstrunk, Daniel', 'Stellmacher, Martha'), 1), (('Schulz, Christoph', 'Stellmacher, Martha'), 1), (('Rißler-Pipka, Nanette', 'Roeder, Torsten'), 1), (('Busch, Anna', 'Roeder, Torsten'), 1), (('Rossenova, Lozana', 'Schubert, Zoe'), 1), (('Rossenova, Lozana', 'Vock, Richard'), 1), (('Rossenova, Lozana', 'Blümel, Ina'), 1), (('Schubert, Zoe', 'Vock, Richard'), 1), (('Schubert, Zoe', 'Blümel, Ina'), 1), (('Vock, Richard', 'Blümel, Ina'), 1), (('Röttgermann, Julia', 'Klee, Anne'), 1), (('Röttgermann, Julia', 'Hinzmann, Maria'), 1), (('Röttgermann, Julia', 'Schöch, Christof'), 1), (('Klee, Anne', 'Hinzmann, Maria'), 1), (('Klee, Anne', 'Schöch, Christof'), 1), (('Saric, Sanja', 'Steiner, Elisabeth'), 1), (('Saric, Sanja', 'Vogeltanz, Maximilian'), 1), (('Steiner, Elisabeth', 'Vogeltanz, Maximilian'), 1), (('Scheltjens, Werner', 'Schlieder, Christoph'), 1), (('Agt-Rickauer, Henning', 'Scherer, Thomas'), 1), (('Agt-Rickauer, Henning', 'Stratil, Jasper'), 1), (('Scherer, Thomas', 'Stratil, Jasper'), 1), (('Schmidt, David', 'Krug, Markus'), 1), (('Schmidt, David', 'Puppe, Frank'), 1), (('Krug, Markus', 'Puppe, Frank'), 1), (('Schmidt, Thomas', 'Kurek, Sarah'), 1), (('Schmidt, Thomas', 'Dennerlein, Katrin'), 1), (('Schneider, Stefanie', 'Springstein, Matthias'), 1), (('Schneider, Stefanie', 'Rahnama, Javad'), 1), (('Schneider, Stefanie', 'Kohle, Hubertus'), 1), (('Schneider, Stefanie', 'Ewerth, Ralph'), 1), (('Schneider, Stefanie', 'Hüllermeier, Eyke'), 1), (('Springstein, Matthias', 'Rahnama, Javad'), 1), (('Springstein, Matthias', 'Kohle, Hubertus'), 1), (('Springstein, Matthias', 'Ewerth, Ralph'), 1), (('Springstein, Matthias', 'Hüllermeier, Eyke'), 1), (('Rahnama, Javad', 'Kohle, Hubertus'), 1), (('Rahnama, Javad', 'Ewerth, Ralph'), 1), (('Rahnama, Javad', 'Hüllermeier, Eyke'), 1), (('Kohle, Hubertus', 'Ewerth, Ralph'), 1), (('Kohle, Hubertus', 'Hüllermeier, Eyke'), 1), (('Ewerth, Ralph', 'Hüllermeier, Eyke'), 1), (('Henny-Krahmer, Ulrike', 'Neuber, Frederike'), 1), (('Henny-Krahmer, Ulrike', 'Scholger, Martina'), 1), (('Neuber, Frederike', 'Scholger, Martina'), 1), (('Scholger, Walter', 'Hannesschläger, Vanessa'), 1), (('Scholger, Walter', 'Kamocki, Pawel'), 1), (('Scholger, Walter', 'Kuzman-Šlogar, Koraljka'), 1), (('Hannesschläger, Vanessa', 'Kamocki, Pawel'), 1), (('Hannesschläger, Vanessa', 'Kuzman-Šlogar, Koraljka'), 1), (('Kamocki, Pawel', 'Kuzman-Šlogar, Koraljka'), 1), (('Schumacher, Mareike', 'Vauth, Michael'), 1), (('Schumacher, Mareike', 'Gerstorfer, Dominik'), 1), (('Schumacher, Mareike', 'Meister, Malte'), 1), (('Vauth, Michael', 'Meister, Malte'), 1), (('Seifert, Sabine', 'Busch, Anna'), 1), (('Seifert, Sabine', 'Trilcke, Peer'), 1), (('Seifert, Sabine', 'Genzel, Kristina'), 1), (('Seifert, Sabine', 'Heilmann, Juliane'), 1), (('Seifert, Sabine', 'Möller, Klaus-Peter'), 1), (('Busch, Anna', 'Genzel, Kristina'), 1), (('Busch, Anna', 'Heilmann, Juliane'), 1), (('Busch, Anna', 'Möller, Klaus-Peter'), 1), (('Trilcke, Peer', 'Genzel, Kristina'), 1), (('Trilcke, Peer', 'Heilmann, Juliane'), 1), (('Trilcke, Peer', 'Möller, Klaus-Peter'), 1), (('Genzel, Kristina', 'Heilmann, Juliane'), 1), (('Genzel, Kristina', 'Möller, Klaus-Peter'), 1), (('Heilmann, Juliane', 'Möller, Klaus-Peter'), 1), (('Kalmer, Silke', 'Kampkaspar, Dario'), 1), (('Kalmer, Silke', 'Müller, Sophie'), 1), (('Kalmer, Silke', 'Seltmann, Melanie E.-H.'), 1), (('Kalmer, Silke', 'Stegmeier, Jörn'), 1), (('Kalmer, Silke', 'Wunsch, Kevin'), 1), (('Kampkaspar, Dario', 'Müller, Sophie'), 1), (('Kampkaspar, Dario', 'Seltmann, Melanie E.-H.'), 1), (('Kampkaspar, Dario', 'Stegmeier, Jörn'), 1), (('Kampkaspar, Dario', 'Wunsch, Kevin'), 1), (('Müller, Sophie', 'Seltmann, Melanie E.-H.'), 1), (('Müller, Sophie', 'Stegmeier, Jörn'), 1), (('Müller, Sophie', 'Wunsch, Kevin'), 1), (('Seltmann, Melanie E.-H.', 'Stegmeier, Jörn'), 1), (('Seltmann, Melanie E.-H.', 'Wunsch, Kevin'), 1), (('Stegmeier, Jörn', 'Wunsch, Kevin'), 1), (('Rapp, Andrea', 'Büdenbender, Stefan'), 1), (('Rapp, Andrea', 'Dietz, Nadine'), 1), (('Rapp, Andrea', 'Dunkelmann, Lena'), 1), (('Rapp, Andrea', 'Gnau-Franké, Birte'), 1), (('Rapp, Andrea', 'Liesenfeld, Nina'), 1), (('Rapp, Andrea', 'Schmunk, Stefan'), 1), (('Rapp, Andrea', 'Seltmann, Melanie E.-H.'), 1), (('Rapp, Andrea', 'Stäcker, Thomas'), 1), (('Rapp, Andrea', 'Werner, Stephanie'), 1), (('Rapp, Andrea', 'Wyss, Eva L.'), 1), (('Büdenbender, Stefan', 'Dietz, Nadine'), 1), (('Büdenbender, Stefan', 'Dunkelmann, Lena'), 1), (('Büdenbender, Stefan', 'Gnau-Franké, Birte'), 1), (('Büdenbender, Stefan', 'Liesenfeld, Nina'), 1), (('Büdenbender, Stefan', 'Schmunk, Stefan'), 1), (('Büdenbender, Stefan', 'Seltmann, Melanie E.-H.'), 1), (('Büdenbender, Stefan', 'Stäcker, Thomas'), 1), (('Büdenbender, Stefan', 'Werner, Stephanie'), 1), (('Büdenbender, Stefan', 'Wyss, Eva L.'), 1), (('Dietz, Nadine', 'Dunkelmann, Lena'), 1), (('Dietz, Nadine', 'Gnau-Franké, Birte'), 1), (('Dietz, Nadine', 'Liesenfeld, Nina'), 1), (('Dietz, Nadine', 'Schmunk, Stefan'), 1), (('Dietz, Nadine', 'Seltmann, Melanie E.-H.'), 1), (('Dietz, Nadine', 'Stäcker, Thomas'), 1), (('Dietz, Nadine', 'Werner, Stephanie'), 1), (('Dietz, Nadine', 'Wyss, Eva L.'), 1), (('Dunkelmann, Lena', 'Gnau-Franké, Birte'), 1), (('Dunkelmann, Lena', 'Liesenfeld, Nina'), 1), (('Dunkelmann, Lena', 'Schmunk, Stefan'), 1), (('Dunkelmann, Lena', 'Seltmann, Melanie E.-H.'), 1), (('Dunkelmann, Lena', 'Stäcker, Thomas'), 1), (('Dunkelmann, Lena', 'Werner, Stephanie'), 1), (('Dunkelmann, Lena', 'Wyss, Eva L.'), 1), (('Gnau-Franké, Birte', 'Liesenfeld, Nina'), 1), (('Gnau-Franké, Birte', 'Schmunk, Stefan'), 1), (('Gnau-Franké, Birte', 'Seltmann, Melanie E.-H.'), 1), (('Gnau-Franké, Birte', 'Stäcker, Thomas'), 1), (('Gnau-Franké, Birte', 'Werner, Stephanie'), 1), (('Gnau-Franké, Birte', 'Wyss, Eva L.'), 1), (('Liesenfeld, Nina', 'Schmunk, Stefan'), 1), (('Liesenfeld, Nina', 'Seltmann, Melanie E.-H.'), 1), (('Liesenfeld, Nina', 'Stäcker, Thomas'), 1), (('Liesenfeld, Nina', 'Werner, Stephanie'), 1), (('Liesenfeld, Nina', 'Wyss, Eva L.'), 1), (('Schmunk, Stefan', 'Seltmann, Melanie E.-H.'), 1), (('Schmunk, Stefan', 'Stäcker, Thomas'), 1), (('Schmunk, Stefan', 'Werner, Stephanie'), 1), (('Schmunk, Stefan', 'Wyss, Eva L.'), 1), (('Seltmann, Melanie E.-H.', 'Stäcker, Thomas'), 1), (('Seltmann, Melanie E.-H.', 'Werner, Stephanie'), 1), (('Seltmann, Melanie E.-H.', 'Wyss, Eva L.'), 1), (('Stäcker, Thomas', 'Werner, Stephanie'), 1), (('Stäcker, Thomas', 'Wyss, Eva L.'), 1), (('Werner, Stephanie', 'Wyss, Eva L.'), 1), (('Serif, Ina', 'Reimann, Anna'), 1), (('Serif, Ina', 'Engel, Alexander'), 1), (('Reimann, Anna', 'Engel, Alexander'), 1), (('Stallmann, Marco', 'Sikora, Uwe'), 1), (('Stallmann, Marco', 'Kreß, Hannah'), 1), (('Stallmann, Marco', 'Lemitz, Bastian'), 1), (('Stallmann, Marco', 'Pietsch, Andreas'), 1), (('Stallmann, Marco', 'Wünsch, Lukas'), 1), (('Sikora, Uwe', 'Kreß, Hannah'), 1), (('Sikora, Uwe', 'Lemitz, Bastian'), 1), (('Sikora, Uwe', 'Pietsch, Andreas'), 1), (('Sikora, Uwe', 'Wünsch, Lukas'), 1), (('Kreß, Hannah', 'Lemitz, Bastian'), 1), (('Kreß, Hannah', 'Pietsch, Andreas'), 1), (('Kreß, Hannah', 'Wünsch, Lukas'), 1), (('Lemitz, Bastian', 'Pietsch, Andreas'), 1), (('Lemitz, Bastian', 'Wünsch, Lukas'), 1), (('Pietsch, Andreas', 'Wünsch, Lukas'), 1), (('Steiner, Elisabeth', 'Vasold, Gunter'), 1), (('Steiner, Elisabeth', 'Scholger, Martina'), 1), (('Vasold, Gunter', 'Scholger, Martina'), 1), (('Tomasek, Stefan', 'Reul, Christian'), 1), (('Tomasek, Stefan', 'Wehner, Maximilian'), 1), (('Reul, Christian', 'Wehner, Maximilian'), 1), (('Sluyter-Gäthje, Henny', 'Trilcke, Peer'), 1), (('Tu, Ngoc Duyen Tanja', 'Meyer, Peter'), 1), (('Varachkina, Hanna', 'Barth, Florian'), 1), (('Varachkina, Hanna', 'Gödeke, Luisa'), 1), (('Varachkina, Hanna', 'Hofmann, Anna Mareike'), 1), (('Varachkina, Hanna', 'Dönicke, Tillmann'), 1), (('Barth, Florian', 'Gödeke, Luisa'), 1), (('Barth, Florian', 'Hofmann, Anna Mareike'), 1), (('Barth, Florian', 'Dönicke, Tillmann'), 1), (('Gödeke, Luisa', 'Hofmann, Anna Mareike'), 1), (('Gödeke, Luisa', 'Dönicke, Tillmann'), 1), (('Hofmann, Anna Mareike', 'Dönicke, Tillmann'), 1), (('Gius, Evelyn', 'Vauth, Michael'), 1), (('Vogeler, Georg', 'Hadden, Richard'), 1), (('Vogeler, Georg', 'Schlögl, Matthias'), 1), (('Vogeler, Georg', 'Vasold, Gunter'), 1), (('Hadden, Richard', 'Schlögl, Matthias'), 1), (('Hadden, Richard', 'Vasold, Gunter'), 1), (('Schlögl, Matthias', 'Vasold, Gunter'), 1), (('Walkowski, Niels-Oliver', 'Burghardt, Manuel'), 1), (('Bentz, Isabelle', 'Gfrereis, Heike'), 1), (('Bentz, Isabelle', 'Hildenbrandt, Vera'), 1), (('Bentz, Isabelle', 'Mayr, Eva'), 1), (('Bentz, Isabelle', 'Offenberg, Eva'), 1), (('Bentz, Isabelle', 'Tropper, Eva'), 1), (('Bentz, Isabelle', 'Windhager, Florian'), 1), (('Gfrereis, Heike', 'Hildenbrandt, Vera'), 1), (('Gfrereis, Heike', 'Mayr, Eva'), 1), (('Gfrereis, Heike', 'Offenberg, Eva'), 1), (('Gfrereis, Heike', 'Tropper, Eva'), 1), (('Gfrereis, Heike', 'Windhager, Florian'), 1), (('Hildenbrandt, Vera', 'Mayr, Eva'), 1), (('Hildenbrandt, Vera', 'Offenberg, Eva'), 1), (('Hildenbrandt, Vera', 'Tropper, Eva'), 1), (('Hildenbrandt, Vera', 'Windhager, Florian'), 1), (('Mayr, Eva', 'Offenberg, Eva'), 1), (('Mayr, Eva', 'Tropper, Eva'), 1), (('Offenberg, Eva', 'Tropper, Eva'), 1), (('Offenberg, Eva', 'Windhager, Florian'), 1), (('Tropper, Eva', 'Windhager, Florian'), 1), (('Wuttke, Ulrike', 'Tóth-Czifra, Erzsébet'), 1), (('Wuttke, Ulrike', 'Testori, Marinella'), 1), (('Wuttke, Ulrike', 'Horvath, Aliz'), 1), (('Wuttke, Ulrike', 'Spence, Paul'), 1), (('Wuttke, Ulrike', 'Katsiadakis, Helen'), 1), (('Tóth-Czifra, Erzsébet', 'Testori, Marinella'), 1), (('Tóth-Czifra, Erzsébet', 'Horvath, Aliz'), 1), (('Tóth-Czifra, Erzsébet', 'Spence, Paul'), 1), (('Tóth-Czifra, Erzsébet', 'Katsiadakis, Helen'), 1), (('Testori, Marinella', 'Horvath, Aliz'), 1), (('Testori, Marinella', 'Spence, Paul'), 1), (('Testori, Marinella', 'Katsiadakis, Helen'), 1), (('Horvath, Aliz', 'Spence, Paul'), 1), (('Horvath, Aliz', 'Katsiadakis, Helen'), 1), (('Spence, Paul', 'Katsiadakis, Helen'), 1)], [(('Bamberg, Claudia', 'Petkov, Radoslav'), 2), (('Liem, Johannes', 'Mayr, Eva'), 2), (('Blumtritt, Jonathan', 'Gengnagel, Tessa'), 2), (('Gengnagel, Tessa', 'Lang, Sarah'), 2), (('Lang, Sarah', 'Probst, Nora'), 2), (('Nantke, Julia', 'Reul, Christian'), 2), (('Bläß, Sandra', 'Flüh, Marie'), 2), (('Galka, Selina', 'Klug, Helmut W.'), 2), (('Busch, Anna', 'Trilcke, Peer'), 2), (('Eiser, Isabel', 'Schneider, Florian'), 2), (('Eiser, Isabel', 'Koch, Gertraud'), 2), (('Eiser, Isabel', 'Biemann, Chris'), 2), (('Fischer, Tim', 'Schneider, Florian'), 2), (('Fischer, Tim', 'Koch, Gertraud'), 2), (('Fischer, Tim', 'Biemann, Chris'), 2), (('Schneider, Florian', 'Koch, Gertraud'), 2), (('Schneider, Florian', 'Biemann, Chris'), 2), (('Blessing, André', 'Hess, Jan'), 2), (('Hein, Pascal', 'Hess, Jan'), 2), (('Dinger, Patrick', 'Horstmann, Jan'), 2), (('Mayer, Desiree', 'Kailus, Angela'), 1), (('Egger, Nils', 'Franken, Lina'), 1), (('Egger, Nils', 'Möbus, Dennis'), 1), (('Egger, Nils', 'Schmid, Florian'), 1), (('Franken, Lina', 'Möbus, Dennis'), 1), (('Franken, Lina', 'Schmid, Florian'), 1), (('Möbus, Dennis', 'Schmid, Florian'), 1), (('Bamberg, Claudia', 'Dörk, Uwe'), 1), (('Bamberg, Claudia', 'Wierzock, Alexander'), 1), (('Bamberg, Claudia', 'Trautmann, Tatjana'), 1), (('Bamberg, Claudia', 'Burch, Thomas'), 1), (('Dörk, Uwe', 'Wierzock, Alexander'), 1), (('Dörk, Uwe', 'Trautmann, Tatjana'), 1), (('Dörk, Uwe', 'Burch, Thomas'), 1), (('Dörk, Uwe', 'Petkov, Radoslav'), 1), (('Wierzock, Alexander', 'Trautmann, Tatjana'), 1), (('Wierzock, Alexander', 'Burch, Thomas'), 1), (('Wierzock, Alexander', 'Petkov, Radoslav'), 1), (('Trautmann, Tatjana', 'Burch, Thomas'), 1), (('Trautmann, Tatjana', 'Petkov, Radoslav'), 1), (('Burch, Thomas', 'Petkov, Radoslav'), 1), (('Liem, Johannes', 'Kusnick, Jakob'), 1), (('Liem, Johannes', 'Jänicke, Steffan'), 1), (('Liem, Johannes', 'Doppler, Carina'), 1), (('Liem, Johannes', 'Passecker, Markus'), 1), (('Liem, Johannes', 'Windhager, Florian'), 1), (('Kusnick, Jakob', 'Jänicke, Steffan'), 1), (('Kusnick, Jakob', 'Doppler, Carina'), 1), (('Kusnick, Jakob', 'Passecker, Markus'), 1), (('Kusnick, Jakob', 'Mayr, Eva'), 1), (('Kusnick, Jakob', 'Windhager, Florian'), 1), (('Jänicke, Steffan', 'Doppler, Carina'), 1), (('Jänicke, Steffan', 'Passecker, Markus'), 1), (('Jänicke, Steffan', 'Mayr, Eva'), 1), (('Jänicke, Steffan', 'Windhager, Florian'), 1), (('Doppler, Carina', 'Passecker, Markus'), 1), (('Doppler, Carina', 'Mayr, Eva'), 1), (('Doppler, Carina', 'Windhager, Florian'), 1), (('Passecker, Markus', 'Mayr, Eva'), 1), (('Passecker, Markus', 'Windhager, Florian'), 1), (('Mayr, Eva', 'Windhager, Florian'), 1), (('Bigalke, Jan', 'Blumtritt, Jonathan'), 1), (('Bigalke, Jan', 'Gengnagel, Tessa'), 1), (('Lemaire, Marina', 'Moeller, Katrin'), 1), (('Lemaire, Marina', 'Schulz, Julian'), 1), (('Lemaire, Marina', 'Söring, Sibylle'), 1), (('Lemaire, Marina', 'Wettlaufer, Jörg'), 1), (('Moeller, Katrin', 'Schulz, Julian'), 1), (('Moeller, Katrin', 'Söring, Sibylle'), 1), (('Moeller, Katrin', 'Wettlaufer, Jörg'), 1), (('Schulz, Julian', 'Söring, Sibylle'), 1), (('Schulz, Julian', 'Wettlaufer, Jörg'), 1), (('Söring, Sibylle', 'Wettlaufer, Jörg'), 1), (('Suárez Cronauer, Elena', 'Fath, Laura'), 1), (('Suárez Cronauer, Elena', 'Deicke, Aline'), 1), (('Suárez Cronauer, Elena', 'Strobel, Jochen'), 1), (('Suárez Cronauer, Elena', 'Weyand, Sandra'), 1), (('Suárez Cronauer, Elena', 'Burch, Thomas'), 1), (('Fath, Laura', 'Deicke, Aline'), 1), (('Fath, Laura', 'Strobel, Jochen'), 1), (('Fath, Laura', 'Weyand, Sandra'), 1), (('Fath, Laura', 'Burch, Thomas'), 1), (('Deicke, Aline', 'Strobel, Jochen'), 1), (('Deicke, Aline', 'Weyand, Sandra'), 1), (('Deicke, Aline', 'Burch, Thomas'), 1), (('Strobel, Jochen', 'Weyand, Sandra'), 1), (('Strobel, Jochen', 'Burch, Thomas'), 1), (('Weyand, Sandra', 'Burch, Thomas'), 1), (('Aehnlich, Barbara', 'Kunze, Petra'), 1), (('Calvo Tello, José', 'Rißler-Pipka, Nanette'), 1), (('Calvo Tello, José', 'Barth, Florian'), 1), (('Rißler-Pipka, Nanette', 'Barth, Florian'), 1), (('Gerstorfer, Dominik', 'Gius, Evelyn'), 1), (('Holz, Alex', 'Çakir, Dîlan Canan'), 1), (('Schrade, Torsten', 'Stein, Regine'), 1), (('Schrade, Torsten', 'Tolksdorf, Julia'), 1), (('Schrade, Torsten', 'Vater, Christian'), 1), (('Schrade, Torsten', 'Weimer, Lukas'), 1), (('Stein, Regine', 'Tolksdorf, Julia'), 1), (('Stein, Regine', 'Vater, Christian'), 1), (('Stein, Regine', 'Weimer, Lukas'), 1), (('Tolksdorf, Julia', 'Vater, Christian'), 1), (('Tolksdorf, Julia', 'Weimer, Lukas'), 1), (('Vater, Christian', 'Weimer, Lukas'), 1), (('Grundig de Vazquez, Katja', 'Krefft, Annett'), 1), (('Grundig de Vazquez, Katja', 'Thoden, Klaus'), 1), (('Krefft, Annett', 'Thoden, Klaus'), 1), (('Vogeler, Georg', 'Luger, Daniel'), 1), (('Vogeler, Georg', 'Nicolaou, Anguelos'), 1), (('Vogeler, Georg', 'Kovacs, Tamas'), 1), (('Vogeler, Georg', 'Atzenhofer-Baumgartner, Florian'), 1), (('Vogeler, Georg', 'Lamminger, Florian'), 1), (('Vogeler, Georg', 'Aoun, Sandy'), 1), (('Vogeler, Georg', 'Decker, Franziska'), 1), (('Luger, Daniel', 'Nicolaou, Anguelos'), 1), (('Luger, Daniel', 'Kovacs, Tamas'), 1), (('Luger, Daniel', 'Atzenhofer-Baumgartner, Florian'), 1), (('Luger, Daniel', 'Lamminger, Florian'), 1), (('Luger, Daniel', 'Aoun, Sandy'), 1), (('Luger, Daniel', 'Decker, Franziska'), 1), (('Nicolaou, Anguelos', 'Kovacs, Tamas'), 1), (('Nicolaou, Anguelos', 'Atzenhofer-Baumgartner, Florian'), 1), (('Nicolaou, Anguelos', 'Lamminger, Florian'), 1), (('Nicolaou, Anguelos', 'Aoun, Sandy'), 1), (('Nicolaou, Anguelos', 'Decker, Franziska'), 1), (('Kovacs, Tamas', 'Atzenhofer-Baumgartner, Florian'), 1), (('Kovacs, Tamas', 'Lamminger, Florian'), 1), (('Kovacs, Tamas', 'Aoun, Sandy'), 1), (('Kovacs, Tamas', 'Decker, Franziska'), 1), (('Atzenhofer-Baumgartner, Florian', 'Lamminger, Florian'), 1), (('Atzenhofer-Baumgartner, Florian', 'Aoun, Sandy'), 1), (('Atzenhofer-Baumgartner, Florian', 'Decker, Franziska'), 1), (('Lamminger, Florian', 'Aoun, Sandy'), 1), (('Lamminger, Florian', 'Decker, Franziska'), 1), (('Aoun, Sandy', 'Decker, Franziska'), 1), (('Schwab, Michel', 'Fischer, Frank'), 1), (('Schumacher, Mareike', 'Marie, Flüh'), 1), (('Schumacher, Mareike', 'Peter, Leinen'), 1), (('Marie, Flüh', 'Peter, Leinen'), 1), (('Schneider, Philipp', 'Hiltmann, Torsten'), 1), (('Dumont, Stefan', 'Kraft, Tobias'), 1), (('Dumont, Stefan', 'Seifert, Sabine'), 1), (('Dumont, Stefan', 'Thomas, Christian'), 1), (('Dumont, Stefan', 'Wierzoch, Jan'), 1), (('Kraft, Tobias', 'Seifert, Sabine'), 1), (('Kraft, Tobias', 'Thomas, Christian'), 1), (('Kraft, Tobias', 'Wierzoch, Jan'), 1), (('Seifert, Sabine', 'Thomas, Christian'), 1), (('Seifert, Sabine', 'Wierzoch, Jan'), 1), (('Thomas, Christian', 'Wierzoch, Jan'), 1), (('Grießer, Martina', 'Hanzer, Helene'), 1), (('Grießer, Martina', 'Kirchweger, Franz'), 1), (('Grießer, Martina', 'Kloser, Peter'), 1), (('Grießer, Martina', 'Lamers, Teresa'), 1), (('Grießer, Martina', 'Pollin, Christopher'), 1), (('Grießer, Martina', 'Scholger, Martina'), 1), (('Grießer, Martina', 'Steiner, Elisabeth'), 1), (('Grießer, Martina', 'Vasold, Gunter'), 1), (('Hanzer, Helene', 'Kirchweger, Franz'), 1), (('Hanzer, Helene', 'Kloser, Peter'), 1), (('Hanzer, Helene', 'Lamers, Teresa'), 1), (('Hanzer, Helene', 'Pollin, Christopher'), 1), (('Hanzer, Helene', 'Scholger, Martina'), 1), (('Hanzer, Helene', 'Steiner, Elisabeth'), 1), (('Hanzer, Helene', 'Vasold, Gunter'), 1), (('Kirchweger, Franz', 'Kloser, Peter'), 1), (('Kirchweger, Franz', 'Lamers, Teresa'), 1), (('Kirchweger, Franz', 'Pollin, Christopher'), 1), (('Kirchweger, Franz', 'Scholger, Martina'), 1), (('Kirchweger, Franz', 'Steiner, Elisabeth'), 1), (('Kirchweger, Franz', 'Vasold, Gunter'), 1), (('Kloser, Peter', 'Lamers, Teresa'), 1), (('Kloser, Peter', 'Pollin, Christopher'), 1), (('Kloser, Peter', 'Scholger, Martina'), 1), (('Kloser, Peter', 'Steiner, Elisabeth'), 1), (('Kloser, Peter', 'Vasold, Gunter'), 1), (('Lamers, Teresa', 'Pollin, Christopher'), 1), (('Lamers, Teresa', 'Scholger, Martina'), 1), (('Lamers, Teresa', 'Steiner, Elisabeth'), 1), (('Lamers, Teresa', 'Vasold, Gunter'), 1), (('Pollin, Christopher', 'Scholger, Martina'), 1), (('Pollin, Christopher', 'Steiner, Elisabeth'), 1), (('Pollin, Christopher', 'Vasold, Gunter'), 1), (('Scholger, Martina', 'Steiner, Elisabeth'), 1), (('Scholger, Martina', 'Vasold, Gunter'), 1), (('Steiner, Elisabeth', 'Vasold, Gunter'), 1), (('Rüdiger, Jan Oliver', 'Wolfer, Sascha'), 1), (('Rüdiger, Jan Oliver', 'Cotgrove, Louis'), 1), (('Wolfer, Sascha', 'Cotgrove, Louis'), 1), (('Rosenthal, Maximilian', 'Richter, Matthias'), 1), (('Neuber, Frederike', 'Lecroq, Axelle'), 1), (('Ketschik, Nora', 'Bernhart, Toni'), 1), (('Ketschik, Nora', 'Gärtner, Markus'), 1), (('Ketschik, Nora', 'Koch, Julia'), 1), (('Ketschik, Nora', 'Schauffler, Nadja'), 1), (('Ketschik, Nora', 'Kuhn, Jonas'), 1), (('Bernhart, Toni', 'Gärtner, Markus'), 1), (('Bernhart, Toni', 'Koch, Julia'), 1), (('Bernhart, Toni', 'Schauffler, Nadja'), 1), (('Bernhart, Toni', 'Kuhn, Jonas'), 1), (('Gärtner, Markus', 'Koch, Julia'), 1), (('Gärtner, Markus', 'Schauffler, Nadja'), 1), (('Gärtner, Markus', 'Kuhn, Jonas'), 1), (('Koch, Julia', 'Schauffler, Nadja'), 1), (('Koch, Julia', 'Kuhn, Jonas'), 1), (('Schauffler, Nadja', 'Kuhn, Jonas'), 1), (('Homburg, Timo', 'Klammt, Anne'), 1), (('Homburg, Timo', 'Offert, Fabian'), 1), (('Homburg, Timo', 'Thiery, Florian'), 1), (('Klammt, Anne', 'Offert, Fabian'), 1), (('Klammt, Anne', 'Thiery, Florian'), 1), (('Offert, Fabian', 'Thiery, Florian'), 1), (('Mayer, Manuela', 'Kurz, Stephan'), 1), (('Mayer, Manuela', 'Yilmaz, Yasir'), 1), (('Mayer, Manuela', 'Sonnberger, Jakob'), 1), (('Kurz, Stephan', 'Yilmaz, Yasir'), 1), (('Kurz, Stephan', 'Sonnberger, Jakob'), 1), (('Yilmaz, Yasir', 'Sonnberger, Jakob'), 1), (('Glas, Julia', 'Wolff, Christian'), 1), (('Glas, Julia', 'Ludwig, Bernd'), 1), (('Glas, Julia', 'Achmann, Michael'), 1), (('Wolff, Christian', 'Ludwig, Bernd'), 1), (('Wolff, Christian', 'Achmann, Michael'), 1), (('Ludwig, Bernd', 'Achmann, Michael'), 1), (('Blumtritt, Jonathan', 'Cugliana, Elisa'), 1), (('Blumtritt, Jonathan', 'Hegel, Philipp'), 1), (('Blumtritt, Jonathan', 'Hensen, Kilian'), 1), (('Blumtritt, Jonathan', 'Hörnschemeyer, Jörg'), 1), (('Blumtritt, Jonathan', 'Kudella, Christoph'), 1), (('Blumtritt, Jonathan', 'Lordick, Harald'), 1), (('Blumtritt, Jonathan', 'Neuber, Frederike'), 1), (('Blumtritt, Jonathan', 'Neuefeind, Claes'), 1), (('Blumtritt, Jonathan', 'Schulz, Daniela'), 1), (('Blumtritt, Jonathan', 'Seltmann, Melanie Elisabeth-H.'), 1), (('Blumtritt, Jonathan', 'Sievers, Martin'), 1), (('Cugliana, Elisa', 'Hegel, Philipp'), 1), (('Cugliana, Elisa', 'Hensen, Kilian'), 1), (('Cugliana, Elisa', 'Hörnschemeyer, Jörg'), 1), (('Cugliana, Elisa', 'Kudella, Christoph'), 1), (('Cugliana, Elisa', 'Lordick, Harald'), 1), (('Cugliana, Elisa', 'Neuber, Frederike'), 1), (('Cugliana, Elisa', 'Neuefeind, Claes'), 1), (('Cugliana, Elisa', 'Schulz, Daniela'), 1), (('Cugliana, Elisa', 'Seltmann, Melanie Elisabeth-H.'), 1), (('Cugliana, Elisa', 'Sievers, Martin'), 1), (('Cugliana, Elisa', 'Gengnagel, Tessa'), 1), (('Hegel, Philipp', 'Hensen, Kilian'), 1), (('Hegel, Philipp', 'Hörnschemeyer, Jörg'), 1), (('Hegel, Philipp', 'Kudella, Christoph'), 1), (('Hegel, Philipp', 'Lordick, Harald'), 1), (('Hegel, Philipp', 'Neuber, Frederike'), 1), (('Hegel, Philipp', 'Neuefeind, Claes'), 1), (('Hegel, Philipp', 'Schulz, Daniela'), 1), (('Hegel, Philipp', 'Seltmann, Melanie Elisabeth-H.'), 1), (('Hegel, Philipp', 'Sievers, Martin'), 1), (('Hegel, Philipp', 'Gengnagel, Tessa'), 1), (('Hensen, Kilian', 'Hörnschemeyer, Jörg'), 1), (('Hensen, Kilian', 'Kudella, Christoph'), 1), (('Hensen, Kilian', 'Lordick, Harald'), 1), (('Hensen, Kilian', 'Neuber, Frederike'), 1), (('Hensen, Kilian', 'Neuefeind, Claes'), 1), (('Hensen, Kilian', 'Schulz, Daniela'), 1), (('Hensen, Kilian', 'Seltmann, Melanie Elisabeth-H.'), 1), (('Hensen, Kilian', 'Sievers, Martin'), 1), (('Hensen, Kilian', 'Gengnagel, Tessa'), 1), (('Hörnschemeyer, Jörg', 'Kudella, Christoph'), 1), (('Hörnschemeyer, Jörg', 'Lordick, Harald'), 1), (('Hörnschemeyer, Jörg', 'Neuber, Frederike'), 1), (('Hörnschemeyer, Jörg', 'Neuefeind, Claes'), 1), (('Hörnschemeyer, Jörg', 'Schulz, Daniela'), 1), (('Hörnschemeyer, Jörg', 'Seltmann, Melanie Elisabeth-H.'), 1), (('Hörnschemeyer, Jörg', 'Sievers, Martin'), 1), (('Hörnschemeyer, Jörg', 'Gengnagel, Tessa'), 1), (('Kudella, Christoph', 'Lordick, Harald'), 1), (('Kudella, Christoph', 'Neuber, Frederike'), 1), (('Kudella, Christoph', 'Neuefeind, Claes'), 1), (('Kudella, Christoph', 'Schulz, Daniela'), 1), (('Kudella, Christoph', 'Seltmann, Melanie Elisabeth-H.'), 1), (('Kudella, Christoph', 'Sievers, Martin'), 1), (('Kudella, Christoph', 'Gengnagel, Tessa'), 1), (('Lordick, Harald', 'Neuber, Frederike'), 1), (('Lordick, Harald', 'Neuefeind, Claes'), 1), (('Lordick, Harald', 'Schulz, Daniela'), 1), (('Lordick, Harald', 'Seltmann, Melanie Elisabeth-H.'), 1), (('Lordick, Harald', 'Sievers, Martin'), 1), (('Lordick, Harald', 'Gengnagel, Tessa'), 1), (('Neuber, Frederike', 'Neuefeind, Claes'), 1), (('Neuber, Frederike', 'Schulz, Daniela'), 1), (('Neuber, Frederike', 'Seltmann, Melanie Elisabeth-H.'), 1), (('Neuber, Frederike', 'Sievers, Martin'), 1), (('Neuber, Frederike', 'Gengnagel, Tessa'), 1), (('Neuefeind, Claes', 'Schulz, Daniela'), 1), (('Neuefeind, Claes', 'Seltmann, Melanie Elisabeth-H.'), 1), (('Neuefeind, Claes', 'Sievers, Martin'), 1), (('Neuefeind, Claes', 'Gengnagel, Tessa'), 1), (('Schulz, Daniela', 'Seltmann, Melanie Elisabeth-H.'), 1), (('Schulz, Daniela', 'Sievers, Martin'), 1), (('Schulz, Daniela', 'Gengnagel, Tessa'), 1), (('Seltmann, Melanie Elisabeth-H.', 'Sievers, Martin'), 1), (('Seltmann, Melanie Elisabeth-H.', 'Gengnagel, Tessa'), 1), (('Sievers, Martin', 'Gengnagel, Tessa'), 1), (('Dietrich, Elisabeth', 'Kolbe, Ines'), 1), (('Tseng, Chiao-I', 'Liebl, Bernhard'), 1), (('Tseng, Chiao-I', 'Burghardt, Manuel'), 1), (('Tseng, Chiao-I', 'Bateman, John'), 1), (('Liebl, Bernhard', 'Burghardt, Manuel'), 1), (('Liebl, Bernhard', 'Bateman, John'), 1), (('Burghardt, Manuel', 'Bateman, John'), 1), (('Howanitz, Gernot', 'Dang, Sarah-Mai'), 1), (('Howanitz, Gernot', 'Diecke, Josephine'), 1), (('Howanitz, Gernot', 'Ewerth, Ralph'), 1), (('Howanitz, Gernot', 'Lameris, Bregt'), 1), (('Howanitz, Gernot', 'Scherer, Thomas'), 1), (('Howanitz, Gernot', 'Vukovic, Teodora'), 1), (('Howanitz, Gernot', 'Baresch, Ariadne'), 1), (('Dang, Sarah-Mai', 'Diecke, Josephine'), 1), (('Dang, Sarah-Mai', 'Ewerth, Ralph'), 1), (('Dang, Sarah-Mai', 'Lameris, Bregt'), 1), (('Dang, Sarah-Mai', 'Scherer, Thomas'), 1), (('Dang, Sarah-Mai', 'Vukovic, Teodora'), 1), (('Dang, Sarah-Mai', 'Baresch, Ariadne'), 1), (('Diecke, Josephine', 'Ewerth, Ralph'), 1), (('Diecke, Josephine', 'Lameris, Bregt'), 1), (('Diecke, Josephine', 'Scherer, Thomas'), 1), (('Diecke, Josephine', 'Vukovic, Teodora'), 1), (('Diecke, Josephine', 'Baresch, Ariadne'), 1), (('Ewerth, Ralph', 'Lameris, Bregt'), 1), (('Ewerth, Ralph', 'Scherer, Thomas'), 1), (('Ewerth, Ralph', 'Vukovic, Teodora'), 1), (('Ewerth, Ralph', 'Baresch, Ariadne'), 1), (('Lameris, Bregt', 'Scherer, Thomas'), 1), (('Lameris, Bregt', 'Vukovic, Teodora'), 1), (('Lameris, Bregt', 'Baresch, Ariadne'), 1), (('Scherer, Thomas', 'Vukovic, Teodora'), 1), (('Scherer, Thomas', 'Baresch, Ariadne'), 1), (('Vukovic, Teodora', 'Baresch, Ariadne'), 1), (('Gius, Evelyn', 'Schöch, Christof'), 1), (('Gius, Evelyn', 'Trilcke, Peer'), 1), (('Gius, Evelyn', 'Gerstorfer, Dominik'), 1), (('Gius, Evelyn', 'Guhr, Svenja'), 1), (('Gius, Evelyn', 'Ripoll, Elodie'), 1), (('Gius, Evelyn', 'Sluyter-Gäthje, Henny'), 1), (('Schöch, Christof', 'Trilcke, Peer'), 1), (('Schöch, Christof', 'Gerstorfer, Dominik'), 1), (('Schöch, Christof', 'Guhr, Svenja'), 1), (('Schöch, Christof', 'Ripoll, Elodie'), 1), (('Schöch, Christof', 'Sluyter-Gäthje, Henny'), 1), (('Trilcke, Peer', 'Gerstorfer, Dominik'), 1), (('Trilcke, Peer', 'Guhr, Svenja'), 1), (('Trilcke, Peer', 'Ripoll, Elodie'), 1), (('Trilcke, Peer', 'Sluyter-Gäthje, Henny'), 1), (('Gerstorfer, Dominik', 'Guhr, Svenja'), 1), (('Gerstorfer, Dominik', 'Ripoll, Elodie'), 1), (('Gerstorfer, Dominik', 'Sluyter-Gäthje, Henny'), 1), (('Guhr, Svenja', 'Ripoll, Elodie'), 1), (('Guhr, Svenja', 'Sluyter-Gäthje, Henny'), 1), (('Ripoll, Elodie', 'Sluyter-Gäthje, Henny'), 1), (('Czmiel, Alexander', 'Henny-Krahmer, Ulrike'), 1), (('Czmiel, Alexander', 'Jettka, Daniel'), 1), (('Henny-Krahmer, Ulrike', 'Jettka, Daniel'), 1), (('Niemann, Klara', 'Klammt, Anne'), 1), (('Gengnagel, Tessa', 'Probst, Nora'), 1), (('Gengnagel, Tessa', 'Gerber, Anja'), 1), (('Gengnagel, Tessa', 'Dang, Sarah-Mai'), 1), (('Gengnagel, Tessa', 'Duan, Tinghui'), 1), (('Gengnagel, Tessa', 'Grallert , Till'), 1), (('Gengnagel, Tessa', 'Keck, Jana'), 1), (('Gengnagel, Tessa', 'Nyhan, Julianne'), 1), (('Lang, Sarah', 'Gerber, Anja'), 1), (('Lang, Sarah', 'Dang, Sarah-Mai'), 1), (('Lang, Sarah', 'Duan, Tinghui'), 1), (('Lang, Sarah', 'Grallert , Till'), 1), (('Lang, Sarah', 'Keck, Jana'), 1), (('Lang, Sarah', 'Nyhan, Julianne'), 1), (('Probst, Nora', 'Gerber, Anja'), 1), (('Probst, Nora', 'Dang, Sarah-Mai'), 1), (('Probst, Nora', 'Duan, Tinghui'), 1), (('Probst, Nora', 'Grallert , Till'), 1), (('Probst, Nora', 'Keck, Jana'), 1), (('Probst, Nora', 'Nyhan, Julianne'), 1), (('Gerber, Anja', 'Dang, Sarah-Mai'), 1), (('Gerber, Anja', 'Duan, Tinghui'), 1), (('Gerber, Anja', 'Grallert , Till'), 1), (('Gerber, Anja', 'Keck, Jana'), 1), (('Gerber, Anja', 'Nyhan, Julianne'), 1), (('Dang, Sarah-Mai', 'Duan, Tinghui'), 1), (('Dang, Sarah-Mai', 'Grallert , Till'), 1), (('Dang, Sarah-Mai', 'Keck, Jana'), 1), (('Dang, Sarah-Mai', 'Nyhan, Julianne'), 1), (('Duan, Tinghui', 'Grallert , Till'), 1), (('Duan, Tinghui', 'Keck, Jana'), 1), (('Duan, Tinghui', 'Nyhan, Julianne'), 1), (('Grallert , Till', 'Keck, Jana'), 1), (('Grallert , Till', 'Nyhan, Julianne'), 1), (('Keck, Jana', 'Nyhan, Julianne'), 1), (('Varachkina, Hanna', 'Barth, Florian'), 1), (('Varachkina, Hanna', 'Dönicke, Tillmann'), 1), (('Varachkina, Hanna', 'Biermann, Johannes'), 1), (('Varachkina, Hanna', 'Altmann, Friederike'), 1), (('Varachkina, Hanna', 'Neitzke, Thorben'), 1), (('Varachkina, Hanna', 'Sporleder, Caroline'), 1), (('Barth, Florian', 'Dönicke, Tillmann'), 1), (('Barth, Florian', 'Biermann, Johannes'), 1), (('Barth, Florian', 'Altmann, Friederike'), 1), (('Barth, Florian', 'Neitzke, Thorben'), 1), (('Barth, Florian', 'Sporleder, Caroline'), 1), (('Dönicke, Tillmann', 'Biermann, Johannes'), 1), (('Dönicke, Tillmann', 'Altmann, Friederike'), 1), (('Dönicke, Tillmann', 'Neitzke, Thorben'), 1), (('Dönicke, Tillmann', 'Sporleder, Caroline'), 1), (('Biermann, Johannes', 'Altmann, Friederike'), 1), (('Biermann, Johannes', 'Neitzke, Thorben'), 1), (('Biermann, Johannes', 'Sporleder, Caroline'), 1), (('Altmann, Friederike', 'Neitzke, Thorben'), 1), (('Altmann, Friederike', 'Sporleder, Caroline'), 1), (('Neitzke, Thorben', 'Sporleder, Caroline'), 1), (('Herbst, Yannik', 'Roeder, Torsten'), 1), (('Herbst, Yannik', 'Reul, Christian'), 1), (('Roeder, Torsten', 'Reul, Christian'), 1), (('Kröger, Bärbel', 'Störiko, Johanna'), 1), (('Kröger, Bärbel', 'Wettlaufer, Jörg'), 1), (('Störiko, Johanna', 'Wettlaufer, Jörg'), 1), (('Börner, Ingo', 'Fischer, Frank'), 1), (('Börner, Ingo', 'Giovannini, Luca'), 1), (('Börner, Ingo', 'Lu, Christopher'), 1), (('Börner, Ingo', 'Milling, Carsten'), 1), (('Börner, Ingo', 'Skorinkin, Daniil'), 1), (('Börner, Ingo', 'Sluyter-Gäthje, Henny'), 1), (('Börner, Ingo', 'Trilcke, Peer'), 1), (('Fischer, Frank', 'Giovannini, Luca'), 1), (('Fischer, Frank', 'Lu, Christopher'), 1), (('Fischer, Frank', 'Milling, Carsten'), 1), (('Fischer, Frank', 'Skorinkin, Daniil'), 1), (('Fischer, Frank', 'Sluyter-Gäthje, Henny'), 1), (('Fischer, Frank', 'Trilcke, Peer'), 1), (('Giovannini, Luca', 'Lu, Christopher'), 1), (('Giovannini, Luca', 'Milling, Carsten'), 1), (('Giovannini, Luca', 'Skorinkin, Daniil'), 1), (('Giovannini, Luca', 'Sluyter-Gäthje, Henny'), 1), (('Giovannini, Luca', 'Trilcke, Peer'), 1), (('Lu, Christopher', 'Milling, Carsten'), 1), (('Lu, Christopher', 'Skorinkin, Daniil'), 1), (('Lu, Christopher', 'Sluyter-Gäthje, Henny'), 1), (('Lu, Christopher', 'Trilcke, Peer'), 1), (('Milling, Carsten', 'Skorinkin, Daniil'), 1), (('Milling, Carsten', 'Sluyter-Gäthje, Henny'), 1), (('Milling, Carsten', 'Trilcke, Peer'), 1), (('Skorinkin, Daniil', 'Sluyter-Gäthje, Henny'), 1), (('Skorinkin, Daniil', 'Trilcke, Peer'), 1), (('Sluyter-Gäthje, Henny', 'Trilcke, Peer'), 1), (('Hatzel, Hans Ole', 'Gius, Evelyn'), 1), (('Hatzel, Hans Ole', 'Stiemer, Haimo'), 1), (('Hatzel, Hans Ole', 'Biemann, Chris'), 1), (('Gius, Evelyn', 'Stiemer, Haimo'), 1), (('Gius, Evelyn', 'Biemann, Chris'), 1), (('Stiemer, Haimo', 'Biemann, Chris'), 1), (('Elwert, Frederik', 'Berger, Claudia'), 1), (('Elwert, Frederik', 'High-Steskal, Nicole'), 1), (('Elwert, Frederik', 'Neudecker, Clemens'), 1), (('Elwert, Frederik', 'Pons, Jessie'), 1), (('Elwert, Frederik', 'Akhlaq, Sara'), 1), (('Berger, Claudia', 'High-Steskal, Nicole'), 1), (('Berger, Claudia', 'Neudecker, Clemens'), 1), (('Berger, Claudia', 'Pons, Jessie'), 1), (('Berger, Claudia', 'Akhlaq, Sara'), 1), (('High-Steskal, Nicole', 'Neudecker, Clemens'), 1), (('High-Steskal, Nicole', 'Pons, Jessie'), 1), (('High-Steskal, Nicole', 'Akhlaq, Sara'), 1), (('Neudecker, Clemens', 'Pons, Jessie'), 1), (('Neudecker, Clemens', 'Akhlaq, Sara'), 1), (('Pons, Jessie', 'Akhlaq, Sara'), 1), (('Hall, Mark', 'Walsh, David'), 1), (('Leinen, Peter', 'Trippel, Thorsten'), 1), (('Leinen, Peter', 'Weimer, Lukas'), 1), (('Leinen, Peter', 'Witt, Andreas'), 1), (('Trippel, Thorsten', 'Weimer, Lukas'), 1), (('Trippel, Thorsten', 'Witt, Andreas'), 1), (('Weimer, Lukas', 'Witt, Andreas'), 1), (('Schelbert, Georg', 'Müller, Michael'), 1), (('Brunner, Annelen', 'Katrin, Hein'), 1), (('Nantke, Julia', 'Bläß, Sandra'), 1), (('Nantke, Julia', 'Flüh, Marie'), 1), (('Reul, Christian', 'Bläß, Sandra'), 1), (('Reul, Christian', 'Flüh, Marie'), 1), (('Lang, Christian', 'Tu, Ngoc Duyen Tanja'), 1), (('Lang, Christian', 'Schneider, Roman'), 1), (('Lang, Christian', 'Volodina, Anna'), 1), (('Tu, Ngoc Duyen Tanja', 'Schneider, Roman'), 1), (('Tu, Ngoc Duyen Tanja', 'Volodina, Anna'), 1), (('Schneider, Roman', 'Volodina, Anna'), 1), (('Balck, Sandra', 'Frank, Ingo'), 1), (('Kröncke, Merten', 'Konle, Leonard'), 1), (('Kröncke, Merten', 'Winko, Simone'), 1), (('Kröncke, Merten', 'Jannidis, Fotis'), 1), (('Konle, Leonard', 'Winko, Simone'), 1), (('Konle, Leonard', 'Jannidis, Fotis'), 1), (('Winko, Simone', 'Jannidis, Fotis'), 1), (('Brandes, Vanessa', 'Busch, Anna'), 1), (('Brandes, Vanessa', 'Trilcke, Peer'), 1), (('Brandes, Vanessa', 'Zimmermann, Ronny'), 1), (('Busch, Anna', 'Zimmermann, Ronny'), 1), (('Trilcke, Peer', 'Zimmermann, Ronny'), 1), (('Soethaert, Bart', 'Pechlivanos, Miltos'), 1), (('Gebhard, Henning', 'Jha, Vandana'), 1), (('Gebhard, Henning', 'Tögel, Philipp'), 1), (('Gebhard, Henning', 'Dipper, Stefanie'), 1), (('Gebhard, Henning', 'Elwert, Frederik'), 1), (('Gebhard, Henning', 'Tonne, Danah'), 1), (('Jha, Vandana', 'Tögel, Philipp'), 1), (('Jha, Vandana', 'Dipper, Stefanie'), 1), (('Jha, Vandana', 'Elwert, Frederik'), 1), (('Jha, Vandana', 'Tonne, Danah'), 1), (('Tögel, Philipp', 'Dipper, Stefanie'), 1), (('Tögel, Philipp', 'Elwert, Frederik'), 1), (('Tögel, Philipp', 'Tonne, Danah'), 1), (('Dipper, Stefanie', 'Elwert, Frederik'), 1), (('Dipper, Stefanie', 'Tonne, Danah'), 1), (('Elwert, Frederik', 'Tonne, Danah'), 1), (('Klaes, Jan Sebastian', 'Krüger, Katharina'), 1), (('Klaes, Jan Sebastian', 'Leonhardt, Susann'), 1), (('Klaes, Jan Sebastian', 'Nieländer, Maret'), 1), (('Klaes, Jan Sebastian', 'Sommer, Kai'), 1), (('Klaes, Jan Sebastian', 'Towara, Nadine'), 1), (('Krüger, Katharina', 'Leonhardt, Susann'), 1), (('Krüger, Katharina', 'Nieländer, Maret'), 1), (('Krüger, Katharina', 'Sommer, Kai'), 1), (('Krüger, Katharina', 'Towara, Nadine'), 1), (('Leonhardt, Susann', 'Nieländer, Maret'), 1), (('Leonhardt, Susann', 'Sommer, Kai'), 1), (('Leonhardt, Susann', 'Towara, Nadine'), 1), (('Nieländer, Maret', 'Sommer, Kai'), 1), (('Nieländer, Maret', 'Towara, Nadine'), 1), (('Sommer, Kai', 'Towara, Nadine'), 1), (('Lang, Sarah', 'Borek, Luise'), 1), (('Borek, Luise', 'Probst, Nora'), 1), (('Ströbel, Phillip', 'Hodel, Tobias'), 1), (('Ströbel, Phillip', 'Fischer, Andreas'), 1), (('Ströbel, Phillip', 'Scius, Anna'), 1), (('Ströbel, Phillip', 'Wolf, Beat'), 1), (('Ströbel, Phillip', 'Janka, Anna'), 1), (('Ströbel, Phillip', 'Widmer, Jonas'), 1), (('Ströbel, Phillip', 'Scheurer, Patricia'), 1), (('Ströbel, Phillip', 'Volk, Martin'), 1), (('Hodel, Tobias', 'Fischer, Andreas'), 1), (('Hodel, Tobias', 'Scius, Anna'), 1), (('Hodel, Tobias', 'Wolf, Beat'), 1), (('Hodel, Tobias', 'Janka, Anna'), 1), (('Hodel, Tobias', 'Widmer, Jonas'), 1), (('Hodel, Tobias', 'Scheurer, Patricia'), 1), (('Hodel, Tobias', 'Volk, Martin'), 1), (('Fischer, Andreas', 'Scius, Anna'), 1), (('Fischer, Andreas', 'Wolf, Beat'), 1), (('Fischer, Andreas', 'Janka, Anna'), 1), (('Fischer, Andreas', 'Widmer, Jonas'), 1), (('Fischer, Andreas', 'Scheurer, Patricia'), 1), (('Fischer, Andreas', 'Volk, Martin'), 1), (('Scius, Anna', 'Wolf, Beat'), 1), (('Scius, Anna', 'Janka, Anna'), 1), (('Scius, Anna', 'Widmer, Jonas'), 1), (('Scius, Anna', 'Scheurer, Patricia'), 1), (('Scius, Anna', 'Volk, Martin'), 1), (('Wolf, Beat', 'Janka, Anna'), 1), (('Wolf, Beat', 'Widmer, Jonas'), 1), (('Wolf, Beat', 'Scheurer, Patricia'), 1), (('Wolf, Beat', 'Volk, Martin'), 1), (('Janka, Anna', 'Widmer, Jonas'), 1), (('Janka, Anna', 'Scheurer, Patricia'), 1), (('Janka, Anna', 'Volk, Martin'), 1), (('Widmer, Jonas', 'Scheurer, Patricia'), 1), (('Widmer, Jonas', 'Volk, Martin'), 1), (('Scheurer, Patricia', 'Volk, Martin'), 1), (('Christ, Andreas', 'Diebel, Richard'), 1), (('Christ, Andreas', 'Henzel, Katrin'), 1), (('Christ, Andreas', 'Petersen, Britta'), 1), (('Christ, Andreas', 'Vetter, Angila'), 1), (('Diebel, Richard', 'Henzel, Katrin'), 1), (('Diebel, Richard', 'Petersen, Britta'), 1), (('Diebel, Richard', 'Vetter, Angila'), 1), (('Henzel, Katrin', 'Petersen, Britta'), 1), (('Henzel, Katrin', 'Vetter, Angila'), 1), (('Petersen, Britta', 'Vetter, Angila'), 1), (('Meier-Vieracker, Simon', 'Weigelt, Lucie'), 1), (('Meier-Vieracker, Simon', 'Dutschke, René'), 1), (('Meier-Vieracker, Simon', 'Lasch, Alexander'), 1), (('Meier-Vieracker, Simon', 'Scherbaum, Stefan'), 1), (('Meier-Vieracker, Simon', 'Seemann, Sophia'), 1), (('Meier-Vieracker, Simon', 'Pfeifer, Ulrike'), 1), (('Weigelt, Lucie', 'Dutschke, René'), 1), (('Weigelt, Lucie', 'Lasch, Alexander'), 1), (('Weigelt, Lucie', 'Scherbaum, Stefan'), 1), (('Weigelt, Lucie', 'Seemann, Sophia'), 1), (('Weigelt, Lucie', 'Pfeifer, Ulrike'), 1), (('Dutschke, René', 'Lasch, Alexander'), 1), (('Dutschke, René', 'Scherbaum, Stefan'), 1), (('Dutschke, René', 'Seemann, Sophia'), 1), (('Dutschke, René', 'Pfeifer, Ulrike'), 1), (('Lasch, Alexander', 'Scherbaum, Stefan'), 1), (('Lasch, Alexander', 'Seemann, Sophia'), 1), (('Lasch, Alexander', 'Pfeifer, Ulrike'), 1), (('Scherbaum, Stefan', 'Seemann, Sophia'), 1), (('Scherbaum, Stefan', 'Pfeifer, Ulrike'), 1), (('Seemann, Sophia', 'Pfeifer, Ulrike'), 1), (('Schneider, Stefanie', 'Kristen, Maximilian'), 1), (('Schneider, Stefanie', 'Vollmer, Ricarda'), 1), (('Kristen, Maximilian', 'Vollmer, Ricarda'), 1), (('Andresen, Melanie', 'Gaertner, Markus'), 1), (('Andresen, Melanie', 'Jacke, Janina'), 1), (('Andresen, Melanie', 'Ketschik, Nora'), 1), (('Andresen, Melanie', 'Pichler, Axel'), 1), (('Gaertner, Markus', 'Jacke, Janina'), 1), (('Gaertner, Markus', 'Ketschik, Nora'), 1), (('Gaertner, Markus', 'Pichler, Axel'), 1), (('Jacke, Janina', 'Ketschik, Nora'), 1), (('Jacke, Janina', 'Pichler, Axel'), 1), (('Ketschik, Nora', 'Pichler, Axel'), 1), (('Dieckmann, Lisa', 'Steyer, Timo'), 1), (('Dieckmann, Lisa', 'Walkowski, Niels-Oliver'), 1), (('Dieckmann, Lisa', 'Weis, Joëlle'), 1), (('Dieckmann, Lisa', 'Wuttke, Ulrike'), 1), (('Steyer, Timo', 'Walkowski, Niels-Oliver'), 1), (('Steyer, Timo', 'Weis, Joëlle'), 1), (('Steyer, Timo', 'Wuttke, Ulrike'), 1), (('Walkowski, Niels-Oliver', 'Weis, Joëlle'), 1), (('Walkowski, Niels-Oliver', 'Wuttke, Ulrike'), 1), (('Weis, Joëlle', 'Wuttke, Ulrike'), 1), (('Wagner, Sarah', 'Dubova, Alona'), 1), (('Wagner, Sarah', 'Marquart, Aron'), 1), (('Dubova, Alona', 'Marquart, Aron'), 1), (('Hinzmann, Maria', 'Klee, Anne'), 1), (('Hinzmann, Maria', 'Konstanciak, Johanna'), 1), (('Hinzmann, Maria', 'Röttgermann, Julia'), 1), (('Hinzmann, Maria', 'Schöch, Christof'), 1), (('Hinzmann, Maria', 'Steffes, Moritz'), 1), (('Klee, Anne', 'Konstanciak, Johanna'), 1), (('Klee, Anne', 'Röttgermann, Julia'), 1), (('Klee, Anne', 'Schöch, Christof'), 1), (('Klee, Anne', 'Steffes, Moritz'), 1), (('Konstanciak, Johanna', 'Röttgermann, Julia'), 1), (('Konstanciak, Johanna', 'Schöch, Christof'), 1), (('Konstanciak, Johanna', 'Steffes, Moritz'), 1), (('Röttgermann, Julia', 'Schöch, Christof'), 1), (('Röttgermann, Julia', 'Steffes, Moritz'), 1), (('Schöch, Christof', 'Steffes, Moritz'), 1), (('Glawion, Anastasia', 'Weitin, Thomas'), 1), (('Eiser, Isabel', 'Fischer, Tim'), 1), (('Eiser, Isabel', 'Petersen Frey, Fynn'), 1), (('Fischer, Tim', 'Petersen Frey, Fynn'), 1), (('Schneider, Florian', 'Petersen Frey, Fynn'), 1), (('Koch, Gertraud', 'Biemann, Chris'), 1), (('Koch, Gertraud', 'Petersen Frey, Fynn'), 1), (('Biemann, Chris', 'Petersen Frey, Fynn'), 1), (('Jung, Kerstin', 'Helling, Patrick'), 1), (('Jung, Kerstin', 'Pielström, Steffen'), 1), (('Jung, Kerstin', 'Kababgi, Daniel'), 1), (('Helling, Patrick', 'Pielström, Steffen'), 1), (('Helling, Patrick', 'Kababgi, Daniel'), 1), (('Pielström, Steffen', 'Kababgi, Daniel'), 1), (('Dürfeld, Michael', 'Stein, Christian'), 1), (('Dürfeld, Michael', 'List, Ferdinand'), 1), (('Dürfeld, Michael', 'Rahman, Zead'), 1), (('Dürfeld, Michael', 'Dias, Renata'), 1), (('Dürfeld, Michael', 'Thran, Niklas'), 1), (('Dürfeld, Michael', 'Marschner, Michèle'), 1), (('Stein, Christian', 'List, Ferdinand'), 1), (('Stein, Christian', 'Rahman, Zead'), 1), (('Stein, Christian', 'Dias, Renata'), 1), (('Stein, Christian', 'Thran, Niklas'), 1), (('Stein, Christian', 'Marschner, Michèle'), 1), (('List, Ferdinand', 'Rahman, Zead'), 1), (('List, Ferdinand', 'Dias, Renata'), 1), (('List, Ferdinand', 'Thran, Niklas'), 1), (('List, Ferdinand', 'Marschner, Michèle'), 1), (('Rahman, Zead', 'Dias, Renata'), 1), (('Rahman, Zead', 'Thran, Niklas'), 1), (('Rahman, Zead', 'Marschner, Michèle'), 1), (('Dias, Renata', 'Thran, Niklas'), 1), (('Dias, Renata', 'Marschner, Michèle'), 1), (('Thran, Niklas', 'Marschner, Michèle'), 1), (('Burghardt, Manuel', 'Geiger, Jonathan D.'), 1), (('Burghardt, Manuel', 'Horstmann, Jan'), 1), (('Burghardt, Manuel', 'Kleymann, Rabea'), 1), (('Burghardt, Manuel', 'Schmitz, Jascha'), 1), (('Burghardt, Manuel', 'Schwandt, Silke'), 1), (('Geiger, Jonathan D.', 'Horstmann, Jan'), 1), (('Geiger, Jonathan D.', 'Kleymann, Rabea'), 1), (('Geiger, Jonathan D.', 'Schmitz, Jascha'), 1), (('Geiger, Jonathan D.', 'Schwandt, Silke'), 1), (('Horstmann, Jan', 'Kleymann, Rabea'), 1), (('Horstmann, Jan', 'Schmitz, Jascha'), 1), (('Horstmann, Jan', 'Schwandt, Silke'), 1), (('Kleymann, Rabea', 'Schmitz, Jascha'), 1), (('Kleymann, Rabea', 'Schwandt, Silke'), 1), (('Schmitz, Jascha', 'Schwandt, Silke'), 1), (('Wehrheim, Lino', 'Borst, Janos'), 1), (('Wehrheim, Lino', 'Burghardt, Manuel'), 1), (('Wehrheim, Lino', 'Niekler, Andreas'), 1), (('Borst, Janos', 'Burghardt, Manuel'), 1), (('Borst, Janos', 'Niekler, Andreas'), 1), (('Burghardt, Manuel', 'Niekler, Andreas'), 1), (('Nowakowski, Matthias', 'Berndt, Axel'), 1), (('Nowakowski, Matthias', 'Hadjakos, Aristotelis'), 1), (('Berndt, Axel', 'Hadjakos, Aristotelis'), 1), (('Bläß, Sandra', 'Nantke, Julia'), 1), (('Bläß, Sandra', 'Reul, Christian'), 1), (('Flüh, Marie', 'Nantke, Julia'), 1), (('Flüh, Marie', 'Reul, Christian'), 1), (('Schenk, Nicolas', 'Blessing, André'), 1), (('Schenk, Nicolas', 'Hein, Pascal'), 1), (('Schenk, Nicolas', 'Hess, Jan'), 1), (('Schenk, Nicolas', 'Jung, Kerstin'), 1), (('Schenk, Nicolas', 'Schlesinger, Claus-Michael'), 1), (('Blessing, André', 'Hein, Pascal'), 1), (('Blessing, André', 'Jung, Kerstin'), 1), (('Blessing, André', 'Schlesinger, Claus-Michael'), 1), (('Hein, Pascal', 'Jung, Kerstin'), 1), (('Hein, Pascal', 'Schlesinger, Claus-Michael'), 1), (('Hess, Jan', 'Jung, Kerstin'), 1), (('Hess, Jan', 'Schlesinger, Claus-Michael'), 1), (('Jung, Kerstin', 'Schlesinger, Claus-Michael'), 1), (('Fischer, Frank', 'Illmer, Viktor Jonathan'), 1), (('Fischer, Frank', 'Regeler, Lukas Nils'), 1), (('Fischer, Frank', 'Müller-Tamm, Jutta'), 1), (('Fischer, Frank', 'von Berenberg-Gossler, Luise'), 1), (('Fischer, Frank', 'Diehr, Franziska'), 1), (('Illmer, Viktor Jonathan', 'Regeler, Lukas Nils'), 1), (('Illmer, Viktor Jonathan', 'Müller-Tamm, Jutta'), 1), (('Illmer, Viktor Jonathan', 'von Berenberg-Gossler, Luise'), 1), (('Illmer, Viktor Jonathan', 'Diehr, Franziska'), 1), (('Regeler, Lukas Nils', 'Müller-Tamm, Jutta'), 1), (('Regeler, Lukas Nils', 'von Berenberg-Gossler, Luise'), 1), (('Regeler, Lukas Nils', 'Diehr, Franziska'), 1), (('Müller-Tamm, Jutta', 'von Berenberg-Gossler, Luise'), 1), (('Müller-Tamm, Jutta', 'Diehr, Franziska'), 1), (('von Berenberg-Gossler, Luise', 'Diehr, Franziska'), 1), (('Ehlers, Lena', 'Andresen, Melanie'), 1), (('Kurzmeier, Michael', 'O’Sullivan, James'), 1), (('Kurzmeier, Michael', 'Murphy, Órla'), 1), (('Kurzmeier, Michael', 'Pidd, Michael'), 1), (('Kurzmeier, Michael', 'Wessels, Bridgette'), 1), (('O’Sullivan, James', 'Murphy, Órla'), 1), (('O’Sullivan, James', 'Pidd, Michael'), 1), (('O’Sullivan, James', 'Wessels, Bridgette'), 1), (('Murphy, Órla', 'Pidd, Michael'), 1), (('Murphy, Órla', 'Wessels, Bridgette'), 1), (('Pidd, Michael', 'Wessels, Bridgette'), 1), (('Bamberg, Claudia', 'Lambertz, Michael'), 1), (('Lambertz, Michael', 'Petkov, Radoslav'), 1), (('Horstmann, Jan', 'Lück, Christian'), 1), (('Horstmann, Jan', 'Normann, Immanuel'), 1), (('Lück, Christian', 'Normann, Immanuel'), 1), (('Hagener, Malte', 'Stanicka-Brzezicka, Ksenia'), 1), (('Hagener, Malte', 'Krause, Celia'), 1), (('Hagener, Malte', 'Eggersglüß, Christoph'), 1), (('Stanicka-Brzezicka, Ksenia', 'Krause, Celia'), 1), (('Stanicka-Brzezicka, Ksenia', 'Eggersglüß, Christoph'), 1), (('Krause, Celia', 'Eggersglüß, Christoph'), 1), (('Windhager, Florian', 'Liem, Johannes'), 1), (('Windhager, Florian', 'Mayr, Eva'), 1), (('Windhager, Florian', 'Schlögl, Matthias'), 1), (('Windhager, Florian', 'Ebel, Carla'), 1), (('Windhager, Florian', 'Probst, Stefan'), 1), (('Windhager, Florian', 'Beck, Samuel'), 1), (('Windhager, Florian', 'Koch, Steffen'), 1), (('Liem, Johannes', 'Schlögl, Matthias'), 1), (('Liem, Johannes', 'Ebel, Carla'), 1), (('Liem, Johannes', 'Probst, Stefan'), 1), (('Liem, Johannes', 'Beck, Samuel'), 1), (('Liem, Johannes', 'Koch, Steffen'), 1), (('Mayr, Eva', 'Schlögl, Matthias'), 1), (('Mayr, Eva', 'Ebel, Carla'), 1), (('Mayr, Eva', 'Probst, Stefan'), 1), (('Mayr, Eva', 'Beck, Samuel'), 1), (('Mayr, Eva', 'Koch, Steffen'), 1), (('Schlögl, Matthias', 'Ebel, Carla'), 1), (('Schlögl, Matthias', 'Probst, Stefan'), 1), (('Schlögl, Matthias', 'Beck, Samuel'), 1), (('Schlögl, Matthias', 'Koch, Steffen'), 1), (('Ebel, Carla', 'Probst, Stefan'), 1), (('Ebel, Carla', 'Beck, Samuel'), 1), (('Ebel, Carla', 'Koch, Steffen'), 1), (('Probst, Stefan', 'Beck, Samuel'), 1), (('Probst, Stefan', 'Koch, Steffen'), 1), (('Beck, Samuel', 'Koch, Steffen'), 1), (('Burckhardt, Daniel', 'Hörnschemeyer, Jörg'), 1), (('Burckhardt, Daniel', 'König, Mareike'), 1), (('Burckhardt, Daniel', 'Schulz, Julian'), 1), (('Burckhardt, Daniel', 'Grallert, Till'), 1), (('Burckhardt, Daniel', 'Keck, Jana'), 1), (('Hörnschemeyer, Jörg', 'König, Mareike'), 1), (('Hörnschemeyer, Jörg', 'Schulz, Julian'), 1), (('Hörnschemeyer, Jörg', 'Grallert, Till'), 1), (('Hörnschemeyer, Jörg', 'Keck, Jana'), 1), (('König, Mareike', 'Schulz, Julian'), 1), (('König, Mareike', 'Grallert, Till'), 1), (('König, Mareike', 'Keck, Jana'), 1), (('Schulz, Julian', 'Grallert, Till'), 1), (('Schulz, Julian', 'Keck, Jana'), 1), (('Grallert, Till', 'Keck, Jana'), 1), (('Borek, Luise', 'Busch, Hannah'), 1), (('Borek, Luise', 'Ketschik, Nora'), 1), (('Busch, Hannah', 'Ketschik, Nora'), 1), (('Deicke, Aline', 'Wachter, Christian'), 1), (('Deicke, Aline', 'Feichtinger, Moritz'), 1), (('Deicke, Aline', 'Lemaire, Marina'), 1), (('Deicke, Aline', 'Schmunk, Stefan'), 1), (('Deicke, Aline', 'Hall, Mark'), 1), (('Deicke, Aline', 'Harvey, Francis'), 1), (('Deicke, Aline', 'Durdaği, A. Nursen'), 1), (('Wachter, Christian', 'Feichtinger, Moritz'), 1), (('Wachter, Christian', 'Lemaire, Marina'), 1), (('Wachter, Christian', 'Schmunk, Stefan'), 1), (('Wachter, Christian', 'Hall, Mark'), 1), (('Wachter, Christian', 'Harvey, Francis'), 1), (('Wachter, Christian', 'Durdaği, A. Nursen'), 1), (('Feichtinger, Moritz', 'Lemaire, Marina'), 1), (('Feichtinger, Moritz', 'Schmunk, Stefan'), 1), (('Feichtinger, Moritz', 'Hall, Mark'), 1), (('Feichtinger, Moritz', 'Harvey, Francis'), 1), (('Feichtinger, Moritz', 'Durdaği, A. Nursen'), 1), (('Lemaire, Marina', 'Schmunk, Stefan'), 1), (('Lemaire, Marina', 'Hall, Mark'), 1), (('Lemaire, Marina', 'Harvey, Francis'), 1), (('Lemaire, Marina', 'Durdaği, A. Nursen'), 1), (('Schmunk, Stefan', 'Hall, Mark'), 1), (('Schmunk, Stefan', 'Harvey, Francis'), 1), (('Schmunk, Stefan', 'Durdaği, A. Nursen'), 1), (('Hall, Mark', 'Harvey, Francis'), 1), (('Hall, Mark', 'Durdaği, A. Nursen'), 1), (('Harvey, Francis', 'Durdaği, A. Nursen'), 1), (('Tietz, Tabea', 'Bruns, Oleksandra'), 1), (('Tietz, Tabea', 'Fliegl, Heike'), 1), (('Tietz, Tabea', 'Posthumus, Etienne'), 1), (('Tietz, Tabea', 'Schrade, Torsten'), 1), (('Tietz, Tabea', 'Sack, Harald'), 1), (('Bruns, Oleksandra', 'Fliegl, Heike'), 1), (('Bruns, Oleksandra', 'Posthumus, Etienne'), 1), (('Bruns, Oleksandra', 'Schrade, Torsten'), 1), (('Bruns, Oleksandra', 'Sack, Harald'), 1), (('Fliegl, Heike', 'Posthumus, Etienne'), 1), (('Fliegl, Heike', 'Schrade, Torsten'), 1), (('Fliegl, Heike', 'Sack, Harald'), 1), (('Posthumus, Etienne', 'Schrade, Torsten'), 1), (('Posthumus, Etienne', 'Sack, Harald'), 1), (('Schrade, Torsten', 'Sack, Harald'), 1), (('Dinger, Patrick', 'Schellhammer, Stefan'), 1), (('Dinger, Patrick', 'Troglauer, Patrick'), 1), (('Horstmann, Jan', 'Schellhammer, Stefan'), 1), (('Horstmann, Jan', 'Troglauer, Patrick'), 1), (('Schellhammer, Stefan', 'Troglauer, Patrick'), 1), (('Baum, Constanze', 'Dahnke, Michael'), 1), (('Baum, Constanze', 'Dinger, Patrick'), 1), (('Baum, Constanze', 'Fadeeva, Yuliya'), 1), (('Baum, Constanze', 'Horstmann, Jan'), 1), (('Baum, Constanze', 'Seltmann, Melanie Elisabeth-H.'), 1), (('Baum, Constanze', 'Steyer, Timo'), 1), (('Dahnke, Michael', 'Dinger, Patrick'), 1), (('Dahnke, Michael', 'Fadeeva, Yuliya'), 1), (('Dahnke, Michael', 'Horstmann, Jan'), 1), (('Dahnke, Michael', 'Seltmann, Melanie Elisabeth-H.'), 1), (('Dahnke, Michael', 'Steyer, Timo'), 1), (('Dinger, Patrick', 'Fadeeva, Yuliya'), 1), (('Dinger, Patrick', 'Seltmann, Melanie Elisabeth-H.'), 1), (('Dinger, Patrick', 'Steyer, Timo'), 1), (('Fadeeva, Yuliya', 'Horstmann, Jan'), 1), (('Fadeeva, Yuliya', 'Seltmann, Melanie Elisabeth-H.'), 1), (('Fadeeva, Yuliya', 'Steyer, Timo'), 1), (('Horstmann, Jan', 'Seltmann, Melanie Elisabeth-H.'), 1), (('Horstmann, Jan', 'Steyer, Timo'), 1), (('Seltmann, Melanie Elisabeth-H.', 'Steyer, Timo'), 1), (('Hopp, Meike', 'von dem Bussche, Ruth'), 1), (('Noichl, Maximilian', 'Panzer, Lukas'), 1), (('Schumacher, Mareike', 'Meister, Malte'), 1), (('Schumacher, Mareike', 'Gerstorfer, Dominik'), 1), (('Meister, Malte', 'Gerstorfer, Dominik'), 1), (('Piel, Pattrick', 'Töpfer, Marlene'), 1), (('Piel, Pattrick', 'Günther, Johanna'), 1), (('Töpfer, Marlene', 'Günther, Johanna'), 1), (('Hunziker, Manuel', 'von Pippich, Waltraud'), 1), (('Hunziker, Manuel', 'Rensinghoff, Berenike'), 1), (('von Pippich, Waltraud', 'Rensinghoff, Berenike'), 1), (('Bürgermeister, Martina', 'Pektor, Katharina'), 1), (('Bürgermeister, Martina', 'Steindl, Christoph'), 1), (('Bürgermeister, Martina', 'Eigner, Johanna'), 1), (('Pektor, Katharina', 'Steindl, Christoph'), 1), (('Pektor, Katharina', 'Eigner, Johanna'), 1), (('Steindl, Christoph', 'Eigner, Johanna'), 1), (('Albani, Benedetta', 'Anokhina, Alexandra'), 1), (('Albani, Benedetta', 'Park, Yohan'), 1), (('Anokhina, Alexandra', 'Park, Yohan'), 1), (('Pollin, Christopher', 'Strutz, Sabrina'), 1), (('Pollin, Christopher', 'Steiner, Christian'), 1), (('Pollin, Christopher', 'Klug, Helmut'), 1), (('Strutz, Sabrina', 'Steiner, Christian'), 1), (('Strutz, Sabrina', 'Klug, Helmut'), 1), (('Steiner, Christian', 'Klug, Helmut'), 1), (('Baillot, Anne', 'Feidicker, Charlotte'), 1), (('Baillot, Anne', 'Gerber, Anja'), 1), (('Baillot, Anne', 'Roeder, Torsten'), 1), (('Feidicker, Charlotte', 'Gerber, Anja'), 1), (('Feidicker, Charlotte', 'Roeder, Torsten'), 1), (('Gerber, Anja', 'Roeder, Torsten'), 1), (('Lyding, Verena', 'Franzini, Greta'), 1), (('Kepper, Johannes', 'Münzmay, Andreas'), 1), (('Wuttke, Ulrike', 'Kampkaspar, Dario'), 1), (('Wuttke, Ulrike', 'Müller-Laackman, Jonas'), 1), (('Wuttke, Ulrike', 'Gengnagel, Tessa'), 1), (('Wuttke, Ulrike', 'Lang, Sarah'), 1), (('Wuttke, Ulrike', 'Karcher, Stefan'), 1), (('Wuttke, Ulrike', 'Schrade, Torsten'), 1), (('Kampkaspar, Dario', 'Müller-Laackman, Jonas'), 1), (('Kampkaspar, Dario', 'Gengnagel, Tessa'), 1), (('Kampkaspar, Dario', 'Lang, Sarah'), 1), (('Kampkaspar, Dario', 'Karcher, Stefan'), 1), (('Kampkaspar, Dario', 'Schrade, Torsten'), 1), (('Müller-Laackman, Jonas', 'Gengnagel, Tessa'), 1), (('Müller-Laackman, Jonas', 'Lang, Sarah'), 1), (('Müller-Laackman, Jonas', 'Karcher, Stefan'), 1), (('Müller-Laackman, Jonas', 'Schrade, Torsten'), 1), (('Gengnagel, Tessa', 'Karcher, Stefan'), 1), (('Gengnagel, Tessa', 'Schrade, Torsten'), 1), (('Lang, Sarah', 'Karcher, Stefan'), 1), (('Lang, Sarah', 'Schrade, Torsten'), 1), (('Karcher, Stefan', 'Schrade, Torsten'), 1), (('Jung, Kerstin', 'Hein, Pascal'), 1), (('Jung, Kerstin', 'Blessing, André'), 1), (('Jung, Kerstin', 'Hess, Jan'), 1), (('Jung, Kerstin', 'Kushnarenko, Volodymyr'), 1), (('Hein, Pascal', 'Blessing, André'), 1), (('Hein, Pascal', 'Kushnarenko, Volodymyr'), 1), (('Blessing, André', 'Kushnarenko, Volodymyr'), 1), (('Hess, Jan', 'Kushnarenko, Volodymyr'), 1), (('Haider, Thomas Nikolaus', 'Schennach, Stephanie'), 1), (('Haider, Thomas Nikolaus', 'Thelen, Julius'), 1), (('Haider, Thomas Nikolaus', 'Wesche, Jörg'), 1), (('Schennach, Stephanie', 'Thelen, Julius'), 1), (('Schennach, Stephanie', 'Wesche, Jörg'), 1), (('Thelen, Julius', 'Wesche, Jörg'), 1), (('Howanitz, Gernot', 'Kaltseis, Magdalena'), 1), (('Fischer, Tim', 'Eiser, Isabel'), 1), (('Fischer, Tim', 'Petersen-Frey, Fynn'), 1), (('Eiser, Isabel', 'Petersen-Frey, Fynn'), 1), (('Schneider, Florian', 'Petersen-Frey, Fynn'), 1), (('Petersen-Frey, Fynn', 'Biemann, Chris'), 1), (('Petersen-Frey, Fynn', 'Koch, Gertraud'), 1), (('Biemann, Chris', 'Koch, Gertraud'), 1)]]\n"
     ]
    }
   ],
   "source": [
    "# needed for network\n",
    "all_counted_authors = rank_authors(authors)\n",
    "coauthors_per_year = find_coauthors(authors)\n",
    "new_authors = find_new_authors(all_counted_authors)\n",
    "\n",
    "#needed for cooccurrence matrix\n",
    "most_significant_DHumanists_list = count_appearances_descending(all_authors)[:25]\n",
    "most_significant_DHumanists_dict = convert_tuples_to_dict(most_significant_DHumanists_list)\n",
    "significant_DH_teams = check_for_significant_teams(most_significant_DHumanists_list, coauthors_per_year)\n",
    "significant_teams_count = count_team_appearances(significant_DH_teams)"
   ]
  },
  {
   "attachments": {},
   "cell_type": "markdown",
   "metadata": {},
   "source": [
    "### RQ5: Network Visualizations\n",
    "In the next few lines of code, the network itself is being created. The nodes have to be added as well as the edges and their weights. In the end, the general algorithm of the network as well as some other parameters are defined. "
   ]
  },
  {
   "cell_type": "code",
   "execution_count": 229,
   "metadata": {
    "tags": [
     "cell #43"
    ]
   },
   "outputs": [],
   "source": [
    "# implementing the statistics for each year\n",
    "statistics_completely_new_authors = []\n",
    "\n",
    "i = 0\n",
    "for year in filenames_xml:\n",
    "      \n",
    "  # implementing the network itself for each year\n",
    "  g = Network(height='600px', width='100%', cdn_resources='remote', select_menu=True, font_color='black', filter_menu=True, neighborhood_highlight=True)\n",
    "  nxg = nx.complete_graph(0)\n",
    "  g.from_nx(nxg)\n",
    "  \n",
    "  # adding nodes and edges, determining colors and shapes, writing html file\n",
    "  add_nodes(all_counted_authors, i)\n",
    "  number_new_authors = change_color_new_authors(new_authors, i)\n",
    "  statistics_completely_new_authors.append(number_new_authors)\n",
    "  add_edges(coauthors_per_year, i)\n",
    "  generate_html_file(filenames_xml, i)\n",
    "  \n",
    "  i += 1"
   ]
  },
  {
   "attachments": {},
   "cell_type": "markdown",
   "metadata": {},
   "source": [
    "### RQ5: DataFrames for the collaborations of significant authors and for a statistic of (new) authors"
   ]
  },
  {
   "cell_type": "code",
   "execution_count": 118,
   "metadata": {},
   "outputs": [],
   "source": [
    "#creating a dataFrame that contains the names of significant authors and the times they collaborated\n",
    "cooccurrence_matrix = pd.DataFrame(index = most_significant_DHumanists_dict.keys(), columns = most_significant_DHumanists_dict.keys())\n",
    "cooccurrence_matrix['Total contributions to conference'] = most_significant_DHumanists_dict.values()\n",
    "\n",
    "#determining the right cell to enter the count of the team\n",
    "for duo in significant_teams_count:\n",
    "    cooccurrence_matrix.loc[duo[0], duo[1]] = significant_teams_count[duo]\n",
    "cooccurrence_matrix.fillna(0).to_csv('Figures/RQ5/RQ5__Cooccurrence_Matrix_Significant_Authors.csv')"
   ]
  },
  {
   "cell_type": "code",
   "execution_count": 222,
   "metadata": {
    "tags": [
     "cell #44"
    ]
   },
   "outputs": [],
   "source": [
    "total_number_authors = []\n",
    "for year in all_counted_authors:\n",
    "     total_number_authors.append(len(year))\n",
    "     \n",
    "d = {'Total Number of Contributing Authors': total_number_authors,\n",
    "     'New Authors': statistics_completely_new_authors}\n",
    "\n",
    "df_averages = pd.DataFrame(data = d, index = filenames_xml)\n",
    "df_averages['% of Completely New Authors'] = df_averages['New Authors'].div(df_averages['Total Number of Contributing Authors'])\n",
    "\n",
    "df_averages.T.to_csv('Figures/RQ5/RQ5__NewAuthors.csv')"
   ]
  },
  {
   "attachments": {},
   "cell_type": "markdown",
   "metadata": {},
   "source": [
    "### RQ5: Bar Chart Visualization of New Authors"
   ]
  },
  {
   "cell_type": "code",
   "execution_count": 223,
   "metadata": {
    "tags": [
     "cell #45"
    ]
   },
   "outputs": [],
   "source": [
    "bar_chart = pygal.Bar(style=custom_style, x_title='Years Observed', y_title='Total Numbers', title='Detailed Analysis of Authors and Contributions', truncate_legend = -1)\n",
    "bar_chart.title = 'Contributors to DHd Conferences'\n",
    "bar_chart.x_labels = filenames_xml\n",
    "bar_chart.add('All Contributors', df_averages.T.iloc[0])\n",
    "bar_chart.add('No Previous Contribution', df_averages.T.iloc[1])\n",
    "bar_chart.render_to_file('Figures/RQ5/RQ5__ContributorsAnalysis.svg')"
   ]
  },
  {
   "attachments": {},
   "cell_type": "markdown",
   "metadata": {},
   "source": [
    "==========================================================================================================================\n",
    "\n",
    "==========================================================================================================================\n",
    "\n",
    "=========================================================================================================================="
   ]
  },
  {
   "attachments": {},
   "cell_type": "markdown",
   "metadata": {},
   "source": [
    "## Research Question 6: Clustering of (Teams of) Authors and Certain Research Topics\n",
    "\n",
    "### *Which clusters of researchers can be found with regard to topics and how have the clusters been changing?* "
   ]
  },
  {
   "attachments": {},
   "cell_type": "markdown",
   "metadata": {},
   "source": [
    "### RQ6: Functions\n",
    "\n",
    "- Function *get_authors_and_topics*:\n",
    "\n",
    "This function takes two lists and one dictionary as input. One list - authors_full_list - contains all author names extracted from the xml files, sorted alphabetically. The second list contains the authors of each text so that it can be determined which text was written by whom. The input dictionary is the one returned by the function *find_document_topics*, which is already applied in RQ1, containing the most prominent topic of each document. These three input variables are used to infer which author has written on which (most salient) topic. This information is stored in the dictionary authors_and_topics, where each author name is a key and the values are lists containing the topics an author has written about. \n",
    "In order to make later visualizations more readible and understandable, the data is reduced to authors which have contributed in DHd-conferences at least eight times. The reduced dictionary of authors and topics is returned by the function.\n",
    "\n",
    "In this function, only the documents from index 231 on are taken into account. Those documents are the ones springing from xml files where the documents' authors are noted down in the xml markup.\n",
    "\n",
    "- Function *create_vectors*:\n",
    "\n",
    "*create_vectors* takes the dictionary from *get_authors_and_topics* as input and transforms the information on the authors' contributions to topics into a sparse vector representation. Through this, a vector with the length of the final topic number is created for each author (i.e. key of the dictionary), meaning that the vector contains a 0 where the author did not contribute to a topic. For topics the author contributed to, the vector contains an integer how often the author contributed to that topic. \n",
    "The function returns the dictionary with authors (keys) and vectors (values), as well as a list of only the vectors and a list of only the authors' names. "
   ]
  },
  {
   "cell_type": "code",
   "execution_count": 236,
   "metadata": {
    "tags": [
     "cell #47"
    ]
   },
   "outputs": [],
   "source": [
    "def get_authors_and_topics(authors_full_list, all_author_teams, main_topics, index_first_xml_document):\n",
    "    \n",
    "    authors_and_topics = {}\n",
    "    for name in sorted(authors_full_list):\n",
    "        topics_per_author=[]\n",
    "        # setting text_id to 231 (in index_first_xml_document), because only from document 231 on the authors are noted down in markup of xml files\n",
    "        document_id = index_first_xml_document\n",
    "        # iterating over all authors in all texts, trying to find the 'key' currently looked at\n",
    "        for document in all_author_teams:\n",
    "            for author in document:\n",
    "                # if the key matches the author of the text, then note the text id and through that find the salient topic of the text\n",
    "                if name == author:\n",
    "                    document_topic = main_topics[document_id]\n",
    "                    topics_per_author.append(document_topic)\n",
    "                authors_and_topics[name] = topics_per_author \n",
    "            document_id +=1\n",
    "\n",
    "    return authors_and_topics  "
   ]
  },
  {
   "cell_type": "code",
   "execution_count": 260,
   "metadata": {
    "tags": [
     "cell #48"
    ]
   },
   "outputs": [],
   "source": [
    "def create_vectors(authors_and_topics, minimun_number_of_contributions):\n",
    "\n",
    "    # transforming the data from reduced_authors_and_topics into a vector representation\n",
    "    # advantage: easier to plot and counts how often each topic was written on by the authors\n",
    "    vector = {}\n",
    "    for key in authors_and_topics:\n",
    "        if len(authors_and_topics[key]) > minimun_number_of_contributions:\n",
    "        # creating a vector with a length corresponding to the number of topics\n",
    "            vector[key] = [0]*final_num_topics\n",
    "            for digit in authors_and_topics[key]:\n",
    "                vector[key][digit-1] += 1\n",
    "    # retrieving the author names to use them as labels and the vectors to determine distances between the vectors\n",
    "    only_authors = [key for key in vector]\n",
    "    only_vectors = [vector[key] for key in vector]\n",
    "\n",
    "    return vector, only_vectors, only_authors"
   ]
  },
  {
   "attachments": {},
   "cell_type": "markdown",
   "metadata": {},
   "source": [
    "### RQ6: Main"
   ]
  },
  {
   "cell_type": "code",
   "execution_count": 261,
   "metadata": {
    "tags": [
     "cell #49"
    ]
   },
   "outputs": [],
   "source": [
    "index_first_xml_document = 231\n",
    "# slicing the dict main_topics because for this RQ only the documents froom 2016-2023 are needed beginning with index 231\n",
    "main_topics_xml = dict(itertools.islice(main_topics.items(), index_first_xml_document, len(textnames)))  \n",
    "authors_and_topics = get_authors_and_topics(authors_full_list, all_author_teams, main_topics_xml, index_first_xml_document)\n",
    "vector, only_vectors, only_authors = create_vectors(authors_and_topics, 8)"
   ]
  },
  {
   "attachments": {},
   "cell_type": "markdown",
   "metadata": {},
   "source": [
    "### RQ6: Dot Chart Visualization"
   ]
  },
  {
   "cell_type": "code",
   "execution_count": 249,
   "metadata": {
    "tags": [
     "cell #50"
    ]
   },
   "outputs": [],
   "source": [
    "i = 1\n",
    "for digit in np.arange(0, 1, 0.33):\n",
    "    # dividing the dictionary into several lists, to make the output plot more readible\n",
    "    part = dict(list(vector.items())[round(len(vector)*digit) : round(len(vector)*(digit+0.33))])\n",
    "    \n",
    "    dot_chart = pygal.Dot(human_readable=True, width = 800, height= 700, truncate_legend=20, style=custom_style, legend_box_size=6)\n",
    "    dot_chart.title = 'Authors with >8 contributions and the topics they wrote about'\n",
    "    dot_chart.x_labels = range(1, final_num_topics+1)\n",
    "    \n",
    "    for key in part:\n",
    "        dot_chart.add(key, part[key])\n",
    "\n",
    "    # dot_chart.render_in_browser(human_readable=True)\n",
    "    name = 'Figures/RQ6/RQ6__Authors_and_Topics_' + str(i) + '.svg'\n",
    "    dot_chart.render_to_file(name)\n",
    "    i += 1"
   ]
  },
  {
   "attachments": {},
   "cell_type": "markdown",
   "metadata": {},
   "source": [
    "### RQ6: Dendrogramm Visualization"
   ]
  },
  {
   "cell_type": "code",
   "execution_count": 301,
   "metadata": {},
   "outputs": [],
   "source": [
    "create_dendrogramm(only_vectors, 'Authors', 'Closeness of Authors Calculated by Topic Vectors', only_authors, 70,'Figures/RQ6/RQ6__Dendrogram.svg')"
   ]
  }
 ],
 "metadata": {
  "kernelspec": {
   "display_name": "Python 3.10.5 64-bit",
   "language": "python",
   "name": "python3"
  },
  "language_info": {
   "codemirror_mode": {
    "name": "ipython",
    "version": 3
   },
   "file_extension": ".py",
   "mimetype": "text/x-python",
   "name": "python",
   "nbconvert_exporter": "python",
   "pygments_lexer": "ipython3",
   "version": "3.10.5"
  },
  "orig_nbformat": 4,
  "vscode": {
   "interpreter": {
    "hash": "265bbd40db63aa34df1bd83f77ecf498882faae903508c6e893ae6addaebaa43"
   }
  }
 },
 "nbformat": 4,
 "nbformat_minor": 2
}
